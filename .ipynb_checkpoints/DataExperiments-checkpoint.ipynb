{
 "cells": [
  {
   "cell_type": "markdown",
   "metadata": {},
   "source": [
    "# SPamCo with Ensembles"
   ]
  },
  {
   "cell_type": "code",
   "execution_count": 1,
   "metadata": {},
   "outputs": [],
   "source": [
    "#Math packages\n",
    "import numpy as np\n",
    "\n",
    "#Data packages\n",
    "import pandas as pd\n",
    "import pandas_profiling\n",
    "\n",
    "#Spamco\n",
    "from spamco import SPamCo, Validation\n",
    "\n",
    "#Data packages\n",
    "from sklearn.datasets import make_moons, make_classification, make_circles, make_blobs, make_gaussian_quantiles\n",
    "from sklearn.datasets import load_breast_cancer, load_digits, load_iris\n",
    "from sklearn.model_selection import train_test_split\n",
    "from sklearn.datasets import fetch_openml\n",
    "from sklearn.preprocessing import LabelEncoder\n",
    "\n",
    "#Classifier packages\n",
    "from sklearn.ensemble import RandomForestClassifier\n",
    "from sklearn.ensemble import AdaBoostClassifier\n",
    "import xgboost as xgb\n",
    "\n",
    "#Validation packages\n",
    "from sklearn.metrics import accuracy_score\n",
    "\n",
    "#Visualization packages\n",
    "import plotly.express as px\n",
    "\n",
    "import matplotlib\n",
    "import matplotlib.pyplot as plt\n",
    "import matplotlib.pylab as plb\n",
    "from matplotlib.ticker import MaxNLocator\n",
    "%matplotlib inline\n",
    "\n",
    "import baycomp\n",
    "\n",
    "#General utility packages\n",
    "from itertools import cycle, islice\n",
    "import warnings\n",
    "\n",
    "warnings.filterwarnings(\"ignore\")\n",
    "matplotlib.rcParams.update({'font.size': 20})"
   ]
  },
  {
   "cell_type": "code",
   "execution_count": 2,
   "metadata": {},
   "outputs": [],
   "source": [
    "def load_diabetes():\n",
    "    df = pd.read_csv('Data/diabetes.csv')\n",
    "    y =df.values[:,0]\n",
    "    X =df.drop(['Diabetes_012','AnyHealthcare'], axis = 1).values\n",
    "    return X, y"
   ]
  },
  {
   "cell_type": "code",
   "execution_count": 3,
   "metadata": {},
   "outputs": [],
   "source": [
    "def load_blood():\n",
    "    X, y = fetch_openml(data_id = 1464, return_X_y=True)\n",
    "    X = X.values\n",
    "    LE = LabelEncoder()\n",
    "    y = LE.fit_transform(y)\n",
    "    return X, y"
   ]
  },
  {
   "cell_type": "code",
   "execution_count": 4,
   "metadata": {},
   "outputs": [],
   "source": [
    "def load_qsar():\n",
    "    X, y = fetch_openml(data_id = 1494, return_X_y=True)\n",
    "    X = X.drop(['V1'], axis=1)\n",
    "    X = X.values\n",
    "    LE = LabelEncoder()\n",
    "    y = LE.fit_transform(y)\n",
    "    return X, y"
   ]
  },
  {
   "cell_type": "code",
   "execution_count": 5,
   "metadata": {},
   "outputs": [],
   "source": [
    "def load_eegeye():\n",
    "    X, y = fetch_openml(data_id = 1471, return_X_y=True)\n",
    "    X = X.values\n",
    "    LE = LabelEncoder()\n",
    "    y = LE.fit_transform(y)\n",
    "    return X, y"
   ]
  },
  {
   "cell_type": "code",
   "execution_count": 6,
   "metadata": {},
   "outputs": [],
   "source": [
    "def load_ilpd():\n",
    "    X, y = fetch_openml(data_id = 1480, return_X_y=True)\n",
    "    LE = LabelEncoder()\n",
    "    X['V2'] = LE.fit_transform(X['V2'])\n",
    "    X = X.values\n",
    "    y = LE.fit_transform(y)\n",
    "    return X, y"
   ]
  },
  {
   "cell_type": "code",
   "execution_count": 7,
   "metadata": {},
   "outputs": [],
   "source": [
    "def load_click():\n",
    "    X, y = fetch_openml(data_id = 1220, return_X_y=True)\n",
    "    X = X.drop(['user_id'], axis=1)\n",
    "    X = X.values\n",
    "    LE = LabelEncoder()\n",
    "    y = LE.fit_transform(y)\n",
    "    return X, y"
   ]
  },
  {
   "cell_type": "code",
   "execution_count": 8,
   "metadata": {},
   "outputs": [],
   "source": [
    "def load_satimage():\n",
    "    X, y = fetch_openml(data_id = 182, return_X_y=True)\n",
    "    X = X.values\n",
    "    LE = LabelEncoder()\n",
    "    y = LE.fit_transform(y)\n",
    "    return X, y"
   ]
  },
  {
   "cell_type": "code",
   "execution_count": 9,
   "metadata": {},
   "outputs": [],
   "source": [
    "def load_robot():\n",
    "    X, y = fetch_openml(data_id = 300, return_X_y=True)\n",
    "    X = X.drop(['f451'], axis=1)\n",
    "    X = X.values\n",
    "    LE = LabelEncoder()\n",
    "    y = LE.fit_transform(y)\n",
    "    return X, y"
   ]
  },
  {
   "cell_type": "code",
   "execution_count": 10,
   "metadata": {},
   "outputs": [],
   "source": [
    "np.random.seed(1)\n",
    "seed = np.random.randint(low = 1, high = 10000, size = 10)"
   ]
  },
  {
   "cell_type": "code",
   "execution_count": 11,
   "metadata": {},
   "outputs": [
    {
     "data": {
      "text/plain": [
       "array([ 236, 5193,  906, 7814, 2896, 5057,  145, 4226, 7752, 3463])"
      ]
     },
     "execution_count": 11,
     "metadata": {},
     "output_type": "execute_result"
    }
   ],
   "source": [
    "seed"
   ]
  },
  {
   "cell_type": "markdown",
   "metadata": {},
   "source": [
    "# Toy Datasets"
   ]
  },
  {
   "cell_type": "code",
   "execution_count": 12,
   "metadata": {},
   "outputs": [],
   "source": [
    "datasets = {\n",
    "    'breast_cancer': load_breast_cancer(return_X_y=True),\n",
    "    'digits': load_digits(return_X_y=True),\n",
    "    'blood': load_blood(),\n",
    "    'diabetes': load_diabetes(),\n",
    "    'qsar': load_qsar(),\n",
    "    'eegeye': load_eegeye(),\n",
    "    'ilpd': load_ilpd(),\n",
    "    'click': load_click(),\n",
    "    'satimage': load_satimage(),\n",
    "    'isolet': load_robot()\n",
    "}"
   ]
  },
  {
   "cell_type": "markdown",
   "metadata": {},
   "source": [
    "## AdaBoost"
   ]
  },
  {
   "cell_type": "code",
   "execution_count": 13,
   "metadata": {},
   "outputs": [
    {
     "name": "stdout",
     "output_type": "stream",
     "text": [
      "Dataset: breast_cancer\n",
      "Validation Iteration: 0 Accuracy: 0.9064327485380117 Labels: 19\n",
      "Dataset: digits\n",
      "Validation Iteration: 0 Accuracy: 0.26296296296296295 Labels: 62\n",
      "Dataset: blood\n",
      "Validation Iteration: 0 Accuracy: 0.72 Labels: 26\n",
      "Dataset: diabetes\n",
      "Validation Iteration: 0 Accuracy: 0.8471433827394093 Labels: 8878\n",
      "Dataset: qsar\n",
      "Validation Iteration: 0 Accuracy: 0.7034700315457413 Labels: 36\n",
      "Dataset: eegeye\n",
      "Validation Iteration: 0 Accuracy: 0.6902536715620827 Labels: 524\n",
      "Dataset: ilpd\n",
      "Validation Iteration: 0 Accuracy: 0.6685714285714286 Labels: 20\n",
      "Dataset: click\n",
      "Validation Iteration: 0 Accuracy: 0.8287025448477263 Labels: 1398\n",
      "Dataset: satimage\n",
      "Validation Iteration: 0 Accuracy: 0.432348367029549 Labels: 225\n",
      "Dataset: robot\n",
      "Validation Iteration: 0 Accuracy: 0.12393162393162394 Labels: 272\n"
     ]
    }
   ],
   "source": [
    "adaboost_base_metrics = []\n",
    "adaboost_base_clfs = []\n",
    "for key in datasets: \n",
    "    X, y = datasets[key]\n",
    "    print(f'Dataset: {key}')\n",
    "\n",
    "    model =  {\n",
    "        'classifier':AdaBoostClassifier(),\n",
    "        'num_view':1,\n",
    "        'gamma':0.3,\n",
    "        'steps':10,\n",
    "        'regularizer':'hard'\n",
    "    }\n",
    "\n",
    "    clfs, metrics = Validation.validation(\n",
    "        model_params=model,\n",
    "        train_data_x=X,\n",
    "        train_data_y=y,\n",
    "        percent_labeled=0.05,\n",
    "        random_seed=seed,\n",
    "        iters=10\n",
    "    )\n",
    "\n",
    "    adaboost_base_metrics.append(metrics)\n",
    "    adaboost_base_clfs.append(clfs)\n",
    "\n",
    "    adaboost_base_score = np.array(adaboost_base_metrics)"
   ]
  },
  {
   "cell_type": "code",
   "execution_count": 14,
   "metadata": {},
   "outputs": [
    {
     "data": {
      "text/plain": [
       "array([[0.90643275, 0.87134503, 0.88888889, 0.91812865, 0.86549708,\n",
       "        0.87134503, 0.89473684, 0.91812865, 0.9005848 , 0.85964912],\n",
       "       [0.26296296, 0.17962963, 0.17592593, 0.15      , 0.27407407,\n",
       "        0.24074074, 0.25740741, 0.18888889, 0.22222222, 0.22407407],\n",
       "       [0.72      , 0.68      , 0.71555556, 0.71555556, 0.67111111,\n",
       "        0.67111111, 0.65333333, 0.77333333, 0.72      , 0.72444444],\n",
       "       [0.84714338, 0.84826028, 0.84726164, 0.8451724 , 0.84413434,\n",
       "        0.84408178, 0.84701198, 0.84397666, 0.84538263, 0.84626301],\n",
       "       [0.70347003, 0.74763407, 0.76340694, 0.8170347 , 0.66876972,\n",
       "        0.75709779, 0.7444795 , 0.69400631, 0.75394322, 0.72239748],\n",
       "       [0.69025367, 0.71005785, 0.70226969, 0.68958611, 0.7165109 ,\n",
       "        0.69826435, 0.70315977, 0.71339564, 0.72207388, 0.70226969],\n",
       "       [0.66857143, 0.67428571, 0.66857143, 0.69714286, 0.63428571,\n",
       "        0.64571429, 0.64571429, 0.69714286, 0.73142857, 0.52      ],\n",
       "       [0.82870254, 0.82453066, 0.82753442, 0.83003755, 0.82561535,\n",
       "        0.81860659, 0.8303713 , 0.82995411, 0.82987067, 0.82761786],\n",
       "       [0.43234837, 0.46086055, 0.62104717, 0.42042509, 0.50803525,\n",
       "        0.59046138, 0.41161223, 0.49818559, 0.51321928, 0.35406947],\n",
       "       [0.12393162, 0.09316239, 0.07393162, 0.10598291, 0.09529915,\n",
       "        0.08504274, 0.09444444, 0.04358974, 0.14529915, 0.07692308]])"
      ]
     },
     "execution_count": 14,
     "metadata": {},
     "output_type": "execute_result"
    }
   ],
   "source": [
    "adaboost_base_score"
   ]
  },
  {
   "cell_type": "code",
   "execution_count": 15,
   "metadata": {},
   "outputs": [
    {
     "name": "stdout",
     "output_type": "stream",
     "text": [
      "Dataset: breast_cancer\n",
      "Validation Iteration: 0 Accuracy: 0.8888888888888888 Labels: 19\n",
      "Dataset: digits\n",
      "Validation Iteration: 0 Accuracy: 0.14629629629629629 Labels: 62\n",
      "Dataset: blood\n",
      "Validation Iteration: 0 Accuracy: 0.76 Labels: 26\n",
      "Dataset: diabetes\n",
      "Validation Iteration: 0 Accuracy: 0.8424130137706297 Labels: 8878\n",
      "Dataset: qsar\n",
      "Validation Iteration: 0 Accuracy: 0.61198738170347 Labels: 36\n",
      "Dataset: eegeye\n",
      "Validation Iteration: 0 Accuracy: 0.5511793502447708 Labels: 524\n",
      "Dataset: ilpd\n",
      "Validation Iteration: 0 Accuracy: 0.7142857142857143 Labels: 20\n",
      "Dataset: click\n",
      "Validation Iteration: 0 Accuracy: 0.1831455986649979 Labels: 1398\n",
      "Dataset: satimage\n",
      "Validation Iteration: 0 Accuracy: 0.41161223431829963 Labels: 225\n",
      "Dataset: robot\n",
      "Validation Iteration: 0 Accuracy: 0.03717948717948718 Labels: 272\n"
     ]
    }
   ],
   "source": [
    "adaboost_multi_metrics = []\n",
    "adaboost_multi_clfs = []\n",
    "\n",
    "for key in datasets: \n",
    "    X, y = datasets[key]\n",
    "    print(f'Dataset: {key}')\n",
    "\n",
    "    steps = 20\n",
    "    views = 2\n",
    "\n",
    "    model =  {\n",
    "        'classifier':AdaBoostClassifier(),\n",
    "        'num_view':views,\n",
    "        'gamma':0.3,\n",
    "        'steps':10,\n",
    "        'regularizer':'hard',\n",
    "        'update_add_num': int(X.shape[0]/steps)\n",
    "    }\n",
    "\n",
    "    clfs, metrics = Validation.validation(\n",
    "        model_params=model,\n",
    "        train_data_x=X,\n",
    "        train_data_y=y,\n",
    "        percent_labeled=0.05,\n",
    "        random_seed=seed,\n",
    "        spaco=True,\n",
    "        iters=10,\n",
    "        hsplit=True,\n",
    "        hsplit_size=2\n",
    "    )\n",
    "    \n",
    "    adaboost_multi_metrics.append(metrics)\n",
    "    adaboost_multi_clfs.append(clfs)\n",
    "    \n",
    "adaboost_multi_score = np.array(adaboost_multi_metrics)"
   ]
  },
  {
   "cell_type": "code",
   "execution_count": 16,
   "metadata": {},
   "outputs": [
    {
     "data": {
      "text/plain": [
       "array([[0.88888889, 0.88888889, 0.37426901, 0.90643275, 0.90643275,\n",
       "        0.37426901, 0.88888889, 0.91812865, 0.37426901, 0.37426901],\n",
       "       [0.1462963 , 0.18518519, 0.11666667, 0.10925926, 0.1962963 ,\n",
       "        0.15740741, 0.15555556, 0.14444444, 0.09444444, 0.17407407],\n",
       "       [0.76      , 0.74666667, 0.76      , 0.76      , 0.76      ,\n",
       "        0.53777778, 0.74666667, 0.76888889, 0.76      , 0.75555556],\n",
       "       [0.84241301, 0.84241301, 0.84241301, 0.84241301, 0.84241301,\n",
       "        0.84241301, 0.84241301, 0.84241301, 0.84241301, 0.84241301],\n",
       "       [0.61198738, 0.67507886, 0.65615142, 0.71293375, 0.46687697,\n",
       "        0.75078864, 0.66561514, 0.66246057, 0.67823344, 0.67823344],\n",
       "       [0.55117935, 0.55117935, 0.57899421, 0.44926569, 0.55852247,\n",
       "        0.55117935, 0.55117935, 0.55117935, 0.59746328, 0.55117935],\n",
       "       [0.71428571, 0.41142857, 0.54857143, 0.71428571, 0.39428571,\n",
       "        0.68571429, 0.71428571, 0.71428571, 0.71428571, 0.52      ],\n",
       "       [0.1831456 , 0.83003755, 0.83153942, 0.83153942, 0.83153942,\n",
       "        0.83153942, 0.82987067, 0.83120567, 0.83095536, 0.83153942],\n",
       "       [0.41161223, 0.32089165, 0.38413686, 0.29341628, 0.31933644,\n",
       "        0.47071021, 0.43545879, 0.38932089, 0.37169518, 0.47174702],\n",
       "       [0.03717949, 0.07478632, 0.04188034, 0.03333333, 0.05982906,\n",
       "        0.07051282, 0.08931624, 0.04059829, 0.06025641, 0.03034188]])"
      ]
     },
     "execution_count": 16,
     "metadata": {},
     "output_type": "execute_result"
    }
   ],
   "source": [
    "adaboost_multi_score"
   ]
  },
  {
   "cell_type": "code",
   "execution_count": 17,
   "metadata": {},
   "outputs": [
    {
     "data": {
      "image/png": "[encoded data removed]",
      "text/plain": [
       "<Figure size 432x288 with 1 Axes>"
      ]
     },
     "metadata": {
      "needs_background": "light"
     },
     "output_type": "display_data"
    }
   ],
   "source": [
    "baycomp_ada, bayplot_ada = baycomp.two_on_multiple(\n",
    "    adaboost_base_score, \n",
    "    adaboost_multi_score, \n",
    "    plot=True, \n",
    "    rope=0.05, \n",
    "    names = ('AdaBoost','AdaBoost-SPamCo'))"
   ]
  },
  {
   "cell_type": "code",
   "execution_count": 32,
   "metadata": {},
   "outputs": [],
   "source": [
    "bayplot_ada.savefig('AdaBoost_Simplex_BayesianComp.png')"
   ]
  },
  {
   "cell_type": "markdown",
   "metadata": {},
   "source": [
    "## RandomForrestClassifier"
   ]
  },
  {
   "cell_type": "code",
   "execution_count": 18,
   "metadata": {},
   "outputs": [
    {
     "name": "stdout",
     "output_type": "stream",
     "text": [
      "Dataset: breast_cancer\n",
      "Validation Iteration: 0 Accuracy: 0.9473684210526315 Labels: 19\n",
      "Dataset: digits\n",
      "Validation Iteration: 0 Accuracy: 0.8074074074074075 Labels: 62\n",
      "Dataset: blood\n",
      "Validation Iteration: 0 Accuracy: 0.7377777777777778 Labels: 26\n",
      "Dataset: diabetes\n",
      "Validation Iteration: 0 Accuracy: 0.8437270051508462 Labels: 8878\n",
      "Dataset: qsar\n",
      "Validation Iteration: 0 Accuracy: 0.7381703470031545 Labels: 36\n",
      "Dataset: eegeye\n",
      "Validation Iteration: 0 Accuracy: 0.7825990209167779 Labels: 524\n",
      "Dataset: ilpd\n",
      "Validation Iteration: 0 Accuracy: 0.72 Labels: 20\n",
      "Dataset: click\n",
      "Validation Iteration: 0 Accuracy: 0.8229453483521068 Labels: 1398\n",
      "Dataset: satimage\n",
      "Validation Iteration: 0 Accuracy: 0.8506998444790047 Labels: 225\n",
      "Dataset: robot\n",
      "Validation Iteration: 0 Accuracy: 0.8371794871794872 Labels: 272\n"
     ]
    }
   ],
   "source": [
    "rfc_base_metrics = []\n",
    "rfc_base_clfs = []\n",
    "for key in datasets: \n",
    "    X, y = datasets[key]\n",
    "    print(f'Dataset: {key}')\n",
    "\n",
    "    model =  {\n",
    "        'classifier':RandomForestClassifier(),\n",
    "        'num_view':1,\n",
    "        'gamma':0.3,\n",
    "        'steps':10,\n",
    "        'regularizer':'hard'\n",
    "    }\n",
    "\n",
    "    clfs, metrics = Validation.validation(\n",
    "        model_params=model,\n",
    "        train_data_x=X,\n",
    "        train_data_y=y,\n",
    "        percent_labeled=0.05,\n",
    "        random_seed=seed,\n",
    "        iters=10\n",
    "    )\n",
    "\n",
    "    rfc_base_metrics.append(metrics)\n",
    "    rfc_base_clfs.append(clfs)\n",
    "\n",
    "    rfc_base_score = np.array(rfc_base_metrics)"
   ]
  },
  {
   "cell_type": "code",
   "execution_count": 21,
   "metadata": {},
   "outputs": [
    {
     "name": "stdout",
     "output_type": "stream",
     "text": [
      "Dataset: breast_cancer\n",
      "Validation Iteration: 0 Accuracy: 0.935672514619883 Labels: 19\n",
      "Dataset: digits\n",
      "Validation Iteration: 0 Accuracy: 0.7333333333333333 Labels: 62\n",
      "Dataset: blood\n",
      "Validation Iteration: 0 Accuracy: 0.76 Labels: 26\n",
      "Dataset: diabetes\n",
      "Validation Iteration: 0 Accuracy: 0.8327683170398402 Labels: 8878\n",
      "Dataset: qsar\n",
      "Validation Iteration: 0 Accuracy: 0.6876971608832808 Labels: 36\n",
      "Dataset: eegeye\n",
      "Validation Iteration: 0 Accuracy: 0.6419670672007121 Labels: 524\n",
      "Dataset: ilpd\n",
      "Validation Iteration: 0 Accuracy: 0.6971428571428572 Labels: 20\n",
      "Dataset: click\n",
      "Validation Iteration: 0 Accuracy: 0.7259908218606591 Labels: 1398\n",
      "Dataset: satimage\n",
      "Validation Iteration: 0 Accuracy: 0.7750129600829445 Labels: 225\n",
      "Dataset: robot\n",
      "Validation Iteration: 0 Accuracy: 0.8188034188034188 Labels: 272\n"
     ]
    }
   ],
   "source": [
    "rfc_multi_metrics = []\n",
    "rfc_multi_clfs = []\n",
    "for key in datasets: \n",
    "    X, y = datasets[key]\n",
    "    print(f'Dataset: {key}')\n",
    "    \n",
    "    steps = 20\n",
    "    views = 2\n",
    "    \n",
    "    model =  {\n",
    "        'classifier':RandomForestClassifier(),\n",
    "        'num_view':views,\n",
    "        'gamma':0.3,\n",
    "        'steps':10,\n",
    "        'regularizer':'hard',\n",
    "        'update_add_num': int(X.shape[0]/steps)\n",
    "    }\n",
    "\n",
    "    clfs, metrics = Validation.validation(\n",
    "        model_params=model,\n",
    "        train_data_x=X,\n",
    "        train_data_y=y,\n",
    "        percent_labeled=0.05,\n",
    "        random_seed=seed,\n",
    "        spaco=True,\n",
    "        iters=10,\n",
    "        hsplit=True,\n",
    "        hsplit_size=2\n",
    "    )\n",
    "    \n",
    "    rfc_multi_metrics.append(metrics)\n",
    "    rfc_multi_clfs.append(clfs)\n",
    "    \n",
    "rfc_multi_score = np.array(rfc_multi_metrics)"
   ]
  },
  {
   "cell_type": "code",
   "execution_count": 22,
   "metadata": {},
   "outputs": [
    {
     "data": {
      "image/png": "[encoded data removed]",
      "text/plain": [
       "<Figure size 432x288 with 1 Axes>"
      ]
     },
     "metadata": {
      "needs_background": "light"
     },
     "output_type": "display_data"
    }
   ],
   "source": [
    "baycomp_rfc, bayplot_rfc = baycomp.two_on_multiple(\n",
    "    rfc_base_score, \n",
    "    rfc_multi_score, \n",
    "    plot=True, \n",
    "    rope=0.05, \n",
    "    names = ('RFC','RFC-SPamCo'))"
   ]
  },
  {
   "cell_type": "code",
   "execution_count": 31,
   "metadata": {},
   "outputs": [],
   "source": [
    "bayplot_rfc.savefig('RandomForestClassifier_Simplex_BayesianComp.png')"
   ]
  },
  {
   "cell_type": "markdown",
   "metadata": {},
   "source": [
    "## XGBoost"
   ]
  },
  {
   "cell_type": "code",
   "execution_count": 23,
   "metadata": {},
   "outputs": [
    {
     "name": "stdout",
     "output_type": "stream",
     "text": [
      "Dataset: breast_cancer\n",
      "Validation Iteration: 0 Accuracy: 0.9064327485380117 Labels: 39\n",
      "Dataset: digits\n",
      "Validation Iteration: 0 Accuracy: 0.8333333333333334 Labels: 125\n",
      "Dataset: blood\n",
      "Validation Iteration: 0 Accuracy: 0.7422222222222222 Labels: 52\n",
      "Dataset: diabetes\n",
      "Validation Iteration: 0 Accuracy: 0.8395353726479554 Labels: 17757\n",
      "Dataset: qsar\n",
      "Validation Iteration: 0 Accuracy: 0.7634069400630915 Labels: 73\n",
      "Dataset: eegeye\n",
      "Validation Iteration: 0 Accuracy: 0.821762349799733 Labels: 1048\n",
      "Dataset: ilpd\n",
      "Validation Iteration: 0 Accuracy: 0.6742857142857143 Labels: 40\n",
      "Dataset: click\n",
      "Validation Iteration: 0 Accuracy: 0.812348769294952 Labels: 2796\n",
      "Dataset: satimage\n",
      "Validation Iteration: 0 Accuracy: 0.8465526179367548 Labels: 450\n",
      "Dataset: robot\n",
      "Validation Iteration: 0 Accuracy: 0.8222222222222222 Labels: 545\n"
     ]
    }
   ],
   "source": [
    "xgboost_base_metrics = []\n",
    "xgboost_base_clfs = []\n",
    "for key in datasets: \n",
    "    X, y = datasets[key]\n",
    "    print(f'Dataset: {key}')\n",
    "\n",
    "    model =  {\n",
    "        'classifier':xgb.XGBClassifier(silent=True, verbosity=0),\n",
    "        'num_view':1,\n",
    "        'gamma':0.3,\n",
    "        'steps':10,\n",
    "        'regularizer':'hard'\n",
    "    }\n",
    "\n",
    "    clfs, metrics = Validation.validation(\n",
    "        model_params=model,\n",
    "        train_data_x=X,\n",
    "        train_data_y=y,\n",
    "        percent_labeled=0.1,\n",
    "        random_seed=np.arange(0,10),\n",
    "        iters=10\n",
    "    )\n",
    "\n",
    "    xgboost_base_metrics.append(metrics)\n",
    "    xgboost_base_clfs.append(clfs)\n",
    "\n",
    "    xgboost_base_score = np.array(xgboost_base_metrics)"
   ]
  },
  {
   "cell_type": "code",
   "execution_count": 24,
   "metadata": {},
   "outputs": [
    {
     "name": "stdout",
     "output_type": "stream",
     "text": [
      "Dataset: breast_cancer\n",
      "Validation Iteration: 0 Accuracy: 0.9239766081871345 Labels: 19\n",
      "Dataset: digits\n",
      "Validation Iteration: 0 Accuracy: 0.7166666666666667 Labels: 62\n",
      "Dataset: blood\n",
      "Validation Iteration: 0 Accuracy: 0.76 Labels: 26\n",
      "Dataset: diabetes\n",
      "Validation Iteration: 0 Accuracy: 0.842360454115421 Labels: 8878\n",
      "Dataset: qsar\n",
      "Validation Iteration: 0 Accuracy: 0.6561514195583596 Labels: 36\n",
      "Dataset: eegeye\n",
      "Validation Iteration: 0 Accuracy: 0.5518469069870939 Labels: 524\n",
      "Dataset: ilpd\n",
      "Validation Iteration: 0 Accuracy: 0.6628571428571428 Labels: 20\n",
      "Dataset: click\n",
      "Validation Iteration: 0 Accuracy: 0.555110554860242 Labels: 1398\n",
      "Dataset: satimage\n",
      "Validation Iteration: 0 Accuracy: 0.7579056505961638 Labels: 225\n",
      "Dataset: robot\n",
      "Validation Iteration: 0 Accuracy: 0.7311965811965812 Labels: 272\n"
     ]
    }
   ],
   "source": [
    "xgboost_multi_metrics = []\n",
    "xgboost_multi_clfs = []\n",
    "for key in datasets: \n",
    "    X, y = datasets[key]\n",
    "    print(f'Dataset: {key}')\n",
    "    \n",
    "    steps = 20\n",
    "    views = 2\n",
    "    \n",
    "    model =  {\n",
    "        'classifier':xgb.XGBClassifier(silent=True, verbosity=0),\n",
    "        'num_view':views,\n",
    "        'gamma':0.3,\n",
    "        'steps':10,\n",
    "        'regularizer':'hard',\n",
    "        'update_add_num': int(X.shape[0]/steps)\n",
    "    }\n",
    "\n",
    "    clfs, metrics = Validation.validation(\n",
    "        model_params=model,\n",
    "        train_data_x=X,\n",
    "        train_data_y=y,\n",
    "        percent_labeled=0.05,\n",
    "        random_seed=seed,\n",
    "        spaco=True,\n",
    "        iters=10,\n",
    "        hsplit=True,\n",
    "        hsplit_size=2\n",
    "    )\n",
    "    \n",
    "    xgboost_multi_metrics.append(metrics)\n",
    "    xgboost_multi_clfs.append(clfs)\n",
    "    \n",
    "xgboost_multi_score = np.array(xgboost_multi_metrics)"
   ]
  },
  {
   "cell_type": "code",
   "execution_count": 28,
   "metadata": {},
   "outputs": [
    {
     "data": {
      "image/png": "[encoded data removed]",
      "text/plain": [
       "<Figure size 432x288 with 1 Axes>"
      ]
     },
     "metadata": {
      "needs_background": "light"
     },
     "output_type": "display_data"
    }
   ],
   "source": [
    "baycomp_xgboost, bayplot_xgboost = baycomp.two_on_multiple(\n",
    "    xgboost_base_score, \n",
    "    xgboost_multi_score, \n",
    "    plot=True, \n",
    "    rope=.05, \n",
    "    names = ('XGBoost','XGBoost-SPamCo'))"
   ]
  },
  {
   "cell_type": "code",
   "execution_count": 30,
   "metadata": {},
   "outputs": [],
   "source": [
    "bayplot_xgboost.savefig('XGBoost_Simplex_BaysianComp.png')"
   ]
  },
  {
   "cell_type": "code",
   "execution_count": 35,
   "metadata": {},
   "outputs": [
    {
     "data": {
      "text/plain": [
       "array([0.91111111, 0.82037037, 0.73466667, 0.84146825, 0.79053628,\n",
       "       0.82832666, 0.67714286, 0.81249896, 0.86091239, 0.82089744])"
      ]
     },
     "execution_count": 35,
     "metadata": {},
     "output_type": "execute_result"
    }
   ],
   "source": [
    "np.mean(xgboost_base_score, axis = 1)"
   ]
  },
  {
   "cell_type": "code",
   "execution_count": 37,
   "metadata": {},
   "outputs": [
    {
     "data": {
      "text/plain": [
       "array([[0.0302515 ],\n",
       "       [0.02786406],\n",
       "       [0.02186829],\n",
       "       [0.00107902],\n",
       "       [0.02344594],\n",
       "       [0.00817541],\n",
       "       [0.02345643],\n",
       "       [0.00205189],\n",
       "       [0.00965414],\n",
       "       [0.00928925]])"
      ]
     },
     "execution_count": 37,
     "metadata": {},
     "output_type": "execute_result"
    }
   ],
   "source": [
    "np.std(xgboost_base_score, axis = 1).reshape(-1,1)"
   ]
  },
  {
   "cell_type": "code",
   "execution_count": 39,
   "metadata": {},
   "outputs": [
    {
     "data": {
      "text/plain": [
       "array([[[0.91111111],\n",
       "        [0.82037037],\n",
       "        [0.73466667],\n",
       "        [0.84146825],\n",
       "        [0.79053628],\n",
       "        [0.82832666],\n",
       "        [0.67714286],\n",
       "        [0.81249896],\n",
       "        [0.86091239],\n",
       "        [0.82089744]],\n",
       "\n",
       "       [[0.0302515 ],\n",
       "        [0.02786406],\n",
       "        [0.02186829],\n",
       "        [0.00107902],\n",
       "        [0.02344594],\n",
       "        [0.00817541],\n",
       "        [0.02345643],\n",
       "        [0.00205189],\n",
       "        [0.00965414],\n",
       "        [0.00928925]]])"
      ]
     },
     "execution_count": 39,
     "metadata": {},
     "output_type": "execute_result"
    }
   ],
   "source": [
    "np.array([np.mean(xgboost_base_score, axis = 1).reshape(-1,1),np.std(xgboost_base_score, axis = 1).reshape(-1,1)]) "
   ]
  },
  {
   "cell_type": "code",
   "execution_count": 54,
   "metadata": {},
   "outputs": [],
   "source": [
    "df = pd.DataFrame()"
   ]
  },
  {
   "cell_type": "code",
   "execution_count": 58,
   "metadata": {},
   "outputs": [],
   "source": [
    "df['Dataset'] = [\n",
    "    'Wisconsin Breast Cancer',\n",
    "    'Digits',\n",
    "    'Blood Transfusion Service Center',\n",
    "    'Diabetes Health Indicators',\n",
    "    'QSAR biodegradation',\n",
    "    'EEG Eye State',\n",
    "    'ILPD',\n",
    "    'KDD Cup .1%',\n",
    "    'Statlog-Landsat Satelite',\n",
    "    'Robot'\n",
    "]\n",
    "df['AdaBoost Mean'] =  np.mean(adaboost_base_score, axis=1)\n",
    "df['AdaBoost Std'] =  np.std(adaboost_base_score, axis=1)\n",
    "df['AdaBoost+SPamCo Mean'] = np.mean(adaboost_multi_score, axis=1)\n",
    "df['AdaBoost+SPamCo Std'] = np.std(adaboost_multi_score, axis=1)\n",
    "df['RandomForest Mean'] = np.mean(rfc_base_score, axis=1)\n",
    "df['RandomForest Std'] = np.std(rfc_base_score, axis=1)\n",
    "df['RandomForest+SPamCo Mean'] = np.mean(rfc_multi_score, axis=1)\n",
    "df['RandomForest+SPamCo Std'] = np.std(rfc_multi_score, axis=1)\n",
    "df['XGBoost Mean'] = np.mean(xgboost_base_score, axis=1)\n",
    "df['XGBoost Std'] = np.std(xgboost_base_score, axis=1)\n",
    "df['XGBoost+SPamCo Mean'] = np.mean(xgboost_multi_score, axis=1)\n",
    "df['XGBoost+SPamCo Std'] = np.std(xgboost_multi_score, axis=1)"
   ]
  },
  {
   "cell_type": "code",
   "execution_count": 59,
   "metadata": {},
   "outputs": [
    {
     "data": {
      "text/html": [
       "<div>\n",
       "<style scoped>\n",
       "    .dataframe tbody tr th:only-of-type {\n",
       "        vertical-align: middle;\n",
       "    }\n",
       "\n",
       "    .dataframe tbody tr th {\n",
       "        vertical-align: top;\n",
       "    }\n",
       "\n",
       "    .dataframe thead th {\n",
       "        text-align: right;\n",
       "    }\n",
       "</style>\n",
       "<table border=\"1\" class=\"dataframe\">\n",
       "  <thead>\n",
       "    <tr style=\"text-align: right;\">\n",
       "      <th></th>\n",
       "      <th>Dataset</th>\n",
       "      <th>AdaBoost Mean</th>\n",
       "      <th>AdaBoost Std</th>\n",
       "      <th>AdaBoost+SPamCo Mean</th>\n",
       "      <th>AdaBoost+SPamCo Std</th>\n",
       "      <th>RandomForest Mean</th>\n",
       "      <th>RandomForest Std</th>\n",
       "      <th>RandomForest+SPamCo Mean</th>\n",
       "      <th>RandomForest+SPamCo Std</th>\n",
       "      <th>XGBoost Mean</th>\n",
       "      <th>XGBoost Std</th>\n",
       "      <th>XGBoost+SPamCo Mean</th>\n",
       "      <th>XGBoost+SPamCo Std</th>\n",
       "    </tr>\n",
       "  </thead>\n",
       "  <tbody>\n",
       "    <tr>\n",
       "      <th>0</th>\n",
       "      <td>Wisconsin Breast Cancer</td>\n",
       "      <td>0.889474</td>\n",
       "      <td>0.020501</td>\n",
       "      <td>0.689474</td>\n",
       "      <td>2.575152e-01</td>\n",
       "      <td>0.918713</td>\n",
       "      <td>0.029525</td>\n",
       "      <td>0.919883</td>\n",
       "      <td>0.018686</td>\n",
       "      <td>0.911111</td>\n",
       "      <td>0.030252</td>\n",
       "      <td>0.852632</td>\n",
       "      <td>0.049470</td>\n",
       "    </tr>\n",
       "    <tr>\n",
       "      <th>1</th>\n",
       "      <td>Digits</td>\n",
       "      <td>0.217593</td>\n",
       "      <td>0.040004</td>\n",
       "      <td>0.147963</td>\n",
       "      <td>3.147549e-02</td>\n",
       "      <td>0.827778</td>\n",
       "      <td>0.022861</td>\n",
       "      <td>0.765741</td>\n",
       "      <td>0.020526</td>\n",
       "      <td>0.820370</td>\n",
       "      <td>0.027864</td>\n",
       "      <td>0.682222</td>\n",
       "      <td>0.041814</td>\n",
       "    </tr>\n",
       "    <tr>\n",
       "      <th>2</th>\n",
       "      <td>Blood Transfusion Service Center</td>\n",
       "      <td>0.704444</td>\n",
       "      <td>0.033628</td>\n",
       "      <td>0.735556</td>\n",
       "      <td>6.622819e-02</td>\n",
       "      <td>0.746667</td>\n",
       "      <td>0.013626</td>\n",
       "      <td>0.739556</td>\n",
       "      <td>0.051838</td>\n",
       "      <td>0.734667</td>\n",
       "      <td>0.021868</td>\n",
       "      <td>0.718667</td>\n",
       "      <td>0.060026</td>\n",
       "    </tr>\n",
       "    <tr>\n",
       "      <th>3</th>\n",
       "      <td>Diabetes Health Indicators</td>\n",
       "      <td>0.845869</td>\n",
       "      <td>0.001458</td>\n",
       "      <td>0.842413</td>\n",
       "      <td>1.110223e-16</td>\n",
       "      <td>0.843734</td>\n",
       "      <td>0.000575</td>\n",
       "      <td>0.828950</td>\n",
       "      <td>0.002510</td>\n",
       "      <td>0.841468</td>\n",
       "      <td>0.001079</td>\n",
       "      <td>0.842368</td>\n",
       "      <td>0.000147</td>\n",
       "    </tr>\n",
       "    <tr>\n",
       "      <th>4</th>\n",
       "      <td>QSAR biodegradation</td>\n",
       "      <td>0.737224</td>\n",
       "      <td>0.039754</td>\n",
       "      <td>0.655836</td>\n",
       "      <td>7.170604e-02</td>\n",
       "      <td>0.756782</td>\n",
       "      <td>0.018201</td>\n",
       "      <td>0.717035</td>\n",
       "      <td>0.018772</td>\n",
       "      <td>0.790536</td>\n",
       "      <td>0.023446</td>\n",
       "      <td>0.706940</td>\n",
       "      <td>0.028302</td>\n",
       "    </tr>\n",
       "    <tr>\n",
       "      <th>5</th>\n",
       "      <td>EEG Eye State</td>\n",
       "      <td>0.704784</td>\n",
       "      <td>0.010190</td>\n",
       "      <td>0.549132</td>\n",
       "      <td>3.648873e-02</td>\n",
       "      <td>0.774410</td>\n",
       "      <td>0.009234</td>\n",
       "      <td>0.623209</td>\n",
       "      <td>0.012833</td>\n",
       "      <td>0.828327</td>\n",
       "      <td>0.008175</td>\n",
       "      <td>0.614909</td>\n",
       "      <td>0.037457</td>\n",
       "    </tr>\n",
       "    <tr>\n",
       "      <th>6</th>\n",
       "      <td>ILPD</td>\n",
       "      <td>0.658286</td>\n",
       "      <td>0.053714</td>\n",
       "      <td>0.613143</td>\n",
       "      <td>1.256376e-01</td>\n",
       "      <td>0.701143</td>\n",
       "      <td>0.028000</td>\n",
       "      <td>0.689714</td>\n",
       "      <td>0.039511</td>\n",
       "      <td>0.677143</td>\n",
       "      <td>0.023456</td>\n",
       "      <td>0.648571</td>\n",
       "      <td>0.049701</td>\n",
       "    </tr>\n",
       "    <tr>\n",
       "      <th>7</th>\n",
       "      <td>KDD Cup .1%</td>\n",
       "      <td>0.827284</td>\n",
       "      <td>0.003446</td>\n",
       "      <td>0.766291</td>\n",
       "      <td>1.943828e-01</td>\n",
       "      <td>0.823171</td>\n",
       "      <td>0.002510</td>\n",
       "      <td>0.753233</td>\n",
       "      <td>0.063731</td>\n",
       "      <td>0.812499</td>\n",
       "      <td>0.002052</td>\n",
       "      <td>0.719675</td>\n",
       "      <td>0.089969</td>\n",
       "    </tr>\n",
       "    <tr>\n",
       "      <th>8</th>\n",
       "      <td>Statlog-Landsat Satelite</td>\n",
       "      <td>0.481026</td>\n",
       "      <td>0.078120</td>\n",
       "      <td>0.386833</td>\n",
       "      <td>5.924323e-02</td>\n",
       "      <td>0.851840</td>\n",
       "      <td>0.005846</td>\n",
       "      <td>0.777916</td>\n",
       "      <td>0.009978</td>\n",
       "      <td>0.860912</td>\n",
       "      <td>0.009654</td>\n",
       "      <td>0.767237</td>\n",
       "      <td>0.017212</td>\n",
       "    </tr>\n",
       "    <tr>\n",
       "      <th>9</th>\n",
       "      <td>ISOLET</td>\n",
       "      <td>0.093761</td>\n",
       "      <td>0.026437</td>\n",
       "      <td>0.053803</td>\n",
       "      <td>1.902881e-02</td>\n",
       "      <td>0.844658</td>\n",
       "      <td>0.006053</td>\n",
       "      <td>0.785000</td>\n",
       "      <td>0.023747</td>\n",
       "      <td>0.820897</td>\n",
       "      <td>0.009289</td>\n",
       "      <td>0.722521</td>\n",
       "      <td>0.026845</td>\n",
       "    </tr>\n",
       "  </tbody>\n",
       "</table>\n",
       "</div>"
      ],
      "text/plain": [
       "                            Dataset  AdaBoost Mean  AdaBoost Std  \\\n",
       "0           Wisconsin Breast Cancer       0.889474      0.020501   \n",
       "1                            Digits       0.217593      0.040004   \n",
       "2  Blood Transfusion Service Center       0.704444      0.033628   \n",
       "3        Diabetes Health Indicators       0.845869      0.001458   \n",
       "4               QSAR biodegradation       0.737224      0.039754   \n",
       "5                     EEG Eye State       0.704784      0.010190   \n",
       "6                              ILPD       0.658286      0.053714   \n",
       "7                       KDD Cup .1%       0.827284      0.003446   \n",
       "8          Statlog-Landsat Satelite       0.481026      0.078120   \n",
       "9                            ISOLET       0.093761      0.026437   \n",
       "\n",
       "   AdaBoost+SPamCo Mean  AdaBoost+SPamCo Std  RandomForest Mean  \\\n",
       "0              0.689474         2.575152e-01           0.918713   \n",
       "1              0.147963         3.147549e-02           0.827778   \n",
       "2              0.735556         6.622819e-02           0.746667   \n",
       "3              0.842413         1.110223e-16           0.843734   \n",
       "4              0.655836         7.170604e-02           0.756782   \n",
       "5              0.549132         3.648873e-02           0.774410   \n",
       "6              0.613143         1.256376e-01           0.701143   \n",
       "7              0.766291         1.943828e-01           0.823171   \n",
       "8              0.386833         5.924323e-02           0.851840   \n",
       "9              0.053803         1.902881e-02           0.844658   \n",
       "\n",
       "   RandomForest Std  RandomForest+SPamCo Mean  RandomForest+SPamCo Std  \\\n",
       "0          0.029525                  0.919883                 0.018686   \n",
       "1          0.022861                  0.765741                 0.020526   \n",
       "2          0.013626                  0.739556                 0.051838   \n",
       "3          0.000575                  0.828950                 0.002510   \n",
       "4          0.018201                  0.717035                 0.018772   \n",
       "5          0.009234                  0.623209                 0.012833   \n",
       "6          0.028000                  0.689714                 0.039511   \n",
       "7          0.002510                  0.753233                 0.063731   \n",
       "8          0.005846                  0.777916                 0.009978   \n",
       "9          0.006053                  0.785000                 0.023747   \n",
       "\n",
       "   XGBoost Mean  XGBoost Std  XGBoost+SPamCo Mean  XGBoost+SPamCo Std  \n",
       "0      0.911111     0.030252             0.852632            0.049470  \n",
       "1      0.820370     0.027864             0.682222            0.041814  \n",
       "2      0.734667     0.021868             0.718667            0.060026  \n",
       "3      0.841468     0.001079             0.842368            0.000147  \n",
       "4      0.790536     0.023446             0.706940            0.028302  \n",
       "5      0.828327     0.008175             0.614909            0.037457  \n",
       "6      0.677143     0.023456             0.648571            0.049701  \n",
       "7      0.812499     0.002052             0.719675            0.089969  \n",
       "8      0.860912     0.009654             0.767237            0.017212  \n",
       "9      0.820897     0.009289             0.722521            0.026845  "
      ]
     },
     "execution_count": 59,
     "metadata": {},
     "output_type": "execute_result"
    }
   ],
   "source": [
    "df"
   ]
  },
  {
   "cell_type": "code",
   "execution_count": 60,
   "metadata": {},
   "outputs": [],
   "source": [
    "df.to_csv('Classification Results on multiple datasets.csv')"
   ]
  },
  {
   "cell_type": "code",
   "execution_count": null,
   "metadata": {},
   "outputs": [],
   "source": []
  }
 ],
 "metadata": {
  "kernelspec": {
   "display_name": "Python 3 (ipykernel)",
   "language": "python",
   "name": "python3"
  },
  "language_info": {
   "codemirror_mode": {
    "name": "ipython",
    "version": 3
   },
   "file_extension": ".py",
   "mimetype": "text/x-python",
   "name": "python",
   "nbconvert_exporter": "python",
   "pygments_lexer": "ipython3",
   "version": "3.9.7"
  }
 },
 "nbformat": 4,
 "nbformat_minor": 4
}
