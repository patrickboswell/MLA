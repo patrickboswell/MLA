{
 "cells": [
  {
   "cell_type": "markdown",
   "metadata": {},
   "source": [
    "# SPamCo with Ensembles"
   ]
  },
  {
   "cell_type": "code",
   "execution_count": 1,
   "metadata": {},
   "outputs": [],
   "source": [
    "#Math packages\n",
    "import numpy as np\n",
    "\n",
    "#Spamco\n",
    "from spamco import SPamCo, Validation\n",
    "\n",
    "#Data packages\n",
    "from sklearn.datasets import make_moons, make_classification, make_circles, make_blobs, make_gaussian_quantiles\n",
    "from sklearn.datasets import load_breast_cancer, load_digits\n",
    "from sklearn.model_selection import train_test_split\n",
    "\n",
    "#Classifier packages\n",
    "from sklearn.ensemble import RandomForestClassifier\n",
    "from sklearn.ensemble import AdaBoostClassifier\n",
    "import xgboost as xgb\n",
    "\n",
    "#Validation packages\n",
    "from sklearn.metrics import accuracy_score\n",
    "\n",
    "#Visualization packages\n",
    "import plotly.express as px\n",
    "\n",
    "import matplotlib\n",
    "import matplotlib.pyplot as plt\n",
    "import matplotlib.pylab as plb\n",
    "from matplotlib.ticker import MaxNLocator\n",
    "\n",
    "import baycomp\n",
    "\n",
    "#General utility packages\n",
    "from itertools import cycle, islice\n",
    "import warnings\n",
    "\n",
    "warnings.filterwarnings(\"ignore\")\n",
    "matplotlib.rcParams.update({'font.size': 20})"
   ]
  },
  {
   "cell_type": "markdown",
   "metadata": {},
   "source": [
    "## Utility functions for experiments"
   ]
  },
  {
   "cell_type": "markdown",
   "metadata": {},
   "source": [
    "### Generate data for toy experiments\n",
    "\n"
   ]
  },
  {
   "cell_type": "markdown",
   "metadata": {},
   "source": [
    "#### Simple synthetic  \n",
    "\n",
    "Generates data for the Binary Classification toy experiment \n",
    "\n",
    "Data is generated from two gaussians with separate centers\n",
    "\n",
    "This is a very simple example that demonstrates the case where SPamCo + Ensembles "
   ]
  },
  {
   "cell_type": "code",
   "execution_count": 2,
   "metadata": {},
   "outputs": [
    {
     "ename": "NameError",
     "evalue": "name 'colors' is not defined",
     "output_type": "error",
     "traceback": [
      "\u001b[1;31m---------------------------------------------------------------------------\u001b[0m",
      "\u001b[1;31mNameError\u001b[0m                                 Traceback (most recent call last)",
      "\u001b[1;32m~\\AppData\\Local\\Temp/ipykernel_21268/1763822109.py\u001b[0m in \u001b[0;36m<module>\u001b[1;34m\u001b[0m\n\u001b[0;32m      3\u001b[0m \u001b[0mX\u001b[0m\u001b[1;33m[\u001b[0m\u001b[1;33m:\u001b[0m\u001b[1;33m,\u001b[0m\u001b[1;36m1\u001b[0m\u001b[1;33m]\u001b[0m \u001b[1;33m-=\u001b[0m \u001b[1;36m2.5\u001b[0m\u001b[1;33m\u001b[0m\u001b[1;33m\u001b[0m\u001b[0m\n\u001b[0;32m      4\u001b[0m \u001b[1;33m\u001b[0m\u001b[0m\n\u001b[1;32m----> 5\u001b[1;33m \u001b[0mfig\u001b[0m \u001b[1;33m=\u001b[0m \u001b[0mpx\u001b[0m\u001b[1;33m.\u001b[0m\u001b[0mscatter\u001b[0m\u001b[1;33m(\u001b[0m\u001b[0mx\u001b[0m\u001b[1;33m=\u001b[0m\u001b[0mX\u001b[0m\u001b[1;33m[\u001b[0m\u001b[1;33m:\u001b[0m\u001b[1;33m,\u001b[0m\u001b[1;36m0\u001b[0m\u001b[1;33m]\u001b[0m\u001b[1;33m,\u001b[0m \u001b[0my\u001b[0m\u001b[1;33m=\u001b[0m\u001b[0mX\u001b[0m\u001b[1;33m[\u001b[0m\u001b[1;33m:\u001b[0m\u001b[1;33m,\u001b[0m\u001b[1;36m1\u001b[0m\u001b[1;33m]\u001b[0m\u001b[1;33m,\u001b[0m \u001b[0mcolor\u001b[0m\u001b[1;33m=\u001b[0m\u001b[0my\u001b[0m\u001b[1;33m,\u001b[0m \u001b[0mtemplate\u001b[0m\u001b[1;33m=\u001b[0m \u001b[1;34m'simple_white'\u001b[0m\u001b[1;33m,\u001b[0m \u001b[0mcolor_discrete_map\u001b[0m\u001b[1;33m=\u001b[0m\u001b[0mcolors\u001b[0m\u001b[1;33m)\u001b[0m\u001b[1;33m\u001b[0m\u001b[1;33m\u001b[0m\u001b[0m\n\u001b[0m\u001b[0;32m      6\u001b[0m fig.update_layout(\n\u001b[0;32m      7\u001b[0m     \u001b[0mcoloraxis_showscale\u001b[0m\u001b[1;33m=\u001b[0m\u001b[1;32mFalse\u001b[0m\u001b[1;33m,\u001b[0m\u001b[1;33m\u001b[0m\u001b[1;33m\u001b[0m\u001b[0m\n",
      "\u001b[1;31mNameError\u001b[0m: name 'colors' is not defined"
     ]
    }
   ],
   "source": [
    "X,y = make_blobs(n_samples=200, centers=2, cluster_std=0.7, random_state=42)\n",
    "X[:,0] -= 9.3\n",
    "X[:,1] -= 2.5\n",
    "\n",
    "fig = px.scatter(x=X[:,0], y=X[:,1], color=y, template= 'simple_white', color_discrete_map=colors)\n",
    "fig.update_layout(\n",
    "    coloraxis_showscale=False,\n",
    "    xaxis_title='$x^{(1)}$',\n",
    "    yaxis_title='$x^{(2)}$',\n",
    ")\n",
    "fig.update_traces(marker=dict(size=8,\n",
    "                              line=dict(width=2,\n",
    "                                        color='DarkSlateGrey')),\n",
    "                  selector=dict(mode='markers'))\n",
    "fig.show()"
   ]
  },
  {
   "cell_type": "code",
   "execution_count": 2,
   "metadata": {},
   "outputs": [],
   "source": [
    "###Generate data for Binary Classification\n",
    "def make_2class(random_seed, n, return_X_y=False):\n",
    "    np.random.seed(random_seed) \n",
    "    X,y = make_blobs(n_samples=200, centers=2, cluster_std=0.7)\n",
    "    X[:,0] -= 9.3\n",
    "    X[:,1] -= 2.5\n",
    "\n",
    "    np.random.seed(1)\n",
    "    pos_ids = np.where(y == 0)[0]\n",
    "    neg_ids = np.where(y == 1)[0]\n",
    "    ids1 = np.random.randint(0,len(pos_ids),5)\n",
    "    ids2 = np.random.randint(0,len(neg_ids),5)\n",
    "    p1 = pos_ids[ids1]\n",
    "    p2 = neg_ids[ids2]\n",
    "\n",
    "    ## generate labeled and unlabeled data\n",
    "    l_ids = np.concatenate((p1 , p2))\n",
    "    u_ids = np.array(list(set(np.arange(X.shape[0])) - set(l_ids)))\n",
    "    l_data1, l_data2 = X[l_ids,0].reshape(-1,1), X[l_ids,1].reshape(-1,1)\n",
    "    u_data1, u_data2 = X[u_ids,0].reshape(-1,1), X[u_ids,1].reshape(-1,1)\n",
    "    labels = y[l_ids]\n",
    "    \n",
    "    if return_X_y:\n",
    "        return X, y\n",
    "    else:\n",
    "        return [l_data1, l_data2], [u_data1, u_data2], labels, X, y, [p1, p2]"
   ]
  },
  {
   "cell_type": "code",
   "execution_count": 118,
   "metadata": {},
   "outputs": [
    {
     "name": "stdout",
     "output_type": "stream",
     "text": [
      "Validation Iteration: 0 Accuracy: 0.9666666666666667 Labels: 7\n",
      "Validation Iteration: 0 Accuracy: 0.9666666666666667 Labels: 7\n",
      "Validation Iteration: 0 Accuracy: 0.9666666666666667 Labels: 7\n",
      "Validation Iteration: 0 Accuracy: 0.9666666666666667 Labels: 7\n",
      "Validation Iteration: 0 Accuracy: 0.9666666666666667 Labels: 7\n",
      "Validation Iteration: 0 Accuracy: 0.75 Labels: 7\n",
      "Validation Iteration: 0 Accuracy: 0.9666666666666667 Labels: 7\n",
      "Validation Iteration: 0 Accuracy: 0.9666666666666667 Labels: 7\n",
      "Validation Iteration: 0 Accuracy: 0.9666666666666667 Labels: 7\n",
      "Validation Iteration: 0 Accuracy: 0.9666666666666667 Labels: 7\n"
     ]
    }
   ],
   "source": [
    "ldata, udata, llabels, X, y, labels = make_2class(4, 200)\n",
    "\n",
    "model =  {\n",
    "    'classifier':RandomForestClassifier(),\n",
    "    'num_view':1,\n",
    "    'gamma':0.3,\n",
    "    'steps':10,\n",
    "    'regularizer':'hard'\n",
    "}\n",
    "\n",
    "base = []\n",
    "base_clfs = []\n",
    "\n",
    "for i in range(0, 10):\n",
    "    clfs, metrics = Validation.validation(\n",
    "        model_params=model,\n",
    "        train_data_x=X,\n",
    "        train_data_y=y,\n",
    "        percent_labeled=0.05,\n",
    "        random_seed=np.arange(0,10),\n",
    "        iters=10\n",
    "    )\n",
    "    \n",
    "    base.append(metrics)\n",
    "    base_clfs.append(clfs)\n",
    "    \n",
    "base_ar = np.array(base)"
   ]
  },
  {
   "cell_type": "code",
   "execution_count": 27,
   "metadata": {},
   "outputs": [
    {
     "name": "stdout",
     "output_type": "stream",
     "text": [
      "Validation Iteration: 0 Accuracy: 1.0 Labels: 7\n",
      "Validation Iteration: 0 Accuracy: 0.9833333333333333 Labels: 7\n",
      "Validation Iteration: 0 Accuracy: 0.9 Labels: 7\n",
      "Validation Iteration: 0 Accuracy: 0.9833333333333333 Labels: 7\n",
      "Validation Iteration: 0 Accuracy: 0.95 Labels: 7\n",
      "Validation Iteration: 0 Accuracy: 0.9833333333333333 Labels: 7\n",
      "Validation Iteration: 0 Accuracy: 1.0 Labels: 7\n",
      "Validation Iteration: 0 Accuracy: 0.95 Labels: 7\n",
      "Validation Iteration: 0 Accuracy: 0.95 Labels: 7\n",
      "Validation Iteration: 0 Accuracy: 0.95 Labels: 7\n"
     ]
    }
   ],
   "source": [
    "ldata, udata, llabels, X, y, labels = make_2class(4, 200)\n",
    "\n",
    "model =  {\n",
    "    'classifier':RandomForestClassifier(),\n",
    "    'num_view':2,\n",
    "    'gamma':0.3,\n",
    "    'steps':50,\n",
    "    'regularizer':'hard'\n",
    "}\n",
    "\n",
    "spamco_metrics = []\n",
    "spamco_clfs = []\n",
    "\n",
    "for i in range(0,10):\n",
    "    clfs, metrics = Validation.validation(\n",
    "        model_params=model,\n",
    "        train_data_x=X,\n",
    "        train_data_y=y,\n",
    "        percent_labeled=0.05,\n",
    "        random_seed=np.arange(0,10),\n",
    "        spaco=True,\n",
    "        iters=10,\n",
    "        single_view=True\n",
    "    )\n",
    "    #print(f'Iteration: {i} Mean: {np.mean(metrics)}')\n",
    "    spamco_metrics.append(metrics)\n",
    "    spamco_clfs.append(clfs)\n",
    "    \n",
    "spamco_ar = np.array(spamco_metrics)"
   ]
  },
  {
   "cell_type": "code",
   "execution_count": 154,
   "metadata": {},
   "outputs": [
    {
     "name": "stdout",
     "output_type": "stream",
     "text": [
      "Validation Iteration: 0 Accuracy: 0.9 Labels: 7\n",
      "Validation Iteration: 0 Accuracy: 0.9 Labels: 7\n",
      "Validation Iteration: 0 Accuracy: 0.9 Labels: 7\n",
      "Validation Iteration: 0 Accuracy: 0.9 Labels: 7\n",
      "Validation Iteration: 0 Accuracy: 0.9 Labels: 7\n",
      "Validation Iteration: 0 Accuracy: 0.9 Labels: 7\n",
      "Validation Iteration: 0 Accuracy: 0.9 Labels: 7\n",
      "Validation Iteration: 0 Accuracy: 0.9 Labels: 7\n",
      "Validation Iteration: 0 Accuracy: 0.9 Labels: 7\n",
      "Validation Iteration: 0 Accuracy: 0.8833333333333333 Labels: 7\n"
     ]
    }
   ],
   "source": [
    "ldata, udata, llabels, X, y, labels = make_2class(4, 200)\n",
    "\n",
    "model =  {\n",
    "    'classifier':RandomForestClassifier(),\n",
    "    'num_view':2,\n",
    "    'gamma':0.3,\n",
    "    'steps':50,\n",
    "    'regularizer':'hard'\n",
    "}\n",
    "\n",
    "spamco_multiview_metrics = []\n",
    "spamco_multiview_clfs = []\n",
    "\n",
    "for i in range(0,10):\n",
    "    clfs, metrics = Validation.validation(\n",
    "        model_params=model,\n",
    "        train_data_x=X,\n",
    "        train_data_y=y,\n",
    "        percent_labeled=0.05,\n",
    "        random_seed=np.arange(0,10),\n",
    "        spaco=True,\n",
    "        iters=10\n",
    "    )\n",
    "    #print(f'Iteration: {i} Mean: {np.mean(metrics)}')\n",
    "    spamco_multiview_metrics.append(metrics)\n",
    "    spamco_multiview_clfs.append(clfs)\n",
    "    \n",
    "spamco_multiview_ar = np.array(spamco_multiview_metrics)"
   ]
  },
  {
   "cell_type": "code",
   "execution_count": 35,
   "metadata": {},
   "outputs": [
    {
     "data": {
      "image/png": "[encoded data removed]",
      "text/plain": [
       "<Figure size 432x288 with 1 Axes>"
      ]
     },
     "metadata": {
      "needs_background": "light"
     },
     "output_type": "display_data"
    }
   ],
   "source": [
    "baytest_rope_multi_singleview, bayplot_rope_multi_singleview = baycomp.two_on_multiple(base_ar, spamco_ar, plot=True, rope=0.05, names = ('base','spamco'))"
   ]
  },
  {
   "cell_type": "code",
   "execution_count": 159,
   "metadata": {},
   "outputs": [
    {
     "data": {
      "image/png": "[encoded data removed]",
      "text/plain": [
       "<Figure size 432x288 with 1 Axes>"
      ]
     },
     "metadata": {
      "needs_background": "light"
     },
     "output_type": "display_data"
    }
   ],
   "source": [
    "baytest_rope_multi_multiview, bayplot_rope_multi_multiview = baycomp.two_on_multiple(base_ar, spamco_multiview_ar, plot=True, rope=0.05, names = ('base','spamco'))"
   ]
  },
  {
   "cell_type": "code",
   "execution_count": 156,
   "metadata": {},
   "outputs": [
    {
     "data": {
      "image/png": "[encoded data removed]",
      "text/plain": [
       "<Figure size 432x288 with 1 Axes>"
      ]
     },
     "metadata": {
      "needs_background": "light"
     },
     "output_type": "display_data"
    }
   ],
   "source": [
    "baytest_rope_single_singleview, bayplot_rope_single_singleview = baycomp.two_on_single(np.mean(base_ar, axis=0), np.mean(spamco_ar, axis=0), rope= 0.05, plot=True, names = ('base','spamco'))"
   ]
  },
  {
   "cell_type": "code",
   "execution_count": 157,
   "metadata": {},
   "outputs": [
    {
     "data": {
      "image/png": "[encoded data removed]",
      "text/plain": [
       "<Figure size 432x288 with 1 Axes>"
      ]
     },
     "metadata": {
      "needs_background": "light"
     },
     "output_type": "display_data"
    }
   ],
   "source": [
    "baytest_rope_single_multiview, bayplot_rope_single_multiview = baycomp.two_on_single(np.mean(base_ar, axis=0), np.mean(spamco_multiview_ar, axis=0), rope= 0.05, plot=True, names = ('base','spamco'))"
   ]
  },
  {
   "cell_type": "code",
   "execution_count": 42,
   "metadata": {},
   "outputs": [],
   "source": [
    "bayplot_rope_multi_singleview.savefig('Two Class Gaussian Single View Simplex.png')\n",
    "bayplot_rope_single_singleview.savefig('Two Class Gaussian Single View Histogram.png')\n",
    "bayplot_rope_multi_multiview.savefig('Two Class Gaussian Multi View Simplex.png')\n",
    "bayplot_rope_single_multiview.savefig('Two Class Gaussian Multi View Histogram.png')"
   ]
  },
  {
   "cell_type": "markdown",
   "metadata": {},
   "source": [
    "#### Two classifiers on moons synthetic dataset\n",
    "\n"
   ]
  },
  {
   "cell_type": "code",
   "execution_count": null,
   "metadata": {},
   "outputs": [],
   "source": [
    "X,y = make_moons(n_samples=200, random_state=42, shuffle=True,\n",
    "    noise=.1)\n",
    "\n",
    "\n",
    "fig = px.scatter(x=X[:,0], y=X[:,1], color=y, template= 'simple_white', color_discrete_map=colors)\n",
    "fig.update_layout(\n",
    "    coloraxis_showscale=False,\n",
    "    xaxis_title='$x^{(1)}$',\n",
    "    yaxis_title='$x^{(2)}$',\n",
    ")\n",
    "fig.update_traces(marker=dict(size=8,\n",
    "                              line=dict(width=2,\n",
    "                                        color='DarkSlateGrey')),\n",
    "                  selector=dict(mode='markers'))\n",
    "fig.show()"
   ]
  },
  {
   "cell_type": "code",
   "execution_count": 115,
   "metadata": {},
   "outputs": [
    {
     "name": "stdout",
     "output_type": "stream",
     "text": [
      "Validation Iteration: 0 Accuracy: 0.9166666666666666 Labels: 7\n",
      "Validation Iteration: 0 Accuracy: 0.9166666666666666 Labels: 7\n",
      "Validation Iteration: 0 Accuracy: 0.9166666666666666 Labels: 7\n",
      "Validation Iteration: 0 Accuracy: 0.95 Labels: 7\n",
      "Validation Iteration: 0 Accuracy: 0.9333333333333333 Labels: 7\n",
      "Validation Iteration: 0 Accuracy: 0.9333333333333333 Labels: 7\n",
      "Validation Iteration: 0 Accuracy: 0.9333333333333333 Labels: 7\n",
      "Validation Iteration: 0 Accuracy: 0.9333333333333333 Labels: 7\n",
      "Validation Iteration: 0 Accuracy: 0.9333333333333333 Labels: 7\n",
      "Validation Iteration: 0 Accuracy: 0.9166666666666666 Labels: 7\n"
     ]
    }
   ],
   "source": [
    "X,y = make_moons(n_samples=200, random_state=42, shuffle=True,\n",
    "    noise=.1)\n",
    "\n",
    "\n",
    "model =  {\n",
    "    'classifier':RandomForestClassifier(),\n",
    "    'num_view':1,\n",
    "    'gamma':0.3,\n",
    "    'steps':10,\n",
    "    'regularizer':'hard'\n",
    "}\n",
    "\n",
    "base_moon = []\n",
    "base_clfs_moon = []\n",
    "\n",
    "for i in range(0, 10):\n",
    "    clfs, metrics = Validation.validation(\n",
    "        model_params=model,\n",
    "        train_data_x=X,\n",
    "        train_data_y=y,\n",
    "        percent_labeled=0.05,\n",
    "        random_seed=np.arange(0,10),\n",
    "        iters=10\n",
    "    )\n",
    "    \n",
    "    base_moon.append(metrics)\n",
    "    base_clfs_moon.append(clfs)\n",
    "    \n",
    "base_ar_moon = np.array(base_moon)"
   ]
  },
  {
   "cell_type": "code",
   "execution_count": 170,
   "metadata": {},
   "outputs": [
    {
     "name": "stdout",
     "output_type": "stream",
     "text": [
      "Validation Iteration: 0 Accuracy: 0.9166666666666666 Labels: 7\n",
      "Validation Iteration: 0 Accuracy: 0.9166666666666666 Labels: 7\n",
      "Validation Iteration: 0 Accuracy: 0.9166666666666666 Labels: 7\n",
      "Validation Iteration: 0 Accuracy: 0.9166666666666666 Labels: 7\n",
      "Validation Iteration: 0 Accuracy: 0.9166666666666666 Labels: 7\n",
      "Validation Iteration: 0 Accuracy: 0.9166666666666666 Labels: 7\n",
      "Validation Iteration: 0 Accuracy: 0.9166666666666666 Labels: 7\n",
      "Validation Iteration: 0 Accuracy: 0.9166666666666666 Labels: 7\n",
      "Validation Iteration: 0 Accuracy: 0.9166666666666666 Labels: 7\n",
      "Validation Iteration: 0 Accuracy: 0.9166666666666666 Labels: 7\n"
     ]
    }
   ],
   "source": [
    "X,y = make_moons(n_samples=200, random_state=42, shuffle=True,\n",
    "    noise=.1)\n",
    "\n",
    "\n",
    "model =  {\n",
    "    'classifier':RandomForestClassifier(),\n",
    "    'num_view':1,\n",
    "    'gamma':0.3,\n",
    "    'steps':50,\n",
    "    'regularizer':'hard'\n",
    "}\n",
    "\n",
    "spamco_metrics_moon = []\n",
    "spamco_clfs_moon = []\n",
    "\n",
    "for i in range(0,10):\n",
    "    clfs, metrics = Validation.validation(\n",
    "        model_params=model,\n",
    "        train_data_x=X,\n",
    "        train_data_y=y,\n",
    "        percent_labeled=0.05,\n",
    "        random_seed=np.arange(0,10),\n",
    "        spaco=True,\n",
    "        iters=10,\n",
    "        single_view=True\n",
    "    )\n",
    "    #print(f'Iteration: {i} Mean: {np.mean(metrics)}')\n",
    "    spamco_metrics_moon.append(metrics)\n",
    "    spamco_clfs_moon.append(clfs)\n",
    "    \n",
    "spamco_ar_moon = np.array(spamco_metrics_moon)"
   ]
  },
  {
   "cell_type": "code",
   "execution_count": 161,
   "metadata": {},
   "outputs": [
    {
     "name": "stdout",
     "output_type": "stream",
     "text": [
      "Validation Iteration: 0 Accuracy: 0.5833333333333334 Labels: 14\n",
      "Validation Iteration: 0 Accuracy: 0.5833333333333334 Labels: 14\n",
      "Validation Iteration: 0 Accuracy: 0.5833333333333334 Labels: 14\n",
      "Validation Iteration: 0 Accuracy: 0.5833333333333334 Labels: 14\n",
      "Validation Iteration: 0 Accuracy: 0.5666666666666667 Labels: 14\n",
      "Validation Iteration: 0 Accuracy: 0.5666666666666667 Labels: 14\n",
      "Validation Iteration: 0 Accuracy: 0.5833333333333334 Labels: 14\n",
      "Validation Iteration: 0 Accuracy: 0.6 Labels: 14\n",
      "Validation Iteration: 0 Accuracy: 0.5666666666666667 Labels: 14\n",
      "Validation Iteration: 0 Accuracy: 0.5666666666666667 Labels: 14\n"
     ]
    }
   ],
   "source": [
    "X,y = make_moons(n_samples=200, random_state=42, shuffle=True, noise=.1)\n",
    "\n",
    "\n",
    "model =  {\n",
    "    'classifier':RandomForestClassifier(class_weight='balanced'),\n",
    "    'num_view':2,\n",
    "    'gamma':0.3,\n",
    "    'steps':50,\n",
    "    'regularizer':'hard'\n",
    "}\n",
    "\n",
    "spamco_multiview_metrics_moon = []\n",
    "spamco_multiview_clfs_moon = []\n",
    "\n",
    "for i in range(0,10):\n",
    "    clfs, metrics = Validation.validation(\n",
    "        model_params=model,\n",
    "        train_data_x=X,\n",
    "        train_data_y=y,\n",
    "        percent_labeled=0.1,\n",
    "        random_seed=np.arange(0,10),\n",
    "        spaco=True,\n",
    "        iters=10\n",
    "    )\n",
    "    #print(f'Iteration: {i} Mean: {np.mean(metrics)}')\n",
    "    spamco_multiview_metrics_moon.append(metrics)\n",
    "    spamco_multiview_clfs_moon.append(clfs)\n",
    "    \n",
    "spamco_multiview_ar_moon = np.array(spamco_multiview_metrics_moon)"
   ]
  },
  {
   "cell_type": "code",
   "execution_count": 126,
   "metadata": {},
   "outputs": [
    {
     "data": {
      "image/png": "[encoded data removed]",
      "text/plain": [
       "<Figure size 432x288 with 1 Axes>"
      ]
     },
     "metadata": {
      "needs_background": "light"
     },
     "output_type": "display_data"
    }
   ],
   "source": [
    "baytest_rope_multi_multiview, bayplot_rope_multi_multiview = baycomp.two_on_multiple(base_ar_moon, spamco_multiview_ar_moon, plot=True, names = ('base','spamco'))"
   ]
  },
  {
   "cell_type": "code",
   "execution_count": 127,
   "metadata": {},
   "outputs": [
    {
     "data": {
      "image/png": "[encoded data removed]",
      "text/plain": [
       "<Figure size 432x288 with 1 Axes>"
      ]
     },
     "metadata": {
      "needs_background": "light"
     },
     "output_type": "display_data"
    }
   ],
   "source": [
    "baytest_rope_single_multiview, bayplot_rope_single_multiview = baycomp.two_on_single(np.mean(base_ar_moon, axis=0), np.mean(spamco_multiview_ar_moon, axis=0), rope= 0.05, plot=True, names = ('base','spamco'))"
   ]
  },
  {
   "cell_type": "code",
   "execution_count": null,
   "metadata": {},
   "outputs": [],
   "source": [
    "X1, Y1 = make_moons(\n",
    "    n_samples=400,\n",
    "    shuffle=True,\n",
    "    noise=.1\n",
    ")\n",
    "x_train, x_test, y_train, y_test = train_test_split(X1, Y1, test_size=0.95, random_state=42)\n",
    "\n",
    "rfc = RandomForestClassifier()\n",
    "rfc.fit(x_train, y_train)\n",
    "\n",
    "rfc_pred = rfc.predict(X1)\n",
    "print(f'RFC accuracy with {len(x_train)} labeled data {accuracy_score(rfc_pred, Y1)}')\n",
    "\n",
    "plt.figure()\n",
    "plt.subplots_adjust(bottom=0.05, top=0.9, left=0.05, right=0.95)\n",
    "plt.title(\"Gaussian divided into three quantiles\", fontsize=\"small\")\n",
    "plt.scatter(X1[:, 0], X1[:, 1], marker=\"o\", c=rfc_pred, s=25, edgecolor=\"k\")\n",
    "plt.scatter(x_train[:, 0], x_train[:, 1], marker='^', c='#0F0F0F', s=100)\n",
    "\n",
    "plt.show()"
   ]
  },
  {
   "cell_type": "code",
   "execution_count": null,
   "metadata": {},
   "outputs": [],
   "source": [
    "#### spaco experiment2 gamma=0.3\n",
    "### parameters\n",
    "steps = 20\n",
    "\n",
    "ldata = [\n",
    "    x_train[:,0].reshape(-1,1),\n",
    "    x_train[:,1].reshape(-1,1)\n",
    "    ]\n",
    "udata = [\n",
    "    x_test[:,0].reshape(-1,1),\n",
    "    x_test[:,1].reshape(-1,1)\n",
    "    ]\n",
    "\n",
    "#### spaco experiment2 gamma=0.3\n",
    "spaco = SPamCo(\n",
    "    labeled_data=ldata,\n",
    "    unlabeled_data=udata,\n",
    "    labels=y_train,\n",
    "    num_view=2,\n",
    "    gamma=0.3,\n",
    "    iterations=1\n",
    ")\n",
    "\n",
    "spaco.fit(xgb.XGBClassifier(silent=True, verbosity=0))\n",
    "clfs = spaco.get_classifiers()\n",
    "score1 = clfs[0].predict_proba(X1[:,0].reshape(-1,1))\n",
    "score2 = clfs[1].predict_proba(X1[:,1].reshape(-1,1))\n",
    "score = score1 + score2\n",
    "pred_y = np.argmax(score, axis = 1)\n",
    "\n",
    "print(f'SPAMCO accuracy with (gamma={gamma}) {len(x_train)} labeled data {accuracy_score(pred_y, Y1)}')\n",
    "plt.figure()\n",
    "plt.subplots_adjust(bottom=0.05, top=0.9, left=0.05, right=0.95)\n",
    "plt.title(\"Gaussian divided into three quantiles\", fontsize=\"small\")\n",
    "plt.scatter(X1[:, 0], X1[:, 1], marker=\"o\", c=pred_y, s=25, edgecolor=\"k\")\n",
    "plt.scatter(x_train[:, 0], x_train[:, 1], marker='^', c='#0F0F0F', s=100)\n",
    "\n",
    "plt.show()"
   ]
  },
  {
   "cell_type": "markdown",
   "metadata": {},
   "source": [
    "#### Two classifiers on four class synthetic datasets complete separation"
   ]
  },
  {
   "cell_type": "code",
   "execution_count": null,
   "metadata": {},
   "outputs": [],
   "source": [
    "X,y = make_blobs(n_samples=200, centers=4, cluster_std=0.5, random_state=3)\n",
    "\n",
    "\n",
    "fig = px.scatter(x=X[:,0], y=X[:,1], color=y, template= 'simple_white', color_discrete_map=colors)\n",
    "fig.update_layout(\n",
    "    coloraxis_showscale=False,\n",
    "    xaxis_title='$x^{(1)}$',\n",
    "    yaxis_title='$x^{(2)}$',\n",
    ")\n",
    "fig.update_traces(marker=dict(size=8,\n",
    "                              line=dict(width=2,\n",
    "                                        color='DarkSlateGrey')),\n",
    "                  selector=dict(mode='markers'))\n",
    "fig.show()"
   ]
  },
  {
   "cell_type": "code",
   "execution_count": 141,
   "metadata": {},
   "outputs": [
    {
     "name": "stdout",
     "output_type": "stream",
     "text": [
      "Validation Iteration: 0 Accuracy: 1.0 Labels: 7\n",
      "Validation Iteration: 0 Accuracy: 1.0 Labels: 7\n",
      "Validation Iteration: 0 Accuracy: 1.0 Labels: 7\n",
      "Validation Iteration: 0 Accuracy: 1.0 Labels: 7\n",
      "Validation Iteration: 0 Accuracy: 1.0 Labels: 7\n",
      "Validation Iteration: 0 Accuracy: 1.0 Labels: 7\n",
      "Validation Iteration: 0 Accuracy: 1.0 Labels: 7\n",
      "Validation Iteration: 0 Accuracy: 1.0 Labels: 7\n",
      "Validation Iteration: 0 Accuracy: 1.0 Labels: 7\n",
      "Validation Iteration: 0 Accuracy: 1.0 Labels: 7\n"
     ]
    }
   ],
   "source": [
    "X,y = make_blobs(n_samples=200, centers=4, cluster_std=0.5, random_state=3)\n",
    "\n",
    "model =  {\n",
    "    'classifier':RandomForestClassifier(),\n",
    "    'num_view':1,\n",
    "    'gamma':0.3,\n",
    "    'steps':10,\n",
    "    'regularizer':'hard'\n",
    "}\n",
    "\n",
    "base_4blob = []\n",
    "base_clfs_4blob = []\n",
    "\n",
    "for i in range(0, 10):\n",
    "    clfs, metrics = Validation.validation(\n",
    "        model_params=model,\n",
    "        train_data_x=X,\n",
    "        train_data_y=y,\n",
    "        percent_labeled=0.05,\n",
    "        random_seed=np.arange(0,10),\n",
    "        iters=10\n",
    "    )\n",
    "    \n",
    "    base_4blob.append(metrics)\n",
    "    base_clfs_4blob.append(clfs)\n",
    "    \n",
    "base_ar_4blob = np.array(base_4blob)"
   ]
  },
  {
   "cell_type": "code",
   "execution_count": 142,
   "metadata": {},
   "outputs": [
    {
     "name": "stdout",
     "output_type": "stream",
     "text": [
      "Validation Iteration: 0 Accuracy: 1.0 Labels: 7\n",
      "Validation Iteration: 0 Accuracy: 1.0 Labels: 7\n",
      "Validation Iteration: 0 Accuracy: 1.0 Labels: 7\n",
      "Validation Iteration: 0 Accuracy: 1.0 Labels: 7\n",
      "Validation Iteration: 0 Accuracy: 1.0 Labels: 7\n",
      "Validation Iteration: 0 Accuracy: 1.0 Labels: 7\n",
      "Validation Iteration: 0 Accuracy: 1.0 Labels: 7\n",
      "Validation Iteration: 0 Accuracy: 1.0 Labels: 7\n",
      "Validation Iteration: 0 Accuracy: 1.0 Labels: 7\n",
      "Validation Iteration: 0 Accuracy: 1.0 Labels: 7\n"
     ]
    }
   ],
   "source": [
    "X,y = make_blobs(n_samples=200, centers=4, cluster_std=0.5, random_state=3)\n",
    "\n",
    "model =  {\n",
    "    'classifier':RandomForestClassifier(),\n",
    "    'num_view':1,\n",
    "    'gamma':0.3,\n",
    "    'steps':50,\n",
    "    'regularizer':'hard'\n",
    "}\n",
    "\n",
    "spamco_metrics_4blob_single = []\n",
    "spamco_clfs_4blob_single = []\n",
    "\n",
    "for i in range(0,10):\n",
    "    clfs, metrics = Validation.validation(\n",
    "        model_params=model,\n",
    "        train_data_x=X,\n",
    "        train_data_y=y,\n",
    "        percent_labeled=0.05,\n",
    "        random_seed=np.arange(0,10),\n",
    "        spaco=True,\n",
    "        iters=10,\n",
    "        single_view=True\n",
    "    )\n",
    "    #print(f'Iteration: {i} Mean: {np.mean(metrics)}')\n",
    "    spamco_metrics_4blob_single.append(metrics)\n",
    "    spamco_clfs_4blob_single.append(clfs)\n",
    "    \n",
    "spamco_ar_4blob_single = np.array(spamco_metrics_4blob_single)"
   ]
  },
  {
   "cell_type": "code",
   "execution_count": 2,
   "metadata": {},
   "outputs": [
    {
     "name": "stdout",
     "output_type": "stream",
     "text": [
      "Validation Iteration: 0 Accuracy: 1.0 Labels: 7\n",
      "Validation Iteration: 0 Accuracy: 1.0 Labels: 7\n",
      "Validation Iteration: 0 Accuracy: 1.0 Labels: 7\n",
      "Validation Iteration: 0 Accuracy: 1.0 Labels: 7\n",
      "Validation Iteration: 0 Accuracy: 1.0 Labels: 7\n",
      "Validation Iteration: 0 Accuracy: 1.0 Labels: 7\n",
      "Validation Iteration: 0 Accuracy: 1.0 Labels: 7\n",
      "Validation Iteration: 0 Accuracy: 1.0 Labels: 7\n",
      "Validation Iteration: 0 Accuracy: 1.0 Labels: 7\n",
      "Validation Iteration: 0 Accuracy: 1.0 Labels: 7\n"
     ]
    }
   ],
   "source": [
    "X,y = make_blobs(n_samples=200, centers=4, cluster_std=0.5, random_state=3)\n",
    "\n",
    "model =  {\n",
    "    'classifier':RandomForestClassifier(),\n",
    "    'num_view':X.shape[1],\n",
    "    'gamma':0.3,\n",
    "    'steps':50,\n",
    "    'regularizer':'hard'\n",
    "}\n",
    "\n",
    "spamco_multiview_metrics_4blob_mulit = []\n",
    "spamco_multiview_clfs_4blob_mulit = []\n",
    "\n",
    "for i in range(0,10):\n",
    "    clfs, metrics = Validation.validation(\n",
    "        model_params=model,\n",
    "        train_data_x=X,\n",
    "        train_data_y=y,\n",
    "        percent_labeled=0.05,\n",
    "        random_seed=np.arange(0,10),\n",
    "        spaco=True,\n",
    "        iters=10\n",
    "    )\n",
    "    #print(f'Iteration: {i} Mean: {np.mean(metrics)}')\n",
    "    spamco_multiview_metrics_4blob_mulit.append(metrics)\n",
    "    spamco_multiview_clfs_4blob_mulit.append(clfs)\n",
    "    \n",
    "spamco_multiview_ar_4blob_mulit = np.array(spamco_multiview_metrics_4blob_mulit)"
   ]
  },
  {
   "cell_type": "code",
   "execution_count": null,
   "metadata": {},
   "outputs": [],
   "source": []
  }
 ],
 "metadata": {
  "kernelspec": {
   "display_name": "Python 3 (ipykernel)",
   "language": "python",
   "name": "python3"
  },
  "language_info": {
   "codemirror_mode": {
    "name": "ipython",
    "version": 3
   },
   "file_extension": ".py",
   "mimetype": "text/x-python",
   "name": "python",
   "nbconvert_exporter": "python",
   "pygments_lexer": "ipython3",
   "version": "3.9.7"
  }
 },
 "nbformat": 4,
 "nbformat_minor": 4
}
