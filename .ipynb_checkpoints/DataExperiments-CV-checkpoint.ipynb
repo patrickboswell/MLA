{
 "cells": [
  {
   "cell_type": "markdown",
   "metadata": {},
   "source": [
    "# SPamCo with Ensembles"
   ]
  },
  {
   "cell_type": "code",
   "execution_count": 1,
   "metadata": {},
   "outputs": [],
   "source": [
    "#Math packages\n",
    "import numpy as np\n",
    "\n",
    "#Data packages\n",
    "import pandas as pd\n",
    "import pandas_profiling\n",
    "\n",
    "#Spamco\n",
    "from spamco import SPamCo, Validation\n",
    "\n",
    "#Data packages\n",
    "from sklearn.datasets import make_moons, make_classification, make_circles, make_blobs, make_gaussian_quantiles\n",
    "from sklearn.datasets import load_breast_cancer, load_digits, load_iris\n",
    "from sklearn.model_selection import train_test_split\n",
    "from sklearn.datasets import fetch_openml\n",
    "from sklearn.preprocessing import LabelEncoder\n",
    "\n",
    "#Classifier packages\n",
    "from sklearn.ensemble import RandomForestClassifier\n",
    "from sklearn.ensemble import AdaBoostClassifier\n",
    "import xgboost as xgb\n",
    "\n",
    "#Validation packages\n",
    "from sklearn.metrics import accuracy_score\n",
    "\n",
    "#Visualization packages\n",
    "import plotly.express as px\n",
    "\n",
    "import matplotlib\n",
    "import matplotlib.pyplot as plt\n",
    "import matplotlib.pylab as plb\n",
    "from matplotlib.ticker import MaxNLocator\n",
    "%matplotlib inline\n",
    "\n",
    "import baycomp\n",
    "\n",
    "#General utility packages\n",
    "from itertools import cycle, islice\n",
    "import warnings\n",
    "\n",
    "warnings.filterwarnings(\"ignore\")\n",
    "matplotlib.rcParams.update({'font.size': 20})"
   ]
  },
  {
   "cell_type": "code",
   "execution_count": 2,
   "metadata": {},
   "outputs": [],
   "source": [
    "def load_diabetes():\n",
    "    df = pd.read_csv('Data/diabetes.csv')\n",
    "    y =df.values[:,0]\n",
    "    X =df.drop(['Diabetes_012','AnyHealthcare'], axis = 1).values\n",
    "    return X, y"
   ]
  },
  {
   "cell_type": "code",
   "execution_count": 3,
   "metadata": {},
   "outputs": [],
   "source": [
    "def load_blood():\n",
    "    X, y = fetch_openml(data_id = 1464, return_X_y=True)\n",
    "    X = X.values\n",
    "    LE = LabelEncoder()\n",
    "    y = LE.fit_transform(y)\n",
    "    return X, y"
   ]
  },
  {
   "cell_type": "code",
   "execution_count": 4,
   "metadata": {},
   "outputs": [],
   "source": [
    "def load_qsar():\n",
    "    X, y = fetch_openml(data_id = 1494, return_X_y=True)\n",
    "    X = X.drop(['V1'], axis=1)\n",
    "    X = X.values\n",
    "    LE = LabelEncoder()\n",
    "    y = LE.fit_transform(y)\n",
    "    return X, y"
   ]
  },
  {
   "cell_type": "code",
   "execution_count": 5,
   "metadata": {},
   "outputs": [],
   "source": [
    "def load_eegeye():\n",
    "    X, y = fetch_openml(data_id = 1471, return_X_y=True)\n",
    "    X = X.values\n",
    "    LE = LabelEncoder()\n",
    "    y = LE.fit_transform(y)\n",
    "    return X, y"
   ]
  },
  {
   "cell_type": "code",
   "execution_count": 6,
   "metadata": {},
   "outputs": [],
   "source": [
    "def load_ilpd():\n",
    "    X, y = fetch_openml(data_id = 1480, return_X_y=True)\n",
    "    LE = LabelEncoder()\n",
    "    X['V2'] = LE.fit_transform(X['V2'])\n",
    "    X = X.values\n",
    "    y = LE.fit_transform(y)\n",
    "    return X, y"
   ]
  },
  {
   "cell_type": "code",
   "execution_count": 7,
   "metadata": {},
   "outputs": [],
   "source": [
    "def load_click():\n",
    "    X, y = fetch_openml(data_id = 1220, return_X_y=True)\n",
    "    X = X.drop(['user_id'], axis=1)\n",
    "    X = X.values\n",
    "    LE = LabelEncoder()\n",
    "    y = LE.fit_transform(y)\n",
    "    return X, y"
   ]
  },
  {
   "cell_type": "code",
   "execution_count": 8,
   "metadata": {},
   "outputs": [],
   "source": [
    "def load_satimage():\n",
    "    X, y = fetch_openml(data_id = 182, return_X_y=True)\n",
    "    X = X.values\n",
    "    LE = LabelEncoder()\n",
    "    y = LE.fit_transform(y)\n",
    "    return X, y"
   ]
  },
  {
   "cell_type": "code",
   "execution_count": 9,
   "metadata": {},
   "outputs": [],
   "source": [
    "def load_robot():\n",
    "    X, y = fetch_openml(data_id = 300, return_X_y=True)\n",
    "    X = X.drop(['f451'], axis=1)\n",
    "    X = X.values\n",
    "    LE = LabelEncoder()\n",
    "    y = LE.fit_transform(y)\n",
    "    return X, y"
   ]
  },
  {
   "cell_type": "code",
   "execution_count": 10,
   "metadata": {},
   "outputs": [],
   "source": [
    "np.random.seed(1)\n",
    "seed = np.random.randint(low = 1, high = 10000, size = 10)"
   ]
  },
  {
   "cell_type": "code",
   "execution_count": 11,
   "metadata": {},
   "outputs": [
    {
     "data": {
      "text/plain": [
       "array([ 236, 5193,  906, 7814, 2896, 5057,  145, 4226, 7752, 3463])"
      ]
     },
     "execution_count": 11,
     "metadata": {},
     "output_type": "execute_result"
    }
   ],
   "source": [
    "seed"
   ]
  },
  {
   "cell_type": "markdown",
   "metadata": {},
   "source": [
    "# Toy Datasets"
   ]
  },
  {
   "cell_type": "code",
   "execution_count": 12,
   "metadata": {},
   "outputs": [],
   "source": [
    "datasets = {\n",
    "    'breast_cancer': load_breast_cancer(return_X_y=True),\n",
    "    'digits': load_digits(return_X_y=True),\n",
    "    'blood': load_blood(),\n",
    "    'diabetes': load_diabetes(),\n",
    "    'qsar': load_qsar(),\n",
    "    'eegeye': load_eegeye(),\n",
    "    'ilpd': load_ilpd(),\n",
    "    'click': load_click(),\n",
    "    'satimage': load_satimage(),\n",
    "    'robot': load_robot()\n",
    "}"
   ]
  },
  {
   "cell_type": "markdown",
   "metadata": {},
   "source": [
    "## AdaBoost"
   ]
  },
  {
   "cell_type": "code",
   "execution_count": 13,
   "metadata": {},
   "outputs": [
    {
     "name": "stdout",
     "output_type": "stream",
     "text": [
      "Dataset: breast_cancer\n",
      "Validation Iteration: 0 Accuracy: 0.9035087719298246 Labels: 22\n",
      "Validation Iteration: 0 Accuracy: 0.8771929824561403 Labels: 22\n",
      "Validation Iteration: 0 Accuracy: 0.8771929824561403 Labels: 22\n",
      "Validation Iteration: 0 Accuracy: 0.8333333333333334 Labels: 22\n",
      "Validation Iteration: 0 Accuracy: 0.8849557522123894 Labels: 22\n",
      "Dataset: digits\n",
      "Validation Iteration: 0 Accuracy: 0.16944444444444445 Labels: 71\n",
      "Validation Iteration: 0 Accuracy: 0.35833333333333334 Labels: 71\n",
      "Validation Iteration: 0 Accuracy: 0.3231197771587744 Labels: 71\n",
      "Validation Iteration: 0 Accuracy: 0.1977715877437326 Labels: 71\n",
      "Validation Iteration: 0 Accuracy: 0.1392757660167131 Labels: 71\n",
      "Dataset: blood\n",
      "Validation Iteration: 0 Accuracy: 0.74 Labels: 29\n",
      "Validation Iteration: 0 Accuracy: 0.7266666666666667 Labels: 29\n",
      "Validation Iteration: 0 Accuracy: 0.7 Labels: 29\n",
      "Validation Iteration: 0 Accuracy: 0.7651006711409396 Labels: 29\n",
      "Validation Iteration: 0 Accuracy: 0.6912751677852349 Labels: 29\n",
      "Dataset: diabetes\n",
      "Validation Iteration: 0 Accuracy: 0.848549353516241 Labels: 10147\n",
      "Validation Iteration: 0 Accuracy: 0.8464009776095869 Labels: 10147\n",
      "Validation Iteration: 0 Accuracy: 0.847839798170924 Labels: 10147\n",
      "Validation Iteration: 0 Accuracy: 0.8451198360138757 Labels: 10147\n",
      "Validation Iteration: 0 Accuracy: 0.8446270892462946 Labels: 10147\n",
      "Dataset: qsar\n",
      "Validation Iteration: 0 Accuracy: 0.7867298578199052 Labels: 42\n",
      "Validation Iteration: 0 Accuracy: 0.7440758293838863 Labels: 42\n",
      "Validation Iteration: 0 Accuracy: 0.7535545023696683 Labels: 42\n",
      "Validation Iteration: 0 Accuracy: 0.7393364928909952 Labels: 42\n",
      "Validation Iteration: 0 Accuracy: 0.7488151658767772 Labels: 42\n",
      "Dataset: eegeye\n",
      "Validation Iteration: 0 Accuracy: 0.6929238985313751 Labels: 599\n",
      "Validation Iteration: 0 Accuracy: 0.7209612817089452 Labels: 599\n",
      "Validation Iteration: 0 Accuracy: 0.6995994659546061 Labels: 599\n",
      "Validation Iteration: 0 Accuracy: 0.7072763684913218 Labels: 599\n",
      "Validation Iteration: 0 Accuracy: 0.7146194926568759 Labels: 599\n",
      "Dataset: ilpd\n",
      "Validation Iteration: 0 Accuracy: 0.5213675213675214 Labels: 23\n",
      "Validation Iteration: 0 Accuracy: 0.6153846153846154 Labels: 23\n",
      "Validation Iteration: 0 Accuracy: 0.5897435897435898 Labels: 23\n",
      "Validation Iteration: 0 Accuracy: 0.6551724137931034 Labels: 23\n",
      "Validation Iteration: 0 Accuracy: 0.6293103448275862 Labels: 23\n",
      "Dataset: click\n",
      "Validation Iteration: 0 Accuracy: 0.825657071339174 Labels: 1597\n",
      "Validation Iteration: 0 Accuracy: 0.8314142678347934 Labels: 1597\n",
      "Validation Iteration: 0 Accuracy: 0.8266583229036295 Labels: 1597\n",
      "Validation Iteration: 0 Accuracy: 0.8291400675929403 Labels: 1597\n",
      "Validation Iteration: 0 Accuracy: 0.8181249217674302 Labels: 1597\n",
      "Dataset: satimage\n",
      "Validation Iteration: 0 Accuracy: 0.5085536547433903 Labels: 257\n",
      "Validation Iteration: 0 Accuracy: 0.36236391912908245 Labels: 257\n",
      "Validation Iteration: 0 Accuracy: 0.6842923794712286 Labels: 257\n",
      "Validation Iteration: 0 Accuracy: 0.43468118195956457 Labels: 257\n",
      "Validation Iteration: 0 Accuracy: 0.42068429237947125 Labels: 257\n",
      "Dataset: robot\n",
      "Validation Iteration: 0 Accuracy: 0.08205128205128205 Labels: 311\n",
      "Validation Iteration: 0 Accuracy: 0.11538461538461539 Labels: 311\n",
      "Validation Iteration: 0 Accuracy: 0.09557408595253368 Labels: 311\n",
      "Validation Iteration: 0 Accuracy: 0.12957023733162285 Labels: 311\n",
      "Validation Iteration: 0 Accuracy: 0.12892880051314945 Labels: 311\n"
     ]
    }
   ],
   "source": [
    "adaboost_base_metrics = []\n",
    "adaboost_base_clfs = []\n",
    "for key in datasets: \n",
    "    X, y = datasets[key]\n",
    "    print(f'Dataset: {key}')\n",
    "\n",
    "    model =  {\n",
    "        'classifier':AdaBoostClassifier(),\n",
    "        'num_view':1,\n",
    "        'gamma':0.3,\n",
    "        'steps':10,\n",
    "        'regularizer':'hard'\n",
    "    }\n",
    "\n",
    "    clfs, metrics = Validation.validation(\n",
    "        model_params=model,\n",
    "        train_data_x=X,\n",
    "        train_data_y=y,\n",
    "        percent_labeled=0.05,\n",
    "        random_seed=seed,\n",
    "        iters=10,\n",
    "        cv=True\n",
    "    )\n",
    "\n",
    "    adaboost_base_metrics.append(metrics)\n",
    "    adaboost_base_clfs.append(clfs)\n",
    "\n",
    "    adaboost_base_score = np.array(adaboost_base_metrics)"
   ]
  },
  {
   "cell_type": "code",
   "execution_count": 14,
   "metadata": {},
   "outputs": [
    {
     "data": {
      "text/plain": [
       "array([[0.88495575, 0.92920354, 0.84955752, 0.88495575, 0.83185841,\n",
       "        0.92920354, 0.89380531, 0.85840708, 0.9380531 , 0.91150442],\n",
       "       [0.13927577, 0.24233983, 0.27576602, 0.1643454 , 0.24233983,\n",
       "        0.24233983, 0.22284123, 0.25626741, 0.20891365, 0.3091922 ],\n",
       "       [0.69127517, 0.68456376, 0.67785235, 0.71812081, 0.69127517,\n",
       "        0.77181208, 0.75838926, 0.76510067, 0.6442953 , 0.73154362],\n",
       "       [0.84462709, 0.84553374, 0.84525781, 0.84452854, 0.84513955,\n",
       "        0.84776096, 0.84600678, 0.84578997, 0.84655866, 0.84746531],\n",
       "       [0.74881517, 0.82464455, 0.77251185, 0.71090047, 0.76777251,\n",
       "        0.72511848, 0.7535545 , 0.79620853, 0.73459716, 0.81042654],\n",
       "       [0.71461949, 0.71495327, 0.67790387, 0.70927904, 0.71094793,\n",
       "        0.68858478, 0.68090788, 0.70126836, 0.70093458, 0.7099466 ],\n",
       "       [0.62931034, 0.65517241, 0.69827586, 0.63793103, 0.63793103,\n",
       "        0.68965517, 0.74137931, 0.59482759, 0.55172414, 0.69827586],\n",
       "       [0.81812492, 0.82087871, 0.8298911 , 0.82976593, 0.83014144,\n",
       "        0.82788835, 0.82576042, 0.8253849 , 0.83176868, 0.83126799],\n",
       "       [0.42068429, 0.42768274, 0.72472784, 0.50777605, 0.53654743,\n",
       "        0.47822706, 0.49611198, 0.36080871, 0.59486781, 0.38413686],\n",
       "       [0.1289288 , 0.09300834, 0.08402822, 0.09942271, 0.0731238 ,\n",
       "        0.07376523, 0.06478512, 0.09878127, 0.11161001, 0.1411161 ]])"
      ]
     },
     "execution_count": 14,
     "metadata": {},
     "output_type": "execute_result"
    }
   ],
   "source": [
    "adaboost_base_score"
   ]
  },
  {
   "cell_type": "code",
   "execution_count": 23,
   "metadata": {},
   "outputs": [],
   "source": [
    "pd.DataFrame(adaboost_base_score).to_csv(\"cv_adaboost_base_score.csv\", header=None, index=None)"
   ]
  },
  {
   "cell_type": "code",
   "execution_count": 15,
   "metadata": {},
   "outputs": [
    {
     "name": "stdout",
     "output_type": "stream",
     "text": [
      "Dataset: breast_cancer\n",
      "Validation Iteration: 0 Accuracy: 0.37719298245614036 Labels: 22\n",
      "Validation Iteration: 0 Accuracy: 0.6929824561403509 Labels: 22\n",
      "Validation Iteration: 0 Accuracy: 0.3684210526315789 Labels: 22\n",
      "Validation Iteration: 0 Accuracy: 0.631578947368421 Labels: 22\n",
      "Validation Iteration: 0 Accuracy: 0.4247787610619469 Labels: 22\n",
      "Dataset: digits\n",
      "Validation Iteration: 0 Accuracy: 0.13055555555555556 Labels: 71\n",
      "Validation Iteration: 0 Accuracy: 0.12777777777777777 Labels: 71\n",
      "Validation Iteration: 0 Accuracy: 0.14484679665738162 Labels: 71\n",
      "Validation Iteration: 0 Accuracy: 0.052924791086350974 Labels: 71\n",
      "Validation Iteration: 0 Accuracy: 0.10863509749303621 Labels: 71\n",
      "Dataset: blood\n",
      "Validation Iteration: 0 Accuracy: 0.76 Labels: 29\n",
      "Validation Iteration: 0 Accuracy: 0.76 Labels: 29\n",
      "Validation Iteration: 0 Accuracy: 0.76 Labels: 29\n",
      "Validation Iteration: 0 Accuracy: 0.8053691275167785 Labels: 29\n",
      "Validation Iteration: 0 Accuracy: 0.7651006711409396 Labels: 29\n",
      "Dataset: diabetes\n",
      "Validation Iteration: 0 Accuracy: 0.8424195837275308 Labels: 10147\n",
      "Validation Iteration: 0 Accuracy: 0.8424195837275308 Labels: 10147\n",
      "Validation Iteration: 0 Accuracy: 0.8424195837275308 Labels: 10147\n",
      "Validation Iteration: 0 Accuracy: 0.8423998738568275 Labels: 10147\n",
      "Validation Iteration: 0 Accuracy: 0.8423998738568275 Labels: 10147\n",
      "Dataset: qsar\n",
      "Validation Iteration: 0 Accuracy: 0.7725118483412322 Labels: 42\n",
      "Validation Iteration: 0 Accuracy: 0.6161137440758294 Labels: 42\n",
      "Validation Iteration: 0 Accuracy: 0.5971563981042654 Labels: 42\n",
      "Validation Iteration: 0 Accuracy: 0.7061611374407583 Labels: 42\n",
      "Validation Iteration: 0 Accuracy: 0.6066350710900474 Labels: 42\n",
      "Dataset: eegeye\n",
      "Validation Iteration: 0 Accuracy: 0.5527369826435247 Labels: 599\n",
      "Validation Iteration: 0 Accuracy: 0.5584112149532711 Labels: 599\n",
      "Validation Iteration: 0 Accuracy: 0.4536048064085447 Labels: 599\n",
      "Validation Iteration: 0 Accuracy: 0.47630173564753003 Labels: 599\n",
      "Validation Iteration: 0 Accuracy: 0.5804405874499332 Labels: 599\n",
      "Dataset: ilpd\n",
      "Validation Iteration: 0 Accuracy: 0.5811965811965812 Labels: 23\n",
      "Validation Iteration: 0 Accuracy: 0.5213675213675214 Labels: 23\n",
      "Validation Iteration: 0 Accuracy: 0.5726495726495726 Labels: 23\n",
      "Validation Iteration: 0 Accuracy: 0.6724137931034483 Labels: 23\n",
      "Validation Iteration: 0 Accuracy: 0.6379310344827587 Labels: 23\n",
      "Dataset: click\n",
      "Validation Iteration: 0 Accuracy: 0.18723404255319148 Labels: 1597\n",
      "Validation Iteration: 0 Accuracy: 0.8315394242803504 Labels: 1597\n",
      "Validation Iteration: 0 Accuracy: 0.8315394242803504 Labels: 1597\n",
      "Validation Iteration: 0 Accuracy: 0.8316435098260108 Labels: 1597\n",
      "Validation Iteration: 0 Accuracy: 0.8313931656027037 Labels: 1597\n",
      "Dataset: satimage\n",
      "Validation Iteration: 0 Accuracy: 0.24883359253499224 Labels: 257\n",
      "Validation Iteration: 0 Accuracy: 0.343701399688958 Labels: 257\n",
      "Validation Iteration: 0 Accuracy: 0.4004665629860031 Labels: 257\n",
      "Validation Iteration: 0 Accuracy: 0.4572317262830482 Labels: 257\n",
      "Validation Iteration: 0 Accuracy: 0.36469673405909797 Labels: 257\n",
      "Dataset: robot\n",
      "Validation Iteration: 0 Accuracy: 0.08269230769230769 Labels: 311\n",
      "Validation Iteration: 0 Accuracy: 0.03717948717948718 Labels: 311\n",
      "Validation Iteration: 0 Accuracy: 0.04425914047466325 Labels: 311\n",
      "Validation Iteration: 0 Accuracy: 0.04105195638229634 Labels: 311\n",
      "Validation Iteration: 0 Accuracy: 0.03207184092366902 Labels: 311\n"
     ]
    }
   ],
   "source": [
    "adaboost_multi_metrics = []\n",
    "adaboost_multi_clfs = []\n",
    "\n",
    "for key in datasets: \n",
    "    X, y = datasets[key]\n",
    "    print(f'Dataset: {key}')\n",
    "\n",
    "    steps = 20\n",
    "    views = 2\n",
    "\n",
    "    model =  {\n",
    "        'classifier':AdaBoostClassifier(),\n",
    "        'num_view':views,\n",
    "        'gamma':0.3,\n",
    "        'steps':10,\n",
    "        'regularizer':'hard',\n",
    "        'update_add_num': int(X.shape[0]/steps)\n",
    "    }\n",
    "\n",
    "    clfs, metrics = Validation.validation(\n",
    "        model_params=model,\n",
    "        train_data_x=X,\n",
    "        train_data_y=y,\n",
    "        percent_labeled=0.05,\n",
    "        random_seed=seed,\n",
    "        spaco=True,\n",
    "        iters=10,\n",
    "        hsplit=True,\n",
    "        hsplit_size=2,\n",
    "        cv=True,\n",
    "        verbosity=11\n",
    "    )\n",
    "    \n",
    "    adaboost_multi_metrics.append(metrics)\n",
    "    adaboost_multi_clfs.append(clfs)\n",
    "    \n",
    "adaboost_multi_score = np.array(adaboost_multi_metrics)"
   ]
  },
  {
   "cell_type": "code",
   "execution_count": 22,
   "metadata": {},
   "outputs": [
    {
     "data": {
      "text/plain": [
       "array([[0.42477876, 0.37168142, 0.89380531, 0.38938053, 0.71681416,\n",
       "        0.71681416, 0.88495575, 0.62831858, 0.9380531 , 0.87610619],\n",
       "       [0.1086351 , 0.16155989, 0.24233983, 0.18662953, 0.17270195,\n",
       "        0.13091922, 0.15041783, 0.23398329, 0.16991643, 0.19498607],\n",
       "       [0.76510067, 0.7114094 , 0.59060403, 0.75167785, 0.72483221,\n",
       "        0.76510067, 0.76510067, 0.77852349, 0.76510067, 0.76510067],\n",
       "       [0.84239987, 0.84239987, 0.84239987, 0.84239987, 0.84239987,\n",
       "        0.84239987, 0.84239987, 0.84239987, 0.84239987, 0.84239987],\n",
       "       [0.60663507, 0.58767773, 0.7535545 , 0.62085308, 0.66350711,\n",
       "        0.72037915, 0.77251185, 0.7535545 , 0.68720379, 0.66350711],\n",
       "       [0.58044059, 0.55974633, 0.53671562, 0.5540721 , 0.55440587,\n",
       "        0.53838451, 0.54506008, 0.55106809, 0.55206943, 0.46328438],\n",
       "       [0.63793103, 0.6637931 , 0.54310345, 0.61206897, 0.71551724,\n",
       "        0.71551724, 0.70689655, 0.69827586, 0.34482759, 0.71551724],\n",
       "       [0.83139317, 0.83164351, 0.83164351, 0.18725748, 0.83164351,\n",
       "        0.83164351, 0.83164351, 0.18437852, 0.83164351, 0.83114282],\n",
       "       [0.36469673, 0.3592535 , 0.45567652, 0.41679627, 0.24494557,\n",
       "        0.47433904, 0.22783826, 0.28771384, 0.52021773, 0.33592535],\n",
       "       [0.03207184, 0.06157793, 0.06414368, 0.04297627, 0.03848621,\n",
       "        0.06286081, 0.04682489, 0.04554201, 0.07761386, 0.07889673]])"
      ]
     },
     "execution_count": 22,
     "metadata": {},
     "output_type": "execute_result"
    }
   ],
   "source": [
    "adaboost_multi_score"
   ]
  },
  {
   "cell_type": "code",
   "execution_count": 24,
   "metadata": {},
   "outputs": [],
   "source": [
    "pd.DataFrame(adaboost_multi_score).to_csv(\"cv_adaboost_multi_score.csv\", header=None, index=None)"
   ]
  },
  {
   "cell_type": "code",
   "execution_count": 2,
   "metadata": {},
   "outputs": [],
   "source": [
    "adaboost_base_score = pd.read_csv(\"cv_adaboost_base_score.csv\", header = None).to_numpy()\n",
    "adaboost_multi_score = pd.read_csv(\"cv_adaboost_multi_score.csv\", header = None).to_numpy()"
   ]
  },
  {
   "cell_type": "code",
   "execution_count": 3,
   "metadata": {},
   "outputs": [
    {
     "ename": "ImportError",
     "evalue": "Hierarchical model requires 'pystan'; install it by 'pip install pystan'",
     "output_type": "error",
     "traceback": [
      "\u001b[0;31m---------------------------------------------------------------------------\u001b[0m",
      "\u001b[0;31mModuleNotFoundError\u001b[0m                       Traceback (most recent call last)",
      "File \u001b[0;32m/usr/local/lib/python3.9/site-packages/baycomp/multiple.py:360\u001b[0m, in \u001b[0;36mHierarchicalTest.sample\u001b[0;34m(cls, x, y, rope, runs, lower_alpha, upper_alpha, lower_beta, upper_beta, upper_sigma, chains, nsamples)\u001b[0m\n\u001b[1;32m    359\u001b[0m \u001b[38;5;28;01mtry\u001b[39;00m:\n\u001b[0;32m--> 360\u001b[0m     \u001b[38;5;28;01mimport\u001b[39;00m \u001b[38;5;21;01mpystan\u001b[39;00m\n\u001b[1;32m    361\u001b[0m \u001b[38;5;28;01mexcept\u001b[39;00m \u001b[38;5;167;01mImportError\u001b[39;00m:\n",
      "\u001b[0;31mModuleNotFoundError\u001b[0m: No module named 'pystan'",
      "\nDuring handling of the above exception, another exception occurred:\n",
      "\u001b[0;31mImportError\u001b[0m                               Traceback (most recent call last)",
      "Input \u001b[0;32mIn [3]\u001b[0m, in \u001b[0;36m<module>\u001b[0;34m\u001b[0m\n\u001b[0;32m----> 1\u001b[0m baycomp_ada, bayplot_ada \u001b[38;5;241m=\u001b[39m \u001b[43mbaycomp\u001b[49m\u001b[38;5;241;43m.\u001b[39;49m\u001b[43mtwo_on_multiple\u001b[49m\u001b[43m(\u001b[49m\n\u001b[1;32m      2\u001b[0m \u001b[43m    \u001b[49m\u001b[43madaboost_base_score\u001b[49m\u001b[43m,\u001b[49m\u001b[43m \u001b[49m\n\u001b[1;32m      3\u001b[0m \u001b[43m    \u001b[49m\u001b[43madaboost_multi_score\u001b[49m\u001b[43m,\u001b[49m\u001b[43m \u001b[49m\n\u001b[1;32m      4\u001b[0m \u001b[43m    \u001b[49m\u001b[43mplot\u001b[49m\u001b[38;5;241;43m=\u001b[39;49m\u001b[38;5;28;43;01mTrue\u001b[39;49;00m\u001b[43m,\u001b[49m\u001b[43m \u001b[49m\n\u001b[1;32m      5\u001b[0m \u001b[43m    \u001b[49m\u001b[43mrope\u001b[49m\u001b[38;5;241;43m=\u001b[39;49m\u001b[38;5;241;43m0.05\u001b[39;49m\u001b[43m,\u001b[49m\u001b[43m \u001b[49m\n\u001b[1;32m      6\u001b[0m \u001b[43m    \u001b[49m\u001b[43mnames\u001b[49m\u001b[43m \u001b[49m\u001b[38;5;241;43m=\u001b[39;49m\u001b[43m \u001b[49m\u001b[43m(\u001b[49m\u001b[38;5;124;43m'\u001b[39;49m\u001b[38;5;124;43mAdaBoost\u001b[39;49m\u001b[38;5;124;43m'\u001b[39;49m\u001b[43m,\u001b[49m\u001b[38;5;124;43m'\u001b[39;49m\u001b[38;5;124;43mAdaBoost-SPamCo\u001b[39;49m\u001b[38;5;124;43m'\u001b[39;49m\u001b[43m)\u001b[49m\u001b[43m)\u001b[49m\n",
      "File \u001b[0;32m/usr/local/lib/python3.9/site-packages/baycomp/multiple.py:487\u001b[0m, in \u001b[0;36mtwo_on_multiple\u001b[0;34m(x, y, rope, runs, names, plot, **kwargs)\u001b[0m\n\u001b[1;32m    485\u001b[0m \u001b[38;5;28;01melse\u001b[39;00m:\n\u001b[1;32m    486\u001b[0m     test \u001b[38;5;241m=\u001b[39m SignedRankTest\n\u001b[0;32m--> 487\u001b[0m \u001b[38;5;28;01mreturn\u001b[39;00m \u001b[43mcall_shortcut\u001b[49m\u001b[43m(\u001b[49m\u001b[43mtest\u001b[49m\u001b[43m,\u001b[49m\u001b[43m \u001b[49m\u001b[43mx\u001b[49m\u001b[43m,\u001b[49m\u001b[43m \u001b[49m\u001b[43my\u001b[49m\u001b[43m,\u001b[49m\u001b[43m \u001b[49m\u001b[43mrope\u001b[49m\u001b[43m,\u001b[49m\u001b[43m \u001b[49m\u001b[43mnames\u001b[49m\u001b[38;5;241;43m=\u001b[39;49m\u001b[43mnames\u001b[49m\u001b[43m,\u001b[49m\u001b[43m \u001b[49m\u001b[43mplot\u001b[49m\u001b[38;5;241;43m=\u001b[39;49m\u001b[43mplot\u001b[49m\u001b[43m,\u001b[49m\u001b[43m \u001b[49m\u001b[38;5;241;43m*\u001b[39;49m\u001b[38;5;241;43m*\u001b[39;49m\u001b[43mkwargs\u001b[49m\u001b[43m)\u001b[49m\n",
      "File \u001b[0;32m/usr/local/lib/python3.9/site-packages/baycomp/utils.py:20\u001b[0m, in \u001b[0;36mcall_shortcut\u001b[0;34m(test, x, y, rope, plot, names, *args, **kwargs)\u001b[0m\n\u001b[1;32m     19\u001b[0m \u001b[38;5;28;01mdef\u001b[39;00m \u001b[38;5;21mcall_shortcut\u001b[39m(test, x, y, rope, \u001b[38;5;241m*\u001b[39margs, plot\u001b[38;5;241m=\u001b[39m\u001b[38;5;28;01mFalse\u001b[39;00m, names\u001b[38;5;241m=\u001b[39m\u001b[38;5;28;01mNone\u001b[39;00m, \u001b[38;5;241m*\u001b[39m\u001b[38;5;241m*\u001b[39mkwargs):\n\u001b[0;32m---> 20\u001b[0m     sample \u001b[38;5;241m=\u001b[39m \u001b[43mtest\u001b[49m\u001b[43m(\u001b[49m\u001b[43mx\u001b[49m\u001b[43m,\u001b[49m\u001b[43m \u001b[49m\u001b[43my\u001b[49m\u001b[43m,\u001b[49m\u001b[43m \u001b[49m\u001b[43mrope\u001b[49m\u001b[43m,\u001b[49m\u001b[43m \u001b[49m\u001b[38;5;241;43m*\u001b[39;49m\u001b[43margs\u001b[49m\u001b[43m,\u001b[49m\u001b[43m \u001b[49m\u001b[38;5;241;43m*\u001b[39;49m\u001b[38;5;241;43m*\u001b[39;49m\u001b[43mkwargs\u001b[49m\u001b[43m)\u001b[49m\n\u001b[1;32m     21\u001b[0m     \u001b[38;5;28;01mif\u001b[39;00m plot:\n\u001b[1;32m     22\u001b[0m         \u001b[38;5;28;01mreturn\u001b[39;00m sample\u001b[38;5;241m.\u001b[39mprobs(), sample\u001b[38;5;241m.\u001b[39mplot(names)\n",
      "File \u001b[0;32m/usr/local/lib/python3.9/site-packages/baycomp/multiple.py:153\u001b[0m, in \u001b[0;36mTest.__new__\u001b[0;34m(cls, x, y, rope, nsamples, **kwargs)\u001b[0m\n\u001b[1;32m    152\u001b[0m \u001b[38;5;28;01mdef\u001b[39;00m \u001b[38;5;21m__new__\u001b[39m(\u001b[38;5;28mcls\u001b[39m, x, y, rope\u001b[38;5;241m=\u001b[39m\u001b[38;5;241m0\u001b[39m, \u001b[38;5;241m*\u001b[39m, nsamples\u001b[38;5;241m=\u001b[39m\u001b[38;5;241m50000\u001b[39m, \u001b[38;5;241m*\u001b[39m\u001b[38;5;241m*\u001b[39mkwargs):\n\u001b[0;32m--> 153\u001b[0m     \u001b[38;5;28;01mreturn\u001b[39;00m Posterior(\u001b[38;5;28;43mcls\u001b[39;49m\u001b[38;5;241;43m.\u001b[39;49m\u001b[43msample\u001b[49m\u001b[43m(\u001b[49m\u001b[43mx\u001b[49m\u001b[43m,\u001b[49m\u001b[43m \u001b[49m\u001b[43my\u001b[49m\u001b[43m,\u001b[49m\u001b[43m \u001b[49m\u001b[43mrope\u001b[49m\u001b[43m,\u001b[49m\u001b[43m \u001b[49m\u001b[43mnsamples\u001b[49m\u001b[38;5;241;43m=\u001b[39;49m\u001b[43mnsamples\u001b[49m\u001b[43m,\u001b[49m\u001b[43m \u001b[49m\u001b[38;5;241;43m*\u001b[39;49m\u001b[38;5;241;43m*\u001b[39;49m\u001b[43mkwargs\u001b[49m\u001b[43m)\u001b[49m)\n",
      "File \u001b[0;32m/usr/local/lib/python3.9/site-packages/baycomp/multiple.py:362\u001b[0m, in \u001b[0;36mHierarchicalTest.sample\u001b[0;34m(cls, x, y, rope, runs, lower_alpha, upper_alpha, lower_beta, upper_beta, upper_sigma, chains, nsamples)\u001b[0m\n\u001b[1;32m    360\u001b[0m     \u001b[38;5;28;01mimport\u001b[39;00m \u001b[38;5;21;01mpystan\u001b[39;00m\n\u001b[1;32m    361\u001b[0m \u001b[38;5;28;01mexcept\u001b[39;00m \u001b[38;5;167;01mImportError\u001b[39;00m:\n\u001b[0;32m--> 362\u001b[0m     \u001b[38;5;28;01mraise\u001b[39;00m \u001b[38;5;167;01mImportError\u001b[39;00m(\u001b[38;5;124m\"\u001b[39m\u001b[38;5;124mHierarchical model requires \u001b[39m\u001b[38;5;124m'\u001b[39m\u001b[38;5;124mpystan\u001b[39m\u001b[38;5;124m'\u001b[39m\u001b[38;5;124m; \u001b[39m\u001b[38;5;124m\"\u001b[39m\n\u001b[1;32m    363\u001b[0m                       \u001b[38;5;124m\"\u001b[39m\u001b[38;5;124minstall it by \u001b[39m\u001b[38;5;124m'\u001b[39m\u001b[38;5;124mpip install pystan\u001b[39m\u001b[38;5;124m'\u001b[39m\u001b[38;5;124m\"\u001b[39m)\n\u001b[1;32m    365\u001b[0m LAST_SAMPLE_PICKLE \u001b[38;5;241m=\u001b[39m \u001b[38;5;124m\"\u001b[39m\u001b[38;5;124mlast-sample.pickle\u001b[39m\u001b[38;5;124m\"\u001b[39m\n\u001b[1;32m    366\u001b[0m STAN_MODEL_PICKLE \u001b[38;5;241m=\u001b[39m \u001b[38;5;124m\"\u001b[39m\u001b[38;5;124mstored-stan-model.pickle\u001b[39m\u001b[38;5;124m\"\u001b[39m\n",
      "\u001b[0;31mImportError\u001b[0m: Hierarchical model requires 'pystan'; install it by 'pip install pystan'"
     ]
    }
   ],
   "source": [
    "baycomp_ada, bayplot_ada = baycomp.two_on_multiple(\n",
    "    adaboost_base_score, \n",
    "    adaboost_multi_score, \n",
    "    plot=True, \n",
    "    rope=0.05, \n",
    "    names = ('AdaBoost','AdaBoost-SPamCo'))"
   ]
  },
  {
   "cell_type": "code",
   "execution_count": 32,
   "metadata": {},
   "outputs": [],
   "source": [
    "bayplot_ada.savefig('CV AdaBoost_Simplex_BayesianComp.png')"
   ]
  },
  {
   "cell_type": "markdown",
   "metadata": {},
   "source": [
    "## RandomForrestClassifier"
   ]
  },
  {
   "cell_type": "code",
   "execution_count": 18,
   "metadata": {},
   "outputs": [
    {
     "name": "stdout",
     "output_type": "stream",
     "text": [
      "Dataset: breast_cancer\n",
      "Validation Iteration: 0 Accuracy: 0.9473684210526315 Labels: 19\n",
      "Dataset: digits\n",
      "Validation Iteration: 0 Accuracy: 0.8074074074074075 Labels: 62\n",
      "Dataset: blood\n",
      "Validation Iteration: 0 Accuracy: 0.7377777777777778 Labels: 26\n",
      "Dataset: diabetes\n",
      "Validation Iteration: 0 Accuracy: 0.8437270051508462 Labels: 8878\n",
      "Dataset: qsar\n",
      "Validation Iteration: 0 Accuracy: 0.7381703470031545 Labels: 36\n",
      "Dataset: eegeye\n",
      "Validation Iteration: 0 Accuracy: 0.7825990209167779 Labels: 524\n",
      "Dataset: ilpd\n",
      "Validation Iteration: 0 Accuracy: 0.72 Labels: 20\n",
      "Dataset: click\n",
      "Validation Iteration: 0 Accuracy: 0.8229453483521068 Labels: 1398\n",
      "Dataset: satimage\n",
      "Validation Iteration: 0 Accuracy: 0.8506998444790047 Labels: 225\n",
      "Dataset: robot\n",
      "Validation Iteration: 0 Accuracy: 0.8371794871794872 Labels: 272\n"
     ]
    }
   ],
   "source": [
    "rfc_base_metrics = []\n",
    "rfc_base_clfs = []\n",
    "for key in datasets: \n",
    "    X, y = datasets[key]\n",
    "    print(f'Dataset: {key}')\n",
    "\n",
    "    model =  {\n",
    "        'classifier':RandomForestClassifier(),\n",
    "        'num_view':1,\n",
    "        'gamma':0.3,\n",
    "        'steps':10,\n",
    "        'regularizer':'hard'\n",
    "    }\n",
    "\n",
    "    clfs, metrics = Validation.validation(\n",
    "        model_params=model,\n",
    "        train_data_x=X,\n",
    "        train_data_y=y,\n",
    "        percent_labeled=0.05,\n",
    "        random_seed=seed,\n",
    "        iters=10,\n",
    "        cv=True\n",
    "    )\n",
    "\n",
    "    rfc_base_metrics.append(metrics)\n",
    "    rfc_base_clfs.append(clfs)\n",
    "\n",
    "rfc_base_score = np.array(rfc_base_metrics)\n",
    "pd.DataFrame(rfc_base_score).to_csv(\"cv_rfc_base_score.csv\", header=None, index=None)"
   ]
  },
  {
   "cell_type": "code",
   "execution_count": 21,
   "metadata": {},
   "outputs": [
    {
     "name": "stdout",
     "output_type": "stream",
     "text": [
      "Dataset: breast_cancer\n",
      "Validation Iteration: 0 Accuracy: 0.935672514619883 Labels: 19\n",
      "Dataset: digits\n",
      "Validation Iteration: 0 Accuracy: 0.7333333333333333 Labels: 62\n",
      "Dataset: blood\n",
      "Validation Iteration: 0 Accuracy: 0.76 Labels: 26\n",
      "Dataset: diabetes\n",
      "Validation Iteration: 0 Accuracy: 0.8327683170398402 Labels: 8878\n",
      "Dataset: qsar\n",
      "Validation Iteration: 0 Accuracy: 0.6876971608832808 Labels: 36\n",
      "Dataset: eegeye\n",
      "Validation Iteration: 0 Accuracy: 0.6419670672007121 Labels: 524\n",
      "Dataset: ilpd\n",
      "Validation Iteration: 0 Accuracy: 0.6971428571428572 Labels: 20\n",
      "Dataset: click\n",
      "Validation Iteration: 0 Accuracy: 0.7259908218606591 Labels: 1398\n",
      "Dataset: satimage\n",
      "Validation Iteration: 0 Accuracy: 0.7750129600829445 Labels: 225\n",
      "Dataset: robot\n",
      "Validation Iteration: 0 Accuracy: 0.8188034188034188 Labels: 272\n"
     ]
    }
   ],
   "source": [
    "rfc_multi_metrics = []\n",
    "rfc_multi_clfs = []\n",
    "for key in datasets: \n",
    "    X, y = datasets[key]\n",
    "    print(f'Dataset: {key}')\n",
    "    \n",
    "    steps = 20\n",
    "    views = 2\n",
    "    \n",
    "    model =  {\n",
    "        'classifier':RandomForestClassifier(),\n",
    "        'num_view':views,\n",
    "        'gamma':0.3,\n",
    "        'steps':10,\n",
    "        'regularizer':'hard',\n",
    "        'update_add_num': int(X.shape[0]/steps)\n",
    "    }\n",
    "\n",
    "    clfs, metrics = Validation.validation(\n",
    "        model_params=model,\n",
    "        train_data_x=X,\n",
    "        train_data_y=y,\n",
    "        percent_labeled=0.05,\n",
    "        random_seed=seed,\n",
    "        spaco=True,\n",
    "        iters=10,\n",
    "        hsplit=True,\n",
    "        hsplit_size=2,\n",
    "        cv=True\n",
    "    )\n",
    "    \n",
    "    rfc_multi_metrics.append(metrics)\n",
    "    rfc_multi_clfs.append(clfs)\n",
    "    \n",
    "rfc_multi_score = np.array(rfc_multi_metrics)\n",
    "pd.DataFrame(rfc_multi_score).to_csv(\"cv_rfc_multi_score.csv\", header=None, index=None)"
   ]
  },
  {
   "cell_type": "code",
   "execution_count": 22,
   "metadata": {},
   "outputs": [
    {
     "data": {
      "image/png": "[encoded data removed]",
      "text/plain": [
       "<Figure size 432x288 with 1 Axes>"
      ]
     },
     "metadata": {
      "needs_background": "light"
     },
     "output_type": "display_data"
    }
   ],
   "source": [
    "baycomp_rfc, bayplot_rfc = baycomp.two_on_multiple(\n",
    "    rfc_base_score, \n",
    "    rfc_multi_score, \n",
    "    plot=True, \n",
    "    rope=0.05, \n",
    "    names = ('RFC','RFC-SPamCo'))"
   ]
  },
  {
   "cell_type": "code",
   "execution_count": 31,
   "metadata": {},
   "outputs": [],
   "source": [
    "bayplot_rfc.savefig('CV RandomForestClassifier_Simplex_BayesianComp.png')"
   ]
  },
  {
   "cell_type": "markdown",
   "metadata": {},
   "source": [
    "## XGBoost"
   ]
  },
  {
   "cell_type": "code",
   "execution_count": 23,
   "metadata": {},
   "outputs": [
    {
     "name": "stdout",
     "output_type": "stream",
     "text": [
      "Dataset: breast_cancer\n",
      "Validation Iteration: 0 Accuracy: 0.9064327485380117 Labels: 39\n",
      "Dataset: digits\n",
      "Validation Iteration: 0 Accuracy: 0.8333333333333334 Labels: 125\n",
      "Dataset: blood\n",
      "Validation Iteration: 0 Accuracy: 0.7422222222222222 Labels: 52\n",
      "Dataset: diabetes\n",
      "Validation Iteration: 0 Accuracy: 0.8395353726479554 Labels: 17757\n",
      "Dataset: qsar\n",
      "Validation Iteration: 0 Accuracy: 0.7634069400630915 Labels: 73\n",
      "Dataset: eegeye\n",
      "Validation Iteration: 0 Accuracy: 0.821762349799733 Labels: 1048\n",
      "Dataset: ilpd\n",
      "Validation Iteration: 0 Accuracy: 0.6742857142857143 Labels: 40\n",
      "Dataset: click\n",
      "Validation Iteration: 0 Accuracy: 0.812348769294952 Labels: 2796\n",
      "Dataset: satimage\n",
      "Validation Iteration: 0 Accuracy: 0.8465526179367548 Labels: 450\n",
      "Dataset: robot\n",
      "Validation Iteration: 0 Accuracy: 0.8222222222222222 Labels: 545\n"
     ]
    }
   ],
   "source": [
    "xgboost_base_metrics = []\n",
    "xgboost_base_clfs = []\n",
    "for key in datasets: \n",
    "    X, y = datasets[key]\n",
    "    print(f'Dataset: {key}')\n",
    "\n",
    "    model =  {\n",
    "        'classifier':xgb.XGBClassifier(silent=True, verbosity=0),\n",
    "        'num_view':1,\n",
    "        'gamma':0.3,\n",
    "        'steps':10,\n",
    "        'regularizer':'hard'\n",
    "    }\n",
    "\n",
    "    clfs, metrics = Validation.validation(\n",
    "        model_params=model,\n",
    "        train_data_x=X,\n",
    "        train_data_y=y,\n",
    "        percent_labeled=0.1,\n",
    "        random_seed=np.arange(0,10),\n",
    "        iters=10,\n",
    "        cv=True\n",
    "    )\n",
    "\n",
    "    xgboost_base_metrics.append(metrics)\n",
    "    xgboost_base_clfs.append(clfs)\n",
    "\n",
    "xgboost_base_score = np.array(xgboost_base_metrics)\n",
    "pd.DataFrame(xgboost_base_score).to_csv(\"cv_xgboost_base_score.csv\", header=None, index=None)"
   ]
  },
  {
   "cell_type": "code",
   "execution_count": 24,
   "metadata": {},
   "outputs": [
    {
     "name": "stdout",
     "output_type": "stream",
     "text": [
      "Dataset: breast_cancer\n",
      "Validation Iteration: 0 Accuracy: 0.9239766081871345 Labels: 19\n",
      "Dataset: digits\n",
      "Validation Iteration: 0 Accuracy: 0.7166666666666667 Labels: 62\n",
      "Dataset: blood\n",
      "Validation Iteration: 0 Accuracy: 0.76 Labels: 26\n",
      "Dataset: diabetes\n",
      "Validation Iteration: 0 Accuracy: 0.842360454115421 Labels: 8878\n",
      "Dataset: qsar\n",
      "Validation Iteration: 0 Accuracy: 0.6561514195583596 Labels: 36\n",
      "Dataset: eegeye\n",
      "Validation Iteration: 0 Accuracy: 0.5518469069870939 Labels: 524\n",
      "Dataset: ilpd\n",
      "Validation Iteration: 0 Accuracy: 0.6628571428571428 Labels: 20\n",
      "Dataset: click\n",
      "Validation Iteration: 0 Accuracy: 0.555110554860242 Labels: 1398\n",
      "Dataset: satimage\n",
      "Validation Iteration: 0 Accuracy: 0.7579056505961638 Labels: 225\n",
      "Dataset: robot\n",
      "Validation Iteration: 0 Accuracy: 0.7311965811965812 Labels: 272\n"
     ]
    }
   ],
   "source": [
    "xgboost_multi_metrics = []\n",
    "xgboost_multi_clfs = []\n",
    "for key in datasets: \n",
    "    X, y = datasets[key]\n",
    "    print(f'Dataset: {key}')\n",
    "    \n",
    "    steps = 20\n",
    "    views = 2\n",
    "    \n",
    "    model =  {\n",
    "        'classifier':xgb.XGBClassifier(silent=True, verbosity=0),\n",
    "        'num_view':views,\n",
    "        'gamma':0.3,\n",
    "        'steps':10,\n",
    "        'regularizer':'hard',\n",
    "        'update_add_num': int(X.shape[0]/steps)\n",
    "    }\n",
    "\n",
    "    clfs, metrics = Validation.validation(\n",
    "        model_params=model,\n",
    "        train_data_x=X,\n",
    "        train_data_y=y,\n",
    "        percent_labeled=0.05,\n",
    "        random_seed=seed,\n",
    "        spaco=True,\n",
    "        iters=10,\n",
    "        hsplit=True,\n",
    "        hsplit_size=2,\n",
    "        cv=True\n",
    "    )\n",
    "    \n",
    "    xgboost_multi_metrics.append(metrics)\n",
    "    xgboost_multi_clfs.append(clfs)\n",
    "    \n",
    "xgboost_multi_score = np.array(xgboost_multi_metrics)\n",
    "pd.DataFrame(xgboost_multi_score).to_csv(\"cv_xgboost_multi_score.csv\", header=None, index=None)"
   ]
  },
  {
   "cell_type": "code",
   "execution_count": 28,
   "metadata": {},
   "outputs": [
    {
     "data": {
      "image/png": "[encoded data removed]",
      "text/plain": [
       "<Figure size 432x288 with 1 Axes>"
      ]
     },
     "metadata": {
      "needs_background": "light"
     },
     "output_type": "display_data"
    }
   ],
   "source": [
    "baycomp_xgboost, bayplot_xgboost = baycomp.two_on_multiple(\n",
    "    xgboost_base_score, \n",
    "    xgboost_multi_score, \n",
    "    plot=True, \n",
    "    rope=.05, \n",
    "    names = ('XGBoost','XGBoost-SPamCo'))"
   ]
  },
  {
   "cell_type": "code",
   "execution_count": 30,
   "metadata": {},
   "outputs": [],
   "source": [
    "bayplot_xgboost.savefig('CV XGBoost_Simplex_BaysianComp.png')"
   ]
  },
  {
   "cell_type": "code",
   "execution_count": 54,
   "metadata": {},
   "outputs": [],
   "source": [
    "df = pd.DataFrame()"
   ]
  },
  {
   "cell_type": "code",
   "execution_count": 58,
   "metadata": {},
   "outputs": [],
   "source": [
    "df['Dataset'] = [\n",
    "    'Wisconsin Breast Cancer',\n",
    "    'Digits',\n",
    "    'Blood Transfusion Service Center',\n",
    "    'Diabetes Health Indicators',\n",
    "    'QSAR biodegradation',\n",
    "    'EEG Eye State',\n",
    "    'ILPD',\n",
    "    'KDD Cup .1%',\n",
    "    'Statlog-Landsat Satelite',\n",
    "    'Robot'\n",
    "]\n",
    "df['AdaBoost Mean'] =  np.mean(adaboost_base_score, axis=1)\n",
    "df['AdaBoost Std'] =  np.std(adaboost_base_score, axis=1)\n",
    "df['AdaBoost+SPamCo Mean'] = np.mean(adaboost_multi_score, axis=1)\n",
    "df['AdaBoost+SPamCo Std'] = np.std(adaboost_multi_score, axis=1)\n",
    "df['RandomForest Mean'] = np.mean(rfc_base_score, axis=1)\n",
    "df['RandomForest Std'] = np.std(rfc_base_score, axis=1)\n",
    "df['RandomForest+SPamCo Mean'] = np.mean(rfc_multi_score, axis=1)\n",
    "df['RandomForest+SPamCo Std'] = np.std(rfc_multi_score, axis=1)\n",
    "df['XGBoost Mean'] = np.mean(xgboost_base_score, axis=1)\n",
    "df['XGBoost Std'] = np.std(xgboost_base_score, axis=1)\n",
    "df['XGBoost+SPamCo Mean'] = np.mean(xgboost_multi_score, axis=1)\n",
    "df['XGBoost+SPamCo Std'] = np.std(xgboost_multi_score, axis=1)"
   ]
  },
  {
   "cell_type": "code",
   "execution_count": 59,
   "metadata": {},
   "outputs": [
    {
     "data": {
      "text/html": [
       "<div>\n",
       "<style scoped>\n",
       "    .dataframe tbody tr th:only-of-type {\n",
       "        vertical-align: middle;\n",
       "    }\n",
       "\n",
       "    .dataframe tbody tr th {\n",
       "        vertical-align: top;\n",
       "    }\n",
       "\n",
       "    .dataframe thead th {\n",
       "        text-align: right;\n",
       "    }\n",
       "</style>\n",
       "<table border=\"1\" class=\"dataframe\">\n",
       "  <thead>\n",
       "    <tr style=\"text-align: right;\">\n",
       "      <th></th>\n",
       "      <th>Dataset</th>\n",
       "      <th>AdaBoost Mean</th>\n",
       "      <th>AdaBoost Std</th>\n",
       "      <th>AdaBoost+SPamCo Mean</th>\n",
       "      <th>AdaBoost+SPamCo Std</th>\n",
       "      <th>RandomForest Mean</th>\n",
       "      <th>RandomForest Std</th>\n",
       "      <th>RandomForest+SPamCo Mean</th>\n",
       "      <th>RandomForest+SPamCo Std</th>\n",
       "      <th>XGBoost Mean</th>\n",
       "      <th>XGBoost Std</th>\n",
       "      <th>XGBoost+SPamCo Mean</th>\n",
       "      <th>XGBoost+SPamCo Std</th>\n",
       "    </tr>\n",
       "  </thead>\n",
       "  <tbody>\n",
       "    <tr>\n",
       "      <th>0</th>\n",
       "      <td>Wisconsin Breast Cancer</td>\n",
       "      <td>0.889474</td>\n",
       "      <td>0.020501</td>\n",
       "      <td>0.689474</td>\n",
       "      <td>2.575152e-01</td>\n",
       "      <td>0.918713</td>\n",
       "      <td>0.029525</td>\n",
       "      <td>0.919883</td>\n",
       "      <td>0.018686</td>\n",
       "      <td>0.911111</td>\n",
       "      <td>0.030252</td>\n",
       "      <td>0.852632</td>\n",
       "      <td>0.049470</td>\n",
       "    </tr>\n",
       "    <tr>\n",
       "      <th>1</th>\n",
       "      <td>Digits</td>\n",
       "      <td>0.217593</td>\n",
       "      <td>0.040004</td>\n",
       "      <td>0.147963</td>\n",
       "      <td>3.147549e-02</td>\n",
       "      <td>0.827778</td>\n",
       "      <td>0.022861</td>\n",
       "      <td>0.765741</td>\n",
       "      <td>0.020526</td>\n",
       "      <td>0.820370</td>\n",
       "      <td>0.027864</td>\n",
       "      <td>0.682222</td>\n",
       "      <td>0.041814</td>\n",
       "    </tr>\n",
       "    <tr>\n",
       "      <th>2</th>\n",
       "      <td>Blood Transfusion Service Center</td>\n",
       "      <td>0.704444</td>\n",
       "      <td>0.033628</td>\n",
       "      <td>0.735556</td>\n",
       "      <td>6.622819e-02</td>\n",
       "      <td>0.746667</td>\n",
       "      <td>0.013626</td>\n",
       "      <td>0.739556</td>\n",
       "      <td>0.051838</td>\n",
       "      <td>0.734667</td>\n",
       "      <td>0.021868</td>\n",
       "      <td>0.718667</td>\n",
       "      <td>0.060026</td>\n",
       "    </tr>\n",
       "    <tr>\n",
       "      <th>3</th>\n",
       "      <td>Diabetes Health Indicators</td>\n",
       "      <td>0.845869</td>\n",
       "      <td>0.001458</td>\n",
       "      <td>0.842413</td>\n",
       "      <td>1.110223e-16</td>\n",
       "      <td>0.843734</td>\n",
       "      <td>0.000575</td>\n",
       "      <td>0.828950</td>\n",
       "      <td>0.002510</td>\n",
       "      <td>0.841468</td>\n",
       "      <td>0.001079</td>\n",
       "      <td>0.842368</td>\n",
       "      <td>0.000147</td>\n",
       "    </tr>\n",
       "    <tr>\n",
       "      <th>4</th>\n",
       "      <td>QSAR biodegradation</td>\n",
       "      <td>0.737224</td>\n",
       "      <td>0.039754</td>\n",
       "      <td>0.655836</td>\n",
       "      <td>7.170604e-02</td>\n",
       "      <td>0.756782</td>\n",
       "      <td>0.018201</td>\n",
       "      <td>0.717035</td>\n",
       "      <td>0.018772</td>\n",
       "      <td>0.790536</td>\n",
       "      <td>0.023446</td>\n",
       "      <td>0.706940</td>\n",
       "      <td>0.028302</td>\n",
       "    </tr>\n",
       "    <tr>\n",
       "      <th>5</th>\n",
       "      <td>EEG Eye State</td>\n",
       "      <td>0.704784</td>\n",
       "      <td>0.010190</td>\n",
       "      <td>0.549132</td>\n",
       "      <td>3.648873e-02</td>\n",
       "      <td>0.774410</td>\n",
       "      <td>0.009234</td>\n",
       "      <td>0.623209</td>\n",
       "      <td>0.012833</td>\n",
       "      <td>0.828327</td>\n",
       "      <td>0.008175</td>\n",
       "      <td>0.614909</td>\n",
       "      <td>0.037457</td>\n",
       "    </tr>\n",
       "    <tr>\n",
       "      <th>6</th>\n",
       "      <td>ILPD</td>\n",
       "      <td>0.658286</td>\n",
       "      <td>0.053714</td>\n",
       "      <td>0.613143</td>\n",
       "      <td>1.256376e-01</td>\n",
       "      <td>0.701143</td>\n",
       "      <td>0.028000</td>\n",
       "      <td>0.689714</td>\n",
       "      <td>0.039511</td>\n",
       "      <td>0.677143</td>\n",
       "      <td>0.023456</td>\n",
       "      <td>0.648571</td>\n",
       "      <td>0.049701</td>\n",
       "    </tr>\n",
       "    <tr>\n",
       "      <th>7</th>\n",
       "      <td>KDD Cup .1%</td>\n",
       "      <td>0.827284</td>\n",
       "      <td>0.003446</td>\n",
       "      <td>0.766291</td>\n",
       "      <td>1.943828e-01</td>\n",
       "      <td>0.823171</td>\n",
       "      <td>0.002510</td>\n",
       "      <td>0.753233</td>\n",
       "      <td>0.063731</td>\n",
       "      <td>0.812499</td>\n",
       "      <td>0.002052</td>\n",
       "      <td>0.719675</td>\n",
       "      <td>0.089969</td>\n",
       "    </tr>\n",
       "    <tr>\n",
       "      <th>8</th>\n",
       "      <td>Statlog-Landsat Satelite</td>\n",
       "      <td>0.481026</td>\n",
       "      <td>0.078120</td>\n",
       "      <td>0.386833</td>\n",
       "      <td>5.924323e-02</td>\n",
       "      <td>0.851840</td>\n",
       "      <td>0.005846</td>\n",
       "      <td>0.777916</td>\n",
       "      <td>0.009978</td>\n",
       "      <td>0.860912</td>\n",
       "      <td>0.009654</td>\n",
       "      <td>0.767237</td>\n",
       "      <td>0.017212</td>\n",
       "    </tr>\n",
       "    <tr>\n",
       "      <th>9</th>\n",
       "      <td>ISOLET</td>\n",
       "      <td>0.093761</td>\n",
       "      <td>0.026437</td>\n",
       "      <td>0.053803</td>\n",
       "      <td>1.902881e-02</td>\n",
       "      <td>0.844658</td>\n",
       "      <td>0.006053</td>\n",
       "      <td>0.785000</td>\n",
       "      <td>0.023747</td>\n",
       "      <td>0.820897</td>\n",
       "      <td>0.009289</td>\n",
       "      <td>0.722521</td>\n",
       "      <td>0.026845</td>\n",
       "    </tr>\n",
       "  </tbody>\n",
       "</table>\n",
       "</div>"
      ],
      "text/plain": [
       "                            Dataset  AdaBoost Mean  AdaBoost Std  \\\n",
       "0           Wisconsin Breast Cancer       0.889474      0.020501   \n",
       "1                            Digits       0.217593      0.040004   \n",
       "2  Blood Transfusion Service Center       0.704444      0.033628   \n",
       "3        Diabetes Health Indicators       0.845869      0.001458   \n",
       "4               QSAR biodegradation       0.737224      0.039754   \n",
       "5                     EEG Eye State       0.704784      0.010190   \n",
       "6                              ILPD       0.658286      0.053714   \n",
       "7                       KDD Cup .1%       0.827284      0.003446   \n",
       "8          Statlog-Landsat Satelite       0.481026      0.078120   \n",
       "9                            ISOLET       0.093761      0.026437   \n",
       "\n",
       "   AdaBoost+SPamCo Mean  AdaBoost+SPamCo Std  RandomForest Mean  \\\n",
       "0              0.689474         2.575152e-01           0.918713   \n",
       "1              0.147963         3.147549e-02           0.827778   \n",
       "2              0.735556         6.622819e-02           0.746667   \n",
       "3              0.842413         1.110223e-16           0.843734   \n",
       "4              0.655836         7.170604e-02           0.756782   \n",
       "5              0.549132         3.648873e-02           0.774410   \n",
       "6              0.613143         1.256376e-01           0.701143   \n",
       "7              0.766291         1.943828e-01           0.823171   \n",
       "8              0.386833         5.924323e-02           0.851840   \n",
       "9              0.053803         1.902881e-02           0.844658   \n",
       "\n",
       "   RandomForest Std  RandomForest+SPamCo Mean  RandomForest+SPamCo Std  \\\n",
       "0          0.029525                  0.919883                 0.018686   \n",
       "1          0.022861                  0.765741                 0.020526   \n",
       "2          0.013626                  0.739556                 0.051838   \n",
       "3          0.000575                  0.828950                 0.002510   \n",
       "4          0.018201                  0.717035                 0.018772   \n",
       "5          0.009234                  0.623209                 0.012833   \n",
       "6          0.028000                  0.689714                 0.039511   \n",
       "7          0.002510                  0.753233                 0.063731   \n",
       "8          0.005846                  0.777916                 0.009978   \n",
       "9          0.006053                  0.785000                 0.023747   \n",
       "\n",
       "   XGBoost Mean  XGBoost Std  XGBoost+SPamCo Mean  XGBoost+SPamCo Std  \n",
       "0      0.911111     0.030252             0.852632            0.049470  \n",
       "1      0.820370     0.027864             0.682222            0.041814  \n",
       "2      0.734667     0.021868             0.718667            0.060026  \n",
       "3      0.841468     0.001079             0.842368            0.000147  \n",
       "4      0.790536     0.023446             0.706940            0.028302  \n",
       "5      0.828327     0.008175             0.614909            0.037457  \n",
       "6      0.677143     0.023456             0.648571            0.049701  \n",
       "7      0.812499     0.002052             0.719675            0.089969  \n",
       "8      0.860912     0.009654             0.767237            0.017212  \n",
       "9      0.820897     0.009289             0.722521            0.026845  "
      ]
     },
     "execution_count": 59,
     "metadata": {},
     "output_type": "execute_result"
    }
   ],
   "source": [
    "df"
   ]
  },
  {
   "cell_type": "code",
   "execution_count": 60,
   "metadata": {},
   "outputs": [],
   "source": [
    "df.to_csv('CV Classification Results on multiple datasets.csv')"
   ]
  },
  {
   "cell_type": "code",
   "execution_count": null,
   "metadata": {},
   "outputs": [],
   "source": []
  }
 ],
 "metadata": {
  "kernelspec": {
   "display_name": "Python 3",
   "language": "python",
   "name": "python3"
  },
  "language_info": {
   "codemirror_mode": {
    "name": "ipython",
    "version": 3
   },
   "file_extension": ".py",
   "mimetype": "text/x-python",
   "name": "python",
   "nbconvert_exporter": "python",
   "pygments_lexer": "ipython3",
   "version": "3.9.5"
  }
 },
 "nbformat": 4,
 "nbformat_minor": 4
}
