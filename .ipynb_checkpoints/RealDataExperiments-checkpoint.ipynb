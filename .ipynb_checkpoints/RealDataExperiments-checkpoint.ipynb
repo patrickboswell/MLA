{
 "cells": [
  {
   "cell_type": "markdown",
   "metadata": {},
   "source": [
    "# SPamCo with Ensembles"
   ]
  },
  {
   "cell_type": "code",
   "execution_count": 36,
   "metadata": {},
   "outputs": [],
   "source": [
    "#Math packages\n",
    "import numpy as np\n",
    "\n",
    "#Data packages\n",
    "import pandas as pd\n",
    "from pandas_profiling import ProfileReport\n",
    "\n",
    "#Spamco\n",
    "from spamco import SPamCo, Validation\n",
    "\n",
    "#Data packages\n",
    "from sklearn.datasets import make_moons, make_classification, make_circles, make_blobs, make_gaussian_quantiles\n",
    "from sklearn.datasets import load_breast_cancer, load_digits, load_iris\n",
    "from sklearn.model_selection import train_test_split\n",
    "from sklearn.datasets import fetch_openml\n",
    "\n",
    "#Classifier packages\n",
    "from sklearn.ensemble import RandomForestClassifier\n",
    "from sklearn.ensemble import AdaBoostClassifier\n",
    "import xgboost as xgb\n",
    "\n",
    "#Validation packages\n",
    "from sklearn.metrics import accuracy_score\n",
    "\n",
    "#Visualization packages\n",
    "import plotly.express as px\n",
    "\n",
    "import matplotlib\n",
    "import matplotlib.pyplot as plt\n",
    "import matplotlib.pylab as plb\n",
    "from matplotlib.ticker import MaxNLocator\n",
    "%matplotlib inline\n",
    "\n",
    "import baycomp\n",
    "\n",
    "#General utility packages\n",
    "from itertools import cycle, islice\n",
    "import warnings\n",
    "\n",
    "warnings.filterwarnings(\"ignore\")\n",
    "matplotlib.rcParams.update({'font.size': 20})"
   ]
  },
  {
   "cell_type": "markdown",
   "metadata": {},
   "source": [
    "# Diabetes Health Indicators Dataset"
   ]
  },
  {
   "cell_type": "code",
   "execution_count": 2,
   "metadata": {},
   "outputs": [],
   "source": [
    "df = pd.read_csv('Data/diabetes.csv')"
   ]
  },
  {
   "cell_type": "code",
   "execution_count": 3,
   "metadata": {},
   "outputs": [],
   "source": [
    "y =df.values[:,0]\n",
    "X =df.drop(['Diabetes_012','AnyHealthcare'], axis = 1).values"
   ]
  },
  {
   "cell_type": "code",
   "execution_count": 4,
   "metadata": {},
   "outputs": [
    {
     "data": {
      "text/plain": [
       "12684"
      ]
     },
     "execution_count": 4,
     "metadata": {},
     "output_type": "execute_result"
    }
   ],
   "source": [
    "int(X.shape[0]/20)"
   ]
  },
  {
   "cell_type": "code",
   "execution_count": 10,
   "metadata": {},
   "outputs": [],
   "source": [
    "np.random.seed(1)\n",
    "seeds = np.random.randint(low = 1, high = 10000, size = (10, 10))"
   ]
  },
  {
   "cell_type": "code",
   "execution_count": 11,
   "metadata": {},
   "outputs": [
    {
     "name": "stdout",
     "output_type": "stream",
     "text": [
      "[ 236 5193  906 7814 2896 5057  145 4226 7752 3463]\n",
      "[9395 5397 5375 2963 2517 8445 3563 4765 8094 6543]\n",
      "[ 563 8152 3050  754 9720 1889 1111 6286 6122 1032]\n",
      "[4416 2878 3607 9530 2562 8921 6772  432 4075  543]\n",
      "[9288 1479 1338 7109 8690 1613 3099 1845 9553 2670]\n",
      "[  16 2245 7907 1307 9833 1047 3048 1151 9496 3429]\n",
      "[ 156 4410  649 9505 7587 1680 7256 7962 4040  244]\n",
      "[1373 1215 7471 5025 5849 5272 4792 9538 9988 2945]\n",
      "[5374  462 1799 4566 1479 4060  716 6408 6222 2761]\n",
      "[5196 7501 1068 7711 9765 9992 3886 6714 7677   97]\n"
     ]
    }
   ],
   "source": [
    "for seed in seeds:\n",
    "    print(seed)"
   ]
  },
  {
   "cell_type": "markdown",
   "metadata": {},
   "source": [
    "## AdaBoost"
   ]
  },
  {
   "cell_type": "code",
   "execution_count": 17,
   "metadata": {},
   "outputs": [
    {
     "name": "stdout",
     "output_type": "stream",
     "text": [
      "Validation Iteration: 0 Accuracy: 0.8419925365289603 Labels: 1775\n",
      "Validation Iteration: 0 Accuracy: 0.8391674550614948 Labels: 1775\n",
      "Validation Iteration: 0 Accuracy: 0.838155681698728 Labels: 1775\n",
      "Validation Iteration: 0 Accuracy: 0.836802270577105 Labels: 1775\n",
      "Validation Iteration: 0 Accuracy: 0.8374461263534111 Labels: 1775\n",
      "Validation Iteration: 0 Accuracy: 0.8418874172185431 Labels: 1775\n",
      "Validation Iteration: 0 Accuracy: 0.8391411752338904 Labels: 1775\n",
      "Validation Iteration: 0 Accuracy: 0.8391280353200883 Labels: 1775\n",
      "Validation Iteration: 0 Accuracy: 0.8418348575633344 Labels: 1775\n",
      "Validation Iteration: 0 Accuracy: 0.8259881215179229 Labels: 1775\n"
     ]
    }
   ],
   "source": [
    "adaboost_base_metrics = []\n",
    "adaboost_base_clfs = []\n",
    "\n",
    "model =  {\n",
    "    'classifier':AdaBoostClassifier(),\n",
    "    'num_view':1,\n",
    "    'gamma':0.3,\n",
    "    'steps':10,\n",
    "    'regularizer':'hard'\n",
    "}\n",
    "\n",
    "for seed in seeds:\n",
    "    clfs, metrics = Validation.validation(\n",
    "        model_params=model,\n",
    "        train_data_x=X,\n",
    "        train_data_y=y,\n",
    "        percent_labeled=0.01,\n",
    "        random_seed=seed,\n",
    "        iters=10\n",
    "    )\n",
    "\n",
    "    adaboost_base_metrics.append(metrics)\n",
    "    adaboost_base_clfs.append(clfs)\n",
    "\n",
    "adaboost_base_score = np.array(adaboost_base_metrics)"
   ]
  },
  {
   "cell_type": "code",
   "execution_count": 19,
   "metadata": {},
   "outputs": [
    {
     "data": {
      "text/plain": [
       "array([[0.84199254, 0.83584306, 0.83857616, 0.84040261, 0.83136235,\n",
       "        0.83808998, 0.83371439, 0.83944339, 0.83650005, 0.83671029],\n",
       "       [0.83916746, 0.83555398, 0.83979817, 0.83830022, 0.83950909,\n",
       "        0.84012667, 0.83709135, 0.84096762, 0.83307054, 0.8357905 ],\n",
       "       [0.83815568, 0.83471302, 0.83770892, 0.83427941, 0.83442395,\n",
       "        0.84239987, 0.83383265, 0.83844476, 0.83907548, 0.8268685 ],\n",
       "       [0.83680227, 0.83960107, 0.84102018, 0.8415195 , 0.83083675,\n",
       "        0.83050825, 0.83931199, 0.83887838, 0.84402922, 0.84215022],\n",
       "       [0.83744613, 0.83136235, 0.83931199, 0.83640807, 0.83952223,\n",
       "        0.83887838, 0.83643435, 0.82430621, 0.8359219 , 0.83835278],\n",
       "       [0.84188742, 0.8390492 , 0.83772206, 0.83134921, 0.83590876,\n",
       "        0.84174288, 0.83805056, 0.83558026, 0.83196678, 0.83755125],\n",
       "       [0.83914118, 0.83782718, 0.83537002, 0.83368811, 0.84250499,\n",
       "        0.83718333, 0.83923315, 0.84161148, 0.83820824, 0.83772206],\n",
       "       [0.83912804, 0.84013981, 0.84130926, 0.83652633, 0.8419794 ,\n",
       "        0.83621097, 0.82996952, 0.83676285, 0.8407968 , 0.83569852],\n",
       "       [0.84183486, 0.83957479, 0.83366183, 0.84083622, 0.83136235,\n",
       "        0.83703879, 0.83408231, 0.83895722, 0.83803742, 0.83718333],\n",
       "       [0.82598812, 0.83429255, 0.83805056, 0.83791916, 0.83475244,\n",
       "        0.84310943, 0.83730159, 0.83656575, 0.83276832, 0.8318748 ]])"
      ]
     },
     "execution_count": 19,
     "metadata": {},
     "output_type": "execute_result"
    }
   ],
   "source": [
    "adaboost_base_score"
   ]
  },
  {
   "cell_type": "code",
   "execution_count": 13,
   "metadata": {},
   "outputs": [
    {
     "name": "stdout",
     "output_type": "stream",
     "text": [
      "[ 236 5193  906 7814 2896 5057  145 4226 7752 3463]\n",
      "Validation Iteration: 0 Accuracy: 0.8424130137706297 Labels: 1775\n",
      "Validation Iteration: 0 Accuracy: 0.8424130137706297 Labels: 1775\n",
      "[9395 5397 5375 2963 2517 8445 3563 4765 8094 6543]\n",
      "Validation Iteration: 0 Accuracy: 0.8424130137706297 Labels: 1775\n",
      "Validation Iteration: 0 Accuracy: 0.8424130137706297 Labels: 1775\n",
      "[ 563 8152 3050  754 9720 1889 1111 6286 6122 1032]\n",
      "Validation Iteration: 0 Accuracy: 0.8424130137706297 Labels: 1775\n",
      "Validation Iteration: 0 Accuracy: 0.8424130137706297 Labels: 1775\n",
      "[4416 2878 3607 9530 2562 8921 6772  432 4075  543]\n",
      "Validation Iteration: 0 Accuracy: 0.8424130137706297 Labels: 1775\n",
      "Validation Iteration: 0 Accuracy: 0.8424130137706297 Labels: 1775\n",
      "[9288 1479 1338 7109 8690 1613 3099 1845 9553 2670]\n",
      "Validation Iteration: 0 Accuracy: 0.8424130137706297 Labels: 1775\n",
      "Validation Iteration: 0 Accuracy: 0.8424130137706297 Labels: 1775\n",
      "[  16 2245 7907 1307 9833 1047 3048 1151 9496 3429]\n",
      "Validation Iteration: 0 Accuracy: 0.8424130137706297 Labels: 1775\n",
      "Validation Iteration: 0 Accuracy: 0.8424130137706297 Labels: 1775\n",
      "[ 156 4410  649 9505 7587 1680 7256 7962 4040  244]\n",
      "Validation Iteration: 0 Accuracy: 0.8424130137706297 Labels: 1775\n",
      "Validation Iteration: 0 Accuracy: 0.8424130137706297 Labels: 1775\n",
      "[1373 1215 7471 5025 5849 5272 4792 9538 9988 2945]\n",
      "Validation Iteration: 0 Accuracy: 0.8424130137706297 Labels: 1775\n",
      "Validation Iteration: 0 Accuracy: 0.8424130137706297 Labels: 1775\n",
      "[5374  462 1799 4566 1479 4060  716 6408 6222 2761]\n",
      "Validation Iteration: 0 Accuracy: 0.8424130137706297 Labels: 1775\n",
      "Validation Iteration: 0 Accuracy: 0.8424130137706297 Labels: 1775\n",
      "[5196 7501 1068 7711 9765 9992 3886 6714 7677   97]\n",
      "Validation Iteration: 0 Accuracy: 0.8424130137706297 Labels: 1775\n",
      "Validation Iteration: 0 Accuracy: 0.8424130137706297 Labels: 1775\n"
     ]
    }
   ],
   "source": [
    "adaboost_multi_metrics = []\n",
    "adaboost_multi_clfs = []\n",
    "steps = 20\n",
    "views = 2\n",
    "\n",
    "model =  {\n",
    "    'classifier':AdaBoostClassifier(),\n",
    "    'num_view':views,\n",
    "    'gamma':0.3,\n",
    "    'steps':steps,\n",
    "    'regularizer':'hard',\n",
    "    'update_add_num': int(X.shape[0]/steps)\n",
    "}\n",
    "\n",
    "for seed in seeds:\n",
    "    clfs, metrics = Validation.validation(\n",
    "        model_params=model,\n",
    "        train_data_x=X,\n",
    "        train_data_y=y,\n",
    "        percent_labeled=0.01,\n",
    "        random_seed=seed,\n",
    "        spaco=True,\n",
    "        iters=5,\n",
    "        hsplit=True,\n",
    "        hsplit_size=views\n",
    "    )\n",
    "\n",
    "    adaboost_multi_metrics.append(metrics)\n",
    "    adaboost_multi_clfs.append(clfs)\n",
    "\n",
    "adaboost_multi_score = np.array(adaboost_multi_metrics)"
   ]
  },
  {
   "cell_type": "code",
   "execution_count": 23,
   "metadata": {},
   "outputs": [
    {
     "data": {
      "text/plain": [
       "array([[0.84241301, 0.84241301, 0.84241301, 0.84241301, 0.84241301,\n",
       "        0.84241301, 0.84241301, 0.84241301, 0.84241301, 0.84241301],\n",
       "       [0.84241301, 0.84241301, 0.84241301, 0.84241301, 0.84241301,\n",
       "        0.84241301, 0.84241301, 0.84241301, 0.84241301, 0.84241301],\n",
       "       [0.84241301, 0.84241301, 0.84241301, 0.84241301, 0.84241301,\n",
       "        0.84241301, 0.84241301, 0.84241301, 0.84241301, 0.84241301],\n",
       "       [0.84241301, 0.84241301, 0.84241301, 0.84241301, 0.84241301,\n",
       "        0.84241301, 0.84241301, 0.84241301, 0.84241301, 0.84241301],\n",
       "       [0.84241301, 0.84241301, 0.84241301, 0.84241301, 0.13933565,\n",
       "        0.84241301, 0.84241301, 0.84241301, 0.84241301, 0.84241301],\n",
       "       [0.84241301, 0.84241301, 0.84241301, 0.84241301, 0.84241301,\n",
       "        0.84241301, 0.84241301, 0.84241301, 0.84241301, 0.84241301],\n",
       "       [0.84241301, 0.84241301, 0.84241301, 0.84241301, 0.84241301,\n",
       "        0.84241301, 0.84241301, 0.84241301, 0.84241301, 0.84241301],\n",
       "       [0.84241301, 0.84241301, 0.84241301, 0.84241301, 0.84241301,\n",
       "        0.84241301, 0.84241301, 0.84241301, 0.84241301, 0.84241301],\n",
       "       [0.84241301, 0.84241301, 0.84241301, 0.84241301, 0.84241301,\n",
       "        0.84241301, 0.84241301, 0.84241301, 0.84241301, 0.84241301],\n",
       "       [0.84241301, 0.84241301, 0.84241301, 0.84241301, 0.84241301,\n",
       "        0.84241301, 0.84241301, 0.84241301, 0.84241301, 0.84241301]])"
      ]
     },
     "execution_count": 23,
     "metadata": {},
     "output_type": "execute_result"
    }
   ],
   "source": [
    "adaboost_multi_score"
   ]
  },
  {
   "cell_type": "code",
   "execution_count": 42,
   "metadata": {},
   "outputs": [
    {
     "data": {
      "image/png": "[encoded data removed]",
      "text/plain": [
       "<Figure size 432x288 with 1 Axes>"
      ]
     },
     "metadata": {
      "needs_background": "light"
     },
     "output_type": "display_data"
    }
   ],
   "source": [
    "baycomp_ada, bayplot_ada = baycomp.two_on_multiple(\n",
    "    adaboost_base_score, \n",
    "    adaboost_multi_score, \n",
    "    plot=True, \n",
    "    rope=0.005, \n",
    "    names = ('AdaBoost','AdaBoost-SPamCo'))"
   ]
  },
  {
   "cell_type": "code",
   "execution_count": 43,
   "metadata": {},
   "outputs": [
    {
     "data": {
      "image/png": "[encoded data removed]",
      "text/plain": [
       "<Figure size 432x288 with 1 Axes>"
      ]
     },
     "metadata": {
      "needs_background": "light"
     },
     "output_type": "display_data"
    }
   ],
   "source": [
    "baycomp_ada, bayplot_ada = baycomp.two_on_single(\n",
    "    np.mean(adaboost_base_score, axis=1), \n",
    "    np.mean(adaboost_multi_score, axis=1), \n",
    "    plot=True, \n",
    "    names = ('AdaBoost','AdaBoost-SPamCo'))"
   ]
  },
  {
   "cell_type": "markdown",
   "metadata": {},
   "source": [
    "## RandomForrestClassifier"
   ]
  },
  {
   "cell_type": "code",
   "execution_count": 50,
   "metadata": {},
   "outputs": [
    {
     "name": "stdout",
     "output_type": "stream",
     "text": [
      "Validation Iteration: 0 Accuracy: 0.8441737622201199 Labels: 1775\n",
      "Validation Iteration: 0 Accuracy: 0.8444891201513718 Labels: 1775\n",
      "Validation Iteration: 0 Accuracy: 0.8432014085987596 Labels: 1775\n",
      "Validation Iteration: 0 Accuracy: 0.8447124986860086 Labels: 1775\n",
      "Validation Iteration: 0 Accuracy: 0.8445942394617891 Labels: 1775\n",
      "Validation Iteration: 0 Accuracy: 0.841966256701356 Labels: 1775\n",
      "Validation Iteration: 0 Accuracy: 0.8443051613581415 Labels: 1775\n",
      "Validation Iteration: 0 Accuracy: 0.8429517502365185 Labels: 1775\n",
      "Validation Iteration: 0 Accuracy: 0.8420188163565647 Labels: 1775\n",
      "Validation Iteration: 0 Accuracy: 0.8434116472195943 Labels: 1775\n"
     ]
    }
   ],
   "source": [
    "rfc_base_metrics = []\n",
    "rfc_base_clfs = []\n",
    "\n",
    "model =  {\n",
    "    'classifier':RandomForestClassifier(),\n",
    "    'num_view':1,\n",
    "    'gamma':0.3,\n",
    "    'steps':10,\n",
    "    'regularizer':'hard'\n",
    "}\n",
    "\n",
    "for seed in seeds:\n",
    "    clfs, metrics = Validation.validation(\n",
    "        model_params=model,\n",
    "        train_data_x=X,\n",
    "        train_data_y=y,\n",
    "        percent_labeled=0.01,\n",
    "        random_seed=seed,\n",
    "        iters=10\n",
    "    )\n",
    "\n",
    "    rfc_base_metrics.append(metrics)\n",
    "    rfc_base_clfs.append(clfs)\n",
    "\n",
    "rfc_base_score = np.array(rfc_base_metrics)"
   ]
  },
  {
   "cell_type": "code",
   "execution_count": 52,
   "metadata": {},
   "outputs": [
    {
     "data": {
      "text/plain": [
       "array([[0.84417376, 0.84242615, 0.84096762, 0.84041575, 0.84313571,\n",
       "        0.8416509 , 0.84271523, 0.84075738, 0.84230789, 0.84437086],\n",
       "       [0.84448912, 0.84307001, 0.84498844, 0.84325397, 0.84448912,\n",
       "        0.8419794 , 0.8441212 , 0.84320141, 0.8452381 , 0.84157206],\n",
       "       [0.84320141, 0.84103332, 0.84447598, 0.84104646, 0.84218964,\n",
       "        0.84247871, 0.84433144, 0.84368759, 0.84539577, 0.83897036],\n",
       "       [0.8447125 , 0.84435772, 0.84128298, 0.84358247, 0.84254441,\n",
       "        0.8421765 , 0.84080994, 0.84335909, 0.84316199, 0.84575055],\n",
       "       [0.84459424, 0.84364817, 0.84304373, 0.84479134, 0.84465994,\n",
       "        0.84331967, 0.84413434, 0.84193998, 0.8441212 , 0.84342479],\n",
       "       [0.84196626, 0.84342479, 0.84259697, 0.84285977, 0.84330653,\n",
       "        0.84427888, 0.84314885, 0.84536949, 0.84275465, 0.84366131],\n",
       "       [0.84430516, 0.84370073, 0.84355619, 0.84430516, 0.8447782 ,\n",
       "        0.84282035, 0.84402922, 0.84460738, 0.84282035, 0.8419794 ],\n",
       "       [0.84295175, 0.84213708, 0.84305687, 0.84563229, 0.84346421,\n",
       "        0.84301745, 0.84350363, 0.84355619, 0.84533007, 0.84187428],\n",
       "       [0.84201882, 0.84395038, 0.84573741, 0.84501472, 0.84397666,\n",
       "        0.83966677, 0.84400294, 0.84318827, 0.84264953, 0.8415852 ],\n",
       "       [0.84341165, 0.84236045, 0.84335909, 0.84437086, 0.84162462,\n",
       "        0.84066541, 0.8439898 , 0.84377956, 0.84276779, 0.84320141]])"
      ]
     },
     "execution_count": 52,
     "metadata": {},
     "output_type": "execute_result"
    }
   ],
   "source": [
    "rfc_base_score"
   ]
  },
  {
   "cell_type": "code",
   "execution_count": 47,
   "metadata": {},
   "outputs": [
    {
     "name": "stdout",
     "output_type": "stream",
     "text": [
      "Validation Iteration: 0 Accuracy: 0.8409544833385894 Labels: 1775\n",
      "Validation Iteration: 0 Accuracy: 0.8424130137706297 Labels: 1775\n",
      "Validation Iteration: 0 Accuracy: 0.8402712078208767 Labels: 1775\n",
      "Validation Iteration: 0 Accuracy: 0.8424130137706297 Labels: 1775\n",
      "Validation Iteration: 0 Accuracy: 0.8407836644591612 Labels: 1775\n",
      "Validation Iteration: 0 Accuracy: 0.8424130137706297 Labels: 1775\n",
      "Validation Iteration: 0 Accuracy: 0.8409544833385894 Labels: 1775\n",
      "Validation Iteration: 0 Accuracy: 0.8424130137706297 Labels: 1775\n",
      "Validation Iteration: 0 Accuracy: 0.8406391254073373 Labels: 1775\n",
      "Validation Iteration: 0 Accuracy: 0.8424130137706297 Labels: 1775\n",
      "Validation Iteration: 0 Accuracy: 0.8413881004940608 Labels: 1775\n",
      "Validation Iteration: 0 Accuracy: 0.8424130137706297 Labels: 1775\n",
      "Validation Iteration: 0 Accuracy: 0.8412172816146326 Labels: 1775\n",
      "Validation Iteration: 0 Accuracy: 0.8424130137706297 Labels: 1775\n",
      "Validation Iteration: 0 Accuracy: 0.8413092610112478 Labels: 1775\n",
      "Validation Iteration: 0 Accuracy: 0.8424130137706297 Labels: 1775\n",
      "Validation Iteration: 0 Accuracy: 0.84053400609692 Labels: 1775\n",
      "Validation Iteration: 0 Accuracy: 0.8424130137706297 Labels: 1775\n",
      "Validation Iteration: 0 Accuracy: 0.8391148954062861 Labels: 1775\n",
      "Validation Iteration: 0 Accuracy: 0.8424130137706297 Labels: 1775\n"
     ]
    }
   ],
   "source": [
    "rfc_multi_metrics = []\n",
    "rfc_multi_clfs = []\n",
    "steps = 20\n",
    "views = 2\n",
    "\n",
    "model =  {\n",
    "    'classifier':RandomForestClassifier(),\n",
    "    'num_view':views,\n",
    "    'gamma':0.3,\n",
    "    'steps':steps,\n",
    "    'regularizer':'hard',\n",
    "    'update_add_num': int(X.shape[0]/steps)\n",
    "}\n",
    "\n",
    "for seed in seeds:\n",
    "    clfs, metrics = Validation.validation(\n",
    "        model_params=model,\n",
    "        train_data_x=X,\n",
    "        train_data_y=y,\n",
    "        percent_labeled=0.01,\n",
    "        random_seed=seed,\n",
    "        spaco=True,\n",
    "        iters=5,\n",
    "        hsplit=True,\n",
    "        hsplit_size=views\n",
    "    )\n",
    "\n",
    "    rfc_multi_metrics.append(metrics)\n",
    "    rfc_multi_clfs.append(clfs)\n",
    "\n",
    "rfc_multi_score = np.array(rfc_multi_metrics)"
   ]
  },
  {
   "cell_type": "code",
   "execution_count": 49,
   "metadata": {},
   "outputs": [
    {
     "data": {
      "text/plain": [
       "array([[0.84095448, 0.84241301, 0.84154578, 0.84241301, 0.8409282 ,\n",
       "        0.84241301, 0.84061285, 0.84241301, 0.84087564, 0.84241301],\n",
       "       [0.84027121, 0.84241301, 0.8407968 , 0.84241301, 0.84058657,\n",
       "        0.84241301, 0.84155892, 0.84241301, 0.83979817, 0.84241301],\n",
       "       [0.84078366, 0.84241301, 0.84004783, 0.84241301, 0.8407311 ,\n",
       "        0.84241301, 0.84149322, 0.84241301, 0.84213708, 0.84241301],\n",
       "       [0.84095448, 0.84241301, 0.84052087, 0.84241301, 0.84062599,\n",
       "        0.84241301, 0.84120414, 0.84241301, 0.83653947, 0.84241301],\n",
       "       [0.84063913, 0.84241301, 0.84046831, 0.84241301, 0.84077052,\n",
       "        0.84241301, 0.84090192, 0.84241301, 0.84008725, 0.84241301],\n",
       "       [0.8413881 , 0.84241301, 0.84182172, 0.84241301, 0.84082308,\n",
       "        0.84241301, 0.84037633, 0.84241301, 0.84170346, 0.84241301],\n",
       "       [0.84121728, 0.84241301, 0.84155892, 0.84241301, 0.84087564,\n",
       "        0.84241301, 0.84017923, 0.84241301, 0.84129612, 0.84241301],\n",
       "       [0.84130926, 0.84241301, 0.84027121, 0.84241301, 0.83937769,\n",
       "        0.84241301, 0.84035005, 0.84241301, 0.84056029, 0.84241301],\n",
       "       [0.84053401, 0.84241301, 0.84154578, 0.84241301, 0.84096762,\n",
       "        0.84241301, 0.84162462, 0.84241301, 0.84126984, 0.84241301],\n",
       "       [0.8391149 , 0.84241301, 0.84046831, 0.84241301, 0.84078366,\n",
       "        0.84241301, 0.84075738, 0.84241301, 0.8407311 , 0.84241301]])"
      ]
     },
     "execution_count": 49,
     "metadata": {},
     "output_type": "execute_result"
    }
   ],
   "source": [
    "rfc_multi_score"
   ]
  },
  {
   "cell_type": "code",
   "execution_count": 56,
   "metadata": {},
   "outputs": [
    {
     "data": {
      "image/png": "[encoded data removed]",
      "text/plain": [
       "<Figure size 432x288 with 1 Axes>"
      ]
     },
     "metadata": {
      "needs_background": "light"
     },
     "output_type": "display_data"
    }
   ],
   "source": [
    "baycomp_rfc, bayplot_rfc = baycomp.two_on_multiple(\n",
    "    rfc_base_score, \n",
    "    rfc_multi_score, \n",
    "    plot=True, \n",
    "    rope=0.001, \n",
    "    names = ('RFC','RFC-SPamCo'))"
   ]
  },
  {
   "cell_type": "code",
   "execution_count": 54,
   "metadata": {},
   "outputs": [
    {
     "data": {
      "text/plain": [
       "(0.0, 1.0, 0.0)"
      ]
     },
     "execution_count": 54,
     "metadata": {},
     "output_type": "execute_result"
    }
   ],
   "source": [
    "baycomp_rfc"
   ]
  },
  {
   "cell_type": "markdown",
   "metadata": {},
   "source": [
    "## XGBoost"
   ]
  },
  {
   "cell_type": "code",
   "execution_count": 58,
   "metadata": {},
   "outputs": [
    {
     "name": "stdout",
     "output_type": "stream",
     "text": [
      "Validation Iteration: 0 Accuracy: 0.8284847051403342 Labels: 1775\n",
      "Validation Iteration: 0 Accuracy: 0.8292993797960685 Labels: 1775\n",
      "Validation Iteration: 0 Accuracy: 0.8228871018606118 Labels: 1775\n",
      "Validation Iteration: 0 Accuracy: 0.8275517712603805 Labels: 1775\n",
      "Validation Iteration: 0 Accuracy: 0.8303111531588353 Labels: 1775\n",
      "Validation Iteration: 0 Accuracy: 0.8228608220330075 Labels: 1775\n",
      "Validation Iteration: 0 Accuracy: 0.8282613266056975 Labels: 1775\n",
      "Validation Iteration: 0 Accuracy: 0.8262246399663619 Labels: 1775\n",
      "Validation Iteration: 0 Accuracy: 0.8237937559129612 Labels: 1775\n",
      "Validation Iteration: 0 Accuracy: 0.8217045096184169 Labels: 1775\n"
     ]
    }
   ],
   "source": [
    "xgboost_base_metrics = []\n",
    "xgboost_base_clfs = []\n",
    "\n",
    "model =  {\n",
    "    'classifier':xgb.XGBClassifier(silent=True, verbosity=0),\n",
    "    'num_view':1,\n",
    "    'gamma':0.3,\n",
    "    'steps':10,\n",
    "    'regularizer':'hard'\n",
    "}\n",
    "\n",
    "for seed in seeds:\n",
    "    clfs, metrics = Validation.validation(\n",
    "        model_params=model,\n",
    "        train_data_x=X,\n",
    "        train_data_y=y,\n",
    "        percent_labeled=0.01,\n",
    "        random_seed=seed,\n",
    "        iters=10\n",
    "    )\n",
    "\n",
    "    xgboost_base_metrics.append(metrics)\n",
    "    xgboost_base_clfs.append(clfs)\n",
    "\n",
    "xgboost_base_score = np.array(xgboost_base_metrics)"
   ]
  },
  {
   "cell_type": "code",
   "execution_count": null,
   "metadata": {},
   "outputs": [
    {
     "name": "stdout",
     "output_type": "stream",
     "text": [
      "Validation Iteration: 0 Accuracy: 0.8424130137706297 Labels: 1775\n",
      "Validation Iteration: 0 Accuracy: 0.8424130137706297 Labels: 1775\n",
      "Validation Iteration: 0 Accuracy: 0.8424130137706297 Labels: 1775\n",
      "Validation Iteration: 0 Accuracy: 0.8424130137706297 Labels: 1775\n",
      "Validation Iteration: 0 Accuracy: 0.8424130137706297 Labels: 1775\n",
      "Validation Iteration: 0 Accuracy: 0.8424130137706297 Labels: 1775\n",
      "Validation Iteration: 0 Accuracy: 0.8424130137706297 Labels: 1775\n",
      "Validation Iteration: 0 Accuracy: 0.8424130137706297 Labels: 1775\n",
      "Validation Iteration: 0 Accuracy: 0.8424130137706297 Labels: 1775\n",
      "Validation Iteration: 0 Accuracy: 0.8424130137706297 Labels: 1775\n",
      "Validation Iteration: 0 Accuracy: 0.8425575528224535 Labels: 1775\n",
      "Validation Iteration: 0 Accuracy: 0.8424130137706297 Labels: 1775\n",
      "Validation Iteration: 0 Accuracy: 0.8424130137706297 Labels: 1775\n",
      "Validation Iteration: 0 Accuracy: 0.8424130137706297 Labels: 1775\n",
      "Validation Iteration: 0 Accuracy: 0.8423998738568275 Labels: 1775\n",
      "Validation Iteration: 0 Accuracy: 0.8424130137706297 Labels: 1775\n"
     ]
    }
   ],
   "source": [
    "xgboost_multi_metrics = []\n",
    "xgboost_multi_clfs = []\n",
    "steps = 20\n",
    "views = 2\n",
    "\n",
    "model =  {\n",
    "    'classifier':xgb.XGBClassifier(silent=True, verbosity=0),\n",
    "    'num_view':views,\n",
    "    'gamma':0.3,\n",
    "    'steps':steps,\n",
    "    'regularizer':'hard',\n",
    "    'update_add_num': int(X.shape[0]/steps)\n",
    "}\n",
    "\n",
    "for seed in seeds:\n",
    "    clfs, metrics = Validation.validation(\n",
    "        model_params=model,\n",
    "        train_data_x=X,\n",
    "        train_data_y=y,\n",
    "        percent_labeled=0.01,\n",
    "        random_seed=seed,\n",
    "        spaco=True,\n",
    "        iters=5,\n",
    "        hsplit=True,\n",
    "        hsplit_size=views\n",
    "    )\n",
    "\n",
    "    xgboost_multi_metrics.append(metrics)\n",
    "    xgboost_multi_clfs.append(clfs)\n",
    "\n",
    "xgboost_multi_score = np.array(xgboost_multi_metrics)"
   ]
  },
  {
   "cell_type": "code",
   "execution_count": 17,
   "metadata": {},
   "outputs": [
    {
     "name": "stderr",
     "output_type": "stream",
     "text": [
      "WARNING:pystan:11 of 4000 iterations ended with a divergence (0.275 %).\n",
      "WARNING:pystan:Try running with adapt_delta larger than 0.8 to remove the divergences.\n"
     ]
    },
    {
     "data": {
      "image/png": "[encoded data removed]",
      "text/plain": [
       "<Figure size 432x288 with 1 Axes>"
      ]
     },
     "metadata": {
      "needs_background": "light"
     },
     "output_type": "display_data"
    }
   ],
   "source": [
    "baycomp_xgboost, bayplot_xgboost = baycomp.two_on_multiple(\n",
    "    xgboost_base_score, \n",
    "    xgboost_multi_score, \n",
    "    plot=True, \n",
    "    rope=0.05, \n",
    "    names = ('XGBoost','XGBoost-SPamCo'))"
   ]
  },
  {
   "cell_type": "markdown",
   "metadata": {},
   "source": [
    "# Testing"
   ]
  },
  {
   "cell_type": "code",
   "execution_count": 7,
   "metadata": {},
   "outputs": [
    {
     "name": "stdout",
     "output_type": "stream",
     "text": [
      "[5196 7501 1068 7711 9765 9992 3886 6714 7677   97]\n",
      "Validation Iteration: 0 Accuracy: 0.8044386628823715 Labels: 1775\n",
      "Validation Iteration: 0 Accuracy: 0.8424130137706297 Labels: 1775\n"
     ]
    }
   ],
   "source": [
    "adaboost_multi_metrics = []\n",
    "adaboost_multi_clfs = []\n",
    "steps = 20\n",
    "views = 2\n",
    "\n",
    "model =  {\n",
    "    'classifier':AdaBoostClassifier(),\n",
    "    'num_view':views,\n",
    "    'gamma':0.3,\n",
    "    'steps':steps,\n",
    "    'regularizer':'hard',\n",
    "    'update_add_num': int(X.shape[0]/steps)\n",
    "}\n",
    "\n",
    "\n",
    "print(seed)\n",
    "clfs, metrics = Validation.validation(\n",
    "    model_params=model,\n",
    "    train_data_x=X,\n",
    "    train_data_y=y,\n",
    "    percent_labeled=0.01,\n",
    "    random_seed=seed,\n",
    "    spaco=True,\n",
    "    iters=1,\n",
    "    single_view=True\n",
    ")\n",
    "\n",
    "adaboost_multi_metrics.append(metrics)\n",
    "adaboost_multi_clfs.append(clfs)\n",
    "\n",
    "adaboost1_multi_score = np.array(adaboost_multi_metrics)"
   ]
  },
  {
   "cell_type": "code",
   "execution_count": 7,
   "metadata": {},
   "outputs": [
    {
     "name": "stdout",
     "output_type": "stream",
     "text": [
      "[5196 7501 1068 7711 9765 9992 3886 6714 7677   97]\n",
      "Validation Iteration: 0 Accuracy: 0.7997477136549984 Labels: 1775\n"
     ]
    }
   ],
   "source": [
    "mix_multi_metrics = []\n",
    "mix_multi_clfs = []\n",
    "steps = 20\n",
    "views = 3\n",
    "\n",
    "model =  {\n",
    "    'classifier':[AdaBoostClassifier(),RandomForestClassifier(),xgb.XGBClassifier(silent=True, verbosity=0)],\n",
    "    'num_view':views,\n",
    "    'gamma':0.3,\n",
    "    'steps':steps,\n",
    "    'regularizer':'hard',\n",
    "    'update_add_num': int(X.shape[0]/steps),\n",
    "    'multiple_classifiers': True\n",
    "}\n",
    "\n",
    "\n",
    "print(seed)\n",
    "clfs, metrics = Validation.validation(\n",
    "    model_params=model,\n",
    "    train_data_x=X,\n",
    "    train_data_y=y,\n",
    "    percent_labeled=0.01,\n",
    "    random_seed=seed,\n",
    "    spaco=True,\n",
    "    iters=2,\n",
    "    multiple_classifiers=True\n",
    ")\n",
    "\n",
    "mix_multi_metrics.append(metrics)\n",
    "mix_multi_clfs.append(clfs)\n",
    "\n",
    "mix_multi_score = np.array(mix_multi_metrics)"
   ]
  }
 ],
 "metadata": {
  "kernelspec": {
   "display_name": "Python 3 (ipykernel)",
   "language": "python",
   "name": "python3"
  },
  "language_info": {
   "codemirror_mode": {
    "name": "ipython",
    "version": 3
   },
   "file_extension": ".py",
   "mimetype": "text/x-python",
   "name": "python",
   "nbconvert_exporter": "python",
   "pygments_lexer": "ipython3",
   "version": "3.9.7"
  }
 },
 "nbformat": 4,
 "nbformat_minor": 4
}
