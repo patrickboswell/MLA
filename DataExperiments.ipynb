{
 "cells": [
  {
   "cell_type": "markdown",
   "metadata": {},
   "source": [
    "# SPamCo with Ensembles"
   ]
  },
  {
   "cell_type": "code",
   "execution_count": 1,
   "metadata": {},
   "outputs": [],
   "source": [
    "#Math packages\n",
    "import numpy as np\n",
    "\n",
    "#Data packages\n",
    "import pandas as pd\n",
    "import pandas_profiling\n",
    "\n",
    "#Spamco\n",
    "from spamco import SPamCo, Validation\n",
    "\n",
    "#Data packages\n",
    "from sklearn.datasets import make_moons, make_classification, make_circles, make_blobs, make_gaussian_quantiles\n",
    "from sklearn.datasets import load_breast_cancer, load_digits, load_iris\n",
    "from sklearn.model_selection import train_test_split\n",
    "from sklearn.datasets import fetch_openml\n",
    "from sklearn.preprocessing import LabelEncoder\n",
    "\n",
    "#Classifier packages\n",
    "from sklearn.ensemble import RandomForestClassifier\n",
    "from sklearn.ensemble import AdaBoostClassifier\n",
    "import xgboost as xgb\n",
    "\n",
    "#Validation packages\n",
    "from sklearn.metrics import accuracy_score\n",
    "\n",
    "#Visualization packages\n",
    "import plotly.express as px\n",
    "\n",
    "import matplotlib\n",
    "import matplotlib.pyplot as plt\n",
    "import matplotlib.pylab as plb\n",
    "from matplotlib.ticker import MaxNLocator\n",
    "%matplotlib inline\n",
    "\n",
    "import baycomp\n",
    "\n",
    "#General utility packages\n",
    "from itertools import cycle, islice\n",
    "import warnings\n",
    "\n",
    "warnings.filterwarnings(\"ignore\")\n",
    "matplotlib.rcParams.update({'font.size': 20})"
   ]
  },
  {
   "cell_type": "code",
   "execution_count": 2,
   "metadata": {},
   "outputs": [],
   "source": [
    "def load_diabetes():\n",
    "    df = pd.read_csv('Data/diabetes.csv')\n",
    "    y =df.values[:,0]\n",
    "    X =df.drop(['Diabetes_012','AnyHealthcare'], axis = 1).values\n",
    "    return X, y"
   ]
  },
  {
   "cell_type": "code",
   "execution_count": 3,
   "metadata": {},
   "outputs": [],
   "source": [
    "def load_blood():\n",
    "    X, y = fetch_openml(data_id = 1464, return_X_y=True)\n",
    "    X = X.values\n",
    "    LE = LabelEncoder()\n",
    "    y = LE.fit_transform(y)\n",
    "    return X, y"
   ]
  },
  {
   "cell_type": "code",
   "execution_count": 4,
   "metadata": {},
   "outputs": [],
   "source": [
    "def load_qsar():\n",
    "    X, y = fetch_openml(data_id = 1494, return_X_y=True)\n",
    "    X = X.drop(['V1'], axis=1)\n",
    "    X = X.values\n",
    "    LE = LabelEncoder()\n",
    "    y = LE.fit_transform(y)\n",
    "    return X, y"
   ]
  },
  {
   "cell_type": "code",
   "execution_count": 5,
   "metadata": {},
   "outputs": [],
   "source": [
    "def load_eegeye():\n",
    "    X, y = fetch_openml(data_id = 1471, return_X_y=True)\n",
    "    X = X.values\n",
    "    LE = LabelEncoder()\n",
    "    y = LE.fit_transform(y)\n",
    "    return X, y"
   ]
  },
  {
   "cell_type": "code",
   "execution_count": 6,
   "metadata": {},
   "outputs": [],
   "source": [
    "def load_ilpd():\n",
    "    X, y = fetch_openml(data_id = 1480, return_X_y=True)\n",
    "    LE = LabelEncoder()\n",
    "    X['V2'] = LE.fit_transform(X['V2'])\n",
    "    X = X.values\n",
    "    y = LE.fit_transform(y)\n",
    "    return X, y"
   ]
  },
  {
   "cell_type": "code",
   "execution_count": 7,
   "metadata": {},
   "outputs": [],
   "source": [
    "def load_click():\n",
    "    X, y = fetch_openml(data_id = 1220, return_X_y=True)\n",
    "    X = X.drop(['user_id'], axis=1)\n",
    "    X = X.values\n",
    "    LE = LabelEncoder()\n",
    "    y = LE.fit_transform(y)\n",
    "    return X, y"
   ]
  },
  {
   "cell_type": "code",
   "execution_count": 8,
   "metadata": {},
   "outputs": [],
   "source": [
    "def load_satimage():\n",
    "    X, y = fetch_openml(data_id = 182, return_X_y=True)\n",
    "    X = X.values\n",
    "    LE = LabelEncoder()\n",
    "    y = LE.fit_transform(y)\n",
    "    return X, y"
   ]
  },
  {
   "cell_type": "code",
   "execution_count": 9,
   "metadata": {},
   "outputs": [],
   "source": [
    "def load_robot():\n",
    "    X, y = fetch_openml(data_id = 300, return_X_y=True)\n",
    "    X = X.drop(['f451'], axis=1)\n",
    "    X = X.values\n",
    "    LE = LabelEncoder()\n",
    "    y = LE.fit_transform(y)\n",
    "    return X, y"
   ]
  },
  {
   "cell_type": "code",
   "execution_count": 10,
   "metadata": {},
   "outputs": [],
   "source": [
    "np.random.seed(1)\n",
    "seed = np.random.randint(low = 1, high = 10000, size = 10)"
   ]
  },
  {
   "cell_type": "code",
   "execution_count": 11,
   "metadata": {},
   "outputs": [
    {
     "data": {
      "text/plain": [
       "array([ 236, 5193,  906, 7814, 2896, 5057,  145, 4226, 7752, 3463])"
      ]
     },
     "execution_count": 11,
     "metadata": {},
     "output_type": "execute_result"
    }
   ],
   "source": [
    "seed"
   ]
  },
  {
   "cell_type": "markdown",
   "metadata": {},
   "source": [
    "# Toy Datasets"
   ]
  },
  {
   "cell_type": "code",
   "execution_count": 12,
   "metadata": {},
   "outputs": [],
   "source": [
    "datasets = {\n",
    "    'breast_cancer': load_breast_cancer(return_X_y=True),\n",
    "    'digits': load_digits(return_X_y=True),\n",
    "    'blood': load_blood(),\n",
    "    'diabetes': load_diabetes(),\n",
    "    'qsar': load_qsar(),\n",
    "    'eegeye': load_eegeye(),\n",
    "    'ilpd': load_ilpd(),\n",
    "    'click': load_click(),\n",
    "    'satimage': load_satimage(),\n",
    "    'robot': load_robot()\n",
    "}"
   ]
  },
  {
   "cell_type": "markdown",
   "metadata": {},
   "source": [
    "## AdaBoost"
   ]
  },
  {
   "cell_type": "code",
   "execution_count": 13,
   "metadata": {},
   "outputs": [
    {
     "name": "stdout",
     "output_type": "stream",
     "text": [
      "Dataset: breast_cancer\n",
      "Validation Iteration: 0 Accuracy: 0.9064327485380117 Labels: 19\n",
      "Dataset: digits\n",
      "Validation Iteration: 0 Accuracy: 0.26296296296296295 Labels: 62\n",
      "Dataset: blood\n",
      "Validation Iteration: 0 Accuracy: 0.72 Labels: 26\n",
      "Dataset: diabetes\n",
      "Validation Iteration: 0 Accuracy: 0.8471433827394093 Labels: 8878\n",
      "Dataset: qsar\n",
      "Validation Iteration: 0 Accuracy: 0.7034700315457413 Labels: 36\n",
      "Dataset: eegeye\n",
      "Validation Iteration: 0 Accuracy: 0.6902536715620827 Labels: 524\n",
      "Dataset: ilpd\n",
      "Validation Iteration: 0 Accuracy: 0.6685714285714286 Labels: 20\n",
      "Dataset: click\n",
      "Validation Iteration: 0 Accuracy: 0.8287025448477263 Labels: 1398\n",
      "Dataset: satimage\n",
      "Validation Iteration: 0 Accuracy: 0.432348367029549 Labels: 225\n",
      "Dataset: robot\n",
      "Validation Iteration: 0 Accuracy: 0.12393162393162394 Labels: 272\n"
     ]
    }
   ],
   "source": [
    "adaboost_base_metrics = []\n",
    "adaboost_base_clfs = []\n",
    "for key in datasets: \n",
    "    X, y = datasets[key]\n",
    "    print(f'Dataset: {key}')\n",
    "\n",
    "    model =  {\n",
    "        'classifier':AdaBoostClassifier(),\n",
    "        'num_view':1,\n",
    "        'gamma':0.3,\n",
    "        'steps':10,\n",
    "        'regularizer':'hard'\n",
    "    }\n",
    "\n",
    "    clfs, metrics = Validation.validation(\n",
    "        model_params=model,\n",
    "        train_data_x=X,\n",
    "        train_data_y=y,\n",
    "        percent_labeled=0.05,\n",
    "        random_seed=seed,\n",
    "        iters=10\n",
    "    )\n",
    "\n",
    "    adaboost_base_metrics.append(metrics)\n",
    "    adaboost_base_clfs.append(clfs)\n",
    "\n",
    "    adaboost_base_score = np.array(adaboost_base_metrics)"
   ]
  },
  {
   "cell_type": "code",
   "execution_count": 14,
   "metadata": {},
   "outputs": [
    {
     "data": {
      "text/plain": [
       "array([[0.90643275, 0.87134503, 0.88888889, 0.91812865, 0.86549708,\n",
       "        0.87134503, 0.89473684, 0.91812865, 0.9005848 , 0.85964912],\n",
       "       [0.26296296, 0.17962963, 0.17592593, 0.15      , 0.27407407,\n",
       "        0.24074074, 0.25740741, 0.18888889, 0.22222222, 0.22407407],\n",
       "       [0.72      , 0.68      , 0.71555556, 0.71555556, 0.67111111,\n",
       "        0.67111111, 0.65333333, 0.77333333, 0.72      , 0.72444444],\n",
       "       [0.84714338, 0.84826028, 0.84726164, 0.8451724 , 0.84413434,\n",
       "        0.84408178, 0.84701198, 0.84397666, 0.84538263, 0.84626301],\n",
       "       [0.70347003, 0.74763407, 0.76340694, 0.8170347 , 0.66876972,\n",
       "        0.75709779, 0.7444795 , 0.69400631, 0.75394322, 0.72239748],\n",
       "       [0.69025367, 0.71005785, 0.70226969, 0.68958611, 0.7165109 ,\n",
       "        0.69826435, 0.70315977, 0.71339564, 0.72207388, 0.70226969],\n",
       "       [0.66857143, 0.67428571, 0.66857143, 0.69714286, 0.63428571,\n",
       "        0.64571429, 0.64571429, 0.69714286, 0.73142857, 0.52      ],\n",
       "       [0.82870254, 0.82453066, 0.82753442, 0.83003755, 0.82561535,\n",
       "        0.81860659, 0.8303713 , 0.82995411, 0.82987067, 0.82761786],\n",
       "       [0.43234837, 0.46086055, 0.62104717, 0.42042509, 0.50803525,\n",
       "        0.59046138, 0.41161223, 0.49818559, 0.51321928, 0.35406947],\n",
       "       [0.12393162, 0.09316239, 0.07393162, 0.10598291, 0.09529915,\n",
       "        0.08504274, 0.09444444, 0.04358974, 0.14529915, 0.07692308]])"
      ]
     },
     "execution_count": 14,
     "metadata": {},
     "output_type": "execute_result"
    }
   ],
   "source": [
    "adaboost_base_score"
   ]
  },
  {
   "cell_type": "code",
   "execution_count": 15,
   "metadata": {},
   "outputs": [
    {
     "name": "stdout",
     "output_type": "stream",
     "text": [
      "Dataset: breast_cancer\n",
      "Validation Iteration: 0 Accuracy: 0.8888888888888888 Labels: 19\n",
      "Dataset: digits\n",
      "Validation Iteration: 0 Accuracy: 0.14629629629629629 Labels: 62\n",
      "Dataset: blood\n",
      "Validation Iteration: 0 Accuracy: 0.76 Labels: 26\n",
      "Dataset: diabetes\n",
      "Validation Iteration: 0 Accuracy: 0.8424130137706297 Labels: 8878\n",
      "Dataset: qsar\n",
      "Validation Iteration: 0 Accuracy: 0.61198738170347 Labels: 36\n",
      "Dataset: eegeye\n",
      "Validation Iteration: 0 Accuracy: 0.5511793502447708 Labels: 524\n",
      "Dataset: ilpd\n",
      "Validation Iteration: 0 Accuracy: 0.7142857142857143 Labels: 20\n",
      "Dataset: click\n",
      "Validation Iteration: 0 Accuracy: 0.1831455986649979 Labels: 1398\n",
      "Dataset: satimage\n",
      "Validation Iteration: 0 Accuracy: 0.41161223431829963 Labels: 225\n",
      "Dataset: robot\n",
      "Validation Iteration: 0 Accuracy: 0.03717948717948718 Labels: 272\n"
     ]
    }
   ],
   "source": [
    "adaboost_multi_metrics = []\n",
    "adaboost_multi_clfs = []\n",
    "\n",
    "for key in datasets: \n",
    "    X, y = datasets[key]\n",
    "    print(f'Dataset: {key}')\n",
    "\n",
    "    steps = 20\n",
    "    views = 2\n",
    "\n",
    "    model =  {\n",
    "        'classifier':AdaBoostClassifier(),\n",
    "        'num_view':views,\n",
    "        'gamma':0.3,\n",
    "        'steps':10,\n",
    "        'regularizer':'hard',\n",
    "        'update_add_num': int(X.shape[0]/steps)\n",
    "    }\n",
    "\n",
    "    clfs, metrics = Validation.validation(\n",
    "        model_params=model,\n",
    "        train_data_x=X,\n",
    "        train_data_y=y,\n",
    "        percent_labeled=0.05,\n",
    "        random_seed=seed,\n",
    "        spaco=True,\n",
    "        iters=10,\n",
    "        hsplit=True,\n",
    "        hsplit_size=2\n",
    "    )\n",
    "    \n",
    "    adaboost_multi_metrics.append(metrics)\n",
    "    adaboost_multi_clfs.append(clfs)\n",
    "    \n",
    "adaboost_multi_score = np.array(adaboost_multi_metrics)"
   ]
  },
  {
   "cell_type": "code",
   "execution_count": 16,
   "metadata": {},
   "outputs": [
    {
     "data": {
      "text/plain": [
       "array([[0.88888889, 0.88888889, 0.37426901, 0.90643275, 0.90643275,\n",
       "        0.37426901, 0.88888889, 0.91812865, 0.37426901, 0.37426901],\n",
       "       [0.1462963 , 0.18518519, 0.11666667, 0.10925926, 0.1962963 ,\n",
       "        0.15740741, 0.15555556, 0.14444444, 0.09444444, 0.17407407],\n",
       "       [0.76      , 0.74666667, 0.76      , 0.76      , 0.76      ,\n",
       "        0.53777778, 0.74666667, 0.76888889, 0.76      , 0.75555556],\n",
       "       [0.84241301, 0.84241301, 0.84241301, 0.84241301, 0.84241301,\n",
       "        0.84241301, 0.84241301, 0.84241301, 0.84241301, 0.84241301],\n",
       "       [0.61198738, 0.67507886, 0.65615142, 0.71293375, 0.46687697,\n",
       "        0.75078864, 0.66561514, 0.66246057, 0.67823344, 0.67823344],\n",
       "       [0.55117935, 0.55117935, 0.57899421, 0.44926569, 0.55852247,\n",
       "        0.55117935, 0.55117935, 0.55117935, 0.59746328, 0.55117935],\n",
       "       [0.71428571, 0.41142857, 0.54857143, 0.71428571, 0.39428571,\n",
       "        0.68571429, 0.71428571, 0.71428571, 0.71428571, 0.52      ],\n",
       "       [0.1831456 , 0.83003755, 0.83153942, 0.83153942, 0.83153942,\n",
       "        0.83153942, 0.82987067, 0.83120567, 0.83095536, 0.83153942],\n",
       "       [0.41161223, 0.32089165, 0.38413686, 0.29341628, 0.31933644,\n",
       "        0.47071021, 0.43545879, 0.38932089, 0.37169518, 0.47174702],\n",
       "       [0.03717949, 0.07478632, 0.04188034, 0.03333333, 0.05982906,\n",
       "        0.07051282, 0.08931624, 0.04059829, 0.06025641, 0.03034188]])"
      ]
     },
     "execution_count": 16,
     "metadata": {},
     "output_type": "execute_result"
    }
   ],
   "source": [
    "adaboost_multi_score"
   ]
  },
  {
   "cell_type": "code",
   "execution_count": 17,
   "metadata": {},
   "outputs": [
    {
     "data": {
      "image/png": "[encoded data removed]",
      "text/plain": [
       "<Figure size 432x288 with 1 Axes>"
      ]
     },
     "metadata": {
      "needs_background": "light"
     },
     "output_type": "display_data"
    }
   ],
   "source": [
    "baycomp_ada, bayplot_ada = baycomp.two_on_multiple(\n",
    "    adaboost_base_score, \n",
    "    adaboost_multi_score, \n",
    "    plot=True, \n",
    "    rope=0.05, \n",
    "    names = ('AdaBoost','AdaBoost-SPamCo'))"
   ]
  },
  {
   "cell_type": "markdown",
   "metadata": {},
   "source": [
    "## RandomForrestClassifier"
   ]
  },
  {
   "cell_type": "code",
   "execution_count": 20,
   "metadata": {},
   "outputs": [
    {
     "name": "stdout",
     "output_type": "stream",
     "text": [
      "Dataset: breast_cancer\n",
      "Validation Iteration: 0 Accuracy: 0.9298245614035088 Labels: 19\n",
      "Dataset: digits\n",
      "Validation Iteration: 0 Accuracy: 0.8277777777777777 Labels: 62\n",
      "Dataset: blood\n",
      "Validation Iteration: 0 Accuracy: 0.7466666666666667 Labels: 26\n",
      "Dataset: diabetes\n",
      "Validation Iteration: 0 Accuracy: 0.8439109639440765 Labels: 8878\n",
      "Dataset: qsar\n",
      "Validation Iteration: 0 Accuracy: 0.722397476340694 Labels: 36\n",
      "Dataset: eegeye\n",
      "Validation Iteration: 0 Accuracy: 0.7861593235425011 Labels: 524\n",
      "Dataset: ilpd\n",
      "Validation Iteration: 0 Accuracy: 0.6914285714285714 Labels: 20\n",
      "Dataset: click\n",
      "Validation Iteration: 0 Accuracy: 0.8212765957446808 Labels: 1398\n",
      "Dataset: satimage\n",
      "Validation Iteration: 0 Accuracy: 0.8538102643856921 Labels: 225\n",
      "Dataset: robot\n",
      "Validation Iteration: 0 Accuracy: 0.8418803418803419 Labels: 272\n"
     ]
    }
   ],
   "source": [
    "rfc_base_metrics = []\n",
    "rfc_base_clfs = []\n",
    "for key in datasets: \n",
    "    X, y = datasets[key]\n",
    "    print(f'Dataset: {key}')\n",
    "\n",
    "    model =  {\n",
    "        'classifier':RandomForestClassifier(),\n",
    "        'num_view':1,\n",
    "        'gamma':0.3,\n",
    "        'steps':10,\n",
    "        'regularizer':'hard'\n",
    "    }\n",
    "\n",
    "    clfs, metrics = Validation.validation(\n",
    "        model_params=model,\n",
    "        train_data_x=X,\n",
    "        train_data_y=y,\n",
    "        percent_labeled=0.05,\n",
    "        random_seed=seed,\n",
    "        iters=10\n",
    "    )\n",
    "\n",
    "    rfc_base_metrics.append(metrics)\n",
    "    rfc_base_clfs.append(clfs)\n",
    "\n",
    "    rfc_base_score = np.array(rfc_base_metrics)"
   ]
  },
  {
   "cell_type": "code",
   "execution_count": 21,
   "metadata": {},
   "outputs": [
    {
     "name": "stdout",
     "output_type": "stream",
     "text": [
      "Dataset: breast_cancer\n",
      "Validation Iteration: 0 Accuracy: 0.9298245614035088 Labels: 19\n",
      "Dataset: digits\n",
      "Validation Iteration: 0 Accuracy: 0.7518518518518519 Labels: 62\n",
      "Dataset: blood\n",
      "Validation Iteration: 0 Accuracy: 0.76 Labels: 26\n",
      "Dataset: diabetes\n",
      "Validation Iteration: 0 Accuracy: 0.8306790707452959 Labels: 8878\n",
      "Dataset: qsar\n",
      "Validation Iteration: 0 Accuracy: 0.6908517350157729 Labels: 36\n",
      "Dataset: eegeye\n",
      "Validation Iteration: 0 Accuracy: 0.6375166889185581 Labels: 524\n",
      "Dataset: ilpd\n",
      "Validation Iteration: 0 Accuracy: 0.6971428571428572 Labels: 20\n",
      "Dataset: click\n",
      "Validation Iteration: 0 Accuracy: 0.6819357530246141 Labels: 1398\n",
      "Dataset: satimage\n",
      "Validation Iteration: 0 Accuracy: 0.7636080870917574 Labels: 225\n",
      "Dataset: robot\n",
      "Validation Iteration: 0 Accuracy: 0.8217948717948718 Labels: 272\n"
     ]
    }
   ],
   "source": [
    "rfc_multi_metrics = []\n",
    "rfc_multi_clfs = []\n",
    "for key in datasets: \n",
    "    X, y = datasets[key]\n",
    "    print(f'Dataset: {key}')\n",
    "    \n",
    "    steps = 20\n",
    "    views = 2\n",
    "    \n",
    "    model =  {\n",
    "        'classifier':RandomForestClassifier(),\n",
    "        'num_view':views,\n",
    "        'gamma':0.3,\n",
    "        'steps':10,\n",
    "        'regularizer':'hard',\n",
    "        'update_add_num': int(X.shape[0]/steps)\n",
    "    }\n",
    "\n",
    "    clfs, metrics = Validation.validation(\n",
    "        model_params=model,\n",
    "        train_data_x=X,\n",
    "        train_data_y=y,\n",
    "        percent_labeled=0.05,\n",
    "        random_seed=seed,\n",
    "        spaco=True,\n",
    "        iters=10,\n",
    "        hsplit=True,\n",
    "        hsplit_size=2\n",
    "    )\n",
    "    \n",
    "    rfc_multi_metrics.append(metrics)\n",
    "    rfc_multi_clfs.append(clfs)\n",
    "    \n",
    "rfc_multi_score = np.array(rfc_multi_metrics)"
   ]
  },
  {
   "cell_type": "code",
   "execution_count": 22,
   "metadata": {},
   "outputs": [
    {
     "data": {
      "image/png": "[encoded data removed]",
      "text/plain": [
       "<Figure size 432x288 with 1 Axes>"
      ]
     },
     "metadata": {
      "needs_background": "light"
     },
     "output_type": "display_data"
    }
   ],
   "source": [
    "baycomp_rfc, bayplot_rfc = baycomp.two_on_multiple(\n",
    "    rfc_base_score, \n",
    "    rfc_multi_score, \n",
    "    plot=True, \n",
    "    rope=0.05, \n",
    "    names = ('RFC','RFC-SPamCo'))"
   ]
  },
  {
   "cell_type": "markdown",
   "metadata": {},
   "source": [
    "## XGBoost"
   ]
  },
  {
   "cell_type": "code",
   "execution_count": 24,
   "metadata": {},
   "outputs": [
    {
     "name": "stdout",
     "output_type": "stream",
     "text": [
      "Dataset: breast_cancer\n",
      "Validation Iteration: 0 Accuracy: 0.9064327485380117 Labels: 39\n",
      "Dataset: digits\n",
      "Validation Iteration: 0 Accuracy: 0.8333333333333334 Labels: 125\n",
      "Dataset: blood\n",
      "Validation Iteration: 0 Accuracy: 0.7422222222222222 Labels: 52\n",
      "Dataset: diabetes\n",
      "Validation Iteration: 0 Accuracy: 0.8395353726479554 Labels: 17757\n",
      "Dataset: qsar\n",
      "Validation Iteration: 0 Accuracy: 0.7634069400630915 Labels: 73\n",
      "Dataset: eegeye\n",
      "Validation Iteration: 0 Accuracy: 0.821762349799733 Labels: 1048\n",
      "Dataset: ilpd\n",
      "Validation Iteration: 0 Accuracy: 0.6742857142857143 Labels: 40\n",
      "Dataset: click\n",
      "Validation Iteration: 0 Accuracy: 0.812348769294952 Labels: 2796\n",
      "Dataset: satimage\n",
      "Validation Iteration: 0 Accuracy: 0.8465526179367548 Labels: 450\n",
      "Dataset: robot\n",
      "Validation Iteration: 0 Accuracy: 0.8222222222222222 Labels: 545\n"
     ]
    }
   ],
   "source": [
    "xgboost_base_metrics = []\n",
    "xgboost_base_clfs = []\n",
    "for key in datasets: \n",
    "    X, y = datasets[key]\n",
    "    print(f'Dataset: {key}')\n",
    "\n",
    "    model =  {\n",
    "        'classifier':xgb.XGBClassifier(silent=True, verbosity=0),\n",
    "        'num_view':1,\n",
    "        'gamma':0.3,\n",
    "        'steps':10,\n",
    "        'regularizer':'hard'\n",
    "    }\n",
    "\n",
    "    clfs, metrics = Validation.validation(\n",
    "        model_params=model,\n",
    "        train_data_x=X,\n",
    "        train_data_y=y,\n",
    "        percent_labeled=0.1,\n",
    "        random_seed=np.arange(0,10),\n",
    "        iters=10\n",
    "    )\n",
    "\n",
    "    xgboost_base_metrics.append(metrics)\n",
    "    xgboost_base_clfs.append(clfs)\n",
    "\n",
    "    xgboost_base_score = np.array(xgboost_base_metrics)"
   ]
  },
  {
   "cell_type": "code",
   "execution_count": 25,
   "metadata": {},
   "outputs": [
    {
     "name": "stdout",
     "output_type": "stream",
     "text": [
      "Dataset: breast_cancer\n",
      "Validation Iteration: 0 Accuracy: 0.9239766081871345 Labels: 19\n",
      "Dataset: digits\n",
      "Validation Iteration: 0 Accuracy: 0.7166666666666667 Labels: 62\n",
      "Dataset: blood\n",
      "Validation Iteration: 0 Accuracy: 0.76 Labels: 26\n",
      "Dataset: diabetes\n",
      "Validation Iteration: 0 Accuracy: 0.842360454115421 Labels: 8878\n",
      "Dataset: qsar\n",
      "Validation Iteration: 0 Accuracy: 0.6561514195583596 Labels: 36\n",
      "Dataset: eegeye\n",
      "Validation Iteration: 0 Accuracy: 0.5518469069870939 Labels: 524\n",
      "Dataset: ilpd\n",
      "Validation Iteration: 0 Accuracy: 0.6628571428571428 Labels: 20\n",
      "Dataset: click\n",
      "Validation Iteration: 0 Accuracy: 0.555110554860242 Labels: 1398\n",
      "Dataset: satimage\n",
      "Validation Iteration: 0 Accuracy: 0.7579056505961638 Labels: 225\n",
      "Dataset: robot\n",
      "Validation Iteration: 0 Accuracy: 0.7311965811965812 Labels: 272\n"
     ]
    }
   ],
   "source": [
    "xgboost_multi_metrics = []\n",
    "xgboost_multi_clfs = []\n",
    "for key in datasets: \n",
    "    X, y = datasets[key]\n",
    "    print(f'Dataset: {key}')\n",
    "    \n",
    "    steps = 20\n",
    "    views = 2\n",
    "    \n",
    "    model =  {\n",
    "        'classifier':xgb.XGBClassifier(silent=True, verbosity=0),\n",
    "        'num_view':views,\n",
    "        'gamma':0.3,\n",
    "        'steps':10,\n",
    "        'regularizer':'hard',\n",
    "        'update_add_num': int(X.shape[0]/steps)\n",
    "    }\n",
    "\n",
    "    clfs, metrics = Validation.validation(\n",
    "        model_params=model,\n",
    "        train_data_x=X,\n",
    "        train_data_y=y,\n",
    "        percent_labeled=0.05,\n",
    "        random_seed=seed,\n",
    "        spaco=True,\n",
    "        iters=10,\n",
    "        hsplit=True,\n",
    "        hsplit_size=2\n",
    "    )\n",
    "    \n",
    "    xgboost_multi_metrics.append(metrics)\n",
    "    xgboost_multi_clfs.append(clfs)\n",
    "    \n",
    "xgboost_multi_score = np.array(xgboost_multi_metrics)"
   ]
  },
  {
   "cell_type": "code",
   "execution_count": 26,
   "metadata": {},
   "outputs": [
    {
     "data": {
      "image/png": "[encoded data removed]",
      "text/plain": [
       "<Figure size 432x288 with 1 Axes>"
      ]
     },
     "metadata": {
      "needs_background": "light"
     },
     "output_type": "display_data"
    }
   ],
   "source": [
    "baycomp_xgboost, bayplot_xgboost = baycomp.two_on_multiple(\n",
    "    xgboost_base_score, \n",
    "    xgboost_multi_score, \n",
    "    plot=True, \n",
    "    rope=0.05, \n",
    "    names = ('XGBoost','XGBoost-SPamCo'))"
   ]
  }
 ],
 "metadata": {
  "kernelspec": {
   "display_name": "Python 3 (ipykernel)",
   "language": "python",
   "name": "python3"
  },
  "language_info": {
   "codemirror_mode": {
    "name": "ipython",
    "version": 3
   },
   "file_extension": ".py",
   "mimetype": "text/x-python",
   "name": "python",
   "nbconvert_exporter": "python",
   "pygments_lexer": "ipython3",
   "version": "3.9.7"
  }
 },
 "nbformat": 4,
 "nbformat_minor": 4
}
