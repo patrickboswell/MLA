{
 "cells": [
  {
   "cell_type": "markdown",
   "metadata": {},
   "source": [
    "# SPamCo with Ensembles"
   ]
  },
  {
   "cell_type": "code",
   "execution_count": 1,
   "metadata": {},
   "outputs": [],
   "source": [
    "#Math packages\n",
    "import numpy as np\n",
    "\n",
    "#Data packages\n",
    "import pandas as pd\n",
    "import pandas_profiling\n",
    "\n",
    "#Spamco\n",
    "from spamco import SPamCo, Validation\n",
    "\n",
    "#Data packages\n",
    "from sklearn.datasets import make_moons, make_classification, make_circles, make_blobs, make_gaussian_quantiles\n",
    "from sklearn.datasets import load_breast_cancer, load_digits, load_iris\n",
    "from sklearn.model_selection import train_test_split\n",
    "from sklearn.datasets import fetch_openml\n",
    "from sklearn.preprocessing import LabelEncoder\n",
    "\n",
    "#Classifier packages\n",
    "from sklearn.ensemble import RandomForestClassifier\n",
    "from sklearn.ensemble import AdaBoostClassifier\n",
    "import xgboost as xgb\n",
    "\n",
    "#Validation packages\n",
    "from sklearn.metrics import accuracy_score\n",
    "\n",
    "#Visualization packages\n",
    "import plotly.express as px\n",
    "\n",
    "import matplotlib\n",
    "import matplotlib.pyplot as plt\n",
    "import matplotlib.pylab as plb\n",
    "from matplotlib.ticker import MaxNLocator\n",
    "\n",
    "import baycomp\n",
    "\n",
    "#General utility packages\n",
    "from itertools import cycle, islice\n",
    "import warnings\n",
    "\n",
    "warnings.filterwarnings(\"ignore\")\n",
    "matplotlib.rcParams.update({'font.size': 20})"
   ]
  },
  {
   "cell_type": "code",
   "execution_count": 2,
   "metadata": {},
   "outputs": [],
   "source": [
    "def load_diabetes():\n",
    "    df = pd.read_csv('Data/diabetes.csv')\n",
    "    y =df.values[:,0]\n",
    "    X =df.drop(['Diabetes_012','AnyHealthcare'], axis = 1).values\n",
    "    return X, y"
   ]
  },
  {
   "cell_type": "code",
   "execution_count": 3,
   "metadata": {},
   "outputs": [],
   "source": [
    "def load_blood():\n",
    "    X, y = fetch_openml(data_id = 1464, return_X_y=True)\n",
    "    X = X.values\n",
    "    LE = LabelEncoder()\n",
    "    y = LE.fit_transform(y)\n",
    "    return X, y"
   ]
  },
  {
   "cell_type": "code",
   "execution_count": 4,
   "metadata": {},
   "outputs": [],
   "source": [
    "def load_qsar():\n",
    "    X, y = fetch_openml(data_id = 1494, return_X_y=True)\n",
    "    X = X.drop(['V1'], axis=1)\n",
    "    X = X.values\n",
    "    LE = LabelEncoder()\n",
    "    y = LE.fit_transform(y)\n",
    "    return X, y"
   ]
  },
  {
   "cell_type": "code",
   "execution_count": 5,
   "metadata": {},
   "outputs": [],
   "source": [
    "def load_eegeye():\n",
    "    X, y = fetch_openml(data_id = 1471, return_X_y=True)\n",
    "    X = X.values\n",
    "    LE = LabelEncoder()\n",
    "    y = LE.fit_transform(y)\n",
    "    return X, y"
   ]
  },
  {
   "cell_type": "code",
   "execution_count": 10,
   "metadata": {},
   "outputs": [],
   "source": [
    "def load_ilpd():\n",
    "    X, y = fetch_openml(data_id = 1480, return_X_y=True)\n",
    "    LE = LabelEncoder()\n",
    "    X['V2'] = LE.fit_transform(X['V2'])\n",
    "    X = X.values\n",
    "    y = LE.fit_transform(y)\n",
    "    return X, y"
   ]
  },
  {
   "cell_type": "code",
   "execution_count": 11,
   "metadata": {},
   "outputs": [],
   "source": [
    "np.random.seed(1)\n",
    "seed = np.random.randint(low = 1, high = 10000, size = 10)"
   ]
  },
  {
   "cell_type": "code",
   "execution_count": 12,
   "metadata": {},
   "outputs": [
    {
     "data": {
      "text/plain": [
       "array([ 236, 5193,  906, 7814, 2896, 5057,  145, 4226, 7752, 3463])"
      ]
     },
     "execution_count": 12,
     "metadata": {},
     "output_type": "execute_result"
    }
   ],
   "source": [
    "seed"
   ]
  },
  {
   "cell_type": "markdown",
   "metadata": {},
   "source": [
    "# Toy Datasets"
   ]
  },
  {
   "cell_type": "code",
   "execution_count": 13,
   "metadata": {},
   "outputs": [],
   "source": [
    "datasets = {\n",
    "    'breast_cancer': load_breast_cancer(return_X_y=True),\n",
    "    'digits': load_digits(return_X_y=True),\n",
    "    'iris': load_iris(return_X_y=True),\n",
    "    'blood': load_blood(),\n",
    "    'diabetes': load_diabetes(),\n",
    "    'qsar': load_qsar(),\n",
    "    'eegeye': load_eegeye(),\n",
    "    'ilpd': load_ilpd()\n",
    "}"
   ]
  },
  {
   "cell_type": "markdown",
   "metadata": {},
   "source": [
    "## AdaBoost"
   ]
  },
  {
   "cell_type": "code",
   "execution_count": 15,
   "metadata": {},
   "outputs": [
    {
     "name": "stdout",
     "output_type": "stream",
     "text": [
      "Dataset: breast_cancer\n",
      "Validation Iteration: 0 Accuracy: 0.8654970760233918 Labels: 39\n",
      "Dataset: digits\n",
      "Validation Iteration: 0 Accuracy: 0.1962962962962963 Labels: 125\n",
      "Dataset: iris\n",
      "Validation Iteration: 0 Accuracy: 0.9777777777777777 Labels: 10\n",
      "Dataset: blood\n",
      "Validation Iteration: 0 Accuracy: 0.7244444444444444 Labels: 52\n",
      "Dataset: diabetes\n",
      "Validation Iteration: 0 Accuracy: 0.8478135183433196 Labels: 17757\n",
      "Dataset: qsar\n",
      "Validation Iteration: 0 Accuracy: 0.7665615141955836 Labels: 73\n",
      "Dataset: eegeye\n",
      "Validation Iteration: 0 Accuracy: 0.7287494437027148 Labels: 1048\n",
      "Dataset: ilpd\n",
      "Validation Iteration: 0 Accuracy: 0.6114285714285714 Labels: 40\n"
     ]
    }
   ],
   "source": [
    "adaboost_base_metrics = []\n",
    "adaboost_base_clfs = []\n",
    "for key in datasets: \n",
    "    X, y = datasets[key]\n",
    "    print(f'Dataset: {key}')\n",
    "\n",
    "    model =  {\n",
    "        'classifier':AdaBoostClassifier(),\n",
    "        'num_view':1,\n",
    "        'gamma':0.3,\n",
    "        'steps':10,\n",
    "        'regularizer':'hard'\n",
    "    }\n",
    "\n",
    "    clfs, metrics = Validation.validation(\n",
    "        model_params=model,\n",
    "        train_data_x=X,\n",
    "        train_data_y=y,\n",
    "        percent_labeled=0.1,\n",
    "        random_seed=seed,\n",
    "        iters=10\n",
    "    )\n",
    "\n",
    "    adaboost_base_metrics.append(metrics)\n",
    "    adaboost_base_clfs.append(clfs)\n",
    "\n",
    "    adaboost_base_score = np.array(adaboost_base_metrics)"
   ]
  },
  {
   "cell_type": "code",
   "execution_count": 17,
   "metadata": {},
   "outputs": [
    {
     "data": {
      "text/plain": [
       "(8, 10)"
      ]
     },
     "execution_count": 17,
     "metadata": {},
     "output_type": "execute_result"
    }
   ],
   "source": [
    "adaboost_base_score.shape"
   ]
  },
  {
   "cell_type": "code",
   "execution_count": null,
   "metadata": {},
   "outputs": [
    {
     "name": "stdout",
     "output_type": "stream",
     "text": [
      "Dataset: breast_cancer\n",
      "Validation Iteration: 0 Accuracy: 0.9298245614035088 Labels: 39\n",
      "Dataset: digits\n",
      "Validation Iteration: 0 Accuracy: 0.14444444444444443 Labels: 125\n",
      "Dataset: iris\n",
      "Validation Iteration: 0 Accuracy: 0.9777777777777777 Labels: 10\n",
      "Dataset: blood\n",
      "Validation Iteration: 0 Accuracy: 0.7688888888888888 Labels: 52\n",
      "Dataset: diabetes\n"
     ]
    }
   ],
   "source": [
    "adaboost_multi_metrics = []\n",
    "adaboost_multi_clfs = []\n",
    "\n",
    "\n",
    "\n",
    "for key in datasets: \n",
    "    X, y = datasets[key]\n",
    "    print(f'Dataset: {key}')\n",
    "\n",
    "    steps = 20\n",
    "    views = 2\n",
    "\n",
    "    model =  {\n",
    "        'classifier':AdaBoostClassifier(),\n",
    "        'num_view':views,\n",
    "        'gamma':0.3,\n",
    "        'steps':10,\n",
    "        'regularizer':'hard',\n",
    "        'update_add_num': int(X.shape[0]/steps)\n",
    "    }\n",
    "\n",
    "    clfs, metrics = Validation.validation(\n",
    "        model_params=model,\n",
    "        train_data_x=X,\n",
    "        train_data_y=y,\n",
    "        percent_labeled=0.1,\n",
    "        random_seed=seed,\n",
    "        spaco=True,\n",
    "        iters=10,\n",
    "        hsplit=True,\n",
    "        hsplit_size=2\n",
    "    )\n",
    "    \n",
    "    adaboost_multi_metrics.append(metrics)\n",
    "    adaboost_multi_clfs.append(clfs)\n",
    "    \n",
    "adaboost_multi_score = np.array(adaboost_multi_metrics)"
   ]
  },
  {
   "cell_type": "code",
   "execution_count": 28,
   "metadata": {},
   "outputs": [
    {
     "data": {
      "text/plain": [
       "array([[0.91812865, 0.58479532, 0.37426901, 0.46783626, 0.66666667,\n",
       "        0.64327485, 0.92982456, 0.92397661, 0.91812865, 0.7251462 ,\n",
       "        0.37426901, 0.75438596, 0.84210526, 0.89473684, 0.62573099,\n",
       "        0.92982456, 0.37426901, 0.5497076 , 0.8245614 , 0.81871345],\n",
       "       [0.14444444, 0.13888889, 0.0962963 , 0.1       , 0.08888889,\n",
       "        0.11666667, 0.15925926, 0.11296296, 0.19259259, 0.12777778,\n",
       "        0.11111111, 0.13888889, 0.16481481, 0.12777778, 0.12222222,\n",
       "        0.09444444, 0.15555556, 0.15185185, 0.22037037, 0.10925926],\n",
       "       [0.97777778, 0.66666667, 0.64444444, 0.77777778, 0.71111111,\n",
       "        0.66666667, 0.62222222, 0.95555556, 0.91111111, 0.66666667,\n",
       "        0.57777778, 0.68888889, 0.42222222, 0.73333333, 0.6       ,\n",
       "        0.8       , 0.95555556, 0.66666667, 0.64444444, 0.97777778],\n",
       "       [0.76888889, 0.76444444, 0.76      , 0.76      , 0.76      ,\n",
       "        0.76      , 0.76      , 0.76      , 0.75111111, 0.48      ,\n",
       "        0.76444444, 0.28444444, 0.78222222, 0.49333333, 0.40444444,\n",
       "        0.73333333, 0.75111111, 0.38222222, 0.75555556, 0.45777778],\n",
       "       [0.84241301, 0.84241301, 0.84241301, 0.84241301, 0.84241301,\n",
       "        0.84241301, 0.84241301, 0.84241301, 0.84241301, 0.84241301,\n",
       "        0.84241301, 0.84241301, 0.84241301, 0.84241301, 0.84241301,\n",
       "        0.84241301, 0.84241301, 0.84241301, 0.84241301, 0.84241301],\n",
       "       [0.64984227, 0.66246057, 0.66561514, 0.66246057, 0.69085174,\n",
       "        0.66246057, 0.66246057, 0.66246057, 0.65930599, 0.33753943,\n",
       "        0.69085174, 0.33753943, 0.66561514, 0.66246057, 0.74763407,\n",
       "        0.66246057, 0.45741325, 0.33753943, 0.41955836, 0.66246057],\n",
       "       [0.55807744, 0.55117935, 0.55117935, 0.55117935, 0.55496217,\n",
       "        0.55117935, 0.55184691, 0.55117935, 0.54250111, 0.55117935,\n",
       "        0.55162439, 0.55117935, 0.55006676, 0.55117935, 0.53693814,\n",
       "        0.55117935, 0.53538051, 0.55117935, 0.55117935, 0.55117935]])"
      ]
     },
     "execution_count": 28,
     "metadata": {},
     "output_type": "execute_result"
    }
   ],
   "source": [
    "adaboost_multi_score"
   ]
  },
  {
   "cell_type": "code",
   "execution_count": 27,
   "metadata": {},
   "outputs": [
    {
     "ename": "ValueError",
     "evalue": "operands could not be broadcast together with shapes (7,20) (7,10) ",
     "output_type": "error",
     "traceback": [
      "\u001b[1;31m---------------------------------------------------------------------------\u001b[0m",
      "\u001b[1;31mValueError\u001b[0m                                Traceback (most recent call last)",
      "\u001b[1;32m~\\AppData\\Local\\Temp/ipykernel_972/3722081995.py\u001b[0m in \u001b[0;36m<module>\u001b[1;34m\u001b[0m\n\u001b[1;32m----> 1\u001b[1;33m baycomp_ada, bayplot_ada = baycomp.two_on_multiple(\n\u001b[0m\u001b[0;32m      2\u001b[0m     \u001b[0madaboost_base_score\u001b[0m\u001b[1;33m,\u001b[0m\u001b[1;33m\u001b[0m\u001b[1;33m\u001b[0m\u001b[0m\n\u001b[0;32m      3\u001b[0m     \u001b[0madaboost_multi_score\u001b[0m\u001b[1;33m,\u001b[0m\u001b[1;33m\u001b[0m\u001b[1;33m\u001b[0m\u001b[0m\n\u001b[0;32m      4\u001b[0m     \u001b[0mplot\u001b[0m\u001b[1;33m=\u001b[0m\u001b[1;32mTrue\u001b[0m\u001b[1;33m,\u001b[0m\u001b[1;33m\u001b[0m\u001b[1;33m\u001b[0m\u001b[0m\n\u001b[0;32m      5\u001b[0m     \u001b[0mrope\u001b[0m\u001b[1;33m=\u001b[0m\u001b[1;36m0.05\u001b[0m\u001b[1;33m,\u001b[0m\u001b[1;33m\u001b[0m\u001b[1;33m\u001b[0m\u001b[0m\n",
      "\u001b[1;32mC:\\ProgramData\\Anaconda3\\lib\\site-packages\\baycomp\\multiple.py\u001b[0m in \u001b[0;36mtwo_on_multiple\u001b[1;34m(x, y, rope, runs, names, plot, **kwargs)\u001b[0m\n\u001b[0;32m    485\u001b[0m     \u001b[1;32melse\u001b[0m\u001b[1;33m:\u001b[0m\u001b[1;33m\u001b[0m\u001b[1;33m\u001b[0m\u001b[0m\n\u001b[0;32m    486\u001b[0m         \u001b[0mtest\u001b[0m \u001b[1;33m=\u001b[0m \u001b[0mSignedRankTest\u001b[0m\u001b[1;33m\u001b[0m\u001b[1;33m\u001b[0m\u001b[0m\n\u001b[1;32m--> 487\u001b[1;33m     \u001b[1;32mreturn\u001b[0m \u001b[0mcall_shortcut\u001b[0m\u001b[1;33m(\u001b[0m\u001b[0mtest\u001b[0m\u001b[1;33m,\u001b[0m \u001b[0mx\u001b[0m\u001b[1;33m,\u001b[0m \u001b[0my\u001b[0m\u001b[1;33m,\u001b[0m \u001b[0mrope\u001b[0m\u001b[1;33m,\u001b[0m \u001b[0mnames\u001b[0m\u001b[1;33m=\u001b[0m\u001b[0mnames\u001b[0m\u001b[1;33m,\u001b[0m \u001b[0mplot\u001b[0m\u001b[1;33m=\u001b[0m\u001b[0mplot\u001b[0m\u001b[1;33m,\u001b[0m \u001b[1;33m**\u001b[0m\u001b[0mkwargs\u001b[0m\u001b[1;33m)\u001b[0m\u001b[1;33m\u001b[0m\u001b[1;33m\u001b[0m\u001b[0m\n\u001b[0m",
      "\u001b[1;32mC:\\ProgramData\\Anaconda3\\lib\\site-packages\\baycomp\\utils.py\u001b[0m in \u001b[0;36mcall_shortcut\u001b[1;34m(test, x, y, rope, plot, names, *args, **kwargs)\u001b[0m\n\u001b[0;32m     18\u001b[0m \u001b[1;33m\u001b[0m\u001b[0m\n\u001b[0;32m     19\u001b[0m \u001b[1;32mdef\u001b[0m \u001b[0mcall_shortcut\u001b[0m\u001b[1;33m(\u001b[0m\u001b[0mtest\u001b[0m\u001b[1;33m,\u001b[0m \u001b[0mx\u001b[0m\u001b[1;33m,\u001b[0m \u001b[0my\u001b[0m\u001b[1;33m,\u001b[0m \u001b[0mrope\u001b[0m\u001b[1;33m,\u001b[0m \u001b[1;33m*\u001b[0m\u001b[0margs\u001b[0m\u001b[1;33m,\u001b[0m \u001b[0mplot\u001b[0m\u001b[1;33m=\u001b[0m\u001b[1;32mFalse\u001b[0m\u001b[1;33m,\u001b[0m \u001b[0mnames\u001b[0m\u001b[1;33m=\u001b[0m\u001b[1;32mNone\u001b[0m\u001b[1;33m,\u001b[0m \u001b[1;33m**\u001b[0m\u001b[0mkwargs\u001b[0m\u001b[1;33m)\u001b[0m\u001b[1;33m:\u001b[0m\u001b[1;33m\u001b[0m\u001b[1;33m\u001b[0m\u001b[0m\n\u001b[1;32m---> 20\u001b[1;33m     \u001b[0msample\u001b[0m \u001b[1;33m=\u001b[0m \u001b[0mtest\u001b[0m\u001b[1;33m(\u001b[0m\u001b[0mx\u001b[0m\u001b[1;33m,\u001b[0m \u001b[0my\u001b[0m\u001b[1;33m,\u001b[0m \u001b[0mrope\u001b[0m\u001b[1;33m,\u001b[0m \u001b[1;33m*\u001b[0m\u001b[0margs\u001b[0m\u001b[1;33m,\u001b[0m \u001b[1;33m**\u001b[0m\u001b[0mkwargs\u001b[0m\u001b[1;33m)\u001b[0m\u001b[1;33m\u001b[0m\u001b[1;33m\u001b[0m\u001b[0m\n\u001b[0m\u001b[0;32m     21\u001b[0m     \u001b[1;32mif\u001b[0m \u001b[0mplot\u001b[0m\u001b[1;33m:\u001b[0m\u001b[1;33m\u001b[0m\u001b[1;33m\u001b[0m\u001b[0m\n\u001b[0;32m     22\u001b[0m         \u001b[1;32mreturn\u001b[0m \u001b[0msample\u001b[0m\u001b[1;33m.\u001b[0m\u001b[0mprobs\u001b[0m\u001b[1;33m(\u001b[0m\u001b[1;33m)\u001b[0m\u001b[1;33m,\u001b[0m \u001b[0msample\u001b[0m\u001b[1;33m.\u001b[0m\u001b[0mplot\u001b[0m\u001b[1;33m(\u001b[0m\u001b[0mnames\u001b[0m\u001b[1;33m)\u001b[0m\u001b[1;33m\u001b[0m\u001b[1;33m\u001b[0m\u001b[0m\n",
      "\u001b[1;32mC:\\ProgramData\\Anaconda3\\lib\\site-packages\\baycomp\\multiple.py\u001b[0m in \u001b[0;36m__new__\u001b[1;34m(cls, x, y, rope, nsamples, **kwargs)\u001b[0m\n\u001b[0;32m    151\u001b[0m \u001b[1;33m\u001b[0m\u001b[0m\n\u001b[0;32m    152\u001b[0m     \u001b[1;32mdef\u001b[0m \u001b[0m__new__\u001b[0m\u001b[1;33m(\u001b[0m\u001b[0mcls\u001b[0m\u001b[1;33m,\u001b[0m \u001b[0mx\u001b[0m\u001b[1;33m,\u001b[0m \u001b[0my\u001b[0m\u001b[1;33m,\u001b[0m \u001b[0mrope\u001b[0m\u001b[1;33m=\u001b[0m\u001b[1;36m0\u001b[0m\u001b[1;33m,\u001b[0m \u001b[1;33m*\u001b[0m\u001b[1;33m,\u001b[0m \u001b[0mnsamples\u001b[0m\u001b[1;33m=\u001b[0m\u001b[1;36m50000\u001b[0m\u001b[1;33m,\u001b[0m \u001b[1;33m**\u001b[0m\u001b[0mkwargs\u001b[0m\u001b[1;33m)\u001b[0m\u001b[1;33m:\u001b[0m\u001b[1;33m\u001b[0m\u001b[1;33m\u001b[0m\u001b[0m\n\u001b[1;32m--> 153\u001b[1;33m         \u001b[1;32mreturn\u001b[0m \u001b[0mPosterior\u001b[0m\u001b[1;33m(\u001b[0m\u001b[0mcls\u001b[0m\u001b[1;33m.\u001b[0m\u001b[0msample\u001b[0m\u001b[1;33m(\u001b[0m\u001b[0mx\u001b[0m\u001b[1;33m,\u001b[0m \u001b[0my\u001b[0m\u001b[1;33m,\u001b[0m \u001b[0mrope\u001b[0m\u001b[1;33m,\u001b[0m \u001b[0mnsamples\u001b[0m\u001b[1;33m=\u001b[0m\u001b[0mnsamples\u001b[0m\u001b[1;33m,\u001b[0m \u001b[1;33m**\u001b[0m\u001b[0mkwargs\u001b[0m\u001b[1;33m)\u001b[0m\u001b[1;33m)\u001b[0m\u001b[1;33m\u001b[0m\u001b[1;33m\u001b[0m\u001b[0m\n\u001b[0m\u001b[0;32m    154\u001b[0m \u001b[1;33m\u001b[0m\u001b[0m\n\u001b[0;32m    155\u001b[0m     \u001b[1;33m@\u001b[0m\u001b[0mclassmethod\u001b[0m\u001b[1;33m\u001b[0m\u001b[1;33m\u001b[0m\u001b[0m\n",
      "\u001b[1;32mC:\\ProgramData\\Anaconda3\\lib\\site-packages\\baycomp\\multiple.py\u001b[0m in \u001b[0;36msample\u001b[1;34m(cls, x, y, rope, runs, lower_alpha, upper_alpha, lower_beta, upper_beta, upper_sigma, chains, nsamples)\u001b[0m\n\u001b[0;32m    368\u001b[0m \u001b[1;33m\u001b[0m\u001b[0m\n\u001b[0;32m    369\u001b[0m         args_signature = (\n\u001b[1;32m--> 370\u001b[1;33m             \u001b[0mhash\u001b[0m\u001b[1;33m(\u001b[0m\u001b[0mtuple\u001b[0m\u001b[1;33m(\u001b[0m\u001b[0mtuple\u001b[0m\u001b[1;33m(\u001b[0m\u001b[0me\u001b[0m \u001b[1;32mfor\u001b[0m \u001b[0me\u001b[0m \u001b[1;32min\u001b[0m \u001b[0mrow\u001b[0m\u001b[1;33m)\u001b[0m \u001b[1;32mfor\u001b[0m \u001b[0mrow\u001b[0m \u001b[1;32min\u001b[0m \u001b[0my\u001b[0m \u001b[1;33m-\u001b[0m \u001b[0mx\u001b[0m\u001b[1;33m)\u001b[0m\u001b[1;33m)\u001b[0m\u001b[1;33m,\u001b[0m\u001b[1;33m\u001b[0m\u001b[1;33m\u001b[0m\u001b[0m\n\u001b[0m\u001b[0;32m    371\u001b[0m             runs, lower_alpha, upper_alpha, lower_beta, upper_beta, upper_sigma)\n\u001b[0;32m    372\u001b[0m \u001b[1;33m\u001b[0m\u001b[0m\n",
      "\u001b[1;31mValueError\u001b[0m: operands could not be broadcast together with shapes (7,20) (7,10) "
     ]
    }
   ],
   "source": [
    "baycomp_ada, bayplot_ada = baycomp.two_on_multiple(\n",
    "    adaboost_base_score, \n",
    "    adaboost_multi_score, \n",
    "    plot=True, \n",
    "    rope=0.05, \n",
    "    names = ('AdaBoost','AdaBoost-SPamCo'))"
   ]
  },
  {
   "cell_type": "markdown",
   "metadata": {},
   "source": [
    "## RandomForrestClassifier"
   ]
  },
  {
   "cell_type": "code",
   "execution_count": 12,
   "metadata": {},
   "outputs": [
    {
     "name": "stdout",
     "output_type": "stream",
     "text": [
      "Dataset: breast_cancer\n",
      "Validation Iteration: 0 Accuracy: 0.9122807017543859 Labels: 39\n",
      "Dataset: digits\n",
      "Validation Iteration: 0 Accuracy: 0.9111111111111111 Labels: 125\n",
      "Dataset: iris\n",
      "Validation Iteration: 0 Accuracy: 0.9777777777777777 Labels: 10\n"
     ]
    }
   ],
   "source": [
    "rfc_base_metrics = []\n",
    "rfc_base_clfs = []\n",
    "for key in datasets: \n",
    "    X, y = datasets[key]\n",
    "    print(f'Dataset: {key}')\n",
    "\n",
    "    model =  {\n",
    "        'classifier':RandomForestClassifier(),\n",
    "        'num_view':1,\n",
    "        'gamma':0.3,\n",
    "        'steps':10,\n",
    "        'regularizer':'hard'\n",
    "    }\n",
    "\n",
    "    clfs, metrics = Validation.validation(\n",
    "        model_params=model,\n",
    "        train_data_x=X,\n",
    "        train_data_y=y,\n",
    "        percent_labeled=0.1,\n",
    "        random_seed=np.arange(0,10),\n",
    "        iters=10\n",
    "    )\n",
    "\n",
    "    rfc_base_metrics.append(metrics)\n",
    "    rfc_base_clfs.append(clfs)\n",
    "\n",
    "    rfc_base_score = np.array(rfc_base_metrics)"
   ]
  },
  {
   "cell_type": "code",
   "execution_count": 13,
   "metadata": {},
   "outputs": [
    {
     "name": "stdout",
     "output_type": "stream",
     "text": [
      "Dataset: breast_cancer\n",
      "Validation Iteration: 0 Accuracy: 0.9005847953216374 Labels: 39\n",
      "Dataset: digits\n",
      "Validation Iteration: 0 Accuracy: 0.7703703703703704 Labels: 125\n",
      "Dataset: iris\n",
      "Validation Iteration: 0 Accuracy: 0.8222222222222222 Labels: 10\n"
     ]
    }
   ],
   "source": [
    "rfc_multi_metrics = []\n",
    "rfc_multi_clfs = []\n",
    "for key in datasets: \n",
    "    X, y = datasets[key]\n",
    "    print(f'Dataset: {key}')\n",
    "\n",
    "    model =  {\n",
    "        'classifier':RandomForestClassifier(),\n",
    "        'num_view':2,\n",
    "        'gamma':0.3,\n",
    "        'steps':2000,\n",
    "        'regularizer':'hard'\n",
    "    }\n",
    "\n",
    "    clfs, metrics = Validation.validation(\n",
    "        model_params=model,\n",
    "        train_data_x=X,\n",
    "        train_data_y=y,\n",
    "        percent_labeled=0.1,\n",
    "        random_seed=np.arange(0,10),\n",
    "        spaco=True,\n",
    "        iters=10,\n",
    "        hsplit=True,\n",
    "        hsplit_size=2\n",
    "    )\n",
    "    \n",
    "    rfc_multi_metrics.append(metrics)\n",
    "    rfc_multi_clfs.append(clfs)\n",
    "    \n",
    "rfc_multi_score = np.array(rfc_multi_metrics)"
   ]
  },
  {
   "cell_type": "code",
   "execution_count": 14,
   "metadata": {},
   "outputs": [
    {
     "data": {
      "image/png": "[encoded data removed]",
      "text/plain": [
       "<Figure size 432x288 with 1 Axes>"
      ]
     },
     "metadata": {
      "needs_background": "light"
     },
     "output_type": "display_data"
    }
   ],
   "source": [
    "baycomp_rfc, bayplot_rfc = baycomp.two_on_multiple(\n",
    "    rfc_base_score, \n",
    "    rfc_multi_score, \n",
    "    plot=True, \n",
    "    rope=0.05, \n",
    "    names = ('RandomForest','RandomForest-SPamCo'))"
   ]
  },
  {
   "cell_type": "markdown",
   "metadata": {},
   "source": [
    "## XGBoost"
   ]
  },
  {
   "cell_type": "code",
   "execution_count": 15,
   "metadata": {},
   "outputs": [
    {
     "name": "stdout",
     "output_type": "stream",
     "text": [
      "Dataset: breast_cancer\n",
      "Validation Iteration: 0 Accuracy: 0.9064327485380117 Labels: 39\n",
      "Dataset: digits\n",
      "Validation Iteration: 0 Accuracy: 0.8333333333333334 Labels: 125\n",
      "Dataset: iris\n",
      "Validation Iteration: 0 Accuracy: 0.9333333333333333 Labels: 10\n"
     ]
    }
   ],
   "source": [
    "xgboost_base_metrics = []\n",
    "xgboost_base_clfs = []\n",
    "for key in datasets: \n",
    "    X, y = datasets[key]\n",
    "    print(f'Dataset: {key}')\n",
    "\n",
    "    model =  {\n",
    "        'classifier':xgb.XGBClassifier(silent=True, verbosity=0),\n",
    "        'num_view':1,\n",
    "        'gamma':0.3,\n",
    "        'steps':10,\n",
    "        'regularizer':'hard'\n",
    "    }\n",
    "\n",
    "    clfs, metrics = Validation.validation(\n",
    "        model_params=model,\n",
    "        train_data_x=X,\n",
    "        train_data_y=y,\n",
    "        percent_labeled=0.1,\n",
    "        random_seed=np.arange(0,10),\n",
    "        iters=10\n",
    "    )\n",
    "\n",
    "    xgboost_base_metrics.append(metrics)\n",
    "    xgboost_base_clfs.append(clfs)\n",
    "\n",
    "    xgboost_base_score = np.array(xgboost_base_metrics)"
   ]
  },
  {
   "cell_type": "code",
   "execution_count": 16,
   "metadata": {},
   "outputs": [
    {
     "name": "stdout",
     "output_type": "stream",
     "text": [
      "Dataset: breast_cancer\n",
      "Validation Iteration: 0 Accuracy: 0.8771929824561403 Labels: 39\n",
      "Dataset: digits\n",
      "Validation Iteration: 0 Accuracy: 0.6851851851851852 Labels: 125\n",
      "Dataset: iris\n",
      "Validation Iteration: 0 Accuracy: 0.5111111111111111 Labels: 10\n"
     ]
    }
   ],
   "source": [
    "xgboost_multi_metrics = []\n",
    "xgboost_multi_clfs = []\n",
    "for key in datasets: \n",
    "    X, y = datasets[key]\n",
    "    print(f'Dataset: {key}')\n",
    "\n",
    "    model =  {\n",
    "        'classifier':xgb.XGBClassifier(silent=True, verbosity=0),\n",
    "        'num_view':2,\n",
    "        'gamma':0.3,\n",
    "        'steps':2000,\n",
    "        'regularizer':'hard'\n",
    "    }\n",
    "\n",
    "    clfs, metrics = Validation.validation(\n",
    "        model_params=model,\n",
    "        train_data_x=X,\n",
    "        train_data_y=y,\n",
    "        percent_labeled=0.1,\n",
    "        random_seed=np.arange(0,10),\n",
    "        spaco=True,\n",
    "        iters=10,\n",
    "        hsplit=True,\n",
    "        hsplit_size=2\n",
    "    )\n",
    "    \n",
    "    xgboost_multi_metrics.append(metrics)\n",
    "    xgboost_multi_clfs.append(clfs)\n",
    "    \n",
    "xgboost_multi_score = np.array(xgboost_multi_metrics)"
   ]
  },
  {
   "cell_type": "code",
   "execution_count": 17,
   "metadata": {},
   "outputs": [
    {
     "name": "stderr",
     "output_type": "stream",
     "text": [
      "WARNING:pystan:11 of 4000 iterations ended with a divergence (0.275 %).\n",
      "WARNING:pystan:Try running with adapt_delta larger than 0.8 to remove the divergences.\n"
     ]
    },
    {
     "data": {
      "image/png": "[encoded data removed]",
      "text/plain": [
       "<Figure size 432x288 with 1 Axes>"
      ]
     },
     "metadata": {
      "needs_background": "light"
     },
     "output_type": "display_data"
    }
   ],
   "source": [
    "baycomp_xgboost, bayplot_xgboost = baycomp.two_on_multiple(\n",
    "    xgboost_base_score, \n",
    "    xgboost_multi_score, \n",
    "    plot=True, \n",
    "    rope=0.05, \n",
    "    names = ('XGBoost','XGBoost-SPamCo'))"
   ]
  },
  {
   "cell_type": "markdown",
   "metadata": {},
   "source": [
    "## AdaBoost Classifier Testing"
   ]
  },
  {
   "cell_type": "code",
   "execution_count": 192,
   "metadata": {},
   "outputs": [
    {
     "name": "stdout",
     "output_type": "stream",
     "text": [
      "Validation Iteration: 0 Accuracy: 0.8830409356725146 Labels: 19\n",
      "Validation Iteration: 0 Accuracy: 0.9005847953216374 Labels: 19\n",
      "Validation Iteration: 0 Accuracy: 0.8947368421052632 Labels: 19\n",
      "Validation Iteration: 0 Accuracy: 0.8654970760233918 Labels: 19\n",
      "Validation Iteration: 0 Accuracy: 0.8830409356725146 Labels: 19\n",
      "Validation Iteration: 0 Accuracy: 0.8713450292397661 Labels: 19\n",
      "Validation Iteration: 0 Accuracy: 0.8654970760233918 Labels: 19\n",
      "Validation Iteration: 0 Accuracy: 0.9005847953216374 Labels: 19\n",
      "Validation Iteration: 0 Accuracy: 0.9005847953216374 Labels: 19\n",
      "Validation Iteration: 0 Accuracy: 0.8654970760233918 Labels: 19\n"
     ]
    }
   ],
   "source": [
    "data = load_breast_cancer()\n",
    "X, y = data.data, data.target\n",
    "\n",
    "model =  {\n",
    "    'classifier':AdaBoostClassifier(),\n",
    "    'num_view':1,\n",
    "    'gamma':0.3,\n",
    "    'steps':10,\n",
    "    'regularizer':'hard'\n",
    "}\n",
    "\n",
    "adaboost_base_metrics = []\n",
    "adaboost_base_clfs = []\n",
    "\n",
    "for i in range(0, 10):\n",
    "    clfs, metrics = Validation.validation(\n",
    "        model_params=model,\n",
    "        train_data_x=X,\n",
    "        train_data_y=y,\n",
    "        percent_labeled=0.05,\n",
    "        random_seed=np.arange(0,10),\n",
    "        iters=10\n",
    "    )\n",
    "    \n",
    "    adaboost_base_metrics.append(metrics)\n",
    "    adaboost_base_clfs.append(clfs)\n",
    "    \n",
    "adaboost_base_score = np.array(adaboost_base_metrics)"
   ]
  },
  {
   "cell_type": "code",
   "execution_count": 3,
   "metadata": {},
   "outputs": [
    {
     "name": "stdout",
     "output_type": "stream",
     "text": [
      "Validation Iteration: 0 Accuracy: 0.8771929824561403 Labels: 19\n",
      "Validation Iteration: 0 Accuracy: 0.8947368421052632 Labels: 19\n",
      "Validation Iteration: 0 Accuracy: 0.8771929824561403 Labels: 19\n",
      "Validation Iteration: 0 Accuracy: 0.8947368421052632 Labels: 19\n",
      "Validation Iteration: 0 Accuracy: 0.8947368421052632 Labels: 19\n",
      "Validation Iteration: 0 Accuracy: 0.8830409356725146 Labels: 19\n",
      "Validation Iteration: 0 Accuracy: 0.8771929824561403 Labels: 19\n",
      "Validation Iteration: 0 Accuracy: 0.8830409356725146 Labels: 19\n",
      "Validation Iteration: 0 Accuracy: 0.8947368421052632 Labels: 19\n",
      "Validation Iteration: 0 Accuracy: 0.8947368421052632 Labels: 19\n"
     ]
    }
   ],
   "source": [
    "data = load_breast_cancer()\n",
    "X, y = data.data, data.target\n",
    "\n",
    "model =  {\n",
    "    'classifier':AdaBoostClassifier(),\n",
    "    'num_view':2,\n",
    "    'gamma':0.3,\n",
    "    'steps':2000,\n",
    "    'regularizer':'hard'\n",
    "}\n",
    "\n",
    "adaboost_single_metrics = []\n",
    "adaboost_single_clfs = []\n",
    "\n",
    "for i in range(0, 10):\n",
    "    clfs, metrics = Validation.validation(\n",
    "        model_params=model,\n",
    "        train_data_x=X,\n",
    "        train_data_y=y,\n",
    "        percent_labeled=0.05,\n",
    "        random_seed=np.arange(0,10),\n",
    "        spaco=True,\n",
    "        single_view=True,\n",
    "        iters=10\n",
    "    )\n",
    "    \n",
    "    adaboost_single_metrics.append(metrics)\n",
    "    adaboost_single_clfs.append(clfs)\n",
    "    \n",
    "adaboost_single_score = np.array(adaboost_single_metrics)"
   ]
  },
  {
   "cell_type": "code",
   "execution_count": null,
   "metadata": {},
   "outputs": [],
   "source": [
    "data = load_breast_cancer()\n",
    "X, y = data.data, data.target\n",
    "\n",
    "model =  {\n",
    "    'classifier':AdaBoostClassifier(),\n",
    "    'num_view':X.shape[1],\n",
    "    'gamma':0.3,\n",
    "    'steps':2000,\n",
    "    'regularizer':'hard'\n",
    "}\n",
    "\n",
    "adaboost_multi_metrics = []\n",
    "adaboost_multi_clfs = []\n",
    "\n",
    "for i in range(0, 10):\n",
    "    clfs, metrics = Validation.validation(\n",
    "        model_params=model,\n",
    "        train_data_x=X,\n",
    "        train_data_y=y,\n",
    "        percent_labeled=0.05,\n",
    "        random_seed=np.arange(0,10),\n",
    "        spaco=True,\n",
    "        iters=10\n",
    "    )\n",
    "    \n",
    "    adaboost_multi_metrics.append(metrics)\n",
    "    adaboost_multi_clfs.append(clfs)\n",
    "    \n",
    "adaboost_multi_score = np.array(adaboost_multi_metrics)"
   ]
  },
  {
   "cell_type": "code",
   "execution_count": 190,
   "metadata": {},
   "outputs": [
    {
     "name": "stdout",
     "output_type": "stream",
     "text": [
      "RFC accuracy with 28 labeled data 0.9408502772643254\n"
     ]
    }
   ],
   "source": [
    "data = load_breast_cancer()\n",
    "X, y = data.data, data.target\n",
    "\n",
    "x_train, x_test, y_train, y_test = train_test_split(X, y, test_size=0.95, stratify=y, random_state=42)\n",
    "rfc = RandomForestClassifier()\n",
    "rfc.fit(x_train, y_train)\n",
    "\n",
    "rfc_pred = rfc.predict(x_test)\n",
    "\n",
    "print(f'RFC accuracy with {len(x_train)} labeled data {accuracy_score(rfc_pred, y_test)}')"
   ]
  },
  {
   "cell_type": "code",
   "execution_count": 189,
   "metadata": {},
   "outputs": [
    {
     "name": "stdout",
     "output_type": "stream",
     "text": [
      "AFC accuracy with 28 labeled data 0.878003696857671\n"
     ]
    }
   ],
   "source": [
    "data = load_breast_cancer()\n",
    "X, y = data.data, data.target\n",
    "\n",
    "x_train, x_test, y_train, y_test = train_test_split(X, y, test_size=0.95, stratify=y, random_state=42)\n",
    "afc = AdaBoostClassifier()\n",
    "afc.fit(x_train, y_train)\n",
    "\n",
    "afc_pred = afc.predict(x_test)\n",
    "\n",
    "print(f'AFC accuracy with {len(x_train)} labeled data {accuracy_score(afc_pred, y_test)}')"
   ]
  },
  {
   "cell_type": "code",
   "execution_count": 188,
   "metadata": {},
   "outputs": [
    {
     "name": "stdout",
     "output_type": "stream",
     "text": [
      "XFC accuracy with 28 labeled data 0.878003696857671\n"
     ]
    }
   ],
   "source": [
    "data = load_breast_cancer()\n",
    "X, y = data.data, data.target\n",
    "\n",
    "x_train, x_test, y_train, y_test = train_test_split(X, y, test_size=0.95, stratify=y, random_state=42)\n",
    "xfc = xgb.XGBClassifier(silent=True, verbosity=0)\n",
    "xfc.fit(x_train, y_train)\n",
    "\n",
    "xfc_pred = xfc.predict(x_test)\n",
    "\n",
    "print(f'XFC accuracy with {len(x_train)} labeled data {accuracy_score(xfc_pred, y_test)}')"
   ]
  },
  {
   "cell_type": "code",
   "execution_count": 187,
   "metadata": {},
   "outputs": [
    {
     "name": "stdout",
     "output_type": "stream",
     "text": [
      "RFC accuracy with 89 labeled data 0.8624121779859485\n"
     ]
    }
   ],
   "source": [
    "data = load_digits()\n",
    "X, y = data.data, data.target\n",
    "\n",
    "x_train, x_test, y_train, y_test = train_test_split(X, y, test_size=0.95, stratify=y, random_state=42)\n",
    "rfc = RandomForestClassifier()\n",
    "rfc.fit(x_train, y_train)\n",
    "\n",
    "rfc_pred = rfc.predict(x_test)\n",
    "\n",
    "print(f'RFC accuracy with {len(x_train)} labeled data {accuracy_score(rfc_pred, y_test)}')"
   ]
  },
  {
   "cell_type": "code",
   "execution_count": 186,
   "metadata": {},
   "outputs": [
    {
     "name": "stdout",
     "output_type": "stream",
     "text": [
      "AFC accuracy with 89 labeled data 0.1358313817330211\n"
     ]
    }
   ],
   "source": [
    "data = load_digits()\n",
    "X, y = data.data, data.target\n",
    "\n",
    "x_train, x_test, y_train, y_test = train_test_split(X, y, test_size=0.95, stratify=y, random_state=42)\n",
    "afc = AdaBoostClassifier()\n",
    "afc.fit(x_train, y_train)\n",
    "\n",
    "afc_pred = afc.predict(x_test)\n",
    "\n",
    "print(f'AFC accuracy with {len(x_train)} labeled data {accuracy_score(afc_pred, y_test)}')"
   ]
  },
  {
   "cell_type": "code",
   "execution_count": 39,
   "metadata": {},
   "outputs": [
    {
     "name": "stdout",
     "output_type": "stream",
     "text": [
      "AFC accuracy with 89 labeled data 0.09849749582637729\n"
     ]
    }
   ],
   "source": [
    "data = load_digits()\n",
    "X, y = data.data, data.target\n",
    "\n",
    "x_train, x_test, y_train, y_test = train_test_split(X, y, test_size=0.95, stratify=y, random_state=42)\n",
    "\n",
    "ldata = []\n",
    "udata = []\n",
    "for i in range(x_train.shape[1]):\n",
    "    ldata.append(x_train[:,i].reshape(-1,1))\n",
    "    udata.append(x_test[:,i].reshape(-1,1))\n",
    "\n",
    "#### spaco experiment gamma=0.3\n",
    "spaco = SPamCo(\n",
    "    labeled_data=ldata,\n",
    "    unlabeled_data=udata,\n",
    "    labels=y_train,\n",
    "    num_view=x_train.shape[1],\n",
    "    gamma=0.3,\n",
    "    iterations=2000\n",
    ")\n",
    "\n",
    "spaco.fit(AdaBoostClassifier())\n",
    "clfs = spaco.get_classifiers()\n",
    "\n",
    "score = 0\n",
    "for i in range(len(clfs)):\n",
    "    score += clfs[i].predict_proba(X[:,i].reshape(-1,1))\n",
    "\n",
    "pred_y = np.argmax(score, axis = 1)\n",
    "\n",
    "print(f'AFC accuracy with {len(x_train)} labeled data {accuracy_score(pred_y, y)}')\n",
    "\n"
   ]
  },
  {
   "cell_type": "code",
   "execution_count": 191,
   "metadata": {},
   "outputs": [
    {
     "name": "stdout",
     "output_type": "stream",
     "text": [
      "XFC accuracy with 89 labeled data 0.20725995316159251\n"
     ]
    }
   ],
   "source": [
    "data = load_digits()\n",
    "X, y = data.data, data.target\n",
    "\n",
    "x_train, x_test, y_train, y_test = train_test_split(X, y, test_size=0.95, stratify=y, random_state=42)\n",
    "\n",
    "ldata = []\n",
    "udata = []\n",
    "for i in range(2):\n",
    "    ldata.append(x_train)\n",
    "    udata.append(x_test)\n",
    "\n",
    "#### spaco experiment2 gamma=0.3\n",
    "spaco = SPamCo(\n",
    "    labeled_data=ldata,\n",
    "    unlabeled_data=udata,\n",
    "    labels=y_train,\n",
    "    num_view=2,\n",
    "    gamma=0.3,\n",
    "    iterations=200\n",
    ")\n",
    "\n",
    "spaco.fit(AdaBoostClassifier())\n",
    "clfs = spaco.get_classifiers()\n",
    "\n",
    "score = 0\n",
    "for i in range(len(clfs)):\n",
    "    score += clfs[i].predict_proba(x_test)\n",
    "\n",
    "pred_y = np.argmax(score, axis = 1)\n",
    "\n",
    "print(f'FC accuracy with {len(x_train)} labeled data {accuracy_score(pred_y, y_test)}')\n",
    "\n"
   ]
  },
  {
   "cell_type": "code",
   "execution_count": 185,
   "metadata": {},
   "outputs": [
    {
     "name": "stdout",
     "output_type": "stream",
     "text": [
      "XFC accuracy with 89 labeled data 0.7769320843091335\n"
     ]
    }
   ],
   "source": [
    "data = load_digits()\n",
    "X, y = data.data, data.target\n",
    "\n",
    "x_train, x_test, y_train, y_test = train_test_split(X, y, test_size=0.95, stratify=y, random_state=42)\n",
    "xfc = xgb.XGBClassifier(silent=True, verbosity=0)\n",
    "xfc.fit(x_train, y_train)\n",
    "\n",
    "xfc_pred = xfc.predict(x_test)\n",
    "\n",
    "print(f'XFC accuracy with {len(x_train)} labeled data {accuracy_score(xfc_pred, y_test)}')"
   ]
  },
  {
   "cell_type": "code",
   "execution_count": 40,
   "metadata": {},
   "outputs": [
    {
     "name": "stdout",
     "output_type": "stream",
     "text": [
      "Validation Iteration: 0 Accuracy: 0.6407407407407407 Labels: 62\n",
      "Validation Iteration: 0 Accuracy: 0.6407407407407407 Labels: 62\n"
     ]
    },
    {
     "ename": "KeyboardInterrupt",
     "evalue": "",
     "output_type": "error",
     "traceback": [
      "\u001b[1;31m---------------------------------------------------------------------------\u001b[0m",
      "\u001b[1;31mKeyboardInterrupt\u001b[0m                         Traceback (most recent call last)",
      "\u001b[1;32m~\\AppData\\Local\\Temp/ipykernel_11104/1694852816.py\u001b[0m in \u001b[0;36m<module>\u001b[1;34m\u001b[0m\n\u001b[0;32m     14\u001b[0m \u001b[1;33m\u001b[0m\u001b[0m\n\u001b[0;32m     15\u001b[0m \u001b[1;32mfor\u001b[0m \u001b[0mi\u001b[0m \u001b[1;32min\u001b[0m \u001b[0mrange\u001b[0m\u001b[1;33m(\u001b[0m\u001b[1;36m0\u001b[0m\u001b[1;33m,\u001b[0m \u001b[1;36m10\u001b[0m\u001b[1;33m)\u001b[0m\u001b[1;33m:\u001b[0m\u001b[1;33m\u001b[0m\u001b[1;33m\u001b[0m\u001b[0m\n\u001b[1;32m---> 16\u001b[1;33m     clfs, metrics = Validation.validation(\n\u001b[0m\u001b[0;32m     17\u001b[0m         \u001b[0mmodel_params\u001b[0m\u001b[1;33m=\u001b[0m\u001b[0mmodel\u001b[0m\u001b[1;33m,\u001b[0m\u001b[1;33m\u001b[0m\u001b[1;33m\u001b[0m\u001b[0m\n\u001b[0;32m     18\u001b[0m         \u001b[0mtrain_data_x\u001b[0m\u001b[1;33m=\u001b[0m\u001b[0mX\u001b[0m\u001b[1;33m,\u001b[0m\u001b[1;33m\u001b[0m\u001b[1;33m\u001b[0m\u001b[0m\n",
      "\u001b[1;32mD:\\repositories\\MLA\\spamco.py\u001b[0m in \u001b[0;36mvalidation\u001b[1;34m(model_params, train_data_x, train_data_y, percent_labeled, random_seed, spaco, single_view, cv, folds, iters, verbosity, hsplit, hsplit_size)\u001b[0m\n\u001b[0;32m    215\u001b[0m                             \u001b[0mregularizer\u001b[0m\u001b[1;33m=\u001b[0m\u001b[0mmodel_params\u001b[0m\u001b[1;33m.\u001b[0m\u001b[0mget\u001b[0m\u001b[1;33m(\u001b[0m\u001b[1;34m'regularizer'\u001b[0m\u001b[1;33m)\u001b[0m\u001b[1;33m\u001b[0m\u001b[1;33m\u001b[0m\u001b[0m\n\u001b[0;32m    216\u001b[0m                         )\n\u001b[1;32m--> 217\u001b[1;33m                         \u001b[0mspaco\u001b[0m\u001b[1;33m.\u001b[0m\u001b[0mfit\u001b[0m\u001b[1;33m(\u001b[0m\u001b[0mmodel_params\u001b[0m\u001b[1;33m.\u001b[0m\u001b[0mget\u001b[0m\u001b[1;33m(\u001b[0m\u001b[1;34m'classifier'\u001b[0m\u001b[1;33m)\u001b[0m\u001b[1;33m)\u001b[0m\u001b[1;33m\u001b[0m\u001b[1;33m\u001b[0m\u001b[0m\n\u001b[0m\u001b[0;32m    218\u001b[0m                         \u001b[0mclfs\u001b[0m \u001b[1;33m=\u001b[0m \u001b[0mspaco\u001b[0m\u001b[1;33m.\u001b[0m\u001b[0mget_classifiers\u001b[0m\u001b[1;33m(\u001b[0m\u001b[1;33m)\u001b[0m\u001b[1;33m\u001b[0m\u001b[1;33m\u001b[0m\u001b[0m\n\u001b[0;32m    219\u001b[0m \u001b[1;33m\u001b[0m\u001b[0m\n",
      "\u001b[1;32mD:\\repositories\\MLA\\spamco.py\u001b[0m in \u001b[0;36mfit\u001b[1;34m(self, classifier)\u001b[0m\n\u001b[0;32m    129\u001b[0m \u001b[1;33m\u001b[0m\u001b[0m\n\u001b[0;32m    130\u001b[0m                 \u001b[1;31m# Update parameters\u001b[0m\u001b[1;33m\u001b[0m\u001b[1;33m\u001b[0m\u001b[0m\n\u001b[1;32m--> 131\u001b[1;33m                 \u001b[0mself\u001b[0m\u001b[1;33m.\u001b[0m\u001b[0mclfs\u001b[0m\u001b[1;33m[\u001b[0m\u001b[0mview\u001b[0m\u001b[1;33m]\u001b[0m\u001b[1;33m.\u001b[0m\u001b[0mfit\u001b[0m\u001b[1;33m(\u001b[0m\u001b[0mnew_labeled_data\u001b[0m\u001b[1;33m[\u001b[0m\u001b[0mview\u001b[0m\u001b[1;33m]\u001b[0m\u001b[1;33m,\u001b[0m \u001b[0mnew_labels\u001b[0m\u001b[1;33m)\u001b[0m\u001b[1;33m\u001b[0m\u001b[1;33m\u001b[0m\u001b[0m\n\u001b[0m\u001b[0;32m    132\u001b[0m                 \u001b[0mself\u001b[0m\u001b[1;33m.\u001b[0m\u001b[0mscores\u001b[0m\u001b[1;33m[\u001b[0m\u001b[0mview\u001b[0m\u001b[1;33m]\u001b[0m \u001b[1;33m=\u001b[0m \u001b[0mself\u001b[0m\u001b[1;33m.\u001b[0m\u001b[0mclfs\u001b[0m\u001b[1;33m[\u001b[0m\u001b[0mview\u001b[0m\u001b[1;33m]\u001b[0m\u001b[1;33m.\u001b[0m\u001b[0mpredict_proba\u001b[0m\u001b[1;33m(\u001b[0m\u001b[0mself\u001b[0m\u001b[1;33m.\u001b[0m\u001b[0munlabeled_data\u001b[0m\u001b[1;33m[\u001b[0m\u001b[0mview\u001b[0m\u001b[1;33m]\u001b[0m\u001b[1;33m)\u001b[0m\u001b[1;33m\u001b[0m\u001b[1;33m\u001b[0m\u001b[0m\n\u001b[0;32m    133\u001b[0m \u001b[1;33m\u001b[0m\u001b[0m\n",
      "\u001b[1;32mC:\\ProgramData\\Anaconda3\\lib\\site-packages\\xgboost\\core.py\u001b[0m in \u001b[0;36minner_f\u001b[1;34m(*args, **kwargs)\u001b[0m\n\u001b[0;32m    504\u001b[0m         \u001b[1;32mfor\u001b[0m \u001b[0mk\u001b[0m\u001b[1;33m,\u001b[0m \u001b[0marg\u001b[0m \u001b[1;32min\u001b[0m \u001b[0mzip\u001b[0m\u001b[1;33m(\u001b[0m\u001b[0msig\u001b[0m\u001b[1;33m.\u001b[0m\u001b[0mparameters\u001b[0m\u001b[1;33m,\u001b[0m \u001b[0margs\u001b[0m\u001b[1;33m)\u001b[0m\u001b[1;33m:\u001b[0m\u001b[1;33m\u001b[0m\u001b[1;33m\u001b[0m\u001b[0m\n\u001b[0;32m    505\u001b[0m             \u001b[0mkwargs\u001b[0m\u001b[1;33m[\u001b[0m\u001b[0mk\u001b[0m\u001b[1;33m]\u001b[0m \u001b[1;33m=\u001b[0m \u001b[0marg\u001b[0m\u001b[1;33m\u001b[0m\u001b[1;33m\u001b[0m\u001b[0m\n\u001b[1;32m--> 506\u001b[1;33m         \u001b[1;32mreturn\u001b[0m \u001b[0mf\u001b[0m\u001b[1;33m(\u001b[0m\u001b[1;33m**\u001b[0m\u001b[0mkwargs\u001b[0m\u001b[1;33m)\u001b[0m\u001b[1;33m\u001b[0m\u001b[1;33m\u001b[0m\u001b[0m\n\u001b[0m\u001b[0;32m    507\u001b[0m \u001b[1;33m\u001b[0m\u001b[0m\n\u001b[0;32m    508\u001b[0m     \u001b[1;32mreturn\u001b[0m \u001b[0minner_f\u001b[0m\u001b[1;33m\u001b[0m\u001b[1;33m\u001b[0m\u001b[0m\n",
      "\u001b[1;32mC:\\ProgramData\\Anaconda3\\lib\\site-packages\\xgboost\\sklearn.py\u001b[0m in \u001b[0;36mfit\u001b[1;34m(self, X, y, sample_weight, base_margin, eval_set, eval_metric, early_stopping_rounds, verbose, xgb_model, sample_weight_eval_set, base_margin_eval_set, feature_weights, callbacks)\u001b[0m\n\u001b[0;32m   1179\u001b[0m             ):\n\u001b[0;32m   1180\u001b[0m                 \u001b[1;32mraise\u001b[0m \u001b[0mValueError\u001b[0m\u001b[1;33m(\u001b[0m\u001b[0mlabel_encoding_check_error\u001b[0m\u001b[1;33m)\u001b[0m\u001b[1;33m\u001b[0m\u001b[1;33m\u001b[0m\u001b[0m\n\u001b[1;32m-> 1181\u001b[1;33m         \u001b[1;32melif\u001b[0m \u001b[0m_is_cupy_array\u001b[0m\u001b[1;33m(\u001b[0m\u001b[0my\u001b[0m\u001b[1;33m)\u001b[0m\u001b[1;33m:\u001b[0m\u001b[1;33m\u001b[0m\u001b[1;33m\u001b[0m\u001b[0m\n\u001b[0m\u001b[0;32m   1182\u001b[0m             \u001b[1;32mimport\u001b[0m \u001b[0mcupy\u001b[0m \u001b[1;32mas\u001b[0m \u001b[0mcp\u001b[0m  \u001b[1;31m# pylint: disable=E0401\u001b[0m\u001b[1;33m\u001b[0m\u001b[1;33m\u001b[0m\u001b[0m\n\u001b[0;32m   1183\u001b[0m \u001b[1;33m\u001b[0m\u001b[0m\n",
      "\u001b[1;32mC:\\ProgramData\\Anaconda3\\lib\\site-packages\\xgboost\\data.py\u001b[0m in \u001b[0;36m_is_cupy_array\u001b[1;34m(data)\u001b[0m\n\u001b[0;32m    526\u001b[0m \u001b[1;32mdef\u001b[0m \u001b[0m_is_cupy_array\u001b[0m\u001b[1;33m(\u001b[0m\u001b[0mdata\u001b[0m\u001b[1;33m)\u001b[0m\u001b[1;33m:\u001b[0m\u001b[1;33m\u001b[0m\u001b[1;33m\u001b[0m\u001b[0m\n\u001b[0;32m    527\u001b[0m     \u001b[1;32mtry\u001b[0m\u001b[1;33m:\u001b[0m\u001b[1;33m\u001b[0m\u001b[1;33m\u001b[0m\u001b[0m\n\u001b[1;32m--> 528\u001b[1;33m         \u001b[1;32mimport\u001b[0m \u001b[0mcupy\u001b[0m\u001b[1;33m\u001b[0m\u001b[1;33m\u001b[0m\u001b[0m\n\u001b[0m\u001b[0;32m    529\u001b[0m     \u001b[1;32mexcept\u001b[0m \u001b[0mImportError\u001b[0m\u001b[1;33m:\u001b[0m\u001b[1;33m\u001b[0m\u001b[1;33m\u001b[0m\u001b[0m\n\u001b[0;32m    530\u001b[0m         \u001b[1;32mreturn\u001b[0m \u001b[1;32mFalse\u001b[0m\u001b[1;33m\u001b[0m\u001b[1;33m\u001b[0m\u001b[0m\n",
      "\u001b[1;32mC:\\ProgramData\\Anaconda3\\lib\\importlib\\_bootstrap.py\u001b[0m in \u001b[0;36m_find_and_load\u001b[1;34m(name, import_)\u001b[0m\n",
      "\u001b[1;32mC:\\ProgramData\\Anaconda3\\lib\\importlib\\_bootstrap.py\u001b[0m in \u001b[0;36m_find_and_load_unlocked\u001b[1;34m(name, import_)\u001b[0m\n",
      "\u001b[1;32mC:\\ProgramData\\Anaconda3\\lib\\importlib\\_bootstrap.py\u001b[0m in \u001b[0;36m_find_spec\u001b[1;34m(name, path, target)\u001b[0m\n",
      "\u001b[1;32mC:\\ProgramData\\Anaconda3\\lib\\importlib\\_bootstrap_external.py\u001b[0m in \u001b[0;36mfind_spec\u001b[1;34m(cls, fullname, path, target)\u001b[0m\n",
      "\u001b[1;32mC:\\ProgramData\\Anaconda3\\lib\\importlib\\_bootstrap_external.py\u001b[0m in \u001b[0;36m_get_spec\u001b[1;34m(cls, fullname, path, target)\u001b[0m\n",
      "\u001b[1;32mC:\\ProgramData\\Anaconda3\\lib\\importlib\\_bootstrap_external.py\u001b[0m in \u001b[0;36mfind_spec\u001b[1;34m(self, fullname, target)\u001b[0m\n",
      "\u001b[1;32mC:\\ProgramData\\Anaconda3\\lib\\importlib\\_bootstrap_external.py\u001b[0m in \u001b[0;36m_path_stat\u001b[1;34m(path)\u001b[0m\n",
      "\u001b[1;31mKeyboardInterrupt\u001b[0m: "
     ]
    }
   ],
   "source": [
    "data = load_digits()\n",
    "X, y = data.data, data.target\n",
    "\n",
    "model =  {\n",
    "    'classifier':xgb.XGBClassifier(silent=True, verbosity=0),\n",
    "    'num_view':2,\n",
    "    'gamma':0.3,\n",
    "    'steps':2000,\n",
    "    'regularizer':'hard'\n",
    "}\n",
    "\n",
    "xfc_2_metrics = []\n",
    "xfc_2_clfs = []\n",
    "\n",
    "for i in range(0, 10):\n",
    "    clfs, metrics = Validation.validation(\n",
    "        model_params=model,\n",
    "        train_data_x=X,\n",
    "        train_data_y=y,\n",
    "        percent_labeled=0.05,\n",
    "        random_seed=np.arange(0,10),\n",
    "        spaco=True,\n",
    "        iters=10,\n",
    "        hsplit=True,\n",
    "        hsplit_size = 2\n",
    "    )\n",
    "    \n",
    "    xfc_2_metrics.append(metrics)\n",
    "    xfc_2_clfs.append(clfs)\n",
    "    \n",
    "xfc_2_score = np.array(xfc_2_metrics)"
   ]
  },
  {
   "cell_type": "code",
   "execution_count": 76,
   "metadata": {},
   "outputs": [
    {
     "name": "stdout",
     "output_type": "stream",
     "text": [
      "XFC accuracy with 1437 labeled data 0.11630495269894268\n"
     ]
    }
   ],
   "source": [
    "data = load_digits()\n",
    "X, y = data.data, data.target\n",
    "\n",
    "x_train, x_test, y_train, y_test = train_test_split(X, y, test_size=0.95, stratify=y, random_state=42)\n",
    "\n",
    "ldata = []\n",
    "udata = []\n",
    "for i in range(x_train.shape[1]):\n",
    "    ldata.append(x_train[:,i].reshape(-1,1))\n",
    "    udata.append(x_test[:,i].reshape(-1,1))\n",
    "\n",
    "#### spaco experiment gamma=0.3\n",
    "spaco = SPamCo(\n",
    "    labeled_data=ldata,\n",
    "    unlabeled_data=udata,\n",
    "    labels=y_train,\n",
    "    num_view=x_train.shape[1],\n",
    "    gamma=0.3,\n",
    "    iterations=2000\n",
    ")\n",
    "\n",
    "spaco.fit(xgb.XGBClassifier(silent=True, verbosity=0))\n",
    "clfs = spaco.get_classifiers()\n",
    "\n",
    "predictions = []\n",
    "for i in range(len(clfs)):\n",
    "    pred = clfs[i].predict_proba(X[:,i].reshape(-1,1))\n",
    "    predictions.append(pred)\n",
    "\n",
    "pred_y = np.argmax(sum(predictions), axis = 1)\n",
    "\n",
    "print(f'XFC accuracy with {len(x_train)} labeled data {accuracy_score(pred_y, y)}')\n",
    "\n"
   ]
  },
  {
   "cell_type": "code",
   "execution_count": 90,
   "metadata": {},
   "outputs": [
    {
     "name": "stdout",
     "output_type": "stream",
     "text": [
      "XFC accuracy with 89 labeled data 0.8174735670562048\n"
     ]
    }
   ],
   "source": [
    "data = load_digits()\n",
    "X, y = data.data, data.target\n",
    "\n",
    "x_train, x_test, y_train, y_test = train_test_split(X, y, test_size=0.95, stratify=y, random_state=42)\n",
    "\n",
    "x_split = np.hsplit(X, 2)\n",
    "\n",
    "ldata = np.hsplit(x_train, 2)\n",
    "udata = np.hsplit(x_test, 2)\n",
    "\n",
    "#### spaco experiment gamma=0.3\n",
    "spaco = SPamCo(\n",
    "    labeled_data=ldata,\n",
    "    unlabeled_data=udata,\n",
    "    labels=y_train,\n",
    "    num_view=2,\n",
    "    gamma=0.3,\n",
    "    iterations=2000\n",
    ")\n",
    "\n",
    "spaco.fit(xgb.XGBClassifier(silent=True, verbosity=0))\n",
    "clfs = spaco.get_classifiers()\n",
    "\n",
    "predictions = []\n",
    "for i in range(len(clfs)):\n",
    "    pred = clfs[i].predict_proba(x_split[i])\n",
    "    predictions.append(pred)\n",
    "\n",
    "pred_y = np.argmax(sum(predictions), axis = 1)\n",
    "\n",
    "print(f'XFC accuracy with {len(x_train)} labeled data {accuracy_score(pred_y, y)}')\n",
    "\n"
   ]
  },
  {
   "cell_type": "code",
   "execution_count": 10,
   "metadata": {},
   "outputs": [
    {
     "name": "stdout",
     "output_type": "stream",
     "text": [
      "XFC accuracy with 89 labeled data 0.781615925058548\n"
     ]
    }
   ],
   "source": [
    "data = load_digits()\n",
    "X, y = data.data, data.target\n",
    "\n",
    "x_train, x_test, y_train, y_test = train_test_split(X, y, test_size=0.95, stratify=y, random_state=42)\n",
    "\n",
    "ldata = []\n",
    "udata = []\n",
    "for i in range(2):\n",
    "    ldata.append(x_train)\n",
    "    udata.append(x_test)\n",
    "\n",
    "#### spaco experiment2 gamma=0.3\n",
    "spaco = SPamCo(\n",
    "    labeled_data=ldata,\n",
    "    unlabeled_data=udata,\n",
    "    labels=y_train,\n",
    "    num_view=2,\n",
    "    gamma=0.3,\n",
    "    iterations=200\n",
    ")\n",
    "\n",
    "spaco.fit(xgb.XGBClassifier(silent=True, verbosity=0))\n",
    "clfs = spaco.get_classifiers()\n",
    "\n",
    "score = clfs[0].predict_proba(x_test)\n",
    "\n",
    "pred_y = np.argmax(score, axis = 1)\n",
    "\n",
    "print(f'XFC accuracy with {len(x_train)} labeled data {accuracy_score(pred_y, y_test)}')\n",
    "\n"
   ]
  }
 ],
 "metadata": {
  "kernelspec": {
   "display_name": "Python 3 (ipykernel)",
   "language": "python",
   "name": "python3"
  },
  "language_info": {
   "codemirror_mode": {
    "name": "ipython",
    "version": 3
   },
   "file_extension": ".py",
   "mimetype": "text/x-python",
   "name": "python",
   "nbconvert_exporter": "python",
   "pygments_lexer": "ipython3",
   "version": "3.9.7"
  }
 },
 "nbformat": 4,
 "nbformat_minor": 4
}
