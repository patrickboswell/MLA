{
 "cells": [
  {
   "cell_type": "markdown",
   "metadata": {},
   "source": [
    "# SPamCo with Ensembles"
   ]
  },
  {
   "cell_type": "code",
   "execution_count": 36,
   "metadata": {},
   "outputs": [],
   "source": [
    "#Math packages\n",
    "import numpy as np\n",
    "\n",
    "#Data packages\n",
    "import pandas as pd\n",
    "from pandas_profiling import ProfileReport\n",
    "\n",
    "#Spamco\n",
    "from spamco import SPamCo, Validation\n",
    "\n",
    "#Data packages\n",
    "from sklearn.datasets import make_moons, make_classification, make_circles, make_blobs, make_gaussian_quantiles\n",
    "from sklearn.datasets import load_breast_cancer, load_digits, load_iris\n",
    "from sklearn.model_selection import train_test_split\n",
    "from sklearn.datasets import fetch_openml\n",
    "\n",
    "#Classifier packages\n",
    "from sklearn.ensemble import RandomForestClassifier\n",
    "from sklearn.ensemble import AdaBoostClassifier\n",
    "import xgboost as xgb\n",
    "\n",
    "#Validation packages\n",
    "from sklearn.metrics import accuracy_score\n",
    "\n",
    "#Visualization packages\n",
    "import plotly.express as px\n",
    "\n",
    "import matplotlib\n",
    "import matplotlib.pyplot as plt\n",
    "import matplotlib.pylab as plb\n",
    "from matplotlib.ticker import MaxNLocator\n",
    "%matplotlib inline\n",
    "\n",
    "import baycomp\n",
    "\n",
    "#General utility packages\n",
    "from itertools import cycle, islice\n",
    "import warnings\n",
    "\n",
    "warnings.filterwarnings(\"ignore\")\n",
    "matplotlib.rcParams.update({'font.size': 20})"
   ]
  },
  {
   "cell_type": "markdown",
   "metadata": {},
   "source": [
    "# Diabetes Health Indicators Dataset"
   ]
  },
  {
   "cell_type": "code",
   "execution_count": 2,
   "metadata": {},
   "outputs": [],
   "source": [
    "df = pd.read_csv('Data/diabetes.csv')"
   ]
  },
  {
   "cell_type": "code",
   "execution_count": 3,
   "metadata": {},
   "outputs": [],
   "source": [
    "y =df.values[:,0]\n",
    "X =df.drop(['Diabetes_012','AnyHealthcare'], axis = 1).values"
   ]
  },
  {
   "cell_type": "code",
   "execution_count": 4,
   "metadata": {},
   "outputs": [
    {
     "data": {
      "text/plain": [
       "12684"
      ]
     },
     "execution_count": 4,
     "metadata": {},
     "output_type": "execute_result"
    }
   ],
   "source": [
    "int(X.shape[0]/20)"
   ]
  },
  {
   "cell_type": "code",
   "execution_count": 10,
   "metadata": {},
   "outputs": [],
   "source": [
    "np.random.seed(1)\n",
    "seeds = np.random.randint(low = 1, high = 10000, size = (10, 10))"
   ]
  },
  {
   "cell_type": "code",
   "execution_count": 11,
   "metadata": {},
   "outputs": [
    {
     "name": "stdout",
     "output_type": "stream",
     "text": [
      "[ 236 5193  906 7814 2896 5057  145 4226 7752 3463]\n",
      "[9395 5397 5375 2963 2517 8445 3563 4765 8094 6543]\n",
      "[ 563 8152 3050  754 9720 1889 1111 6286 6122 1032]\n",
      "[4416 2878 3607 9530 2562 8921 6772  432 4075  543]\n",
      "[9288 1479 1338 7109 8690 1613 3099 1845 9553 2670]\n",
      "[  16 2245 7907 1307 9833 1047 3048 1151 9496 3429]\n",
      "[ 156 4410  649 9505 7587 1680 7256 7962 4040  244]\n",
      "[1373 1215 7471 5025 5849 5272 4792 9538 9988 2945]\n",
      "[5374  462 1799 4566 1479 4060  716 6408 6222 2761]\n",
      "[5196 7501 1068 7711 9765 9992 3886 6714 7677   97]\n"
     ]
    }
   ],
   "source": [
    "for seed in seeds:\n",
    "    print(seed)"
   ]
  },
  {
   "cell_type": "markdown",
   "metadata": {},
   "source": [
    "## AdaBoost"
   ]
  },
  {
   "cell_type": "code",
   "execution_count": 17,
   "metadata": {},
   "outputs": [
    {
     "name": "stdout",
     "output_type": "stream",
     "text": [
      "Validation Iteration: 0 Accuracy: 0.8419925365289603 Labels: 1775\n",
      "Validation Iteration: 0 Accuracy: 0.8391674550614948 Labels: 1775\n",
      "Validation Iteration: 0 Accuracy: 0.838155681698728 Labels: 1775\n",
      "Validation Iteration: 0 Accuracy: 0.836802270577105 Labels: 1775\n",
      "Validation Iteration: 0 Accuracy: 0.8374461263534111 Labels: 1775\n",
      "Validation Iteration: 0 Accuracy: 0.8418874172185431 Labels: 1775\n",
      "Validation Iteration: 0 Accuracy: 0.8391411752338904 Labels: 1775\n",
      "Validation Iteration: 0 Accuracy: 0.8391280353200883 Labels: 1775\n",
      "Validation Iteration: 0 Accuracy: 0.8418348575633344 Labels: 1775\n",
      "Validation Iteration: 0 Accuracy: 0.8259881215179229 Labels: 1775\n"
     ]
    }
   ],
   "source": [
    "adaboost_base_metrics = []\n",
    "adaboost_base_clfs = []\n",
    "\n",
    "model =  {\n",
    "    'classifier':AdaBoostClassifier(),\n",
    "    'num_view':1,\n",
    "    'gamma':0.3,\n",
    "    'steps':10,\n",
    "    'regularizer':'hard'\n",
    "}\n",
    "\n",
    "for seed in seeds:\n",
    "    clfs, metrics = Validation.validation(\n",
    "        model_params=model,\n",
    "        train_data_x=X,\n",
    "        train_data_y=y,\n",
    "        percent_labeled=0.01,\n",
    "        random_seed=seed,\n",
    "        iters=10\n",
    "    )\n",
    "\n",
    "    adaboost_base_metrics.append(metrics)\n",
    "    adaboost_base_clfs.append(clfs)\n",
    "\n",
    "adaboost_base_score = np.array(adaboost_base_metrics)"
   ]
  },
  {
   "cell_type": "code",
   "execution_count": 13,
   "metadata": {},
   "outputs": [
    {
     "name": "stdout",
     "output_type": "stream",
     "text": [
      "[ 236 5193  906 7814 2896 5057  145 4226 7752 3463]\n",
      "Validation Iteration: 0 Accuracy: 0.8424130137706297 Labels: 1775\n",
      "Validation Iteration: 0 Accuracy: 0.8424130137706297 Labels: 1775\n",
      "[9395 5397 5375 2963 2517 8445 3563 4765 8094 6543]\n",
      "Validation Iteration: 0 Accuracy: 0.8424130137706297 Labels: 1775\n",
      "Validation Iteration: 0 Accuracy: 0.8424130137706297 Labels: 1775\n",
      "[ 563 8152 3050  754 9720 1889 1111 6286 6122 1032]\n",
      "Validation Iteration: 0 Accuracy: 0.8424130137706297 Labels: 1775\n",
      "Validation Iteration: 0 Accuracy: 0.8424130137706297 Labels: 1775\n",
      "[4416 2878 3607 9530 2562 8921 6772  432 4075  543]\n",
      "Validation Iteration: 0 Accuracy: 0.8424130137706297 Labels: 1775\n",
      "Validation Iteration: 0 Accuracy: 0.8424130137706297 Labels: 1775\n",
      "[9288 1479 1338 7109 8690 1613 3099 1845 9553 2670]\n",
      "Validation Iteration: 0 Accuracy: 0.8424130137706297 Labels: 1775\n",
      "Validation Iteration: 0 Accuracy: 0.8424130137706297 Labels: 1775\n",
      "[  16 2245 7907 1307 9833 1047 3048 1151 9496 3429]\n",
      "Validation Iteration: 0 Accuracy: 0.8424130137706297 Labels: 1775\n",
      "Validation Iteration: 0 Accuracy: 0.8424130137706297 Labels: 1775\n",
      "[ 156 4410  649 9505 7587 1680 7256 7962 4040  244]\n",
      "Validation Iteration: 0 Accuracy: 0.8424130137706297 Labels: 1775\n",
      "Validation Iteration: 0 Accuracy: 0.8424130137706297 Labels: 1775\n",
      "[1373 1215 7471 5025 5849 5272 4792 9538 9988 2945]\n",
      "Validation Iteration: 0 Accuracy: 0.8424130137706297 Labels: 1775\n",
      "Validation Iteration: 0 Accuracy: 0.8424130137706297 Labels: 1775\n",
      "[5374  462 1799 4566 1479 4060  716 6408 6222 2761]\n",
      "Validation Iteration: 0 Accuracy: 0.8424130137706297 Labels: 1775\n",
      "Validation Iteration: 0 Accuracy: 0.8424130137706297 Labels: 1775\n",
      "[5196 7501 1068 7711 9765 9992 3886 6714 7677   97]\n",
      "Validation Iteration: 0 Accuracy: 0.8424130137706297 Labels: 1775\n",
      "Validation Iteration: 0 Accuracy: 0.8424130137706297 Labels: 1775\n"
     ]
    }
   ],
   "source": [
    "adaboost_multi_metrics = []\n",
    "adaboost_multi_clfs = []\n",
    "steps = 20\n",
    "views = 2\n",
    "\n",
    "model =  {\n",
    "    'classifier':AdaBoostClassifier(),\n",
    "    'num_view':views,\n",
    "    'gamma':0.3,\n",
    "    'steps':steps,\n",
    "    'regularizer':'hard',\n",
    "    'update_add_num': int(X.shape[0]/steps)\n",
    "}\n",
    "\n",
    "for seed in seeds:\n",
    "    clfs, metrics = Validation.validation(\n",
    "        model_params=model,\n",
    "        train_data_x=X,\n",
    "        train_data_y=y,\n",
    "        percent_labeled=0.01,\n",
    "        random_seed=seed,\n",
    "        spaco=True,\n",
    "        iters=5,\n",
    "        hsplit=True,\n",
    "        hsplit_size=views\n",
    "    )\n",
    "\n",
    "    adaboost_multi_metrics.append(metrics)\n",
    "    adaboost_multi_clfs.append(clfs)\n",
    "\n",
    "adaboost_multi_score = np.array(adaboost_multi_metrics)"
   ]
  },
  {
   "cell_type": "code",
   "execution_count": 42,
   "metadata": {},
   "outputs": [
    {
     "data": {
      "image/png": "[encoded data removed]",
      "text/plain": [
       "<Figure size 432x288 with 1 Axes>"
      ]
     },
     "metadata": {
      "needs_background": "light"
     },
     "output_type": "display_data"
    }
   ],
   "source": [
    "baycomp_ada, bayplot_ada = baycomp.two_on_multiple(\n",
    "    adaboost_base_score, \n",
    "    adaboost_multi_score, \n",
    "    plot=True, \n",
    "    rope=0.005, \n",
    "    names = ('AdaBoost','AdaBoost-SPamCo'))"
   ]
  },
  {
   "cell_type": "code",
   "execution_count": 43,
   "metadata": {},
   "outputs": [
    {
     "data": {
      "image/png": "[encoded data removed]",
      "text/plain": [
       "<Figure size 432x288 with 1 Axes>"
      ]
     },
     "metadata": {
      "needs_background": "light"
     },
     "output_type": "display_data"
    }
   ],
   "source": [
    "baycomp_ada, bayplot_ada = baycomp.two_on_single(\n",
    "    np.mean(adaboost_base_score, axis=1), \n",
    "    np.mean(adaboost_multi_score, axis=1), \n",
    "    plot=True, \n",
    "    names = ('AdaBoost','AdaBoost-SPamCo'))"
   ]
  },
  {
   "cell_type": "markdown",
   "metadata": {},
   "source": [
    "## RandomForrestClassifier"
   ]
  },
  {
   "cell_type": "code",
   "execution_count": 50,
   "metadata": {},
   "outputs": [
    {
     "name": "stdout",
     "output_type": "stream",
     "text": [
      "Validation Iteration: 0 Accuracy: 0.8441737622201199 Labels: 1775\n",
      "Validation Iteration: 0 Accuracy: 0.8444891201513718 Labels: 1775\n",
      "Validation Iteration: 0 Accuracy: 0.8432014085987596 Labels: 1775\n",
      "Validation Iteration: 0 Accuracy: 0.8447124986860086 Labels: 1775\n",
      "Validation Iteration: 0 Accuracy: 0.8445942394617891 Labels: 1775\n",
      "Validation Iteration: 0 Accuracy: 0.841966256701356 Labels: 1775\n",
      "Validation Iteration: 0 Accuracy: 0.8443051613581415 Labels: 1775\n",
      "Validation Iteration: 0 Accuracy: 0.8429517502365185 Labels: 1775\n",
      "Validation Iteration: 0 Accuracy: 0.8420188163565647 Labels: 1775\n",
      "Validation Iteration: 0 Accuracy: 0.8434116472195943 Labels: 1775\n"
     ]
    }
   ],
   "source": [
    "rfc_base_metrics = []\n",
    "rfc_base_clfs = []\n",
    "\n",
    "model =  {\n",
    "    'classifier':RandomForestClassifier(),\n",
    "    'num_view':1,\n",
    "    'gamma':0.3,\n",
    "    'steps':10,\n",
    "    'regularizer':'hard'\n",
    "}\n",
    "\n",
    "for seed in seeds:\n",
    "    clfs, metrics = Validation.validation(\n",
    "        model_params=model,\n",
    "        train_data_x=X,\n",
    "        train_data_y=y,\n",
    "        percent_labeled=0.01,\n",
    "        random_seed=seed,\n",
    "        iters=10\n",
    "    )\n",
    "\n",
    "    rfc_base_metrics.append(metrics)\n",
    "    rfc_base_clfs.append(clfs)\n",
    "\n",
    "rfc_base_score = np.array(rfc_base_metrics)"
   ]
  },
  {
   "cell_type": "code",
   "execution_count": 47,
   "metadata": {},
   "outputs": [
    {
     "name": "stdout",
     "output_type": "stream",
     "text": [
      "Validation Iteration: 0 Accuracy: 0.8409544833385894 Labels: 1775\n",
      "Validation Iteration: 0 Accuracy: 0.8424130137706297 Labels: 1775\n",
      "Validation Iteration: 0 Accuracy: 0.8402712078208767 Labels: 1775\n",
      "Validation Iteration: 0 Accuracy: 0.8424130137706297 Labels: 1775\n",
      "Validation Iteration: 0 Accuracy: 0.8407836644591612 Labels: 1775\n",
      "Validation Iteration: 0 Accuracy: 0.8424130137706297 Labels: 1775\n",
      "Validation Iteration: 0 Accuracy: 0.8409544833385894 Labels: 1775\n",
      "Validation Iteration: 0 Accuracy: 0.8424130137706297 Labels: 1775\n",
      "Validation Iteration: 0 Accuracy: 0.8406391254073373 Labels: 1775\n",
      "Validation Iteration: 0 Accuracy: 0.8424130137706297 Labels: 1775\n",
      "Validation Iteration: 0 Accuracy: 0.8413881004940608 Labels: 1775\n",
      "Validation Iteration: 0 Accuracy: 0.8424130137706297 Labels: 1775\n",
      "Validation Iteration: 0 Accuracy: 0.8412172816146326 Labels: 1775\n",
      "Validation Iteration: 0 Accuracy: 0.8424130137706297 Labels: 1775\n",
      "Validation Iteration: 0 Accuracy: 0.8413092610112478 Labels: 1775\n",
      "Validation Iteration: 0 Accuracy: 0.8424130137706297 Labels: 1775\n",
      "Validation Iteration: 0 Accuracy: 0.84053400609692 Labels: 1775\n",
      "Validation Iteration: 0 Accuracy: 0.8424130137706297 Labels: 1775\n",
      "Validation Iteration: 0 Accuracy: 0.8391148954062861 Labels: 1775\n",
      "Validation Iteration: 0 Accuracy: 0.8424130137706297 Labels: 1775\n"
     ]
    }
   ],
   "source": [
    "rfc_multi_metrics = []\n",
    "rfc_multi_clfs = []\n",
    "steps = 20\n",
    "views = 2\n",
    "\n",
    "model =  {\n",
    "    'classifier':RandomForestClassifier(),\n",
    "    'num_view':views,\n",
    "    'gamma':0.3,\n",
    "    'steps':steps,\n",
    "    'regularizer':'hard',\n",
    "    'update_add_num': int(X.shape[0]/steps)\n",
    "}\n",
    "\n",
    "for seed in seeds:\n",
    "    clfs, metrics = Validation.validation(\n",
    "        model_params=model,\n",
    "        train_data_x=X,\n",
    "        train_data_y=y,\n",
    "        percent_labeled=0.01,\n",
    "        random_seed=seed,\n",
    "        spaco=True,\n",
    "        iters=5,\n",
    "        hsplit=True,\n",
    "        hsplit_size=views\n",
    "    )\n",
    "\n",
    "    rfc_multi_metrics.append(metrics)\n",
    "    rfc_multi_clfs.append(clfs)\n",
    "\n",
    "rfc_multi_score = np.array(rfc_multi_metrics)"
   ]
  },
  {
   "cell_type": "code",
   "execution_count": 56,
   "metadata": {},
   "outputs": [
    {
     "data": {
      "image/png": "[encoded data removed]",
      "text/plain": [
       "<Figure size 432x288 with 1 Axes>"
      ]
     },
     "metadata": {
      "needs_background": "light"
     },
     "output_type": "display_data"
    }
   ],
   "source": [
    "baycomp_rfc, bayplot_rfc = baycomp.two_on_multiple(\n",
    "    rfc_base_score, \n",
    "    rfc_multi_score, \n",
    "    plot=True, \n",
    "    rope=0.001, \n",
    "    names = ('RFC','RFC-SPamCo'))"
   ]
  },
  {
   "cell_type": "markdown",
   "metadata": {},
   "source": [
    "## XGBoost"
   ]
  },
  {
   "cell_type": "code",
   "execution_count": 58,
   "metadata": {},
   "outputs": [
    {
     "name": "stdout",
     "output_type": "stream",
     "text": [
      "Validation Iteration: 0 Accuracy: 0.8284847051403342 Labels: 1775\n",
      "Validation Iteration: 0 Accuracy: 0.8292993797960685 Labels: 1775\n",
      "Validation Iteration: 0 Accuracy: 0.8228871018606118 Labels: 1775\n",
      "Validation Iteration: 0 Accuracy: 0.8275517712603805 Labels: 1775\n",
      "Validation Iteration: 0 Accuracy: 0.8303111531588353 Labels: 1775\n",
      "Validation Iteration: 0 Accuracy: 0.8228608220330075 Labels: 1775\n",
      "Validation Iteration: 0 Accuracy: 0.8282613266056975 Labels: 1775\n",
      "Validation Iteration: 0 Accuracy: 0.8262246399663619 Labels: 1775\n",
      "Validation Iteration: 0 Accuracy: 0.8237937559129612 Labels: 1775\n",
      "Validation Iteration: 0 Accuracy: 0.8217045096184169 Labels: 1775\n"
     ]
    }
   ],
   "source": [
    "xgboost_base_metrics = []\n",
    "xgboost_base_clfs = []\n",
    "\n",
    "model =  {\n",
    "    'classifier':xgb.XGBClassifier(silent=True, verbosity=0),\n",
    "    'num_view':1,\n",
    "    'gamma':0.3,\n",
    "    'steps':10,\n",
    "    'regularizer':'hard'\n",
    "}\n",
    "\n",
    "for seed in seeds:\n",
    "    clfs, metrics = Validation.validation(\n",
    "        model_params=model,\n",
    "        train_data_x=X,\n",
    "        train_data_y=y,\n",
    "        percent_labeled=0.01,\n",
    "        random_seed=seed,\n",
    "        iters=10\n",
    "    )\n",
    "\n",
    "    xgboost_base_metrics.append(metrics)\n",
    "    xgboost_base_clfs.append(clfs)\n",
    "\n",
    "xgboost_base_score = np.array(xgboost_base_metrics)"
   ]
  },
  {
   "cell_type": "code",
   "execution_count": 60,
   "metadata": {},
   "outputs": [
    {
     "name": "stdout",
     "output_type": "stream",
     "text": [
      "Validation Iteration: 0 Accuracy: 0.8424130137706297 Labels: 1775\n",
      "Validation Iteration: 0 Accuracy: 0.8424130137706297 Labels: 1775\n",
      "Validation Iteration: 0 Accuracy: 0.8424130137706297 Labels: 1775\n",
      "Validation Iteration: 0 Accuracy: 0.8424130137706297 Labels: 1775\n",
      "Validation Iteration: 0 Accuracy: 0.8424130137706297 Labels: 1775\n",
      "Validation Iteration: 0 Accuracy: 0.8424130137706297 Labels: 1775\n",
      "Validation Iteration: 0 Accuracy: 0.8424130137706297 Labels: 1775\n",
      "Validation Iteration: 0 Accuracy: 0.8424130137706297 Labels: 1775\n",
      "Validation Iteration: 0 Accuracy: 0.8424130137706297 Labels: 1775\n",
      "Validation Iteration: 0 Accuracy: 0.8424130137706297 Labels: 1775\n",
      "Validation Iteration: 0 Accuracy: 0.8425575528224535 Labels: 1775\n",
      "Validation Iteration: 0 Accuracy: 0.8424130137706297 Labels: 1775\n",
      "Validation Iteration: 0 Accuracy: 0.8424130137706297 Labels: 1775\n",
      "Validation Iteration: 0 Accuracy: 0.8424130137706297 Labels: 1775\n",
      "Validation Iteration: 0 Accuracy: 0.8423998738568275 Labels: 1775\n",
      "Validation Iteration: 0 Accuracy: 0.8424130137706297 Labels: 1775\n",
      "Validation Iteration: 0 Accuracy: 0.8424130137706297 Labels: 1775\n",
      "Validation Iteration: 0 Accuracy: 0.8424130137706297 Labels: 1775\n",
      "Validation Iteration: 0 Accuracy: 0.842833491012299 Labels: 1775\n",
      "Validation Iteration: 0 Accuracy: 0.8424130137706297 Labels: 1775\n"
     ]
    }
   ],
   "source": [
    "xgboost_multi_metrics = []\n",
    "xgboost_multi_clfs = []\n",
    "steps = 20\n",
    "views = 2\n",
    "\n",
    "model =  {\n",
    "    'classifier':xgb.XGBClassifier(silent=True, verbosity=0),\n",
    "    'num_view':views,\n",
    "    'gamma':0.3,\n",
    "    'steps':steps,\n",
    "    'regularizer':'hard',\n",
    "    'update_add_num': int(X.shape[0]/steps)\n",
    "}\n",
    "\n",
    "for seed in seeds:\n",
    "    clfs, metrics = Validation.validation(\n",
    "        model_params=model,\n",
    "        train_data_x=X,\n",
    "        train_data_y=y,\n",
    "        percent_labeled=0.01,\n",
    "        random_seed=seed,\n",
    "        spaco=True,\n",
    "        iters=5,\n",
    "        hsplit=True,\n",
    "        hsplit_size=views\n",
    "    )\n",
    "\n",
    "    xgboost_multi_metrics.append(metrics)\n",
    "    xgboost_multi_clfs.append(clfs)\n",
    "\n",
    "xgboost_multi_score = np.array(xgboost_multi_metrics)"
   ]
  },
  {
   "cell_type": "code",
   "execution_count": 80,
   "metadata": {},
   "outputs": [
    {
     "data": {
      "image/png": "[encoded data removed]",
      "text/plain": [
       "<Figure size 432x288 with 1 Axes>"
      ]
     },
     "metadata": {
      "needs_background": "light"
     },
     "output_type": "display_data"
    }
   ],
   "source": [
    "baycomp_xgboost, bayplot_xgboost = baycomp.two_on_multiple(\n",
    "    xgboost_base_score, \n",
    "    xgboost_multi_score, \n",
    "    plot=True, \n",
    "    rope=0.015, \n",
    "    names = ('XGBoost','XGBoost-SPamCo'))"
   ]
  },
  {
   "cell_type": "code",
   "execution_count": 75,
   "metadata": {},
   "outputs": [
    {
     "data": {
      "image/png": "[encoded data removed]",
      "text/plain": [
       "<Figure size 432x288 with 1 Axes>"
      ]
     },
     "metadata": {
      "needs_background": "light"
     },
     "output_type": "display_data"
    }
   ],
   "source": [
    "baycomp_xgboost, bayplot_xgboost = baycomp.two_on_single(\n",
    "    np.mean(xgboost_base_score, axis=1), \n",
    "    np.mean(xgboost_multi_score, axis=1), \n",
    "    plot=True, \n",
    "    names = ('XGBoost','XGBoost-SPamCo'))"
   ]
  },
  {
   "cell_type": "code",
   "execution_count": 76,
   "metadata": {},
   "outputs": [
    {
     "data": {
      "text/plain": [
       "(2.744915406083237e-12, 0.9999999999972551)"
      ]
     },
     "execution_count": 76,
     "metadata": {},
     "output_type": "execute_result"
    }
   ],
   "source": [
    "baycomp_xgboost"
   ]
  },
  {
   "cell_type": "markdown",
   "metadata": {},
   "source": [
    "# Testing"
   ]
  },
  {
   "cell_type": "code",
   "execution_count": 7,
   "metadata": {},
   "outputs": [
    {
     "name": "stdout",
     "output_type": "stream",
     "text": [
      "[5196 7501 1068 7711 9765 9992 3886 6714 7677   97]\n",
      "Validation Iteration: 0 Accuracy: 0.8044386628823715 Labels: 1775\n",
      "Validation Iteration: 0 Accuracy: 0.8424130137706297 Labels: 1775\n"
     ]
    }
   ],
   "source": [
    "adaboost_multi_metrics = []\n",
    "adaboost_multi_clfs = []\n",
    "steps = 20\n",
    "views = 2\n",
    "\n",
    "model =  {\n",
    "    'classifier':AdaBoostClassifier(),\n",
    "    'num_view':views,\n",
    "    'gamma':0.3,\n",
    "    'steps':steps,\n",
    "    'regularizer':'hard',\n",
    "    'update_add_num': int(X.shape[0]/steps)\n",
    "}\n",
    "\n",
    "\n",
    "print(seed)\n",
    "clfs, metrics = Validation.validation(\n",
    "    model_params=model,\n",
    "    train_data_x=X,\n",
    "    train_data_y=y,\n",
    "    percent_labeled=0.01,\n",
    "    random_seed=seed,\n",
    "    spaco=True,\n",
    "    iters=1,\n",
    "    single_view=True\n",
    ")\n",
    "\n",
    "adaboost_multi_metrics.append(metrics)\n",
    "adaboost_multi_clfs.append(clfs)\n",
    "\n",
    "adaboost1_multi_score = np.array(adaboost_multi_metrics)"
   ]
  },
  {
   "cell_type": "code",
   "execution_count": 7,
   "metadata": {},
   "outputs": [
    {
     "name": "stdout",
     "output_type": "stream",
     "text": [
      "[5196 7501 1068 7711 9765 9992 3886 6714 7677   97]\n",
      "Validation Iteration: 0 Accuracy: 0.7997477136549984 Labels: 1775\n"
     ]
    }
   ],
   "source": [
    "mix_multi_metrics = []\n",
    "mix_multi_clfs = []\n",
    "steps = 20\n",
    "views = 3\n",
    "\n",
    "model =  {\n",
    "    'classifier':[AdaBoostClassifier(),RandomForestClassifier(),xgb.XGBClassifier(silent=True, verbosity=0)],\n",
    "    'num_view':views,\n",
    "    'gamma':0.3,\n",
    "    'steps':steps,\n",
    "    'regularizer':'hard',\n",
    "    'update_add_num': int(X.shape[0]/steps),\n",
    "    'multiple_classifiers': True\n",
    "}\n",
    "\n",
    "\n",
    "print(seed)\n",
    "clfs, metrics = Validation.validation(\n",
    "    model_params=model,\n",
    "    train_data_x=X,\n",
    "    train_data_y=y,\n",
    "    percent_labeled=0.01,\n",
    "    random_seed=seed,\n",
    "    spaco=True,\n",
    "    iters=2,\n",
    "    multiple_classifiers=True\n",
    ")\n",
    "\n",
    "mix_multi_metrics.append(metrics)\n",
    "mix_multi_clfs.append(clfs)\n",
    "\n",
    "mix_multi_score = np.array(mix_multi_metrics)"
   ]
  },
  {
   "cell_type": "markdown",
   "metadata": {},
   "source": [
    "## Looking up Data\n"
   ]
  },
  {
   "cell_type": "code",
   "execution_count": 220,
   "metadata": {},
   "outputs": [],
   "source": [
    "from sklearn.preprocessing import LabelEncoder\n",
    "LE = LabelEncoder()\n",
    "X, y = fetch_openml(data_id = 1220, return_X_y=True)"
   ]
  },
  {
   "cell_type": "code",
   "execution_count": 205,
   "metadata": {},
   "outputs": [],
   "source": [
    "X['V2'] = LE.fit_transform(X['V2'])"
   ]
  },
  {
   "cell_type": "code",
   "execution_count": 221,
   "metadata": {},
   "outputs": [],
   "source": [
    "X = X.values"
   ]
  },
  {
   "cell_type": "code",
   "execution_count": 222,
   "metadata": {},
   "outputs": [],
   "source": [
    "y = y.values"
   ]
  },
  {
   "cell_type": "code",
   "execution_count": 223,
   "metadata": {},
   "outputs": [],
   "source": [
    "y = LE.fit_transform(y)"
   ]
  },
  {
   "cell_type": "code",
   "execution_count": 216,
   "metadata": {},
   "outputs": [
    {
     "data": {
      "text/plain": [
       "(1600, 64)"
      ]
     },
     "execution_count": 216,
     "metadata": {},
     "output_type": "execute_result"
    }
   ],
   "source": [
    "X.shape"
   ]
  },
  {
   "cell_type": "code",
   "execution_count": 217,
   "metadata": {},
   "outputs": [
    {
     "data": {
      "text/plain": [
       "array([ 0,  0,  0, ..., 23, 23, 23])"
      ]
     },
     "execution_count": 217,
     "metadata": {},
     "output_type": "execute_result"
    }
   ],
   "source": [
    "y"
   ]
  },
  {
   "cell_type": "code",
   "execution_count": 224,
   "metadata": {},
   "outputs": [
    {
     "ename": "ValueError",
     "evalue": "Feature shape mismatch, expected: 4, got 5",
     "output_type": "error",
     "traceback": [
      "\u001b[1;31m---------------------------------------------------------------------------\u001b[0m",
      "\u001b[1;31mValueError\u001b[0m                                Traceback (most recent call last)",
      "\u001b[1;32m~\\AppData\\Local\\Temp/ipykernel_10216/1344919612.py\u001b[0m in \u001b[0;36m<module>\u001b[1;34m\u001b[0m\n\u001b[0;32m     14\u001b[0m \u001b[1;33m\u001b[0m\u001b[0m\n\u001b[0;32m     15\u001b[0m \u001b[1;33m\u001b[0m\u001b[0m\n\u001b[1;32m---> 16\u001b[1;33m clfs, metrics = Validation.validation(\n\u001b[0m\u001b[0;32m     17\u001b[0m     \u001b[0mmodel_params\u001b[0m\u001b[1;33m=\u001b[0m\u001b[0mmodel\u001b[0m\u001b[1;33m,\u001b[0m\u001b[1;33m\u001b[0m\u001b[1;33m\u001b[0m\u001b[0m\n\u001b[0;32m     18\u001b[0m     \u001b[0mtrain_data_x\u001b[0m\u001b[1;33m=\u001b[0m\u001b[0mX\u001b[0m\u001b[1;33m,\u001b[0m\u001b[1;33m\u001b[0m\u001b[1;33m\u001b[0m\u001b[0m\n",
      "\u001b[1;32mD:\\repositories\\MLA\\spamco.py\u001b[0m in \u001b[0;36mvalidation\u001b[1;34m(model_params, train_data_x, train_data_y, percent_labeled, random_seed, spaco, single_view, cv, folds, iters, verbosity, hsplit, hsplit_size, multiple_classifiers)\u001b[0m\n\u001b[0;32m    226\u001b[0m \u001b[1;33m\u001b[0m\u001b[0m\n\u001b[0;32m    227\u001b[0m                         \u001b[1;32mfor\u001b[0m \u001b[0mview\u001b[0m \u001b[1;32min\u001b[0m \u001b[0mrange\u001b[0m\u001b[1;33m(\u001b[0m\u001b[0mhsplit_size\u001b[0m\u001b[1;33m)\u001b[0m\u001b[1;33m:\u001b[0m\u001b[1;33m\u001b[0m\u001b[1;33m\u001b[0m\u001b[0m\n\u001b[1;32m--> 228\u001b[1;33m                             \u001b[0mpred\u001b[0m \u001b[1;33m=\u001b[0m \u001b[0mclfs\u001b[0m\u001b[1;33m[\u001b[0m\u001b[0mview\u001b[0m\u001b[1;33m]\u001b[0m\u001b[1;33m.\u001b[0m\u001b[0mpredict_proba\u001b[0m\u001b[1;33m(\u001b[0m\u001b[0mx_test_val_split\u001b[0m\u001b[1;33m[\u001b[0m\u001b[0mview\u001b[0m\u001b[1;33m]\u001b[0m\u001b[1;33m)\u001b[0m\u001b[1;33m\u001b[0m\u001b[1;33m\u001b[0m\u001b[0m\n\u001b[0m\u001b[0;32m    229\u001b[0m                             \u001b[0mpredictions\u001b[0m\u001b[1;33m.\u001b[0m\u001b[0mappend\u001b[0m\u001b[1;33m(\u001b[0m\u001b[0mpred\u001b[0m\u001b[1;33m)\u001b[0m\u001b[1;33m\u001b[0m\u001b[1;33m\u001b[0m\u001b[0m\n\u001b[0;32m    230\u001b[0m \u001b[1;33m\u001b[0m\u001b[0m\n",
      "\u001b[1;32mC:\\ProgramData\\Anaconda3\\lib\\site-packages\\xgboost\\sklearn.py\u001b[0m in \u001b[0;36mpredict_proba\u001b[1;34m(self, X, ntree_limit, validate_features, base_margin, iteration_range)\u001b[0m\n\u001b[0;32m   1346\u001b[0m         \u001b[1;31m# binary:logistic: Expand the prob vector into 2-class matrix after predict.\u001b[0m\u001b[1;33m\u001b[0m\u001b[1;33m\u001b[0m\u001b[0m\n\u001b[0;32m   1347\u001b[0m         \u001b[1;31m# binary:logitraw: Unsupported by predict_proba()\u001b[0m\u001b[1;33m\u001b[0m\u001b[1;33m\u001b[0m\u001b[0m\n\u001b[1;32m-> 1348\u001b[1;33m         class_probs = super().predict(\n\u001b[0m\u001b[0;32m   1349\u001b[0m             \u001b[0mX\u001b[0m\u001b[1;33m=\u001b[0m\u001b[0mX\u001b[0m\u001b[1;33m,\u001b[0m\u001b[1;33m\u001b[0m\u001b[1;33m\u001b[0m\u001b[0m\n\u001b[0;32m   1350\u001b[0m             \u001b[0moutput_margin\u001b[0m\u001b[1;33m=\u001b[0m\u001b[0mself\u001b[0m\u001b[1;33m.\u001b[0m\u001b[0mobjective\u001b[0m \u001b[1;33m==\u001b[0m \u001b[1;34m\"multi:softmax\"\u001b[0m\u001b[1;33m,\u001b[0m\u001b[1;33m\u001b[0m\u001b[1;33m\u001b[0m\u001b[0m\n",
      "\u001b[1;32mC:\\ProgramData\\Anaconda3\\lib\\site-packages\\xgboost\\sklearn.py\u001b[0m in \u001b[0;36mpredict\u001b[1;34m(self, X, output_margin, ntree_limit, validate_features, base_margin, iteration_range)\u001b[0m\n\u001b[0;32m    879\u001b[0m         \u001b[1;32mif\u001b[0m \u001b[0mself\u001b[0m\u001b[1;33m.\u001b[0m\u001b[0m_can_use_inplace_predict\u001b[0m\u001b[1;33m(\u001b[0m\u001b[1;33m)\u001b[0m\u001b[1;33m:\u001b[0m\u001b[1;33m\u001b[0m\u001b[1;33m\u001b[0m\u001b[0m\n\u001b[0;32m    880\u001b[0m             \u001b[1;32mtry\u001b[0m\u001b[1;33m:\u001b[0m\u001b[1;33m\u001b[0m\u001b[1;33m\u001b[0m\u001b[0m\n\u001b[1;32m--> 881\u001b[1;33m                 predts = self.get_booster().inplace_predict(\n\u001b[0m\u001b[0;32m    882\u001b[0m                     \u001b[0mdata\u001b[0m\u001b[1;33m=\u001b[0m\u001b[0mX\u001b[0m\u001b[1;33m,\u001b[0m\u001b[1;33m\u001b[0m\u001b[1;33m\u001b[0m\u001b[0m\n\u001b[0;32m    883\u001b[0m                     \u001b[0miteration_range\u001b[0m\u001b[1;33m=\u001b[0m\u001b[0miteration_range\u001b[0m\u001b[1;33m,\u001b[0m\u001b[1;33m\u001b[0m\u001b[1;33m\u001b[0m\u001b[0m\n",
      "\u001b[1;32mC:\\ProgramData\\Anaconda3\\lib\\site-packages\\xgboost\\core.py\u001b[0m in \u001b[0;36minplace_predict\u001b[1;34m(self, data, iteration_range, predict_type, missing, validate_features, base_margin, strict_shape)\u001b[0m\n\u001b[0;32m   2023\u001b[0m                 )\n\u001b[0;32m   2024\u001b[0m             \u001b[1;32mif\u001b[0m \u001b[0mlen\u001b[0m\u001b[1;33m(\u001b[0m\u001b[0mdata\u001b[0m\u001b[1;33m.\u001b[0m\u001b[0mshape\u001b[0m\u001b[1;33m)\u001b[0m \u001b[1;33m!=\u001b[0m \u001b[1;36m1\u001b[0m \u001b[1;32mand\u001b[0m \u001b[0mself\u001b[0m\u001b[1;33m.\u001b[0m\u001b[0mnum_features\u001b[0m\u001b[1;33m(\u001b[0m\u001b[1;33m)\u001b[0m \u001b[1;33m!=\u001b[0m \u001b[0mdata\u001b[0m\u001b[1;33m.\u001b[0m\u001b[0mshape\u001b[0m\u001b[1;33m[\u001b[0m\u001b[1;36m1\u001b[0m\u001b[1;33m]\u001b[0m\u001b[1;33m:\u001b[0m\u001b[1;33m\u001b[0m\u001b[1;33m\u001b[0m\u001b[0m\n\u001b[1;32m-> 2025\u001b[1;33m                 raise ValueError(\n\u001b[0m\u001b[0;32m   2026\u001b[0m                     \u001b[1;34mf\"Feature shape mismatch, expected: {self.num_features()}, \"\u001b[0m\u001b[1;33m\u001b[0m\u001b[1;33m\u001b[0m\u001b[0m\n\u001b[0;32m   2027\u001b[0m                     \u001b[1;34mf\"got {data.shape[1]}\"\u001b[0m\u001b[1;33m\u001b[0m\u001b[1;33m\u001b[0m\u001b[0m\n",
      "\u001b[1;31mValueError\u001b[0m: Feature shape mismatch, expected: 4, got 5"
     ]
    }
   ],
   "source": [
    "multi_metrics = []\n",
    "multi_clfs = []\n",
    "steps = 20\n",
    "views = 2\n",
    "\n",
    "model =  {\n",
    "    'classifier':xgb.XGBClassifier(silent=True, verbosity=0),\n",
    "    'num_view':views,\n",
    "    'gamma':0.3,\n",
    "    'steps':10,\n",
    "    'regularizer':'hard',\n",
    "    'update_add_num': int(X.shape[0]/steps)\n",
    "}\n",
    "\n",
    "\n",
    "clfs, metrics = Validation.validation(\n",
    "    model_params=model,\n",
    "    train_data_x=X,\n",
    "    train_data_y=y,\n",
    "    percent_labeled=0.1,\n",
    "    random_seed=seed,\n",
    "    spaco=True,\n",
    "    iters=5,\n",
    "    hsplit=True,\n",
    "    hsplit_size=views\n",
    ")\n",
    "\n",
    "multi_metrics.append(metrics)\n",
    "multi_clfs.append(clfs)\n",
    "\n",
    "multi_score = np.array(multi_metrics)"
   ]
  },
  {
   "cell_type": "code",
   "execution_count": null,
   "metadata": {},
   "outputs": [],
   "source": []
  }
 ],
 "metadata": {
  "kernelspec": {
   "display_name": "Python 3 (ipykernel)",
   "language": "python",
   "name": "python3"
  },
  "language_info": {
   "codemirror_mode": {
    "name": "ipython",
    "version": 3
   },
   "file_extension": ".py",
   "mimetype": "text/x-python",
   "name": "python",
   "nbconvert_exporter": "python",
   "pygments_lexer": "ipython3",
   "version": "3.9.7"
  }
 },
 "nbformat": 4,
 "nbformat_minor": 4
}
