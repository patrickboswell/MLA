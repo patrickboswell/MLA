{
 "cells": [
  {
   "cell_type": "markdown",
   "metadata": {},
   "source": [
    "# SPamCo with Ensembles"
   ]
  },
  {
   "cell_type": "code",
   "execution_count": 1,
   "metadata": {},
   "outputs": [],
   "source": [
    "#Math packages\n",
    "import numpy as np\n",
    "\n",
    "#Data packages\n",
    "import pandas as pd\n",
    "from pandas_profiling import ProfileReport\n",
    "\n",
    "#Spamco\n",
    "from spamco import SPamCo, Validation\n",
    "\n",
    "#Data packages\n",
    "from sklearn.datasets import make_moons, make_classification, make_circles, make_blobs, make_gaussian_quantiles\n",
    "from sklearn.datasets import load_breast_cancer, load_digits, load_iris\n",
    "from sklearn.model_selection import train_test_split\n",
    "from sklearn.datasets import fetch_openml\n",
    "\n",
    "#Classifier packages\n",
    "from sklearn.ensemble import RandomForestClassifier\n",
    "from sklearn.ensemble import AdaBoostClassifier\n",
    "import xgboost as xgb\n",
    "\n",
    "#Validation packages\n",
    "from sklearn.metrics import accuracy_score\n",
    "\n",
    "#Visualization packages\n",
    "import plotly.express as px\n",
    "\n",
    "import matplotlib\n",
    "import matplotlib.pyplot as plt\n",
    "import matplotlib.pylab as plb\n",
    "from matplotlib.ticker import MaxNLocator\n",
    "%matplotlib inline\n",
    "\n",
    "import baycomp\n",
    "\n",
    "#General utility packages\n",
    "from itertools import cycle, islice\n",
    "import warnings\n",
    "\n",
    "warnings.filterwarnings(\"ignore\")\n",
    "matplotlib.rcParams.update({'font.size': 20})"
   ]
  },
  {
   "cell_type": "markdown",
   "metadata": {},
   "source": [
    "# Diabetes Health Indicators Dataset"
   ]
  },
  {
   "cell_type": "code",
   "execution_count": 2,
   "metadata": {},
   "outputs": [],
   "source": [
    "df = pd.read_csv('Data/diabetes.csv')"
   ]
  },
  {
   "cell_type": "code",
   "execution_count": 3,
   "metadata": {},
   "outputs": [],
   "source": [
    "y =df.values[:,0]\n",
    "X =df.drop(['Diabetes_012','AnyHealthcare'], axis = 1).values"
   ]
  },
  {
   "cell_type": "code",
   "execution_count": 4,
   "metadata": {},
   "outputs": [
    {
     "data": {
      "text/plain": [
       "12684"
      ]
     },
     "execution_count": 4,
     "metadata": {},
     "output_type": "execute_result"
    }
   ],
   "source": [
    "int(X.shape[0]/20)"
   ]
  },
  {
   "cell_type": "code",
   "execution_count": 5,
   "metadata": {},
   "outputs": [],
   "source": [
    "np.random.seed(1)\n",
    "seeds = np.random.randint(low = 1, high = 10000, size = (10, 5))"
   ]
  },
  {
   "cell_type": "code",
   "execution_count": 6,
   "metadata": {},
   "outputs": [],
   "source": [
    "label_pct = np.arange(1, 21)/2000"
   ]
  },
  {
   "cell_type": "code",
   "execution_count": 7,
   "metadata": {},
   "outputs": [
    {
     "data": {
      "text/plain": [
       "array([0.0005, 0.001 , 0.0015, 0.002 , 0.0025, 0.003 , 0.0035, 0.004 ,\n",
       "       0.0045, 0.005 , 0.0055, 0.006 , 0.0065, 0.007 , 0.0075, 0.008 ,\n",
       "       0.0085, 0.009 , 0.0095, 0.01  ])"
      ]
     },
     "execution_count": 7,
     "metadata": {},
     "output_type": "execute_result"
    }
   ],
   "source": [
    "label_pct"
   ]
  },
  {
   "cell_type": "markdown",
   "metadata": {},
   "source": [
    "## AdaBoost"
   ]
  },
  {
   "cell_type": "code",
   "execution_count": 8,
   "metadata": {},
   "outputs": [
    {
     "name": "stdout",
     "output_type": "stream",
     "text": [
      "Validation Iteration: 0 Accuracy: 0.8176442762535477 Labels: 88\n",
      "Validation Iteration: 0 Accuracy: 0.7260722169662567 Labels: 177\n",
      "Validation Iteration: 0 Accuracy: 0.5650819930621255 Labels: 266\n",
      "Validation Iteration: 0 Accuracy: 0.8122831914222642 Labels: 355\n",
      "Validation Iteration: 0 Accuracy: 0.7139966361820667 Labels: 443\n",
      "Validation Iteration: 0 Accuracy: 0.822190686429097 Labels: 532\n",
      "Validation Iteration: 0 Accuracy: 0.8233864185850941 Labels: 621\n",
      "Validation Iteration: 0 Accuracy: 0.8308630295385262 Labels: 710\n",
      "Validation Iteration: 0 Accuracy: 0.8230842005676443 Labels: 799\n",
      "Validation Iteration: 0 Accuracy: 0.8263428991905813 Labels: 887\n",
      "Validation Iteration: 0 Accuracy: 0.8261063807421424 Labels: 976\n",
      "Validation Iteration: 0 Accuracy: 0.825843582466099 Labels: 1065\n",
      "Validation Iteration: 0 Accuracy: 0.8319010827288973 Labels: 1154\n",
      "Validation Iteration: 0 Accuracy: 0.8335304320403658 Labels: 1243\n",
      "Validation Iteration: 0 Accuracy: 0.8359744560075686 Labels: 1331\n",
      "Validation Iteration: 0 Accuracy: 0.8392068748029013 Labels: 1420\n",
      "Validation Iteration: 0 Accuracy: 0.8409150635971828 Labels: 1509\n",
      "Validation Iteration: 0 Accuracy: 0.8451066961000736 Labels: 1598\n",
      "Validation Iteration: 0 Accuracy: 0.8417297382529171 Labels: 1686\n",
      "Validation Iteration: 0 Accuracy: 0.8419925365289603 Labels: 1775\n"
     ]
    }
   ],
   "source": [
    "adaboost_base_metrics = []\n",
    "adaboost_base_clfs = []\n",
    "\n",
    "model =  {\n",
    "    'classifier':AdaBoostClassifier(),\n",
    "    'num_view':1,\n",
    "    'gamma':0.3,\n",
    "    'steps':5,\n",
    "    'regularizer':'hard'\n",
    "}\n",
    "for i in label_pct:\n",
    "    clfs, metrics = Validation.validation(\n",
    "        model_params=model,\n",
    "        train_data_x=X,\n",
    "        train_data_y=y,\n",
    "        percent_labeled=i,\n",
    "        random_seed=seeds[0],\n",
    "        iters=5\n",
    "    )\n",
    "\n",
    "    adaboost_base_metrics.append(metrics)\n",
    "    adaboost_base_clfs.append(clfs)\n",
    "\n",
    "adaboost_base_score = np.array(adaboost_base_metrics)"
   ]
  },
  {
   "cell_type": "code",
   "execution_count": 9,
   "metadata": {},
   "outputs": [
    {
     "name": "stdout",
     "output_type": "stream",
     "text": [
      "Validation Iteration: 0 Accuracy: 0.6123988226637234 Labels: 88\n",
      "Validation Iteration: 0 Accuracy: 0.14490696941028067 Labels: 177\n",
      "Validation Iteration: 0 Accuracy: 0.8399295700620204 Labels: 266\n",
      "Validation Iteration: 0 Accuracy: 0.8424130137706297 Labels: 355\n",
      "Validation Iteration: 0 Accuracy: 0.8424130137706297 Labels: 443\n",
      "Validation Iteration: 0 Accuracy: 0.8424130137706297 Labels: 532\n",
      "Validation Iteration: 0 Accuracy: 0.8424130137706297 Labels: 621\n",
      "Validation Iteration: 0 Accuracy: 0.8424130137706297 Labels: 710\n",
      "Validation Iteration: 0 Accuracy: 0.8424130137706297 Labels: 799\n",
      "Validation Iteration: 0 Accuracy: 0.8424130137706297 Labels: 887\n",
      "Validation Iteration: 0 Accuracy: 0.8424130137706297 Labels: 976\n",
      "Validation Iteration: 0 Accuracy: 0.8424130137706297 Labels: 1065\n",
      "Validation Iteration: 0 Accuracy: 0.8424130137706297 Labels: 1154\n",
      "Validation Iteration: 0 Accuracy: 0.8424130137706297 Labels: 1243\n",
      "Validation Iteration: 0 Accuracy: 0.8424130137706297 Labels: 1331\n",
      "Validation Iteration: 0 Accuracy: 0.8424130137706297 Labels: 1420\n",
      "Validation Iteration: 0 Accuracy: 0.8424130137706297 Labels: 1509\n",
      "Validation Iteration: 0 Accuracy: 0.8424130137706297 Labels: 1598\n",
      "Validation Iteration: 0 Accuracy: 0.8424130137706297 Labels: 1686\n",
      "Validation Iteration: 0 Accuracy: 0.8424130137706297 Labels: 1775\n"
     ]
    }
   ],
   "source": [
    "adaboost_multi_metrics = []\n",
    "adaboost_multi_clfs = []\n",
    "steps = 20\n",
    "views = 2\n",
    "\n",
    "model =  {\n",
    "    'classifier':AdaBoostClassifier(),\n",
    "    'num_view':views,\n",
    "    'gamma':0.3,\n",
    "    'steps':steps,\n",
    "    'regularizer':'hard',\n",
    "    'update_add_num': int(X.shape[0]/steps)\n",
    "}\n",
    "\n",
    "for i in label_pct:\n",
    "    clfs, metrics = Validation.validation(\n",
    "        model_params=model,\n",
    "        train_data_x=X,\n",
    "        train_data_y=y,\n",
    "        percent_labeled=i,\n",
    "        random_seed=seeds[0],\n",
    "        spaco=True,\n",
    "        iters=5,\n",
    "        hsplit=True,\n",
    "        hsplit_size=views\n",
    "    )\n",
    "\n",
    "    adaboost_multi_metrics.append(metrics)\n",
    "    adaboost_multi_clfs.append(clfs)\n",
    "\n",
    "adaboost_multi_score = np.array(adaboost_multi_metrics)"
   ]
  },
  {
   "cell_type": "code",
   "execution_count": 10,
   "metadata": {},
   "outputs": [
    {
     "name": "stderr",
     "output_type": "stream",
     "text": [
      "WARNING:pystan:n_eff / iter below 0.001 indicates that the effective sample size has likely been overestimated\n",
      "WARNING:pystan:Rhat above 1.1 or below 0.9 indicates that the chains very likely have not mixed\n",
      "WARNING:pystan:46 of 4000 iterations ended with a divergence (1.15 %).\n",
      "WARNING:pystan:Try running with adapt_delta larger than 0.8 to remove the divergences.\n",
      "WARNING:pystan:3 of 4000 iterations saturated the maximum tree depth of 10 (0.075 %)\n",
      "WARNING:pystan:Run again with max_treedepth larger than 10 to avoid saturation\n",
      "WARNING:pystan:Chain 4: E-BFMI = 0.152\n",
      "WARNING:pystan:E-BFMI below 0.2 indicates you may need to reparameterize your model\n"
     ]
    },
    {
     "data": {
      "image/png": "[encoded data removed]",
      "text/plain": [
       "<Figure size 432x288 with 1 Axes>"
      ]
     },
     "metadata": {
      "needs_background": "light"
     },
     "output_type": "display_data"
    }
   ],
   "source": [
    "baycomp_ada, bayplot_ada = baycomp.two_on_multiple(\n",
    "    adaboost_base_score, \n",
    "    adaboost_multi_score, \n",
    "    plot=True, \n",
    "    rope=0.05, \n",
    "    names = ('AdaBoost','AdaBoost-SPamCo'))"
   ]
  },
  {
   "cell_type": "code",
   "execution_count": 11,
   "metadata": {},
   "outputs": [
    {
     "data": {
      "image/png": "[encoded data removed]",
      "text/plain": [
       "<Figure size 432x288 with 1 Axes>"
      ]
     },
     "metadata": {
      "needs_background": "light"
     },
     "output_type": "display_data"
    }
   ],
   "source": [
    "baycomp_ada, bayplot_ada = baycomp.two_on_single(\n",
    "    np.mean(adaboost_base_score, axis=1), \n",
    "    np.mean(adaboost_multi_score, axis=1), \n",
    "    plot=True,\n",
    "    rope=.05,\n",
    "    names = ('AdaBoost','AdaBoost-SPamCo'))"
   ]
  },
  {
   "cell_type": "markdown",
   "metadata": {},
   "source": [
    "## RandomForrestClassifier"
   ]
  },
  {
   "cell_type": "code",
   "execution_count": 12,
   "metadata": {},
   "outputs": [
    {
     "name": "stdout",
     "output_type": "stream",
     "text": [
      "Validation Iteration: 0 Accuracy: 0.8355933985073057 Labels: 88\n",
      "Validation Iteration: 0 Accuracy: 0.8412435614422369 Labels: 177\n",
      "Validation Iteration: 0 Accuracy: 0.8425706927362556 Labels: 266\n",
      "Validation Iteration: 0 Accuracy: 0.8426889519604751 Labels: 355\n",
      "Validation Iteration: 0 Accuracy: 0.8414012404078629 Labels: 443\n",
      "Validation Iteration: 0 Accuracy: 0.8415720592872911 Labels: 532\n",
      "Validation Iteration: 0 Accuracy: 0.8407179648901503 Labels: 621\n",
      "Validation Iteration: 0 Accuracy: 0.8433853673919899 Labels: 710\n",
      "Validation Iteration: 0 Accuracy: 0.8428860506675077 Labels: 799\n",
      "Validation Iteration: 0 Accuracy: 0.8426495322190687 Labels: 887\n",
      "Validation Iteration: 0 Accuracy: 0.8440817828235047 Labels: 976\n",
      "Validation Iteration: 0 Accuracy: 0.8438452643750657 Labels: 1065\n",
      "Validation Iteration: 0 Accuracy: 0.8422159150635972 Labels: 1154\n",
      "Validation Iteration: 0 Accuracy: 0.8433853673919899 Labels: 1243\n",
      "Validation Iteration: 0 Accuracy: 0.8427152317880795 Labels: 1331\n",
      "Validation Iteration: 0 Accuracy: 0.8448701776516346 Labels: 1420\n",
      "Validation Iteration: 0 Accuracy: 0.8441343424787133 Labels: 1509\n",
      "Validation Iteration: 0 Accuracy: 0.8445679596341849 Labels: 1598\n",
      "Validation Iteration: 0 Accuracy: 0.8442394617891307 Labels: 1686\n",
      "Validation Iteration: 0 Accuracy: 0.8438978240302744 Labels: 1775\n"
     ]
    }
   ],
   "source": [
    "rfc_base_metrics = []\n",
    "rfc_base_clfs = []\n",
    "\n",
    "model =  {\n",
    "    'classifier':RandomForestClassifier(),\n",
    "    'num_view':1,\n",
    "    'gamma':0.3,\n",
    "    'steps':5,\n",
    "    'regularizer':'hard'\n",
    "}\n",
    "\n",
    "for i in label_pct:\n",
    "    clfs, metrics = Validation.validation(\n",
    "        model_params=model,\n",
    "        train_data_x=X,\n",
    "        train_data_y=y,\n",
    "        percent_labeled=i,\n",
    "        random_seed=seeds[0],\n",
    "        iters=5\n",
    "    )\n",
    "\n",
    "    rfc_base_metrics.append(metrics)\n",
    "    rfc_base_clfs.append(clfs)\n",
    "\n",
    "rfc_base_score = np.array(rfc_base_metrics)"
   ]
  },
  {
   "cell_type": "code",
   "execution_count": 13,
   "metadata": {},
   "outputs": [
    {
     "ename": "NameError",
     "evalue": "name 'seed' is not defined",
     "output_type": "error",
     "traceback": [
      "\u001b[1;31m---------------------------------------------------------------------------\u001b[0m",
      "\u001b[1;31mNameError\u001b[0m                                 Traceback (most recent call last)",
      "\u001b[1;32m~\\AppData\\Local\\Temp/ipykernel_25588/3945855117.py\u001b[0m in \u001b[0;36m<module>\u001b[1;34m\u001b[0m\n\u001b[0;32m     19\u001b[0m         \u001b[0mtrain_data_y\u001b[0m\u001b[1;33m=\u001b[0m\u001b[0my\u001b[0m\u001b[1;33m,\u001b[0m\u001b[1;33m\u001b[0m\u001b[1;33m\u001b[0m\u001b[0m\n\u001b[0;32m     20\u001b[0m         \u001b[0mpercent_labeled\u001b[0m\u001b[1;33m=\u001b[0m\u001b[0mi\u001b[0m\u001b[1;33m,\u001b[0m\u001b[1;33m\u001b[0m\u001b[1;33m\u001b[0m\u001b[0m\n\u001b[1;32m---> 21\u001b[1;33m         \u001b[0mrandom_seed\u001b[0m\u001b[1;33m=\u001b[0m\u001b[0mseed\u001b[0m\u001b[1;33m,\u001b[0m\u001b[1;33m\u001b[0m\u001b[1;33m\u001b[0m\u001b[0m\n\u001b[0m\u001b[0;32m     22\u001b[0m         \u001b[0mspaco\u001b[0m\u001b[1;33m=\u001b[0m\u001b[1;32mTrue\u001b[0m\u001b[1;33m,\u001b[0m\u001b[1;33m\u001b[0m\u001b[1;33m\u001b[0m\u001b[0m\n\u001b[0;32m     23\u001b[0m         \u001b[0miters\u001b[0m\u001b[1;33m=\u001b[0m\u001b[1;36m5\u001b[0m\u001b[1;33m,\u001b[0m\u001b[1;33m\u001b[0m\u001b[1;33m\u001b[0m\u001b[0m\n",
      "\u001b[1;31mNameError\u001b[0m: name 'seed' is not defined"
     ]
    }
   ],
   "source": [
    "rfc_multi_metrics = []\n",
    "rfc_multi_clfs = []\n",
    "steps = 20\n",
    "views = 2\n",
    "\n",
    "model =  {\n",
    "    'classifier':RandomForestClassifier(),\n",
    "    'num_view':views,\n",
    "    'gamma':0.3,\n",
    "    'steps':steps,\n",
    "    'regularizer':'hard',\n",
    "    'update_add_num': int(X.shape[0]/steps)\n",
    "}\n",
    "\n",
    "for i in label_pct:\n",
    "    clfs, metrics = Validation.validation(\n",
    "        model_params=model,\n",
    "        train_data_x=X,\n",
    "        train_data_y=y,\n",
    "        percent_labeled=i,\n",
    "        random_seed=seeds[0],\n",
    "        spaco=True,\n",
    "        iters=5,\n",
    "        hsplit=True,\n",
    "        hsplit_size=views\n",
    "    )\n",
    "\n",
    "    rfc_multi_metrics.append(metrics)\n",
    "    rfc_multi_clfs.append(clfs)\n",
    "\n",
    "rfc_multi_score = np.array(rfc_multi_metrics)"
   ]
  },
  {
   "cell_type": "code",
   "execution_count": null,
   "metadata": {},
   "outputs": [],
   "source": [
    "baycomp_rfc, bayplot_rfc = baycomp.two_on_multiple(\n",
    "    rfc_base_score, \n",
    "    rfc_multi_score, \n",
    "    plot=True, \n",
    "    rope=0.001, \n",
    "    names = ('RFC','RFC-SPamCo'))"
   ]
  },
  {
   "cell_type": "markdown",
   "metadata": {},
   "source": [
    "## XGBoost"
   ]
  },
  {
   "cell_type": "code",
   "execution_count": null,
   "metadata": {},
   "outputs": [],
   "source": [
    "xgboost_base_metrics = []\n",
    "xgboost_base_clfs = []\n",
    "\n",
    "model =  {\n",
    "    'classifier':xgb.XGBClassifier(silent=True, verbosity=0),\n",
    "    'num_view':1,\n",
    "    'gamma':0.3,\n",
    "    'steps':10,\n",
    "    'regularizer':'hard'\n",
    "}\n",
    "\n",
    "for i in label_pct:\n",
    "    clfs, metrics = Validation.validation(\n",
    "        model_params=model,\n",
    "        train_data_x=X,\n",
    "        train_data_y=y,\n",
    "        percent_labeled=i,\n",
    "        random_seed=seeds[0],\n",
    "        iters=5\n",
    "    )\n",
    "\n",
    "    xgboost_base_metrics.append(metrics)\n",
    "    xgboost_base_clfs.append(clfs)\n",
    "\n",
    "xgboost_base_score = np.array(xgboost_base_metrics)"
   ]
  },
  {
   "cell_type": "code",
   "execution_count": null,
   "metadata": {},
   "outputs": [],
   "source": [
    "xgboost_multi_metrics = []\n",
    "xgboost_multi_clfs = []\n",
    "steps = 20\n",
    "views = 2\n",
    "\n",
    "model =  {\n",
    "    'classifier':xgb.XGBClassifier(silent=True, verbosity=0),\n",
    "    'num_view':views,\n",
    "    'gamma':0.3,\n",
    "    'steps':steps,\n",
    "    'regularizer':'hard',\n",
    "    'update_add_num': int(X.shape[0]/steps)\n",
    "}\n",
    "\n",
    "for i in label_pct:\n",
    "    clfs, metrics = Validation.validation(\n",
    "        model_params=model,\n",
    "        train_data_x=X,\n",
    "        train_data_y=y,\n",
    "        percent_labeled=i,\n",
    "        random_seed=seeds[0],\n",
    "        spaco=True,\n",
    "        iters=5,\n",
    "        hsplit=True,\n",
    "        hsplit_size=views\n",
    "    )\n",
    "\n",
    "    xgboost_multi_metrics.append(metrics)\n",
    "    xgboost_multi_clfs.append(clfs)\n",
    "\n",
    "xgboost_multi_score = np.array(xgboost_multi_metrics)"
   ]
  },
  {
   "cell_type": "code",
   "execution_count": null,
   "metadata": {},
   "outputs": [],
   "source": [
    "baycomp_xgboost, bayplot_xgboost = baycomp.two_on_multiple(\n",
    "    xgboost_base_score, \n",
    "    xgboost_multi_score, \n",
    "    plot=True, \n",
    "    rope=0.02, \n",
    "    names = ('XGBoost','XGBoost-SPamCo'))"
   ]
  },
  {
   "cell_type": "code",
   "execution_count": null,
   "metadata": {},
   "outputs": [],
   "source": [
    "baycomp_xgboost, bayplot_xgboost = baycomp.two_on_single(\n",
    "    np.mean(xgboost_base_score, axis=1), \n",
    "    np.mean(xgboost_multi_score, axis=1), \n",
    "    plot=True, \n",
    "    names = ('XGBoost','XGBoost-SPamCo'))"
   ]
  },
  {
   "cell_type": "code",
   "execution_count": null,
   "metadata": {},
   "outputs": [],
   "source": [
    "baycomp_xgboost"
   ]
  },
  {
   "cell_type": "code",
   "execution_count": null,
   "metadata": {},
   "outputs": [],
   "source": [
    "label_pct"
   ]
  },
  {
   "cell_type": "code",
   "execution_count": null,
   "metadata": {},
   "outputs": [],
   "source": [
    "df = pd.DataFrame()\n",
    "\n",
    "df['Percent of Labeled Data'] = label_pct\n",
    "df['AdaBoost Mean'] =  np.mean(adaboost_base_score, axis=1)\n",
    "df['AdaBoost Std'] =  np.std(adaboost_base_score, axis=1)\n",
    "df['AdaBoost+SPamCo Mean'] = np.mean(adaboost_multi_score, axis=1)\n",
    "df['AdaBoost+SPamCo Std'] = np.std(adaboost_multi_score, axis=1)\n",
    "df['RandomForest Mean'] = np.mean(rfc_base_score, axis=1)\n",
    "df['RandomForest Std'] = np.std(rfc_base_score, axis=1)\n",
    "df['RandomForest+SPamCo Mean'] = np.mean(rfc_multi_score, axis=1)\n",
    "df['RandomForest+SPamCo Std'] = np.std(rfc_multi_score, axis=1)\n",
    "df['XGBoost Mean'] = np.mean(xgboost_base_score, axis=1)\n",
    "df['XGBoost Std'] = np.std(xgboost_base_score, axis=1)\n",
    "df['XGBoost+SPamCo Mean'] = np.mean(xgboost_multi_score, axis=1)\n",
    "df['XGBoost+SpamCo Std'] = np.std(xgboost_multi_score, axis=1)"
   ]
  },
  {
   "cell_type": "code",
   "execution_count": null,
   "metadata": {},
   "outputs": [],
   "source": [
    "df"
   ]
  },
  {
   "cell_type": "code",
   "execution_count": null,
   "metadata": {},
   "outputs": [],
   "source": [
    "df.to_csv('Multiple Classifiers on Diabetes Health Data.csv')"
   ]
  },
  {
   "cell_type": "code",
   "execution_count": null,
   "metadata": {},
   "outputs": [],
   "source": []
  }
 ],
 "metadata": {
  "kernelspec": {
   "display_name": "Python 3 (ipykernel)",
   "language": "python",
   "name": "python3"
  },
  "language_info": {
   "codemirror_mode": {
    "name": "ipython",
    "version": 3
   },
   "file_extension": ".py",
   "mimetype": "text/x-python",
   "name": "python",
   "nbconvert_exporter": "python",
   "pygments_lexer": "ipython3",
   "version": "3.9.7"
  }
 },
 "nbformat": 4,
 "nbformat_minor": 4
}
