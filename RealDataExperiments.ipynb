{
 "cells": [
  {
   "cell_type": "markdown",
   "metadata": {},
   "source": [
    "# SPamCo with Ensembles"
   ]
  },
  {
   "cell_type": "code",
   "execution_count": 1,
   "metadata": {},
   "outputs": [],
   "source": [
    "#Math packages\n",
    "import numpy as np\n",
    "\n",
    "#Data packages\n",
    "import pandas as pd\n",
    "from pandas_profiling import ProfileReport\n",
    "\n",
    "#Spamco\n",
    "from spamco import SPamCo, Validation\n",
    "\n",
    "#Data packages\n",
    "from sklearn.datasets import make_moons, make_classification, make_circles, make_blobs, make_gaussian_quantiles\n",
    "from sklearn.datasets import load_breast_cancer, load_digits, load_iris\n",
    "from sklearn.model_selection import train_test_split\n",
    "from sklearn.datasets import fetch_openml\n",
    "\n",
    "#Classifier packages\n",
    "from sklearn.ensemble import RandomForestClassifier\n",
    "from sklearn.ensemble import AdaBoostClassifier\n",
    "import xgboost as xgb\n",
    "\n",
    "#Validation packages\n",
    "from sklearn.metrics import accuracy_score\n",
    "from sklearn.model_selection import GridSearchCV\n",
    "\n",
    "#Visualization packages\n",
    "import plotly.express as px\n",
    "\n",
    "import matplotlib\n",
    "import matplotlib.pyplot as plt\n",
    "import matplotlib.pylab as plb\n",
    "from matplotlib.ticker import MaxNLocator\n",
    "%matplotlib inline\n",
    "\n",
    "import baycomp\n",
    "\n",
    "#General utility packages\n",
    "from itertools import cycle, islice\n",
    "import warnings\n",
    "\n",
    "warnings.filterwarnings(\"ignore\")\n",
    "matplotlib.rcParams.update({'font.size': 20})"
   ]
  },
  {
   "cell_type": "markdown",
   "metadata": {},
   "source": [
    "# Diabetes Health Indicators Dataset"
   ]
  },
  {
   "cell_type": "code",
   "execution_count": 2,
   "metadata": {},
   "outputs": [],
   "source": [
    "df = pd.read_csv('Data/diabetes.csv')"
   ]
  },
  {
   "cell_type": "code",
   "execution_count": 3,
   "metadata": {},
   "outputs": [],
   "source": [
    "y =df.values[:,0]\n",
    "X =df.drop(['Diabetes_012','AnyHealthcare'], axis = 1).values"
   ]
  },
  {
   "cell_type": "code",
   "execution_count": 4,
   "metadata": {},
   "outputs": [
    {
     "data": {
      "text/html": [
       "<div>\n",
       "<style scoped>\n",
       "    .dataframe tbody tr th:only-of-type {\n",
       "        vertical-align: middle;\n",
       "    }\n",
       "\n",
       "    .dataframe tbody tr th {\n",
       "        vertical-align: top;\n",
       "    }\n",
       "\n",
       "    .dataframe thead th {\n",
       "        text-align: right;\n",
       "    }\n",
       "</style>\n",
       "<table border=\"1\" class=\"dataframe\">\n",
       "  <thead>\n",
       "    <tr style=\"text-align: right;\">\n",
       "      <th></th>\n",
       "      <th>Diabetes_012</th>\n",
       "      <th>HighBP</th>\n",
       "      <th>HighChol</th>\n",
       "      <th>CholCheck</th>\n",
       "      <th>BMI</th>\n",
       "      <th>Smoker</th>\n",
       "      <th>Stroke</th>\n",
       "      <th>HeartDiseaseorAttack</th>\n",
       "      <th>PhysActivity</th>\n",
       "      <th>Fruits</th>\n",
       "      <th>...</th>\n",
       "      <th>AnyHealthcare</th>\n",
       "      <th>NoDocbcCost</th>\n",
       "      <th>GenHlth</th>\n",
       "      <th>MentHlth</th>\n",
       "      <th>PhysHlth</th>\n",
       "      <th>DiffWalk</th>\n",
       "      <th>Sex</th>\n",
       "      <th>Age</th>\n",
       "      <th>Education</th>\n",
       "      <th>Income</th>\n",
       "    </tr>\n",
       "  </thead>\n",
       "  <tbody>\n",
       "    <tr>\n",
       "      <th>count</th>\n",
       "      <td>253680.000000</td>\n",
       "      <td>253680.000000</td>\n",
       "      <td>253680.000000</td>\n",
       "      <td>253680.000000</td>\n",
       "      <td>253680.000000</td>\n",
       "      <td>253680.000000</td>\n",
       "      <td>253680.000000</td>\n",
       "      <td>253680.000000</td>\n",
       "      <td>253680.000000</td>\n",
       "      <td>253680.000000</td>\n",
       "      <td>...</td>\n",
       "      <td>253680.000000</td>\n",
       "      <td>253680.000000</td>\n",
       "      <td>253680.000000</td>\n",
       "      <td>253680.000000</td>\n",
       "      <td>253680.000000</td>\n",
       "      <td>253680.000000</td>\n",
       "      <td>253680.000000</td>\n",
       "      <td>253680.000000</td>\n",
       "      <td>253680.000000</td>\n",
       "      <td>253680.000000</td>\n",
       "    </tr>\n",
       "    <tr>\n",
       "      <th>mean</th>\n",
       "      <td>0.296921</td>\n",
       "      <td>0.429001</td>\n",
       "      <td>0.424121</td>\n",
       "      <td>0.962670</td>\n",
       "      <td>28.382364</td>\n",
       "      <td>0.443169</td>\n",
       "      <td>0.040571</td>\n",
       "      <td>0.094186</td>\n",
       "      <td>0.756544</td>\n",
       "      <td>0.634256</td>\n",
       "      <td>...</td>\n",
       "      <td>0.951053</td>\n",
       "      <td>0.084177</td>\n",
       "      <td>2.511392</td>\n",
       "      <td>3.184772</td>\n",
       "      <td>4.242081</td>\n",
       "      <td>0.168224</td>\n",
       "      <td>0.440342</td>\n",
       "      <td>8.032119</td>\n",
       "      <td>5.050434</td>\n",
       "      <td>6.053875</td>\n",
       "    </tr>\n",
       "    <tr>\n",
       "      <th>std</th>\n",
       "      <td>0.698160</td>\n",
       "      <td>0.494934</td>\n",
       "      <td>0.494210</td>\n",
       "      <td>0.189571</td>\n",
       "      <td>6.608694</td>\n",
       "      <td>0.496761</td>\n",
       "      <td>0.197294</td>\n",
       "      <td>0.292087</td>\n",
       "      <td>0.429169</td>\n",
       "      <td>0.481639</td>\n",
       "      <td>...</td>\n",
       "      <td>0.215759</td>\n",
       "      <td>0.277654</td>\n",
       "      <td>1.068477</td>\n",
       "      <td>7.412847</td>\n",
       "      <td>8.717951</td>\n",
       "      <td>0.374066</td>\n",
       "      <td>0.496429</td>\n",
       "      <td>3.054220</td>\n",
       "      <td>0.985774</td>\n",
       "      <td>2.071148</td>\n",
       "    </tr>\n",
       "    <tr>\n",
       "      <th>min</th>\n",
       "      <td>0.000000</td>\n",
       "      <td>0.000000</td>\n",
       "      <td>0.000000</td>\n",
       "      <td>0.000000</td>\n",
       "      <td>12.000000</td>\n",
       "      <td>0.000000</td>\n",
       "      <td>0.000000</td>\n",
       "      <td>0.000000</td>\n",
       "      <td>0.000000</td>\n",
       "      <td>0.000000</td>\n",
       "      <td>...</td>\n",
       "      <td>0.000000</td>\n",
       "      <td>0.000000</td>\n",
       "      <td>1.000000</td>\n",
       "      <td>0.000000</td>\n",
       "      <td>0.000000</td>\n",
       "      <td>0.000000</td>\n",
       "      <td>0.000000</td>\n",
       "      <td>1.000000</td>\n",
       "      <td>1.000000</td>\n",
       "      <td>1.000000</td>\n",
       "    </tr>\n",
       "    <tr>\n",
       "      <th>25%</th>\n",
       "      <td>0.000000</td>\n",
       "      <td>0.000000</td>\n",
       "      <td>0.000000</td>\n",
       "      <td>1.000000</td>\n",
       "      <td>24.000000</td>\n",
       "      <td>0.000000</td>\n",
       "      <td>0.000000</td>\n",
       "      <td>0.000000</td>\n",
       "      <td>1.000000</td>\n",
       "      <td>0.000000</td>\n",
       "      <td>...</td>\n",
       "      <td>1.000000</td>\n",
       "      <td>0.000000</td>\n",
       "      <td>2.000000</td>\n",
       "      <td>0.000000</td>\n",
       "      <td>0.000000</td>\n",
       "      <td>0.000000</td>\n",
       "      <td>0.000000</td>\n",
       "      <td>6.000000</td>\n",
       "      <td>4.000000</td>\n",
       "      <td>5.000000</td>\n",
       "    </tr>\n",
       "    <tr>\n",
       "      <th>50%</th>\n",
       "      <td>0.000000</td>\n",
       "      <td>0.000000</td>\n",
       "      <td>0.000000</td>\n",
       "      <td>1.000000</td>\n",
       "      <td>27.000000</td>\n",
       "      <td>0.000000</td>\n",
       "      <td>0.000000</td>\n",
       "      <td>0.000000</td>\n",
       "      <td>1.000000</td>\n",
       "      <td>1.000000</td>\n",
       "      <td>...</td>\n",
       "      <td>1.000000</td>\n",
       "      <td>0.000000</td>\n",
       "      <td>2.000000</td>\n",
       "      <td>0.000000</td>\n",
       "      <td>0.000000</td>\n",
       "      <td>0.000000</td>\n",
       "      <td>0.000000</td>\n",
       "      <td>8.000000</td>\n",
       "      <td>5.000000</td>\n",
       "      <td>7.000000</td>\n",
       "    </tr>\n",
       "    <tr>\n",
       "      <th>75%</th>\n",
       "      <td>0.000000</td>\n",
       "      <td>1.000000</td>\n",
       "      <td>1.000000</td>\n",
       "      <td>1.000000</td>\n",
       "      <td>31.000000</td>\n",
       "      <td>1.000000</td>\n",
       "      <td>0.000000</td>\n",
       "      <td>0.000000</td>\n",
       "      <td>1.000000</td>\n",
       "      <td>1.000000</td>\n",
       "      <td>...</td>\n",
       "      <td>1.000000</td>\n",
       "      <td>0.000000</td>\n",
       "      <td>3.000000</td>\n",
       "      <td>2.000000</td>\n",
       "      <td>3.000000</td>\n",
       "      <td>0.000000</td>\n",
       "      <td>1.000000</td>\n",
       "      <td>10.000000</td>\n",
       "      <td>6.000000</td>\n",
       "      <td>8.000000</td>\n",
       "    </tr>\n",
       "    <tr>\n",
       "      <th>max</th>\n",
       "      <td>2.000000</td>\n",
       "      <td>1.000000</td>\n",
       "      <td>1.000000</td>\n",
       "      <td>1.000000</td>\n",
       "      <td>98.000000</td>\n",
       "      <td>1.000000</td>\n",
       "      <td>1.000000</td>\n",
       "      <td>1.000000</td>\n",
       "      <td>1.000000</td>\n",
       "      <td>1.000000</td>\n",
       "      <td>...</td>\n",
       "      <td>1.000000</td>\n",
       "      <td>1.000000</td>\n",
       "      <td>5.000000</td>\n",
       "      <td>30.000000</td>\n",
       "      <td>30.000000</td>\n",
       "      <td>1.000000</td>\n",
       "      <td>1.000000</td>\n",
       "      <td>13.000000</td>\n",
       "      <td>6.000000</td>\n",
       "      <td>8.000000</td>\n",
       "    </tr>\n",
       "  </tbody>\n",
       "</table>\n",
       "<p>8 rows × 22 columns</p>\n",
       "</div>"
      ],
      "text/plain": [
       "        Diabetes_012         HighBP       HighChol      CholCheck  \\\n",
       "count  253680.000000  253680.000000  253680.000000  253680.000000   \n",
       "mean        0.296921       0.429001       0.424121       0.962670   \n",
       "std         0.698160       0.494934       0.494210       0.189571   \n",
       "min         0.000000       0.000000       0.000000       0.000000   \n",
       "25%         0.000000       0.000000       0.000000       1.000000   \n",
       "50%         0.000000       0.000000       0.000000       1.000000   \n",
       "75%         0.000000       1.000000       1.000000       1.000000   \n",
       "max         2.000000       1.000000       1.000000       1.000000   \n",
       "\n",
       "                 BMI         Smoker         Stroke  HeartDiseaseorAttack  \\\n",
       "count  253680.000000  253680.000000  253680.000000         253680.000000   \n",
       "mean       28.382364       0.443169       0.040571              0.094186   \n",
       "std         6.608694       0.496761       0.197294              0.292087   \n",
       "min        12.000000       0.000000       0.000000              0.000000   \n",
       "25%        24.000000       0.000000       0.000000              0.000000   \n",
       "50%        27.000000       0.000000       0.000000              0.000000   \n",
       "75%        31.000000       1.000000       0.000000              0.000000   \n",
       "max        98.000000       1.000000       1.000000              1.000000   \n",
       "\n",
       "        PhysActivity         Fruits  ...  AnyHealthcare    NoDocbcCost  \\\n",
       "count  253680.000000  253680.000000  ...  253680.000000  253680.000000   \n",
       "mean        0.756544       0.634256  ...       0.951053       0.084177   \n",
       "std         0.429169       0.481639  ...       0.215759       0.277654   \n",
       "min         0.000000       0.000000  ...       0.000000       0.000000   \n",
       "25%         1.000000       0.000000  ...       1.000000       0.000000   \n",
       "50%         1.000000       1.000000  ...       1.000000       0.000000   \n",
       "75%         1.000000       1.000000  ...       1.000000       0.000000   \n",
       "max         1.000000       1.000000  ...       1.000000       1.000000   \n",
       "\n",
       "             GenHlth       MentHlth       PhysHlth       DiffWalk  \\\n",
       "count  253680.000000  253680.000000  253680.000000  253680.000000   \n",
       "mean        2.511392       3.184772       4.242081       0.168224   \n",
       "std         1.068477       7.412847       8.717951       0.374066   \n",
       "min         1.000000       0.000000       0.000000       0.000000   \n",
       "25%         2.000000       0.000000       0.000000       0.000000   \n",
       "50%         2.000000       0.000000       0.000000       0.000000   \n",
       "75%         3.000000       2.000000       3.000000       0.000000   \n",
       "max         5.000000      30.000000      30.000000       1.000000   \n",
       "\n",
       "                 Sex            Age      Education         Income  \n",
       "count  253680.000000  253680.000000  253680.000000  253680.000000  \n",
       "mean        0.440342       8.032119       5.050434       6.053875  \n",
       "std         0.496429       3.054220       0.985774       2.071148  \n",
       "min         0.000000       1.000000       1.000000       1.000000  \n",
       "25%         0.000000       6.000000       4.000000       5.000000  \n",
       "50%         0.000000       8.000000       5.000000       7.000000  \n",
       "75%         1.000000      10.000000       6.000000       8.000000  \n",
       "max         1.000000      13.000000       6.000000       8.000000  \n",
       "\n",
       "[8 rows x 22 columns]"
      ]
     },
     "execution_count": 4,
     "metadata": {},
     "output_type": "execute_result"
    }
   ],
   "source": [
    "df.describe()"
   ]
  },
  {
   "cell_type": "code",
   "execution_count": 5,
   "metadata": {},
   "outputs": [
    {
     "data": {
      "text/plain": [
       "12684"
      ]
     },
     "execution_count": 5,
     "metadata": {},
     "output_type": "execute_result"
    }
   ],
   "source": [
    "int(X.shape[0]/20)"
   ]
  },
  {
   "cell_type": "code",
   "execution_count": 6,
   "metadata": {},
   "outputs": [],
   "source": [
    "np.random.seed(1)\n",
    "seeds = np.random.randint(low = 1, high = 10000, size = (10, 5))"
   ]
  },
  {
   "cell_type": "code",
   "execution_count": 7,
   "metadata": {},
   "outputs": [],
   "source": [
    "label_pct = np.arange(1, 21)/2000"
   ]
  },
  {
   "cell_type": "code",
   "execution_count": 8,
   "metadata": {},
   "outputs": [],
   "source": [
    "label_pct = np.concatenate((label_pct,np.array([0.1, 0.5, .99])), axis=0 )"
   ]
  },
  {
   "cell_type": "code",
   "execution_count": null,
   "metadata": {},
   "outputs": [],
   "source": []
  },
  {
   "cell_type": "code",
   "execution_count": 4,
   "metadata": {},
   "outputs": [
    {
     "data": {
      "text/plain": [
       "GridSearchCV(estimator=RandomForestClassifier(),\n",
       "             param_grid={'criterion': ['gini', 'entropy'],\n",
       "                         'max_depth': [4, 5, 6, 7, 8],\n",
       "                         'max_features': ['auto', 'sqrt', 'log2'],\n",
       "                         'n_estimators': [200, 500]})"
      ]
     },
     "execution_count": 4,
     "metadata": {},
     "output_type": "execute_result"
    }
   ],
   "source": [
    "param_grid = { \n",
    "    'n_estimators': [200, 500],\n",
    "    'max_features': ['auto', 'sqrt', 'log2'],\n",
    "    'max_depth' : [4,5,6,7,8],\n",
    "    'criterion' :['gini', 'entropy']\n",
    "}\n",
    "clf = RandomForestClassifier()\n",
    "gridcv = GridSearchCV(clf, param_grid)\n",
    "gridcv.fit(X, y)"
   ]
  },
  {
   "cell_type": "code",
   "execution_count": 5,
   "metadata": {},
   "outputs": [
    {
     "data": {
      "text/plain": [
       "{'criterion': 'gini',\n",
       " 'max_depth': 8,\n",
       " 'max_features': 'log2',\n",
       " 'n_estimators': 500}"
      ]
     },
     "execution_count": 5,
     "metadata": {},
     "output_type": "execute_result"
    }
   ],
   "source": [
    "gridcv.best_params_"
   ]
  },
  {
   "cell_type": "markdown",
   "metadata": {},
   "source": [
    "## AdaBoost"
   ]
  },
  {
   "cell_type": "code",
   "execution_count": 8,
   "metadata": {},
   "outputs": [
    {
     "name": "stdout",
     "output_type": "stream",
     "text": [
      "Validation Iteration: 0 Accuracy: 0.8176442762535477 Labels: 88\n",
      "Validation Iteration: 0 Accuracy: 0.7260722169662567 Labels: 177\n",
      "Validation Iteration: 0 Accuracy: 0.5650819930621255 Labels: 266\n",
      "Validation Iteration: 0 Accuracy: 0.8122831914222642 Labels: 355\n",
      "Validation Iteration: 0 Accuracy: 0.7139966361820667 Labels: 443\n",
      "Validation Iteration: 0 Accuracy: 0.822190686429097 Labels: 532\n",
      "Validation Iteration: 0 Accuracy: 0.8233864185850941 Labels: 621\n",
      "Validation Iteration: 0 Accuracy: 0.8308630295385262 Labels: 710\n",
      "Validation Iteration: 0 Accuracy: 0.8230842005676443 Labels: 799\n",
      "Validation Iteration: 0 Accuracy: 0.8263428991905813 Labels: 887\n",
      "Validation Iteration: 0 Accuracy: 0.8261063807421424 Labels: 976\n",
      "Validation Iteration: 0 Accuracy: 0.825843582466099 Labels: 1065\n",
      "Validation Iteration: 0 Accuracy: 0.8319010827288973 Labels: 1154\n",
      "Validation Iteration: 0 Accuracy: 0.8335304320403658 Labels: 1243\n",
      "Validation Iteration: 0 Accuracy: 0.8359744560075686 Labels: 1331\n",
      "Validation Iteration: 0 Accuracy: 0.8392068748029013 Labels: 1420\n",
      "Validation Iteration: 0 Accuracy: 0.8409150635971828 Labels: 1509\n",
      "Validation Iteration: 0 Accuracy: 0.8451066961000736 Labels: 1598\n",
      "Validation Iteration: 0 Accuracy: 0.8417297382529171 Labels: 1686\n",
      "Validation Iteration: 0 Accuracy: 0.8419925365289603 Labels: 1775\n",
      "Validation Iteration: 0 Accuracy: 0.8478135183433196 Labels: 17757\n",
      "Validation Iteration: 0 Accuracy: 0.8488121517922842 Labels: 88788\n",
      "Validation Iteration: 0 Accuracy: 0.8487858719646799 Labels: 175800\n"
     ]
    }
   ],
   "source": [
    "adaboost_base_metrics = []\n",
    "adaboost_base_clfs = []\n",
    "\n",
    "model =  {\n",
    "    'classifier':AdaBoostClassifier(),\n",
    "    'num_view':1,\n",
    "    'gamma':0.3,\n",
    "    'steps':5,\n",
    "    'regularizer':'hard'\n",
    "}\n",
    "for i in label_pct:\n",
    "    clfs, metrics = Validation.validation(\n",
    "        model_params=model,\n",
    "        train_data_x=X,\n",
    "        train_data_y=y,\n",
    "        percent_labeled=i,\n",
    "        random_seed=seeds[0],\n",
    "        iters=5\n",
    "    )\n",
    "\n",
    "    adaboost_base_metrics.append(metrics)\n",
    "    adaboost_base_clfs.append(clfs)\n",
    "\n",
    "adaboost_base_score = np.array(adaboost_base_metrics)"
   ]
  },
  {
   "cell_type": "code",
   "execution_count": 9,
   "metadata": {},
   "outputs": [
    {
     "name": "stdout",
     "output_type": "stream",
     "text": [
      "Validation Iteration: 0 Accuracy: 0.6123988226637234 Labels: 88\n",
      "Validation Iteration: 0 Accuracy: 0.14490696941028067 Labels: 177\n",
      "Validation Iteration: 0 Accuracy: 0.8399295700620204 Labels: 266\n",
      "Validation Iteration: 0 Accuracy: 0.8424130137706297 Labels: 355\n",
      "Validation Iteration: 0 Accuracy: 0.8424130137706297 Labels: 443\n",
      "Validation Iteration: 0 Accuracy: 0.8424130137706297 Labels: 532\n",
      "Validation Iteration: 0 Accuracy: 0.8424130137706297 Labels: 621\n",
      "Validation Iteration: 0 Accuracy: 0.8424130137706297 Labels: 710\n",
      "Validation Iteration: 0 Accuracy: 0.8424130137706297 Labels: 799\n",
      "Validation Iteration: 0 Accuracy: 0.8424130137706297 Labels: 887\n",
      "Validation Iteration: 0 Accuracy: 0.8424130137706297 Labels: 976\n",
      "Validation Iteration: 0 Accuracy: 0.8424130137706297 Labels: 1065\n",
      "Validation Iteration: 0 Accuracy: 0.8424130137706297 Labels: 1154\n",
      "Validation Iteration: 0 Accuracy: 0.8424130137706297 Labels: 1243\n",
      "Validation Iteration: 0 Accuracy: 0.8424130137706297 Labels: 1331\n",
      "Validation Iteration: 0 Accuracy: 0.8424130137706297 Labels: 1420\n",
      "Validation Iteration: 0 Accuracy: 0.8424130137706297 Labels: 1509\n",
      "Validation Iteration: 0 Accuracy: 0.8424130137706297 Labels: 1598\n",
      "Validation Iteration: 0 Accuracy: 0.8424130137706297 Labels: 1686\n",
      "Validation Iteration: 0 Accuracy: 0.8424130137706297 Labels: 1775\n",
      "Validation Iteration: 0 Accuracy: 0.8424130137706297 Labels: 17757\n",
      "Validation Iteration: 0 Accuracy: 0.8424130137706297 Labels: 88788\n",
      "Validation Iteration: 0 Accuracy: 0.8424130137706297 Labels: 175800\n"
     ]
    }
   ],
   "source": [
    "adaboost_multi_metrics = []\n",
    "adaboost_multi_clfs = []\n",
    "steps = 20\n",
    "views = 2\n",
    "\n",
    "model =  {\n",
    "    'classifier':AdaBoostClassifier(),\n",
    "    'num_view':views,\n",
    "    'gamma':0.3,\n",
    "    'steps':steps,\n",
    "    'regularizer':'hard',\n",
    "    'update_add_num': int(X.shape[0]/steps)\n",
    "}\n",
    "\n",
    "for i in label_pct:\n",
    "    clfs, metrics = Validation.validation(\n",
    "        model_params=model,\n",
    "        train_data_x=X,\n",
    "        train_data_y=y,\n",
    "        percent_labeled=i,\n",
    "        random_seed=seeds[0],\n",
    "        spaco=True,\n",
    "        iters=5,\n",
    "        hsplit=True,\n",
    "        hsplit_size=views\n",
    "    )\n",
    "\n",
    "    adaboost_multi_metrics.append(metrics)\n",
    "    adaboost_multi_clfs.append(clfs)\n",
    "\n",
    "adaboost_multi_score = np.array(adaboost_multi_metrics)"
   ]
  },
  {
   "cell_type": "code",
   "execution_count": 10,
   "metadata": {},
   "outputs": [
    {
     "data": {
      "image/png": "[encoded data removed]",
      "text/plain": [
       "<Figure size 432x288 with 1 Axes>"
      ]
     },
     "metadata": {
      "needs_background": "light"
     },
     "output_type": "display_data"
    }
   ],
   "source": [
    "baycomp_ada, bayplot_ada = baycomp.two_on_multiple(\n",
    "    adaboost_base_score, \n",
    "    adaboost_multi_score, \n",
    "    plot=True, \n",
    "    rope=0.05, \n",
    "    names = ('AdaBoost','AdaBoost-SPamCo'))"
   ]
  },
  {
   "cell_type": "code",
   "execution_count": 11,
   "metadata": {},
   "outputs": [
    {
     "data": {
      "image/png": "[encoded data removed]",
      "text/plain": [
       "<Figure size 432x288 with 1 Axes>"
      ]
     },
     "metadata": {
      "needs_background": "light"
     },
     "output_type": "display_data"
    }
   ],
   "source": [
    "baycomp_ada, bayplot_ada = baycomp.two_on_single(\n",
    "    np.mean(adaboost_base_score, axis=1), \n",
    "    np.mean(adaboost_multi_score, axis=1), \n",
    "    plot=True,\n",
    "    rope=.05,\n",
    "    names = ('AdaBoost','AdaBoost-SPamCo'))"
   ]
  },
  {
   "cell_type": "markdown",
   "metadata": {},
   "source": [
    "## RandomForrestClassifier"
   ]
  },
  {
   "cell_type": "code",
   "execution_count": 12,
   "metadata": {},
   "outputs": [
    {
     "name": "stdout",
     "output_type": "stream",
     "text": [
      "Validation Iteration: 0 Accuracy: 0.8364606328182487 Labels: 88\n",
      "Validation Iteration: 0 Accuracy: 0.8415326395458845 Labels: 177\n",
      "Validation Iteration: 0 Accuracy: 0.8429254704089141 Labels: 266\n",
      "Validation Iteration: 0 Accuracy: 0.8427415116156838 Labels: 355\n",
      "Validation Iteration: 0 Accuracy: 0.8410333228214023 Labels: 443\n",
      "Validation Iteration: 0 Accuracy: 0.8409939030799958 Labels: 532\n",
      "Validation Iteration: 0 Accuracy: 0.841414380321665 Labels: 621\n",
      "Validation Iteration: 0 Accuracy: 0.8431751287711553 Labels: 710\n",
      "Validation Iteration: 0 Accuracy: 0.8435824660990224 Labels: 799\n",
      "Validation Iteration: 0 Accuracy: 0.8430043098917271 Labels: 887\n",
      "Validation Iteration: 0 Accuracy: 0.842360454115421 Labels: 976\n",
      "Validation Iteration: 0 Accuracy: 0.8434116472195943 Labels: 1065\n",
      "Validation Iteration: 0 Accuracy: 0.8432408283401661 Labels: 1154\n",
      "Validation Iteration: 0 Accuracy: 0.8432539682539683 Labels: 1243\n",
      "Validation Iteration: 0 Accuracy: 0.844265741616735 Labels: 1331\n",
      "Validation Iteration: 0 Accuracy: 0.8449490171344476 Labels: 1420\n",
      "Validation Iteration: 0 Accuracy: 0.8441343424787133 Labels: 1509\n",
      "Validation Iteration: 0 Accuracy: 0.8439241038578786 Labels: 1598\n",
      "Validation Iteration: 0 Accuracy: 0.843950383685483 Labels: 1686\n",
      "Validation Iteration: 0 Accuracy: 0.8434510669610007 Labels: 1775\n",
      "Validation Iteration: 0 Accuracy: 0.8444891201513718 Labels: 17757\n",
      "Validation Iteration: 0 Accuracy: 0.8424918532534427 Labels: 88788\n",
      "Validation Iteration: 0 Accuracy: 0.8416903185115105 Labels: 175800\n"
     ]
    }
   ],
   "source": [
    "rfc_base_metrics = []\n",
    "rfc_base_clfs = []\n",
    "\n",
    "\n",
    "\n",
    "model =  {\n",
    "    'classifier':RandomForestClassifier(),\n",
    "    'num_view':1,\n",
    "    'gamma':0.3,\n",
    "    'steps':5,\n",
    "    'regularizer':'hard'\n",
    "}\n",
    "\n",
    "for i in label_pct:\n",
    "    clfs, metrics = Validation.validation(\n",
    "        model_params=model,\n",
    "        train_data_x=X,\n",
    "        train_data_y=y,\n",
    "        percent_labeled=i,\n",
    "        random_seed=seeds[0],\n",
    "        iters=5\n",
    "    )\n",
    "\n",
    "    rfc_base_metrics.append(metrics)\n",
    "    rfc_base_clfs.append(clfs)\n",
    "\n",
    "rfc_base_score = np.array(rfc_base_metrics)"
   ]
  },
  {
   "cell_type": "code",
   "execution_count": 13,
   "metadata": {},
   "outputs": [
    {
     "name": "stdout",
     "output_type": "stream",
     "text": [
      "Validation Iteration: 0 Accuracy: 0.8393251340271208 Labels: 88\n",
      "Validation Iteration: 0 Accuracy: 0.8412304215284347 Labels: 177\n",
      "Validation Iteration: 0 Accuracy: 0.8409019236833807 Labels: 266\n",
      "Validation Iteration: 0 Accuracy: 0.8416114790286976 Labels: 355\n",
      "Validation Iteration: 0 Accuracy: 0.841480079890676 Labels: 443\n",
      "Validation Iteration: 0 Accuracy: 0.8411515820456218 Labels: 532\n",
      "Validation Iteration: 0 Accuracy: 0.8407048249763481 Labels: 621\n",
      "Validation Iteration: 0 Accuracy: 0.8414932198044781 Labels: 710\n",
      "Validation Iteration: 0 Accuracy: 0.84132240092505 Labels: 799\n",
      "Validation Iteration: 0 Accuracy: 0.8415589193734889 Labels: 887\n",
      "Validation Iteration: 0 Accuracy: 0.841085882476611 Labels: 976\n",
      "Validation Iteration: 0 Accuracy: 0.8412567013560391 Labels: 1065\n",
      "Validation Iteration: 0 Accuracy: 0.8413618206664564 Labels: 1154\n",
      "Validation Iteration: 0 Accuracy: 0.8412435614422369 Labels: 1243\n",
      "Validation Iteration: 0 Accuracy: 0.8412435614422369 Labels: 1331\n",
      "Validation Iteration: 0 Accuracy: 0.8413092610112478 Labels: 1420\n",
      "Validation Iteration: 0 Accuracy: 0.841085882476611 Labels: 1509\n",
      "Validation Iteration: 0 Accuracy: 0.8407968043729633 Labels: 1598\n",
      "Validation Iteration: 0 Accuracy: 0.8412172816146326 Labels: 1686\n",
      "Validation Iteration: 0 Accuracy: 0.8415457794596868 Labels: 1775\n",
      "Validation Iteration: 0 Accuracy: 0.8396930516135814 Labels: 17757\n",
      "Validation Iteration: 0 Accuracy: 0.8408756438557763 Labels: 88788\n",
      "Validation Iteration: 0 Accuracy: 0.8416903185115105 Labels: 175800\n"
     ]
    }
   ],
   "source": [
    "rfc_multi_metrics = []\n",
    "rfc_multi_clfs = []\n",
    "steps = 20\n",
    "views = 2\n",
    "\n",
    "model =  {\n",
    "    'classifier':RandomForestClassifier(),\n",
    "    'num_view':views,\n",
    "    'gamma':0.3,\n",
    "    'steps':steps,\n",
    "    'regularizer':'hard',\n",
    "    'update_add_num': int(X.shape[0]/steps)\n",
    "}\n",
    "\n",
    "for i in label_pct:\n",
    "    clfs, metrics = Validation.validation(\n",
    "        model_params=model,\n",
    "        train_data_x=X,\n",
    "        train_data_y=y,\n",
    "        percent_labeled=i,\n",
    "        random_seed=seeds[0],\n",
    "        spaco=True,\n",
    "        iters=5,\n",
    "        hsplit=True,\n",
    "        hsplit_size=views\n",
    "    )\n",
    "\n",
    "    rfc_multi_metrics.append(metrics)\n",
    "    rfc_multi_clfs.append(clfs)\n",
    "\n",
    "rfc_multi_score = np.array(rfc_multi_metrics)"
   ]
  },
  {
   "cell_type": "code",
   "execution_count": 14,
   "metadata": {},
   "outputs": [
    {
     "name": "stderr",
     "output_type": "stream",
     "text": [
      "WARNING:pystan:Rhat above 1.1 or below 0.9 indicates that the chains very likely have not mixed\n",
      "WARNING:pystan:662 of 4000 iterations ended with a divergence (16.6 %).\n",
      "WARNING:pystan:Try running with adapt_delta larger than 0.8 to remove the divergences.\n",
      "WARNING:pystan:2 of 4000 iterations saturated the maximum tree depth of 10 (0.05 %)\n",
      "WARNING:pystan:Run again with max_treedepth larger than 10 to avoid saturation\n",
      "WARNING:pystan:Chain 1: E-BFMI = 0.144\n",
      "WARNING:pystan:Chain 2: E-BFMI = 0.101\n",
      "WARNING:pystan:Chain 3: E-BFMI = 0.165\n",
      "WARNING:pystan:Chain 4: E-BFMI = 0.165\n",
      "WARNING:pystan:E-BFMI below 0.2 indicates you may need to reparameterize your model\n"
     ]
    },
    {
     "data": {
      "image/png": "[encoded data removed]",
      "text/plain": [
       "<Figure size 432x288 with 1 Axes>"
      ]
     },
     "metadata": {
      "needs_background": "light"
     },
     "output_type": "display_data"
    }
   ],
   "source": [
    "baycomp_rfc, bayplot_rfc = baycomp.two_on_multiple(\n",
    "    rfc_base_score, \n",
    "    rfc_multi_score, \n",
    "    plot=True, \n",
    "    rope=0.001, \n",
    "    names = ('RFC','RFC-SPamCo'))"
   ]
  },
  {
   "cell_type": "markdown",
   "metadata": {},
   "source": [
    "## XGBoost"
   ]
  },
  {
   "cell_type": "code",
   "execution_count": 9,
   "metadata": {},
   "outputs": [
    {
     "name": "stdout",
     "output_type": "stream",
     "text": [
      "Validation Iteration: 0 Accuracy: 0.8301403342794071 Labels: 88\n",
      "Validation Iteration: 0 Accuracy: 0.820758435824661 Labels: 177\n",
      "Validation Iteration: 0 Accuracy: 0.8184720908230843 Labels: 266\n",
      "Validation Iteration: 0 Accuracy: 0.82433249237885 Labels: 355\n",
      "Validation Iteration: 0 Accuracy: 0.8240828340166089 Labels: 443\n",
      "Validation Iteration: 0 Accuracy: 0.8196021234100704 Labels: 532\n",
      "Validation Iteration: 0 Accuracy: 0.8211132134973195 Labels: 621\n",
      "Validation Iteration: 0 Accuracy: 0.8242142331546305 Labels: 710\n",
      "Validation Iteration: 0 Accuracy: 0.8262115000525596 Labels: 799\n",
      "Validation Iteration: 0 Accuracy: 0.8268553558288657 Labels: 887\n",
      "Validation Iteration: 0 Accuracy: 0.8240696941028067 Labels: 976\n",
      "Validation Iteration: 0 Accuracy: 0.8266582571218333 Labels: 1065\n",
      "Validation Iteration: 0 Accuracy: 0.826474298328603 Labels: 1154\n",
      "Validation Iteration: 0 Accuracy: 0.826868495742668 Labels: 1243\n",
      "Validation Iteration: 0 Accuracy: 0.8251734468621886 Labels: 1331\n",
      "Validation Iteration: 0 Accuracy: 0.8268290760012614 Labels: 1420\n",
      "Validation Iteration: 0 Accuracy: 0.8278014296226217 Labels: 1509\n",
      "Validation Iteration: 0 Accuracy: 0.8280116682434563 Labels: 1598\n",
      "Validation Iteration: 0 Accuracy: 0.8290234416062231 Labels: 1686\n",
      "Validation Iteration: 0 Accuracy: 0.8284847051403342 Labels: 1775\n",
      "Validation Iteration: 0 Accuracy: 0.8401660885104594 Labels: 17757\n",
      "Validation Iteration: 0 Accuracy: 0.8482996951539998 Labels: 88788\n",
      "Validation Iteration: 0 Accuracy: 0.8491143698097341 Labels: 175800\n"
     ]
    }
   ],
   "source": [
    "xgboost_base_metrics = []\n",
    "xgboost_base_clfs = []\n",
    "\n",
    "model =  {\n",
    "    'classifier':xgb.XGBClassifier(silent=True, verbosity=0),\n",
    "    'num_view':1,\n",
    "    'gamma':0.3,\n",
    "    'steps':10,\n",
    "    'regularizer':'hard'\n",
    "}\n",
    "\n",
    "for i in label_pct:\n",
    "    clfs, metrics = Validation.validation(\n",
    "        model_params=model,\n",
    "        train_data_x=X,\n",
    "        train_data_y=y,\n",
    "        percent_labeled=i,\n",
    "        random_seed=seeds[0],\n",
    "        iters=5\n",
    "    )\n",
    "\n",
    "    xgboost_base_metrics.append(metrics)\n",
    "    xgboost_base_clfs.append(clfs)\n",
    "\n",
    "xgboost_base_score = np.array(xgboost_base_metrics)"
   ]
  },
  {
   "cell_type": "code",
   "execution_count": 10,
   "metadata": {},
   "outputs": [
    {
     "name": "stdout",
     "output_type": "stream",
     "text": [
      "Validation Iteration: 0 Accuracy: 0.8409150635971828 Labels: 88\n",
      "Validation Iteration: 0 Accuracy: 0.8424130137706297 Labels: 177\n",
      "Validation Iteration: 0 Accuracy: 0.8393776936823294 Labels: 266\n",
      "Validation Iteration: 0 Accuracy: 0.843161988857353 Labels: 355\n",
      "Validation Iteration: 0 Accuracy: 0.8424130137706297 Labels: 443\n",
      "Validation Iteration: 0 Accuracy: 0.8424130137706297 Labels: 532\n",
      "Validation Iteration: 0 Accuracy: 0.8403106275622831 Labels: 621\n",
      "Validation Iteration: 0 Accuracy: 0.839180594975297 Labels: 710\n",
      "Validation Iteration: 0 Accuracy: 0.8424130137706297 Labels: 799\n",
      "Validation Iteration: 0 Accuracy: 0.8404288867865026 Labels: 887\n",
      "Validation Iteration: 0 Accuracy: 0.8433328077367812 Labels: 976\n",
      "Validation Iteration: 0 Accuracy: 0.8424130137706297 Labels: 1065\n",
      "Validation Iteration: 0 Accuracy: 0.8424130137706297 Labels: 1154\n",
      "Validation Iteration: 0 Accuracy: 0.8424130137706297 Labels: 1243\n",
      "Validation Iteration: 0 Accuracy: 0.8429911699779249 Labels: 1331\n",
      "Validation Iteration: 0 Accuracy: 0.8424130137706297 Labels: 1420\n",
      "Validation Iteration: 0 Accuracy: 0.8424130137706297 Labels: 1509\n",
      "Validation Iteration: 0 Accuracy: 0.8424130137706297 Labels: 1598\n",
      "Validation Iteration: 0 Accuracy: 0.8424130137706297 Labels: 1686\n",
      "Validation Iteration: 0 Accuracy: 0.8424130137706297 Labels: 1775\n",
      "Validation Iteration: 0 Accuracy: 0.8424261536844319 Labels: 17757\n",
      "Validation Iteration: 0 Accuracy: 0.8424130137706297 Labels: 88788\n",
      "Validation Iteration: 0 Accuracy: 0.8423867339430253 Labels: 175800\n"
     ]
    }
   ],
   "source": [
    "xgboost_multi_metrics = []\n",
    "xgboost_multi_clfs = []\n",
    "steps = 20\n",
    "views = 2\n",
    "\n",
    "model =  {\n",
    "    'classifier':xgb.XGBClassifier(silent=True, verbosity=0),\n",
    "    'num_view':views,\n",
    "    'gamma':0.3,\n",
    "    'steps':steps,\n",
    "    'regularizer':'hard',\n",
    "    'update_add_num': int(X.shape[0]/steps)\n",
    "}\n",
    "\n",
    "for i in label_pct:\n",
    "    clfs, metrics = Validation.validation(\n",
    "        model_params=model,\n",
    "        train_data_x=X,\n",
    "        train_data_y=y,\n",
    "        percent_labeled=i,\n",
    "        random_seed=seeds[0],\n",
    "        spaco=True,\n",
    "        iters=5,\n",
    "        hsplit=True,\n",
    "        hsplit_size=views\n",
    "    )\n",
    "\n",
    "    xgboost_multi_metrics.append(metrics)\n",
    "    xgboost_multi_clfs.append(clfs)\n",
    "\n",
    "xgboost_multi_score = np.array(xgboost_multi_metrics)"
   ]
  },
  {
   "cell_type": "code",
   "execution_count": 22,
   "metadata": {},
   "outputs": [
    {
     "data": {
      "text/plain": [
       "<AxesSubplot:title={'center':'Feature importance'}, xlabel='F score', ylabel='Features'>"
      ]
     },
     "execution_count": 22,
     "metadata": {},
     "output_type": "execute_result"
    },
    {
     "data": {
      "image/png": "[encoded data removed]",
      "text/plain": [
       "<Figure size 432x288 with 1 Axes>"
      ]
     },
     "metadata": {
      "needs_background": "light"
     },
     "output_type": "display_data"
    }
   ],
   "source": [
    "xgb.plot_importance(xgboost_multi_clfs[1].get_classifiers()[1]) "
   ]
  },
  {
   "cell_type": "code",
   "execution_count": 24,
   "metadata": {},
   "outputs": [
    {
     "data": {
      "text/plain": [
       "XGBClassifier(base_score=0.5, booster='gbtree', colsample_bylevel=1,\n",
       "              colsample_bynode=1, colsample_bytree=1, enable_categorical=False,\n",
       "              gamma=0, gpu_id=-1, importance_type=None,\n",
       "              interaction_constraints='', learning_rate=0.300000012,\n",
       "              max_delta_step=0, max_depth=6, min_child_weight=1, missing=nan,\n",
       "              monotone_constraints='()', n_estimators=100, n_jobs=12,\n",
       "              num_parallel_tree=1, objective='multi:softprob', predictor='auto',\n",
       "              random_state=0, reg_alpha=0, reg_lambda=1, scale_pos_weight=None,\n",
       "              silent=True, subsample=1, tree_method='exact',\n",
       "              validate_parameters=1, verbosity=0)"
      ]
     },
     "execution_count": 24,
     "metadata": {},
     "output_type": "execute_result"
    }
   ],
   "source": [
    "xgboost_multi_clfs[1].get_classifiers()[1]"
   ]
  },
  {
   "cell_type": "code",
   "execution_count": 25,
   "metadata": {},
   "outputs": [
    {
     "data": {
      "text/plain": [
       "XGBClassifier(base_score=0.5, booster='gbtree', colsample_bylevel=1,\n",
       "              colsample_bynode=1, colsample_bytree=1, enable_categorical=False,\n",
       "              gamma=0, gpu_id=-1, importance_type=None,\n",
       "              interaction_constraints='', learning_rate=0.300000012,\n",
       "              max_delta_step=0, max_depth=6, min_child_weight=1, missing=nan,\n",
       "              monotone_constraints='()', n_estimators=100, n_jobs=12,\n",
       "              num_parallel_tree=1, objective='multi:softprob', predictor='auto',\n",
       "              random_state=0, reg_alpha=0, reg_lambda=1, scale_pos_weight=None,\n",
       "              silent=True, subsample=1, tree_method='exact',\n",
       "              validate_parameters=1, verbosity=0)"
      ]
     },
     "execution_count": 25,
     "metadata": {},
     "output_type": "execute_result"
    }
   ],
   "source": [
    "xgboost_multi_clfs[0].get_classifiers()[0]"
   ]
  },
  {
   "cell_type": "code",
   "execution_count": 20,
   "metadata": {},
   "outputs": [
    {
     "data": {
      "text/plain": [
       "<AxesSubplot:title={'center':'Feature importance'}, xlabel='F score', ylabel='Features'>"
      ]
     },
     "execution_count": 20,
     "metadata": {},
     "output_type": "execute_result"
    },
    {
     "data": {
      "image/png": "[encoded data removed]",
      "text/plain": [
       "<Figure size 432x288 with 1 Axes>"
      ]
     },
     "metadata": {
      "needs_background": "light"
     },
     "output_type": "display_data"
    }
   ],
   "source": [
    "xgb.plot_importance(xgboost_multi_clfs[0].get_classifiers()[0])"
   ]
  },
  {
   "cell_type": "code",
   "execution_count": 17,
   "metadata": {},
   "outputs": [
    {
     "data": {
      "image/png": "[encoded data removed]",
      "text/plain": [
       "<Figure size 432x288 with 1 Axes>"
      ]
     },
     "metadata": {
      "needs_background": "light"
     },
     "output_type": "display_data"
    }
   ],
   "source": [
    "baycomp_xgboost, bayplot_xgboost = baycomp.two_on_multiple(\n",
    "    xgboost_base_score, \n",
    "    xgboost_multi_score, \n",
    "    plot=True, \n",
    "    rope=0.02, \n",
    "    names = ('XGBoost','XGBoost-SPamCo'))"
   ]
  },
  {
   "cell_type": "code",
   "execution_count": null,
   "metadata": {},
   "outputs": [],
   "source": []
  },
  {
   "cell_type": "code",
   "execution_count": 18,
   "metadata": {},
   "outputs": [
    {
     "data": {
      "image/png": "[encoded data removed]",
      "text/plain": [
       "<Figure size 432x288 with 1 Axes>"
      ]
     },
     "metadata": {
      "needs_background": "light"
     },
     "output_type": "display_data"
    }
   ],
   "source": [
    "baycomp_xgboost, bayplot_xgboost = baycomp.two_on_single(\n",
    "    np.mean(xgboost_base_score, axis=1), \n",
    "    np.mean(xgboost_multi_score, axis=1),\n",
    "    \n",
    "    plot=True, \n",
    "    names = ('XGBoost','XGBoost-SPamCo'))"
   ]
  },
  {
   "cell_type": "code",
   "execution_count": 19,
   "metadata": {},
   "outputs": [
    {
     "data": {
      "text/plain": [
       "(6.00702810049647e-07, 0.99999939929719)"
      ]
     },
     "execution_count": 19,
     "metadata": {},
     "output_type": "execute_result"
    }
   ],
   "source": [
    "baycomp_xgboost"
   ]
  },
  {
   "cell_type": "code",
   "execution_count": 20,
   "metadata": {},
   "outputs": [
    {
     "data": {
      "text/plain": [
       "array([5.0e-04, 1.0e-03, 1.5e-03, 2.0e-03, 2.5e-03, 3.0e-03, 3.5e-03,\n",
       "       4.0e-03, 4.5e-03, 5.0e-03, 5.5e-03, 6.0e-03, 6.5e-03, 7.0e-03,\n",
       "       7.5e-03, 8.0e-03, 8.5e-03, 9.0e-03, 9.5e-03, 1.0e-02, 1.0e-01,\n",
       "       5.0e-01, 9.9e-01])"
      ]
     },
     "execution_count": 20,
     "metadata": {},
     "output_type": "execute_result"
    }
   ],
   "source": [
    "label_pct"
   ]
  },
  {
   "cell_type": "code",
   "execution_count": 21,
   "metadata": {},
   "outputs": [],
   "source": [
    "df = pd.DataFrame()\n",
    "\n",
    "df['Percent of Labeled Data'] = label_pct\n",
    "df['AdaBoost Mean'] =  np.mean(adaboost_base_score, axis=1)\n",
    "df['AdaBoost Std'] =  np.std(adaboost_base_score, axis=1)\n",
    "df['AdaBoost+SPamCo Mean'] = np.mean(adaboost_multi_score, axis=1)\n",
    "df['AdaBoost+SPamCo Std'] = np.std(adaboost_multi_score, axis=1)\n",
    "df['RandomForest Mean'] = np.mean(rfc_base_score, axis=1)\n",
    "df['RandomForest Std'] = np.std(rfc_base_score, axis=1)\n",
    "df['RandomForest+SPamCo Mean'] = np.mean(rfc_multi_score, axis=1)\n",
    "df['RandomForest+SPamCo Std'] = np.std(rfc_multi_score, axis=1)\n",
    "df['XGBoost Mean'] = np.mean(xgboost_base_score, axis=1)\n",
    "df['XGBoost Std'] = np.std(xgboost_base_score, axis=1)\n",
    "df['XGBoost+SPamCo Mean'] = np.mean(xgboost_multi_score, axis=1)\n",
    "df['XGBoost+SpamCo Std'] = np.std(xgboost_multi_score, axis=1)"
   ]
  },
  {
   "cell_type": "code",
   "execution_count": 22,
   "metadata": {},
   "outputs": [
    {
     "data": {
      "text/html": [
       "<div>\n",
       "<style scoped>\n",
       "    .dataframe tbody tr th:only-of-type {\n",
       "        vertical-align: middle;\n",
       "    }\n",
       "\n",
       "    .dataframe tbody tr th {\n",
       "        vertical-align: top;\n",
       "    }\n",
       "\n",
       "    .dataframe thead th {\n",
       "        text-align: right;\n",
       "    }\n",
       "</style>\n",
       "<table border=\"1\" class=\"dataframe\">\n",
       "  <thead>\n",
       "    <tr style=\"text-align: right;\">\n",
       "      <th></th>\n",
       "      <th>Percent of Labeled Data</th>\n",
       "      <th>AdaBoost Mean</th>\n",
       "      <th>AdaBoost Std</th>\n",
       "      <th>AdaBoost+SPamCo Mean</th>\n",
       "      <th>AdaBoost+SPamCo Std</th>\n",
       "      <th>RandomForest Mean</th>\n",
       "      <th>RandomForest Std</th>\n",
       "      <th>RandomForest+SPamCo Mean</th>\n",
       "      <th>RandomForest+SPamCo Std</th>\n",
       "      <th>XGBoost Mean</th>\n",
       "      <th>XGBoost Std</th>\n",
       "      <th>XGBoost+SPamCo Mean</th>\n",
       "      <th>XGBoost+SpamCo Std</th>\n",
       "    </tr>\n",
       "  </thead>\n",
       "  <tbody>\n",
       "    <tr>\n",
       "      <th>0</th>\n",
       "      <td>0.0005</td>\n",
       "      <td>0.778553</td>\n",
       "      <td>0.064710</td>\n",
       "      <td>0.729623</td>\n",
       "      <td>8.541516e-02</td>\n",
       "      <td>0.837570</td>\n",
       "      <td>0.002848</td>\n",
       "      <td>0.839788</td>\n",
       "      <td>0.001393</td>\n",
       "      <td>0.818543</td>\n",
       "      <td>0.014621</td>\n",
       "      <td>0.842087</td>\n",
       "      <td>5.873056e-04</td>\n",
       "    </tr>\n",
       "    <tr>\n",
       "      <th>1</th>\n",
       "      <td>0.0010</td>\n",
       "      <td>0.609547</td>\n",
       "      <td>0.107354</td>\n",
       "      <td>0.632808</td>\n",
       "      <td>2.532608e-01</td>\n",
       "      <td>0.841173</td>\n",
       "      <td>0.000390</td>\n",
       "      <td>0.840757</td>\n",
       "      <td>0.000674</td>\n",
       "      <td>0.820306</td>\n",
       "      <td>0.002308</td>\n",
       "      <td>0.842416</td>\n",
       "      <td>5.255966e-06</td>\n",
       "    </tr>\n",
       "    <tr>\n",
       "      <th>2</th>\n",
       "      <td>0.0015</td>\n",
       "      <td>0.684043</td>\n",
       "      <td>0.098993</td>\n",
       "      <td>0.840692</td>\n",
       "      <td>2.401924e-03</td>\n",
       "      <td>0.841099</td>\n",
       "      <td>0.001808</td>\n",
       "      <td>0.840592</td>\n",
       "      <td>0.000374</td>\n",
       "      <td>0.821549</td>\n",
       "      <td>0.005093</td>\n",
       "      <td>0.841688</td>\n",
       "      <td>1.163499e-03</td>\n",
       "    </tr>\n",
       "    <tr>\n",
       "      <th>3</th>\n",
       "      <td>0.0020</td>\n",
       "      <td>0.741972</td>\n",
       "      <td>0.067647</td>\n",
       "      <td>0.842413</td>\n",
       "      <td>1.110223e-16</td>\n",
       "      <td>0.840539</td>\n",
       "      <td>0.001698</td>\n",
       "      <td>0.840713</td>\n",
       "      <td>0.000660</td>\n",
       "      <td>0.821665</td>\n",
       "      <td>0.004843</td>\n",
       "      <td>0.842489</td>\n",
       "      <td>3.466946e-04</td>\n",
       "    </tr>\n",
       "    <tr>\n",
       "      <th>4</th>\n",
       "      <td>0.0025</td>\n",
       "      <td>0.763156</td>\n",
       "      <td>0.025494</td>\n",
       "      <td>0.842413</td>\n",
       "      <td>1.110223e-16</td>\n",
       "      <td>0.841091</td>\n",
       "      <td>0.001125</td>\n",
       "      <td>0.840668</td>\n",
       "      <td>0.000425</td>\n",
       "      <td>0.822172</td>\n",
       "      <td>0.001692</td>\n",
       "      <td>0.842410</td>\n",
       "      <td>5.255966e-06</td>\n",
       "    </tr>\n",
       "    <tr>\n",
       "      <th>5</th>\n",
       "      <td>0.0030</td>\n",
       "      <td>0.802486</td>\n",
       "      <td>0.014272</td>\n",
       "      <td>0.842413</td>\n",
       "      <td>1.110223e-16</td>\n",
       "      <td>0.841598</td>\n",
       "      <td>0.001422</td>\n",
       "      <td>0.839932</td>\n",
       "      <td>0.000916</td>\n",
       "      <td>0.821000</td>\n",
       "      <td>0.002590</td>\n",
       "      <td>0.842245</td>\n",
       "      <td>3.363818e-04</td>\n",
       "    </tr>\n",
       "    <tr>\n",
       "      <th>6</th>\n",
       "      <td>0.0035</td>\n",
       "      <td>0.803979</td>\n",
       "      <td>0.015307</td>\n",
       "      <td>0.842413</td>\n",
       "      <td>1.110223e-16</td>\n",
       "      <td>0.841441</td>\n",
       "      <td>0.001377</td>\n",
       "      <td>0.840169</td>\n",
       "      <td>0.001082</td>\n",
       "      <td>0.821852</td>\n",
       "      <td>0.002178</td>\n",
       "      <td>0.841656</td>\n",
       "      <td>9.317524e-04</td>\n",
       "    </tr>\n",
       "    <tr>\n",
       "      <th>7</th>\n",
       "      <td>0.0040</td>\n",
       "      <td>0.812078</td>\n",
       "      <td>0.012108</td>\n",
       "      <td>0.842413</td>\n",
       "      <td>1.110223e-16</td>\n",
       "      <td>0.841924</td>\n",
       "      <td>0.000805</td>\n",
       "      <td>0.840902</td>\n",
       "      <td>0.000565</td>\n",
       "      <td>0.821076</td>\n",
       "      <td>0.002351</td>\n",
       "      <td>0.842019</td>\n",
       "      <td>1.446966e-03</td>\n",
       "    </tr>\n",
       "    <tr>\n",
       "      <th>8</th>\n",
       "      <td>0.0045</td>\n",
       "      <td>0.810675</td>\n",
       "      <td>0.013000</td>\n",
       "      <td>0.842408</td>\n",
       "      <td>1.051193e-05</td>\n",
       "      <td>0.842106</td>\n",
       "      <td>0.000988</td>\n",
       "      <td>0.840087</td>\n",
       "      <td>0.001352</td>\n",
       "      <td>0.822685</td>\n",
       "      <td>0.003551</td>\n",
       "      <td>0.842413</td>\n",
       "      <td>1.110223e-16</td>\n",
       "    </tr>\n",
       "    <tr>\n",
       "      <th>9</th>\n",
       "      <td>0.0050</td>\n",
       "      <td>0.819095</td>\n",
       "      <td>0.012658</td>\n",
       "      <td>0.842413</td>\n",
       "      <td>1.110223e-16</td>\n",
       "      <td>0.841732</td>\n",
       "      <td>0.000794</td>\n",
       "      <td>0.840799</td>\n",
       "      <td>0.000410</td>\n",
       "      <td>0.822564</td>\n",
       "      <td>0.002928</td>\n",
       "      <td>0.841979</td>\n",
       "      <td>7.785219e-04</td>\n",
       "    </tr>\n",
       "    <tr>\n",
       "      <th>10</th>\n",
       "      <td>0.0055</td>\n",
       "      <td>0.824842</td>\n",
       "      <td>0.005181</td>\n",
       "      <td>0.842413</td>\n",
       "      <td>1.110223e-16</td>\n",
       "      <td>0.841845</td>\n",
       "      <td>0.001012</td>\n",
       "      <td>0.841004</td>\n",
       "      <td>0.000468</td>\n",
       "      <td>0.823266</td>\n",
       "      <td>0.001020</td>\n",
       "      <td>0.842213</td>\n",
       "      <td>9.302614e-04</td>\n",
       "    </tr>\n",
       "    <tr>\n",
       "      <th>11</th>\n",
       "      <td>0.0060</td>\n",
       "      <td>0.824984</td>\n",
       "      <td>0.003427</td>\n",
       "      <td>0.842413</td>\n",
       "      <td>1.110223e-16</td>\n",
       "      <td>0.842208</td>\n",
       "      <td>0.001179</td>\n",
       "      <td>0.840923</td>\n",
       "      <td>0.000236</td>\n",
       "      <td>0.823573</td>\n",
       "      <td>0.002298</td>\n",
       "      <td>0.841722</td>\n",
       "      <td>1.382319e-03</td>\n",
       "    </tr>\n",
       "    <tr>\n",
       "      <th>12</th>\n",
       "      <td>0.0065</td>\n",
       "      <td>0.827959</td>\n",
       "      <td>0.006791</td>\n",
       "      <td>0.842413</td>\n",
       "      <td>1.110223e-16</td>\n",
       "      <td>0.842069</td>\n",
       "      <td>0.000695</td>\n",
       "      <td>0.841052</td>\n",
       "      <td>0.000732</td>\n",
       "      <td>0.824156</td>\n",
       "      <td>0.003098</td>\n",
       "      <td>0.842261</td>\n",
       "      <td>2.793090e-04</td>\n",
       "    </tr>\n",
       "    <tr>\n",
       "      <th>13</th>\n",
       "      <td>0.0070</td>\n",
       "      <td>0.826855</td>\n",
       "      <td>0.006369</td>\n",
       "      <td>0.842413</td>\n",
       "      <td>1.110223e-16</td>\n",
       "      <td>0.842308</td>\n",
       "      <td>0.001032</td>\n",
       "      <td>0.841291</td>\n",
       "      <td>0.000503</td>\n",
       "      <td>0.825187</td>\n",
       "      <td>0.002066</td>\n",
       "      <td>0.841362</td>\n",
       "      <td>2.102386e-03</td>\n",
       "    </tr>\n",
       "    <tr>\n",
       "      <th>14</th>\n",
       "      <td>0.0075</td>\n",
       "      <td>0.831326</td>\n",
       "      <td>0.005155</td>\n",
       "      <td>0.842413</td>\n",
       "      <td>1.110223e-16</td>\n",
       "      <td>0.842642</td>\n",
       "      <td>0.000924</td>\n",
       "      <td>0.840828</td>\n",
       "      <td>0.000371</td>\n",
       "      <td>0.825428</td>\n",
       "      <td>0.001554</td>\n",
       "      <td>0.841036</td>\n",
       "      <td>3.038594e-03</td>\n",
       "    </tr>\n",
       "    <tr>\n",
       "      <th>15</th>\n",
       "      <td>0.0080</td>\n",
       "      <td>0.833609</td>\n",
       "      <td>0.003340</td>\n",
       "      <td>0.842413</td>\n",
       "      <td>1.110223e-16</td>\n",
       "      <td>0.842513</td>\n",
       "      <td>0.001344</td>\n",
       "      <td>0.841049</td>\n",
       "      <td>0.000374</td>\n",
       "      <td>0.825271</td>\n",
       "      <td>0.002505</td>\n",
       "      <td>0.841672</td>\n",
       "      <td>1.462505e-03</td>\n",
       "    </tr>\n",
       "    <tr>\n",
       "      <th>16</th>\n",
       "      <td>0.0085</td>\n",
       "      <td>0.834329</td>\n",
       "      <td>0.004328</td>\n",
       "      <td>0.842413</td>\n",
       "      <td>1.110223e-16</td>\n",
       "      <td>0.842297</td>\n",
       "      <td>0.001114</td>\n",
       "      <td>0.841262</td>\n",
       "      <td>0.000298</td>\n",
       "      <td>0.825625</td>\n",
       "      <td>0.002214</td>\n",
       "      <td>0.842405</td>\n",
       "      <td>1.576790e-05</td>\n",
       "    </tr>\n",
       "    <tr>\n",
       "      <th>17</th>\n",
       "      <td>0.0090</td>\n",
       "      <td>0.836061</td>\n",
       "      <td>0.005804</td>\n",
       "      <td>0.842413</td>\n",
       "      <td>1.110223e-16</td>\n",
       "      <td>0.842332</td>\n",
       "      <td>0.000978</td>\n",
       "      <td>0.840873</td>\n",
       "      <td>0.000477</td>\n",
       "      <td>0.825544</td>\n",
       "      <td>0.001864</td>\n",
       "      <td>0.842421</td>\n",
       "      <td>1.576790e-05</td>\n",
       "    </tr>\n",
       "    <tr>\n",
       "      <th>18</th>\n",
       "      <td>0.0095</td>\n",
       "      <td>0.837570</td>\n",
       "      <td>0.002568</td>\n",
       "      <td>0.842413</td>\n",
       "      <td>1.110223e-16</td>\n",
       "      <td>0.842563</td>\n",
       "      <td>0.000821</td>\n",
       "      <td>0.840813</td>\n",
       "      <td>0.000504</td>\n",
       "      <td>0.826280</td>\n",
       "      <td>0.002238</td>\n",
       "      <td>0.842116</td>\n",
       "      <td>5.680092e-04</td>\n",
       "    </tr>\n",
       "    <tr>\n",
       "      <th>19</th>\n",
       "      <td>0.0100</td>\n",
       "      <td>0.837635</td>\n",
       "      <td>0.003744</td>\n",
       "      <td>0.842413</td>\n",
       "      <td>1.110223e-16</td>\n",
       "      <td>0.842463</td>\n",
       "      <td>0.000885</td>\n",
       "      <td>0.841075</td>\n",
       "      <td>0.000324</td>\n",
       "      <td>0.826190</td>\n",
       "      <td>0.002294</td>\n",
       "      <td>0.841630</td>\n",
       "      <td>1.566278e-03</td>\n",
       "    </tr>\n",
       "    <tr>\n",
       "      <th>20</th>\n",
       "      <td>0.1000</td>\n",
       "      <td>0.847309</td>\n",
       "      <td>0.000829</td>\n",
       "      <td>0.842413</td>\n",
       "      <td>1.110223e-16</td>\n",
       "      <td>0.843774</td>\n",
       "      <td>0.000427</td>\n",
       "      <td>0.839199</td>\n",
       "      <td>0.001160</td>\n",
       "      <td>0.840500</td>\n",
       "      <td>0.000975</td>\n",
       "      <td>0.842416</td>\n",
       "      <td>5.255966e-06</td>\n",
       "    </tr>\n",
       "    <tr>\n",
       "      <th>21</th>\n",
       "      <td>0.5000</td>\n",
       "      <td>0.847908</td>\n",
       "      <td>0.000677</td>\n",
       "      <td>0.842413</td>\n",
       "      <td>1.110223e-16</td>\n",
       "      <td>0.842586</td>\n",
       "      <td>0.000248</td>\n",
       "      <td>0.841291</td>\n",
       "      <td>0.000313</td>\n",
       "      <td>0.847921</td>\n",
       "      <td>0.000406</td>\n",
       "      <td>0.842413</td>\n",
       "      <td>1.110223e-16</td>\n",
       "    </tr>\n",
       "    <tr>\n",
       "      <th>22</th>\n",
       "      <td>0.9900</td>\n",
       "      <td>0.848092</td>\n",
       "      <td>0.000829</td>\n",
       "      <td>0.842413</td>\n",
       "      <td>1.110223e-16</td>\n",
       "      <td>0.841551</td>\n",
       "      <td>0.000865</td>\n",
       "      <td>0.842219</td>\n",
       "      <td>0.000320</td>\n",
       "      <td>0.848980</td>\n",
       "      <td>0.000666</td>\n",
       "      <td>0.842405</td>\n",
       "      <td>1.051193e-05</td>\n",
       "    </tr>\n",
       "  </tbody>\n",
       "</table>\n",
       "</div>"
      ],
      "text/plain": [
       "    Percent of Labeled Data  AdaBoost Mean  AdaBoost Std  \\\n",
       "0                    0.0005       0.778553      0.064710   \n",
       "1                    0.0010       0.609547      0.107354   \n",
       "2                    0.0015       0.684043      0.098993   \n",
       "3                    0.0020       0.741972      0.067647   \n",
       "4                    0.0025       0.763156      0.025494   \n",
       "5                    0.0030       0.802486      0.014272   \n",
       "6                    0.0035       0.803979      0.015307   \n",
       "7                    0.0040       0.812078      0.012108   \n",
       "8                    0.0045       0.810675      0.013000   \n",
       "9                    0.0050       0.819095      0.012658   \n",
       "10                   0.0055       0.824842      0.005181   \n",
       "11                   0.0060       0.824984      0.003427   \n",
       "12                   0.0065       0.827959      0.006791   \n",
       "13                   0.0070       0.826855      0.006369   \n",
       "14                   0.0075       0.831326      0.005155   \n",
       "15                   0.0080       0.833609      0.003340   \n",
       "16                   0.0085       0.834329      0.004328   \n",
       "17                   0.0090       0.836061      0.005804   \n",
       "18                   0.0095       0.837570      0.002568   \n",
       "19                   0.0100       0.837635      0.003744   \n",
       "20                   0.1000       0.847309      0.000829   \n",
       "21                   0.5000       0.847908      0.000677   \n",
       "22                   0.9900       0.848092      0.000829   \n",
       "\n",
       "    AdaBoost+SPamCo Mean  AdaBoost+SPamCo Std  RandomForest Mean  \\\n",
       "0               0.729623         8.541516e-02           0.837570   \n",
       "1               0.632808         2.532608e-01           0.841173   \n",
       "2               0.840692         2.401924e-03           0.841099   \n",
       "3               0.842413         1.110223e-16           0.840539   \n",
       "4               0.842413         1.110223e-16           0.841091   \n",
       "5               0.842413         1.110223e-16           0.841598   \n",
       "6               0.842413         1.110223e-16           0.841441   \n",
       "7               0.842413         1.110223e-16           0.841924   \n",
       "8               0.842408         1.051193e-05           0.842106   \n",
       "9               0.842413         1.110223e-16           0.841732   \n",
       "10              0.842413         1.110223e-16           0.841845   \n",
       "11              0.842413         1.110223e-16           0.842208   \n",
       "12              0.842413         1.110223e-16           0.842069   \n",
       "13              0.842413         1.110223e-16           0.842308   \n",
       "14              0.842413         1.110223e-16           0.842642   \n",
       "15              0.842413         1.110223e-16           0.842513   \n",
       "16              0.842413         1.110223e-16           0.842297   \n",
       "17              0.842413         1.110223e-16           0.842332   \n",
       "18              0.842413         1.110223e-16           0.842563   \n",
       "19              0.842413         1.110223e-16           0.842463   \n",
       "20              0.842413         1.110223e-16           0.843774   \n",
       "21              0.842413         1.110223e-16           0.842586   \n",
       "22              0.842413         1.110223e-16           0.841551   \n",
       "\n",
       "    RandomForest Std  RandomForest+SPamCo Mean  RandomForest+SPamCo Std  \\\n",
       "0           0.002848                  0.839788                 0.001393   \n",
       "1           0.000390                  0.840757                 0.000674   \n",
       "2           0.001808                  0.840592                 0.000374   \n",
       "3           0.001698                  0.840713                 0.000660   \n",
       "4           0.001125                  0.840668                 0.000425   \n",
       "5           0.001422                  0.839932                 0.000916   \n",
       "6           0.001377                  0.840169                 0.001082   \n",
       "7           0.000805                  0.840902                 0.000565   \n",
       "8           0.000988                  0.840087                 0.001352   \n",
       "9           0.000794                  0.840799                 0.000410   \n",
       "10          0.001012                  0.841004                 0.000468   \n",
       "11          0.001179                  0.840923                 0.000236   \n",
       "12          0.000695                  0.841052                 0.000732   \n",
       "13          0.001032                  0.841291                 0.000503   \n",
       "14          0.000924                  0.840828                 0.000371   \n",
       "15          0.001344                  0.841049                 0.000374   \n",
       "16          0.001114                  0.841262                 0.000298   \n",
       "17          0.000978                  0.840873                 0.000477   \n",
       "18          0.000821                  0.840813                 0.000504   \n",
       "19          0.000885                  0.841075                 0.000324   \n",
       "20          0.000427                  0.839199                 0.001160   \n",
       "21          0.000248                  0.841291                 0.000313   \n",
       "22          0.000865                  0.842219                 0.000320   \n",
       "\n",
       "    XGBoost Mean  XGBoost Std  XGBoost+SPamCo Mean  XGBoost+SpamCo Std  \n",
       "0       0.818543     0.014621             0.842087        5.873056e-04  \n",
       "1       0.820306     0.002308             0.842416        5.255966e-06  \n",
       "2       0.821549     0.005093             0.841688        1.163499e-03  \n",
       "3       0.821665     0.004843             0.842489        3.466946e-04  \n",
       "4       0.822172     0.001692             0.842410        5.255966e-06  \n",
       "5       0.821000     0.002590             0.842245        3.363818e-04  \n",
       "6       0.821852     0.002178             0.841656        9.317524e-04  \n",
       "7       0.821076     0.002351             0.842019        1.446966e-03  \n",
       "8       0.822685     0.003551             0.842413        1.110223e-16  \n",
       "9       0.822564     0.002928             0.841979        7.785219e-04  \n",
       "10      0.823266     0.001020             0.842213        9.302614e-04  \n",
       "11      0.823573     0.002298             0.841722        1.382319e-03  \n",
       "12      0.824156     0.003098             0.842261        2.793090e-04  \n",
       "13      0.825187     0.002066             0.841362        2.102386e-03  \n",
       "14      0.825428     0.001554             0.841036        3.038594e-03  \n",
       "15      0.825271     0.002505             0.841672        1.462505e-03  \n",
       "16      0.825625     0.002214             0.842405        1.576790e-05  \n",
       "17      0.825544     0.001864             0.842421        1.576790e-05  \n",
       "18      0.826280     0.002238             0.842116        5.680092e-04  \n",
       "19      0.826190     0.002294             0.841630        1.566278e-03  \n",
       "20      0.840500     0.000975             0.842416        5.255966e-06  \n",
       "21      0.847921     0.000406             0.842413        1.110223e-16  \n",
       "22      0.848980     0.000666             0.842405        1.051193e-05  "
      ]
     },
     "execution_count": 22,
     "metadata": {},
     "output_type": "execute_result"
    }
   ],
   "source": [
    "df"
   ]
  },
  {
   "cell_type": "code",
   "execution_count": 23,
   "metadata": {},
   "outputs": [],
   "source": [
    "df.to_csv('Multiple Classifiers on Diabetes Health Data.csv')"
   ]
  },
  {
   "cell_type": "code",
   "execution_count": 95,
   "metadata": {},
   "outputs": [],
   "source": [
    "df = pd.read_csv('Multiple Classifiers on Diabetes Health Data.csv')\n",
    "df =df.drop('Unnamed: 0', axis=1)\n",
    "df = df[:20]\n",
    "df_long =df[['Percent of Labeled Data', 'AdaBoost Mean','AdaBoost+SPamCo Mean', 'RandomForest Mean','RandomForest+SPamCo Mean', 'XGBoost Mean','XGBoost+SPamCo Mean']]\n",
    "df_long.columns = ['Percent of Labeled Data', 'AdaBoost','AdaBoost+SPamCo', 'RandomForest','RandomForest+SPamCo', 'XGBoost','XGBoost+SPamCo']\n",
    "df_long =pd.melt(df_long, id_vars = ['Percent of Labeled Data'], var_name='classifier', value_name = 'mean')\n",
    "\n",
    "df_std =df[['Percent of Labeled Data', 'AdaBoost Std','AdaBoost+SPamCo Std', 'RandomForest Std','RandomForest+SPamCo Std', 'XGBoost Std','XGBoost+SpamCo Std']]\n",
    "df_std.columns = ['Percent of Labeled Data', 'AdaBoost','AdaBoost+SPamCo', 'RandomForest','RandomForest+SPamCo', 'XGBoost','XGBoost+SPamCo']\n",
    "df_std =pd.melt(df_std, id_vars = ['Percent of Labeled Data'], var_name='classifier', value_name = 'std')\n",
    "\n",
    "df_long['std'] = df_std['std']"
   ]
  },
  {
   "cell_type": "code",
   "execution_count": 96,
   "metadata": {},
   "outputs": [],
   "source": [
    "df_long['upper'] = df_long['mean'] + df_long['std']\n",
    "df_long['lower'] = df_long['mean'] - df_long['std']"
   ]
  },
  {
   "cell_type": "code",
   "execution_count": 97,
   "metadata": {},
   "outputs": [
    {
     "data": {
      "application/vnd.plotly.v1+json": {
       "config": {
        "plotlyServerURL": "https://plot.ly"
       },
       "data": [
        {
         "hovertemplate": "classifier=AdaBoost<br>Percent of Labeled Data=%{x}<br>mean=%{y}<extra></extra>",
         "legendgroup": "AdaBoost",
         "line": {
          "color": "#636efa",
          "dash": "solid"
         },
         "marker": {
          "symbol": "circle"
         },
         "mode": "lines",
         "name": "AdaBoost",
         "orientation": "v",
         "showlegend": true,
         "type": "scatter",
         "x": [
          0.0005,
          0.001,
          0.0015,
          0.002,
          0.0025,
          0.003,
          0.0035,
          0.004,
          0.0045,
          0.005,
          0.0055,
          0.006,
          0.0065,
          0.007,
          0.0075,
          0.008,
          0.0085,
          0.009,
          0.0095,
          0.01
         ],
         "xaxis": "x",
         "y": [
          0.7785530326921055,
          0.6095474613686533,
          0.6840428886786503,
          0.7419715126668768,
          0.7631556816987282,
          0.8024860716913697,
          0.8039787658992956,
          0.8120782087669504,
          0.8106748659728792,
          0.8190949227373068,
          0.8248423210343739,
          0.8249842321034373,
          0.8279591085882476,
          0.8268553558288657,
          0.8313255545043624,
          0.8336092715231788,
          0.8343293387995375,
          0.8360611794386628,
          0.8375696415431515,
          0.8376353411121624
         ],
         "yaxis": "y"
        },
        {
         "hovertemplate": "classifier=AdaBoost+SPamCo<br>Percent of Labeled Data=%{x}<br>mean=%{y}<extra></extra>",
         "legendgroup": "AdaBoost+SPamCo",
         "line": {
          "color": "#EF553B",
          "dash": "solid"
         },
         "marker": {
          "symbol": "circle"
         },
         "mode": "lines",
         "name": "AdaBoost+SPamCo",
         "orientation": "v",
         "showlegend": true,
         "type": "scatter",
         "x": [
          0.0005,
          0.001,
          0.0015,
          0.002,
          0.0025,
          0.003,
          0.0035,
          0.004,
          0.0045,
          0.005,
          0.0055,
          0.006,
          0.0065,
          0.007,
          0.0075,
          0.008,
          0.0085,
          0.009,
          0.0095,
          0.01
         ],
         "xaxis": "x",
         "y": [
          0.7296226216756019,
          0.6328077367812467,
          0.8406916850625461,
          0.8424130137706298,
          0.8424130137706298,
          0.8424130137706298,
          0.8424130137706298,
          0.8424130137706298,
          0.8424077578051088,
          0.8424130137706298,
          0.8424130137706298,
          0.8424130137706298,
          0.8424130137706298,
          0.8424130137706298,
          0.8424130137706298,
          0.8424130137706298,
          0.8424130137706298,
          0.8424130137706298,
          0.8424130137706298,
          0.8424130137706298
         ],
         "yaxis": "y"
        },
        {
         "hovertemplate": "classifier=RandomForest<br>Percent of Labeled Data=%{x}<br>mean=%{y}<extra></extra>",
         "legendgroup": "RandomForest",
         "line": {
          "color": "#00cc96",
          "dash": "solid"
         },
         "marker": {
          "symbol": "circle"
         },
         "mode": "lines",
         "name": "RandomForest",
         "orientation": "v",
         "showlegend": true,
         "type": "scatter",
         "x": [
          0.0005,
          0.001,
          0.0015,
          0.002,
          0.0025,
          0.003,
          0.0035,
          0.004,
          0.0045,
          0.005,
          0.0055,
          0.006,
          0.0065,
          0.007,
          0.0075,
          0.008,
          0.0085,
          0.009,
          0.0095,
          0.01
         ],
         "xaxis": "x",
         "y": [
          0.8375696415431515,
          0.8411726059077053,
          0.8410990223904132,
          0.840539262062441,
          0.8410911384421318,
          0.8415983391148953,
          0.8414406601492693,
          0.8419242089771892,
          0.8421055397876589,
          0.8417323662356775,
          0.841845369494376,
          0.842208031115316,
          0.842068748029013,
          0.8423078944602123,
          0.8426416482707874,
          0.8425128771155261,
          0.8422973825291706,
          0.8423315463050562,
          0.8425628087879744,
          0.8424629454430779
         ],
         "yaxis": "y"
        },
        {
         "hovertemplate": "classifier=RandomForest+SPamCo<br>Percent of Labeled Data=%{x}<br>mean=%{y}<extra></extra>",
         "legendgroup": "RandomForest+SPamCo",
         "line": {
          "color": "#ab63fa",
          "dash": "solid"
         },
         "marker": {
          "symbol": "circle"
         },
         "mode": "lines",
         "name": "RandomForest+SPamCo",
         "orientation": "v",
         "showlegend": true,
         "type": "scatter",
         "x": [
          0.0005,
          0.001,
          0.0015,
          0.002,
          0.0025,
          0.003,
          0.0035,
          0.004,
          0.0045,
          0.005,
          0.0055,
          0.006,
          0.0065,
          0.007,
          0.0075,
          0.008,
          0.0085,
          0.009,
          0.0095,
          0.01
         ],
         "xaxis": "x",
         "y": [
          0.839787658992957,
          0.8407573846315568,
          0.8405918217176496,
          0.8407127089246295,
          0.840668033217702,
          0.8399321980447809,
          0.8401687164932199,
          0.8409019236833807,
          0.8400872490276464,
          0.8407994323557236,
          0.8410044150110375,
          0.840922947545464,
          0.8410517187007253,
          0.8412908651319247,
          0.8408283401660885,
          0.8410490907179649,
          0.8412619573215598,
          0.840873015873016,
          0.8408125722695259,
          0.8410753705455694
         ],
         "yaxis": "y"
        },
        {
         "hovertemplate": "classifier=XGBoost<br>Percent of Labeled Data=%{x}<br>mean=%{y}<extra></extra>",
         "legendgroup": "XGBoost",
         "line": {
          "color": "#FFA15A",
          "dash": "solid"
         },
         "marker": {
          "symbol": "circle"
         },
         "mode": "lines",
         "name": "XGBoost",
         "orientation": "v",
         "showlegend": true,
         "type": "scatter",
         "x": [
          0.0005,
          0.001,
          0.0015,
          0.002,
          0.0025,
          0.003,
          0.0035,
          0.004,
          0.0045,
          0.005,
          0.0055,
          0.006,
          0.0065,
          0.007,
          0.0075,
          0.008,
          0.0085,
          0.009,
          0.0095,
          0.01
         ],
         "xaxis": "x",
         "y": [
          0.8185430463576159,
          0.8203064227898664,
          0.8215494586355513,
          0.8216650898770104,
          0.8221722905497739,
          0.8210002102386209,
          0.8218516766530011,
          0.8210764217386733,
          0.8226847471880584,
          0.8225638599810784,
          0.8232655313781143,
          0.8235730053610848,
          0.8241564175339011,
          0.8251865867759907,
          0.8254283611899507,
          0.8252706822243245,
          0.825625459896983,
          0.8255439924314096,
          0.8262798276043309,
          0.8261904761904761
         ],
         "yaxis": "y"
        },
        {
         "hovertemplate": "classifier=XGBoost+SPamCo<br>Percent of Labeled Data=%{x}<br>mean=%{y}<extra></extra>",
         "legendgroup": "XGBoost+SPamCo",
         "line": {
          "color": "#19d3f3",
          "dash": "solid"
         },
         "marker": {
          "symbol": "circle"
         },
         "mode": "lines",
         "name": "XGBoost+SPamCo",
         "orientation": "v",
         "showlegend": true,
         "type": "scatter",
         "x": [
          0.0005,
          0.001,
          0.0015,
          0.002,
          0.0025,
          0.003,
          0.0035,
          0.004,
          0.0045,
          0.005,
          0.0055,
          0.006,
          0.0065,
          0.007,
          0.0075,
          0.008,
          0.0085,
          0.009,
          0.0095,
          0.01
         ],
         "xaxis": "x",
         "y": [
          0.8420871439083359,
          0.8424156417533901,
          0.8416876905287503,
          0.8424892252706823,
          0.8424103857878693,
          0.8422448228739621,
          0.8416561547356249,
          0.8420188163565647,
          0.8424130137706298,
          0.8419793966151582,
          0.8422132870808368,
          0.8417218543046359,
          0.8422605907705245,
          0.8413618206664564,
          0.8410359508041628,
          0.8416719226321876,
          0.8424051298223484,
          0.842420897718911,
          0.8421160517187006,
          0.8416298749080207
         ],
         "yaxis": "y"
        }
       ],
       "layout": {
        "legend": {
         "title": {
          "text": "Classifier"
         },
         "tracegroupgap": 0
        },
        "margin": {
         "t": 60
        },
        "plot_bgcolor": "white",
        "showlegend": true,
        "template": {
         "data": {
          "bar": [
           {
            "error_x": {
             "color": "#2a3f5f"
            },
            "error_y": {
             "color": "#2a3f5f"
            },
            "marker": {
             "line": {
              "color": "#E5ECF6",
              "width": 0.5
             },
             "pattern": {
              "fillmode": "overlay",
              "size": 10,
              "solidity": 0.2
             }
            },
            "type": "bar"
           }
          ],
          "barpolar": [
           {
            "marker": {
             "line": {
              "color": "#E5ECF6",
              "width": 0.5
             },
             "pattern": {
              "fillmode": "overlay",
              "size": 10,
              "solidity": 0.2
             }
            },
            "type": "barpolar"
           }
          ],
          "carpet": [
           {
            "aaxis": {
             "endlinecolor": "#2a3f5f",
             "gridcolor": "white",
             "linecolor": "white",
             "minorgridcolor": "white",
             "startlinecolor": "#2a3f5f"
            },
            "baxis": {
             "endlinecolor": "#2a3f5f",
             "gridcolor": "white",
             "linecolor": "white",
             "minorgridcolor": "white",
             "startlinecolor": "#2a3f5f"
            },
            "type": "carpet"
           }
          ],
          "choropleth": [
           {
            "colorbar": {
             "outlinewidth": 0,
             "ticks": ""
            },
            "type": "choropleth"
           }
          ],
          "contour": [
           {
            "colorbar": {
             "outlinewidth": 0,
             "ticks": ""
            },
            "colorscale": [
             [
              0,
              "#0d0887"
             ],
             [
              0.1111111111111111,
              "#46039f"
             ],
             [
              0.2222222222222222,
              "#7201a8"
             ],
             [
              0.3333333333333333,
              "#9c179e"
             ],
             [
              0.4444444444444444,
              "#bd3786"
             ],
             [
              0.5555555555555556,
              "#d8576b"
             ],
             [
              0.6666666666666666,
              "#ed7953"
             ],
             [
              0.7777777777777778,
              "#fb9f3a"
             ],
             [
              0.8888888888888888,
              "#fdca26"
             ],
             [
              1,
              "#f0f921"
             ]
            ],
            "type": "contour"
           }
          ],
          "contourcarpet": [
           {
            "colorbar": {
             "outlinewidth": 0,
             "ticks": ""
            },
            "type": "contourcarpet"
           }
          ],
          "heatmap": [
           {
            "colorbar": {
             "outlinewidth": 0,
             "ticks": ""
            },
            "colorscale": [
             [
              0,
              "#0d0887"
             ],
             [
              0.1111111111111111,
              "#46039f"
             ],
             [
              0.2222222222222222,
              "#7201a8"
             ],
             [
              0.3333333333333333,
              "#9c179e"
             ],
             [
              0.4444444444444444,
              "#bd3786"
             ],
             [
              0.5555555555555556,
              "#d8576b"
             ],
             [
              0.6666666666666666,
              "#ed7953"
             ],
             [
              0.7777777777777778,
              "#fb9f3a"
             ],
             [
              0.8888888888888888,
              "#fdca26"
             ],
             [
              1,
              "#f0f921"
             ]
            ],
            "type": "heatmap"
           }
          ],
          "heatmapgl": [
           {
            "colorbar": {
             "outlinewidth": 0,
             "ticks": ""
            },
            "colorscale": [
             [
              0,
              "#0d0887"
             ],
             [
              0.1111111111111111,
              "#46039f"
             ],
             [
              0.2222222222222222,
              "#7201a8"
             ],
             [
              0.3333333333333333,
              "#9c179e"
             ],
             [
              0.4444444444444444,
              "#bd3786"
             ],
             [
              0.5555555555555556,
              "#d8576b"
             ],
             [
              0.6666666666666666,
              "#ed7953"
             ],
             [
              0.7777777777777778,
              "#fb9f3a"
             ],
             [
              0.8888888888888888,
              "#fdca26"
             ],
             [
              1,
              "#f0f921"
             ]
            ],
            "type": "heatmapgl"
           }
          ],
          "histogram": [
           {
            "marker": {
             "pattern": {
              "fillmode": "overlay",
              "size": 10,
              "solidity": 0.2
             }
            },
            "type": "histogram"
           }
          ],
          "histogram2d": [
           {
            "colorbar": {
             "outlinewidth": 0,
             "ticks": ""
            },
            "colorscale": [
             [
              0,
              "#0d0887"
             ],
             [
              0.1111111111111111,
              "#46039f"
             ],
             [
              0.2222222222222222,
              "#7201a8"
             ],
             [
              0.3333333333333333,
              "#9c179e"
             ],
             [
              0.4444444444444444,
              "#bd3786"
             ],
             [
              0.5555555555555556,
              "#d8576b"
             ],
             [
              0.6666666666666666,
              "#ed7953"
             ],
             [
              0.7777777777777778,
              "#fb9f3a"
             ],
             [
              0.8888888888888888,
              "#fdca26"
             ],
             [
              1,
              "#f0f921"
             ]
            ],
            "type": "histogram2d"
           }
          ],
          "histogram2dcontour": [
           {
            "colorbar": {
             "outlinewidth": 0,
             "ticks": ""
            },
            "colorscale": [
             [
              0,
              "#0d0887"
             ],
             [
              0.1111111111111111,
              "#46039f"
             ],
             [
              0.2222222222222222,
              "#7201a8"
             ],
             [
              0.3333333333333333,
              "#9c179e"
             ],
             [
              0.4444444444444444,
              "#bd3786"
             ],
             [
              0.5555555555555556,
              "#d8576b"
             ],
             [
              0.6666666666666666,
              "#ed7953"
             ],
             [
              0.7777777777777778,
              "#fb9f3a"
             ],
             [
              0.8888888888888888,
              "#fdca26"
             ],
             [
              1,
              "#f0f921"
             ]
            ],
            "type": "histogram2dcontour"
           }
          ],
          "mesh3d": [
           {
            "colorbar": {
             "outlinewidth": 0,
             "ticks": ""
            },
            "type": "mesh3d"
           }
          ],
          "parcoords": [
           {
            "line": {
             "colorbar": {
              "outlinewidth": 0,
              "ticks": ""
             }
            },
            "type": "parcoords"
           }
          ],
          "pie": [
           {
            "automargin": true,
            "type": "pie"
           }
          ],
          "scatter": [
           {
            "marker": {
             "colorbar": {
              "outlinewidth": 0,
              "ticks": ""
             }
            },
            "type": "scatter"
           }
          ],
          "scatter3d": [
           {
            "line": {
             "colorbar": {
              "outlinewidth": 0,
              "ticks": ""
             }
            },
            "marker": {
             "colorbar": {
              "outlinewidth": 0,
              "ticks": ""
             }
            },
            "type": "scatter3d"
           }
          ],
          "scattercarpet": [
           {
            "marker": {
             "colorbar": {
              "outlinewidth": 0,
              "ticks": ""
             }
            },
            "type": "scattercarpet"
           }
          ],
          "scattergeo": [
           {
            "marker": {
             "colorbar": {
              "outlinewidth": 0,
              "ticks": ""
             }
            },
            "type": "scattergeo"
           }
          ],
          "scattergl": [
           {
            "marker": {
             "colorbar": {
              "outlinewidth": 0,
              "ticks": ""
             }
            },
            "type": "scattergl"
           }
          ],
          "scattermapbox": [
           {
            "marker": {
             "colorbar": {
              "outlinewidth": 0,
              "ticks": ""
             }
            },
            "type": "scattermapbox"
           }
          ],
          "scatterpolar": [
           {
            "marker": {
             "colorbar": {
              "outlinewidth": 0,
              "ticks": ""
             }
            },
            "type": "scatterpolar"
           }
          ],
          "scatterpolargl": [
           {
            "marker": {
             "colorbar": {
              "outlinewidth": 0,
              "ticks": ""
             }
            },
            "type": "scatterpolargl"
           }
          ],
          "scatterternary": [
           {
            "marker": {
             "colorbar": {
              "outlinewidth": 0,
              "ticks": ""
             }
            },
            "type": "scatterternary"
           }
          ],
          "surface": [
           {
            "colorbar": {
             "outlinewidth": 0,
             "ticks": ""
            },
            "colorscale": [
             [
              0,
              "#0d0887"
             ],
             [
              0.1111111111111111,
              "#46039f"
             ],
             [
              0.2222222222222222,
              "#7201a8"
             ],
             [
              0.3333333333333333,
              "#9c179e"
             ],
             [
              0.4444444444444444,
              "#bd3786"
             ],
             [
              0.5555555555555556,
              "#d8576b"
             ],
             [
              0.6666666666666666,
              "#ed7953"
             ],
             [
              0.7777777777777778,
              "#fb9f3a"
             ],
             [
              0.8888888888888888,
              "#fdca26"
             ],
             [
              1,
              "#f0f921"
             ]
            ],
            "type": "surface"
           }
          ],
          "table": [
           {
            "cells": {
             "fill": {
              "color": "#EBF0F8"
             },
             "line": {
              "color": "white"
             }
            },
            "header": {
             "fill": {
              "color": "#C8D4E3"
             },
             "line": {
              "color": "white"
             }
            },
            "type": "table"
           }
          ]
         },
         "layout": {
          "annotationdefaults": {
           "arrowcolor": "#2a3f5f",
           "arrowhead": 0,
           "arrowwidth": 1
          },
          "autotypenumbers": "strict",
          "coloraxis": {
           "colorbar": {
            "outlinewidth": 0,
            "ticks": ""
           }
          },
          "colorscale": {
           "diverging": [
            [
             0,
             "#8e0152"
            ],
            [
             0.1,
             "#c51b7d"
            ],
            [
             0.2,
             "#de77ae"
            ],
            [
             0.3,
             "#f1b6da"
            ],
            [
             0.4,
             "#fde0ef"
            ],
            [
             0.5,
             "#f7f7f7"
            ],
            [
             0.6,
             "#e6f5d0"
            ],
            [
             0.7,
             "#b8e186"
            ],
            [
             0.8,
             "#7fbc41"
            ],
            [
             0.9,
             "#4d9221"
            ],
            [
             1,
             "#276419"
            ]
           ],
           "sequential": [
            [
             0,
             "#0d0887"
            ],
            [
             0.1111111111111111,
             "#46039f"
            ],
            [
             0.2222222222222222,
             "#7201a8"
            ],
            [
             0.3333333333333333,
             "#9c179e"
            ],
            [
             0.4444444444444444,
             "#bd3786"
            ],
            [
             0.5555555555555556,
             "#d8576b"
            ],
            [
             0.6666666666666666,
             "#ed7953"
            ],
            [
             0.7777777777777778,
             "#fb9f3a"
            ],
            [
             0.8888888888888888,
             "#fdca26"
            ],
            [
             1,
             "#f0f921"
            ]
           ],
           "sequentialminus": [
            [
             0,
             "#0d0887"
            ],
            [
             0.1111111111111111,
             "#46039f"
            ],
            [
             0.2222222222222222,
             "#7201a8"
            ],
            [
             0.3333333333333333,
             "#9c179e"
            ],
            [
             0.4444444444444444,
             "#bd3786"
            ],
            [
             0.5555555555555556,
             "#d8576b"
            ],
            [
             0.6666666666666666,
             "#ed7953"
            ],
            [
             0.7777777777777778,
             "#fb9f3a"
            ],
            [
             0.8888888888888888,
             "#fdca26"
            ],
            [
             1,
             "#f0f921"
            ]
           ]
          },
          "colorway": [
           "#636efa",
           "#EF553B",
           "#00cc96",
           "#ab63fa",
           "#FFA15A",
           "#19d3f3",
           "#FF6692",
           "#B6E880",
           "#FF97FF",
           "#FECB52"
          ],
          "font": {
           "color": "#2a3f5f"
          },
          "geo": {
           "bgcolor": "white",
           "lakecolor": "white",
           "landcolor": "#E5ECF6",
           "showlakes": true,
           "showland": true,
           "subunitcolor": "white"
          },
          "hoverlabel": {
           "align": "left"
          },
          "hovermode": "closest",
          "mapbox": {
           "style": "light"
          },
          "paper_bgcolor": "white",
          "plot_bgcolor": "#E5ECF6",
          "polar": {
           "angularaxis": {
            "gridcolor": "white",
            "linecolor": "white",
            "ticks": ""
           },
           "bgcolor": "#E5ECF6",
           "radialaxis": {
            "gridcolor": "white",
            "linecolor": "white",
            "ticks": ""
           }
          },
          "scene": {
           "xaxis": {
            "backgroundcolor": "#E5ECF6",
            "gridcolor": "white",
            "gridwidth": 2,
            "linecolor": "white",
            "showbackground": true,
            "ticks": "",
            "zerolinecolor": "white"
           },
           "yaxis": {
            "backgroundcolor": "#E5ECF6",
            "gridcolor": "white",
            "gridwidth": 2,
            "linecolor": "white",
            "showbackground": true,
            "ticks": "",
            "zerolinecolor": "white"
           },
           "zaxis": {
            "backgroundcolor": "#E5ECF6",
            "gridcolor": "white",
            "gridwidth": 2,
            "linecolor": "white",
            "showbackground": true,
            "ticks": "",
            "zerolinecolor": "white"
           }
          },
          "shapedefaults": {
           "line": {
            "color": "#2a3f5f"
           }
          },
          "ternary": {
           "aaxis": {
            "gridcolor": "white",
            "linecolor": "white",
            "ticks": ""
           },
           "baxis": {
            "gridcolor": "white",
            "linecolor": "white",
            "ticks": ""
           },
           "bgcolor": "#E5ECF6",
           "caxis": {
            "gridcolor": "white",
            "linecolor": "white",
            "ticks": ""
           }
          },
          "title": {
           "x": 0.05
          },
          "xaxis": {
           "automargin": true,
           "gridcolor": "white",
           "linecolor": "white",
           "ticks": "",
           "title": {
            "standoff": 15
           },
           "zerolinecolor": "white",
           "zerolinewidth": 2
          },
          "yaxis": {
           "automargin": true,
           "gridcolor": "white",
           "linecolor": "white",
           "ticks": "",
           "title": {
            "standoff": 15
           },
           "zerolinecolor": "white",
           "zerolinewidth": 2
          }
         }
        },
        "xaxis": {
         "anchor": "y",
         "domain": [
          0,
          1
         ],
         "linecolor": "rgb(204, 204, 204)",
         "linewidth": 2,
         "showgrid": false,
         "showline": true,
         "showticklabels": true,
         "tickfont": {
          "color": "rgb(82, 82, 82)",
          "family": "Arial",
          "size": 12
         },
         "ticks": "outside",
         "title": {
          "text": "Percent of Labeled Data"
         }
        },
        "yaxis": {
         "anchor": "x",
         "domain": [
          0,
          1
         ],
         "linecolor": "rgb(204, 204, 204)",
         "showgrid": true,
         "showline": true,
         "showticklabels": true,
         "title": {
          "text": "Mean test accuracy"
         },
         "zeroline": true
        }
       }
      },
      "text/html": [
       "<div>                            <div id=\"6f56bd44-c36e-4be1-a3a4-517b2d005f18\" class=\"plotly-graph-div\" style=\"height:525px; width:100%;\"></div>            <script type=\"text/javascript\">                require([\"plotly\"], function(Plotly) {                    window.PLOTLYENV=window.PLOTLYENV || {};                                    if (document.getElementById(\"6f56bd44-c36e-4be1-a3a4-517b2d005f18\")) {                    Plotly.newPlot(                        \"6f56bd44-c36e-4be1-a3a4-517b2d005f18\",                        [{\"hovertemplate\":\"classifier=AdaBoost<br>Percent of Labeled Data=%{x}<br>mean=%{y}<extra></extra>\",\"legendgroup\":\"AdaBoost\",\"line\":{\"color\":\"#636efa\",\"dash\":\"solid\"},\"marker\":{\"symbol\":\"circle\"},\"mode\":\"lines\",\"name\":\"AdaBoost\",\"orientation\":\"v\",\"showlegend\":true,\"x\":[0.0005,0.001,0.0015,0.002,0.0025,0.003,0.0035,0.004,0.0045,0.005,0.0055,0.006,0.0065,0.007,0.0075,0.008,0.0085,0.009,0.0095,0.01],\"xaxis\":\"x\",\"y\":[0.7785530326921055,0.6095474613686533,0.6840428886786503,0.7419715126668768,0.7631556816987282,0.8024860716913697,0.8039787658992956,0.8120782087669504,0.8106748659728792,0.8190949227373068,0.8248423210343739,0.8249842321034373,0.8279591085882476,0.8268553558288657,0.8313255545043624,0.8336092715231788,0.8343293387995375,0.8360611794386628,0.8375696415431515,0.8376353411121624],\"yaxis\":\"y\",\"type\":\"scatter\"},{\"hovertemplate\":\"classifier=AdaBoost+SPamCo<br>Percent of Labeled Data=%{x}<br>mean=%{y}<extra></extra>\",\"legendgroup\":\"AdaBoost+SPamCo\",\"line\":{\"color\":\"#EF553B\",\"dash\":\"solid\"},\"marker\":{\"symbol\":\"circle\"},\"mode\":\"lines\",\"name\":\"AdaBoost+SPamCo\",\"orientation\":\"v\",\"showlegend\":true,\"x\":[0.0005,0.001,0.0015,0.002,0.0025,0.003,0.0035,0.004,0.0045,0.005,0.0055,0.006,0.0065,0.007,0.0075,0.008,0.0085,0.009,0.0095,0.01],\"xaxis\":\"x\",\"y\":[0.7296226216756019,0.6328077367812467,0.8406916850625461,0.8424130137706298,0.8424130137706298,0.8424130137706298,0.8424130137706298,0.8424130137706298,0.8424077578051088,0.8424130137706298,0.8424130137706298,0.8424130137706298,0.8424130137706298,0.8424130137706298,0.8424130137706298,0.8424130137706298,0.8424130137706298,0.8424130137706298,0.8424130137706298,0.8424130137706298],\"yaxis\":\"y\",\"type\":\"scatter\"},{\"hovertemplate\":\"classifier=RandomForest<br>Percent of Labeled Data=%{x}<br>mean=%{y}<extra></extra>\",\"legendgroup\":\"RandomForest\",\"line\":{\"color\":\"#00cc96\",\"dash\":\"solid\"},\"marker\":{\"symbol\":\"circle\"},\"mode\":\"lines\",\"name\":\"RandomForest\",\"orientation\":\"v\",\"showlegend\":true,\"x\":[0.0005,0.001,0.0015,0.002,0.0025,0.003,0.0035,0.004,0.0045,0.005,0.0055,0.006,0.0065,0.007,0.0075,0.008,0.0085,0.009,0.0095,0.01],\"xaxis\":\"x\",\"y\":[0.8375696415431515,0.8411726059077053,0.8410990223904132,0.840539262062441,0.8410911384421318,0.8415983391148953,0.8414406601492693,0.8419242089771892,0.8421055397876589,0.8417323662356775,0.841845369494376,0.842208031115316,0.842068748029013,0.8423078944602123,0.8426416482707874,0.8425128771155261,0.8422973825291706,0.8423315463050562,0.8425628087879744,0.8424629454430779],\"yaxis\":\"y\",\"type\":\"scatter\"},{\"hovertemplate\":\"classifier=RandomForest+SPamCo<br>Percent of Labeled Data=%{x}<br>mean=%{y}<extra></extra>\",\"legendgroup\":\"RandomForest+SPamCo\",\"line\":{\"color\":\"#ab63fa\",\"dash\":\"solid\"},\"marker\":{\"symbol\":\"circle\"},\"mode\":\"lines\",\"name\":\"RandomForest+SPamCo\",\"orientation\":\"v\",\"showlegend\":true,\"x\":[0.0005,0.001,0.0015,0.002,0.0025,0.003,0.0035,0.004,0.0045,0.005,0.0055,0.006,0.0065,0.007,0.0075,0.008,0.0085,0.009,0.0095,0.01],\"xaxis\":\"x\",\"y\":[0.839787658992957,0.8407573846315568,0.8405918217176496,0.8407127089246295,0.840668033217702,0.8399321980447809,0.8401687164932199,0.8409019236833807,0.8400872490276464,0.8407994323557236,0.8410044150110375,0.840922947545464,0.8410517187007253,0.8412908651319247,0.8408283401660885,0.8410490907179649,0.8412619573215598,0.840873015873016,0.8408125722695259,0.8410753705455694],\"yaxis\":\"y\",\"type\":\"scatter\"},{\"hovertemplate\":\"classifier=XGBoost<br>Percent of Labeled Data=%{x}<br>mean=%{y}<extra></extra>\",\"legendgroup\":\"XGBoost\",\"line\":{\"color\":\"#FFA15A\",\"dash\":\"solid\"},\"marker\":{\"symbol\":\"circle\"},\"mode\":\"lines\",\"name\":\"XGBoost\",\"orientation\":\"v\",\"showlegend\":true,\"x\":[0.0005,0.001,0.0015,0.002,0.0025,0.003,0.0035,0.004,0.0045,0.005,0.0055,0.006,0.0065,0.007,0.0075,0.008,0.0085,0.009,0.0095,0.01],\"xaxis\":\"x\",\"y\":[0.8185430463576159,0.8203064227898664,0.8215494586355513,0.8216650898770104,0.8221722905497739,0.8210002102386209,0.8218516766530011,0.8210764217386733,0.8226847471880584,0.8225638599810784,0.8232655313781143,0.8235730053610848,0.8241564175339011,0.8251865867759907,0.8254283611899507,0.8252706822243245,0.825625459896983,0.8255439924314096,0.8262798276043309,0.8261904761904761],\"yaxis\":\"y\",\"type\":\"scatter\"},{\"hovertemplate\":\"classifier=XGBoost+SPamCo<br>Percent of Labeled Data=%{x}<br>mean=%{y}<extra></extra>\",\"legendgroup\":\"XGBoost+SPamCo\",\"line\":{\"color\":\"#19d3f3\",\"dash\":\"solid\"},\"marker\":{\"symbol\":\"circle\"},\"mode\":\"lines\",\"name\":\"XGBoost+SPamCo\",\"orientation\":\"v\",\"showlegend\":true,\"x\":[0.0005,0.001,0.0015,0.002,0.0025,0.003,0.0035,0.004,0.0045,0.005,0.0055,0.006,0.0065,0.007,0.0075,0.008,0.0085,0.009,0.0095,0.01],\"xaxis\":\"x\",\"y\":[0.8420871439083359,0.8424156417533901,0.8416876905287503,0.8424892252706823,0.8424103857878693,0.8422448228739621,0.8416561547356249,0.8420188163565647,0.8424130137706298,0.8419793966151582,0.8422132870808368,0.8417218543046359,0.8422605907705245,0.8413618206664564,0.8410359508041628,0.8416719226321876,0.8424051298223484,0.842420897718911,0.8421160517187006,0.8416298749080207],\"yaxis\":\"y\",\"type\":\"scatter\"}],                        {\"template\":{\"data\":{\"bar\":[{\"error_x\":{\"color\":\"#2a3f5f\"},\"error_y\":{\"color\":\"#2a3f5f\"},\"marker\":{\"line\":{\"color\":\"#E5ECF6\",\"width\":0.5},\"pattern\":{\"fillmode\":\"overlay\",\"size\":10,\"solidity\":0.2}},\"type\":\"bar\"}],\"barpolar\":[{\"marker\":{\"line\":{\"color\":\"#E5ECF6\",\"width\":0.5},\"pattern\":{\"fillmode\":\"overlay\",\"size\":10,\"solidity\":0.2}},\"type\":\"barpolar\"}],\"carpet\":[{\"aaxis\":{\"endlinecolor\":\"#2a3f5f\",\"gridcolor\":\"white\",\"linecolor\":\"white\",\"minorgridcolor\":\"white\",\"startlinecolor\":\"#2a3f5f\"},\"baxis\":{\"endlinecolor\":\"#2a3f5f\",\"gridcolor\":\"white\",\"linecolor\":\"white\",\"minorgridcolor\":\"white\",\"startlinecolor\":\"#2a3f5f\"},\"type\":\"carpet\"}],\"choropleth\":[{\"colorbar\":{\"outlinewidth\":0,\"ticks\":\"\"},\"type\":\"choropleth\"}],\"contour\":[{\"colorbar\":{\"outlinewidth\":0,\"ticks\":\"\"},\"colorscale\":[[0.0,\"#0d0887\"],[0.1111111111111111,\"#46039f\"],[0.2222222222222222,\"#7201a8\"],[0.3333333333333333,\"#9c179e\"],[0.4444444444444444,\"#bd3786\"],[0.5555555555555556,\"#d8576b\"],[0.6666666666666666,\"#ed7953\"],[0.7777777777777778,\"#fb9f3a\"],[0.8888888888888888,\"#fdca26\"],[1.0,\"#f0f921\"]],\"type\":\"contour\"}],\"contourcarpet\":[{\"colorbar\":{\"outlinewidth\":0,\"ticks\":\"\"},\"type\":\"contourcarpet\"}],\"heatmap\":[{\"colorbar\":{\"outlinewidth\":0,\"ticks\":\"\"},\"colorscale\":[[0.0,\"#0d0887\"],[0.1111111111111111,\"#46039f\"],[0.2222222222222222,\"#7201a8\"],[0.3333333333333333,\"#9c179e\"],[0.4444444444444444,\"#bd3786\"],[0.5555555555555556,\"#d8576b\"],[0.6666666666666666,\"#ed7953\"],[0.7777777777777778,\"#fb9f3a\"],[0.8888888888888888,\"#fdca26\"],[1.0,\"#f0f921\"]],\"type\":\"heatmap\"}],\"heatmapgl\":[{\"colorbar\":{\"outlinewidth\":0,\"ticks\":\"\"},\"colorscale\":[[0.0,\"#0d0887\"],[0.1111111111111111,\"#46039f\"],[0.2222222222222222,\"#7201a8\"],[0.3333333333333333,\"#9c179e\"],[0.4444444444444444,\"#bd3786\"],[0.5555555555555556,\"#d8576b\"],[0.6666666666666666,\"#ed7953\"],[0.7777777777777778,\"#fb9f3a\"],[0.8888888888888888,\"#fdca26\"],[1.0,\"#f0f921\"]],\"type\":\"heatmapgl\"}],\"histogram\":[{\"marker\":{\"pattern\":{\"fillmode\":\"overlay\",\"size\":10,\"solidity\":0.2}},\"type\":\"histogram\"}],\"histogram2d\":[{\"colorbar\":{\"outlinewidth\":0,\"ticks\":\"\"},\"colorscale\":[[0.0,\"#0d0887\"],[0.1111111111111111,\"#46039f\"],[0.2222222222222222,\"#7201a8\"],[0.3333333333333333,\"#9c179e\"],[0.4444444444444444,\"#bd3786\"],[0.5555555555555556,\"#d8576b\"],[0.6666666666666666,\"#ed7953\"],[0.7777777777777778,\"#fb9f3a\"],[0.8888888888888888,\"#fdca26\"],[1.0,\"#f0f921\"]],\"type\":\"histogram2d\"}],\"histogram2dcontour\":[{\"colorbar\":{\"outlinewidth\":0,\"ticks\":\"\"},\"colorscale\":[[0.0,\"#0d0887\"],[0.1111111111111111,\"#46039f\"],[0.2222222222222222,\"#7201a8\"],[0.3333333333333333,\"#9c179e\"],[0.4444444444444444,\"#bd3786\"],[0.5555555555555556,\"#d8576b\"],[0.6666666666666666,\"#ed7953\"],[0.7777777777777778,\"#fb9f3a\"],[0.8888888888888888,\"#fdca26\"],[1.0,\"#f0f921\"]],\"type\":\"histogram2dcontour\"}],\"mesh3d\":[{\"colorbar\":{\"outlinewidth\":0,\"ticks\":\"\"},\"type\":\"mesh3d\"}],\"parcoords\":[{\"line\":{\"colorbar\":{\"outlinewidth\":0,\"ticks\":\"\"}},\"type\":\"parcoords\"}],\"pie\":[{\"automargin\":true,\"type\":\"pie\"}],\"scatter\":[{\"marker\":{\"colorbar\":{\"outlinewidth\":0,\"ticks\":\"\"}},\"type\":\"scatter\"}],\"scatter3d\":[{\"line\":{\"colorbar\":{\"outlinewidth\":0,\"ticks\":\"\"}},\"marker\":{\"colorbar\":{\"outlinewidth\":0,\"ticks\":\"\"}},\"type\":\"scatter3d\"}],\"scattercarpet\":[{\"marker\":{\"colorbar\":{\"outlinewidth\":0,\"ticks\":\"\"}},\"type\":\"scattercarpet\"}],\"scattergeo\":[{\"marker\":{\"colorbar\":{\"outlinewidth\":0,\"ticks\":\"\"}},\"type\":\"scattergeo\"}],\"scattergl\":[{\"marker\":{\"colorbar\":{\"outlinewidth\":0,\"ticks\":\"\"}},\"type\":\"scattergl\"}],\"scattermapbox\":[{\"marker\":{\"colorbar\":{\"outlinewidth\":0,\"ticks\":\"\"}},\"type\":\"scattermapbox\"}],\"scatterpolar\":[{\"marker\":{\"colorbar\":{\"outlinewidth\":0,\"ticks\":\"\"}},\"type\":\"scatterpolar\"}],\"scatterpolargl\":[{\"marker\":{\"colorbar\":{\"outlinewidth\":0,\"ticks\":\"\"}},\"type\":\"scatterpolargl\"}],\"scatterternary\":[{\"marker\":{\"colorbar\":{\"outlinewidth\":0,\"ticks\":\"\"}},\"type\":\"scatterternary\"}],\"surface\":[{\"colorbar\":{\"outlinewidth\":0,\"ticks\":\"\"},\"colorscale\":[[0.0,\"#0d0887\"],[0.1111111111111111,\"#46039f\"],[0.2222222222222222,\"#7201a8\"],[0.3333333333333333,\"#9c179e\"],[0.4444444444444444,\"#bd3786\"],[0.5555555555555556,\"#d8576b\"],[0.6666666666666666,\"#ed7953\"],[0.7777777777777778,\"#fb9f3a\"],[0.8888888888888888,\"#fdca26\"],[1.0,\"#f0f921\"]],\"type\":\"surface\"}],\"table\":[{\"cells\":{\"fill\":{\"color\":\"#EBF0F8\"},\"line\":{\"color\":\"white\"}},\"header\":{\"fill\":{\"color\":\"#C8D4E3\"},\"line\":{\"color\":\"white\"}},\"type\":\"table\"}]},\"layout\":{\"annotationdefaults\":{\"arrowcolor\":\"#2a3f5f\",\"arrowhead\":0,\"arrowwidth\":1},\"autotypenumbers\":\"strict\",\"coloraxis\":{\"colorbar\":{\"outlinewidth\":0,\"ticks\":\"\"}},\"colorscale\":{\"diverging\":[[0,\"#8e0152\"],[0.1,\"#c51b7d\"],[0.2,\"#de77ae\"],[0.3,\"#f1b6da\"],[0.4,\"#fde0ef\"],[0.5,\"#f7f7f7\"],[0.6,\"#e6f5d0\"],[0.7,\"#b8e186\"],[0.8,\"#7fbc41\"],[0.9,\"#4d9221\"],[1,\"#276419\"]],\"sequential\":[[0.0,\"#0d0887\"],[0.1111111111111111,\"#46039f\"],[0.2222222222222222,\"#7201a8\"],[0.3333333333333333,\"#9c179e\"],[0.4444444444444444,\"#bd3786\"],[0.5555555555555556,\"#d8576b\"],[0.6666666666666666,\"#ed7953\"],[0.7777777777777778,\"#fb9f3a\"],[0.8888888888888888,\"#fdca26\"],[1.0,\"#f0f921\"]],\"sequentialminus\":[[0.0,\"#0d0887\"],[0.1111111111111111,\"#46039f\"],[0.2222222222222222,\"#7201a8\"],[0.3333333333333333,\"#9c179e\"],[0.4444444444444444,\"#bd3786\"],[0.5555555555555556,\"#d8576b\"],[0.6666666666666666,\"#ed7953\"],[0.7777777777777778,\"#fb9f3a\"],[0.8888888888888888,\"#fdca26\"],[1.0,\"#f0f921\"]]},\"colorway\":[\"#636efa\",\"#EF553B\",\"#00cc96\",\"#ab63fa\",\"#FFA15A\",\"#19d3f3\",\"#FF6692\",\"#B6E880\",\"#FF97FF\",\"#FECB52\"],\"font\":{\"color\":\"#2a3f5f\"},\"geo\":{\"bgcolor\":\"white\",\"lakecolor\":\"white\",\"landcolor\":\"#E5ECF6\",\"showlakes\":true,\"showland\":true,\"subunitcolor\":\"white\"},\"hoverlabel\":{\"align\":\"left\"},\"hovermode\":\"closest\",\"mapbox\":{\"style\":\"light\"},\"paper_bgcolor\":\"white\",\"plot_bgcolor\":\"#E5ECF6\",\"polar\":{\"angularaxis\":{\"gridcolor\":\"white\",\"linecolor\":\"white\",\"ticks\":\"\"},\"bgcolor\":\"#E5ECF6\",\"radialaxis\":{\"gridcolor\":\"white\",\"linecolor\":\"white\",\"ticks\":\"\"}},\"scene\":{\"xaxis\":{\"backgroundcolor\":\"#E5ECF6\",\"gridcolor\":\"white\",\"gridwidth\":2,\"linecolor\":\"white\",\"showbackground\":true,\"ticks\":\"\",\"zerolinecolor\":\"white\"},\"yaxis\":{\"backgroundcolor\":\"#E5ECF6\",\"gridcolor\":\"white\",\"gridwidth\":2,\"linecolor\":\"white\",\"showbackground\":true,\"ticks\":\"\",\"zerolinecolor\":\"white\"},\"zaxis\":{\"backgroundcolor\":\"#E5ECF6\",\"gridcolor\":\"white\",\"gridwidth\":2,\"linecolor\":\"white\",\"showbackground\":true,\"ticks\":\"\",\"zerolinecolor\":\"white\"}},\"shapedefaults\":{\"line\":{\"color\":\"#2a3f5f\"}},\"ternary\":{\"aaxis\":{\"gridcolor\":\"white\",\"linecolor\":\"white\",\"ticks\":\"\"},\"baxis\":{\"gridcolor\":\"white\",\"linecolor\":\"white\",\"ticks\":\"\"},\"bgcolor\":\"#E5ECF6\",\"caxis\":{\"gridcolor\":\"white\",\"linecolor\":\"white\",\"ticks\":\"\"}},\"title\":{\"x\":0.05},\"xaxis\":{\"automargin\":true,\"gridcolor\":\"white\",\"linecolor\":\"white\",\"ticks\":\"\",\"title\":{\"standoff\":15},\"zerolinecolor\":\"white\",\"zerolinewidth\":2},\"yaxis\":{\"automargin\":true,\"gridcolor\":\"white\",\"linecolor\":\"white\",\"ticks\":\"\",\"title\":{\"standoff\":15},\"zerolinecolor\":\"white\",\"zerolinewidth\":2}}},\"xaxis\":{\"anchor\":\"y\",\"domain\":[0.0,1.0],\"title\":{\"text\":\"Percent of Labeled Data\"},\"tickfont\":{\"family\":\"Arial\",\"size\":12,\"color\":\"rgb(82, 82, 82)\"},\"showline\":true,\"showgrid\":false,\"showticklabels\":true,\"linecolor\":\"rgb(204, 204, 204)\",\"linewidth\":2,\"ticks\":\"outside\"},\"yaxis\":{\"anchor\":\"x\",\"domain\":[0.0,1.0],\"title\":{\"text\":\"Mean test accuracy\"},\"showgrid\":true,\"zeroline\":true,\"showline\":true,\"showticklabels\":true,\"linecolor\":\"rgb(204, 204, 204)\"},\"legend\":{\"title\":{\"text\":\"Classifier\"},\"tracegroupgap\":0},\"margin\":{\"t\":60},\"showlegend\":true,\"plot_bgcolor\":\"white\"},                        {\"responsive\": true}                    ).then(function(){\n",
       "                            \n",
       "var gd = document.getElementById('6f56bd44-c36e-4be1-a3a4-517b2d005f18');\n",
       "var x = new MutationObserver(function (mutations, observer) {{\n",
       "        var display = window.getComputedStyle(gd).display;\n",
       "        if (!display || display === 'none') {{\n",
       "            console.log([gd, 'removed!']);\n",
       "            Plotly.purge(gd);\n",
       "            observer.disconnect();\n",
       "        }}\n",
       "}});\n",
       "\n",
       "// Listen for the removal of the full notebook cells\n",
       "var notebookContainer = gd.closest('#notebook-container');\n",
       "if (notebookContainer) {{\n",
       "    x.observe(notebookContainer, {childList: true});\n",
       "}}\n",
       "\n",
       "// Listen for the clearing of the current output cell\n",
       "var outputEl = gd.closest('.output');\n",
       "if (outputEl) {{\n",
       "    x.observe(outputEl, {childList: true});\n",
       "}}\n",
       "\n",
       "                        })                };                });            </script>        </div>"
      ]
     },
     "metadata": {},
     "output_type": "display_data"
    }
   ],
   "source": [
    "import plotly.express as px\n",
    "\n",
    "fig = px.line(df_long, x=\"Percent of Labeled Data\", y=\"mean\", color = 'classifier')\n",
    "fig.update_layout(\n",
    "    yaxis_title=\"Mean test accuracy\",\n",
    "    legend_title=\"Classifier\",\n",
    "    xaxis=dict(\n",
    "        showline=True,\n",
    "        showgrid=False,\n",
    "        showticklabels=True,\n",
    "        linecolor='rgb(204, 204, 204)',\n",
    "        linewidth=2,\n",
    "        ticks='outside',\n",
    "        tickfont=dict(\n",
    "            family='Arial',\n",
    "            size=12,\n",
    "            color='rgb(82, 82, 82)',\n",
    "        ),\n",
    "    ),\n",
    "    yaxis=dict(\n",
    "        showgrid=True,\n",
    "        zeroline=True,\n",
    "        showline=True,\n",
    "        showticklabels=True,\n",
    "        linecolor='rgb(204, 204, 204)'\n",
    "    ),\n",
    " \n",
    "    showlegend=True,\n",
    "    plot_bgcolor='white'\n",
    ")\n",
    "\n",
    "\n",
    "fig.show()"
   ]
  },
  {
   "cell_type": "code",
   "execution_count": 54,
   "metadata": {},
   "outputs": [],
   "source": []
  },
  {
   "cell_type": "code",
   "execution_count": null,
   "metadata": {},
   "outputs": [],
   "source": []
  }
 ],
 "metadata": {
  "kernelspec": {
   "display_name": "Python 3 (ipykernel)",
   "language": "python",
   "name": "python3"
  },
  "language_info": {
   "codemirror_mode": {
    "name": "ipython",
    "version": 3
   },
   "file_extension": ".py",
   "mimetype": "text/x-python",
   "name": "python",
   "nbconvert_exporter": "python",
   "pygments_lexer": "ipython3",
   "version": "3.9.7"
  }
 },
 "nbformat": 4,
 "nbformat_minor": 4
}
